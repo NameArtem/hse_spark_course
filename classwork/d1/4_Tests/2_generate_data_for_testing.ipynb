{
 "cells": [
  {
   "cell_type": "markdown",
   "metadata": {},
   "source": [
    "## `Faker`\n",
    "\n",
    "Это библиотекa ([https://faker.readthedocs.io/](https://faker.readthedocs.io/)) для генерации данных"
   ]
  },
  {
   "cell_type": "code",
   "execution_count": 1,
   "metadata": {},
   "outputs": [],
   "source": [
    "import pandas as pd\n",
    "from faker import Faker\n",
    "Faker.seed(42)"
   ]
  },
  {
   "cell_type": "markdown",
   "metadata": {},
   "source": [
    "`fake` с русскими буквами `ru_Ru`"
   ]
  },
  {
   "cell_type": "code",
   "execution_count": 2,
   "metadata": {},
   "outputs": [],
   "source": [
    "fake = Faker('ru_Ru')\n",
    "fake.seed_locale('ru_Ru', 42)\n",
    "fake.seed_instance(42)"
   ]
  },
  {
   "cell_type": "markdown",
   "metadata": {},
   "source": [
    "Создадим функцию для генерации тестовых данных `create_row_faker`:\n",
    "\n",
    " - `fake.name()`\n",
    " - `fake.postcode()`\n",
    " - `fake.email()`\n",
    " - `fake.country()`."
   ]
  },
  {
   "cell_type": "code",
   "execution_count": 3,
   "metadata": {},
   "outputs": [],
   "source": [
    "def create_row_faker(num=1):\n",
    "    output = [{\"name\": fake.name(),\n",
    "               \"age\": fake.random_int(0, 100),\n",
    "               \"postcode\": fake.postcode(),\n",
    "               \"email\": fake.email(),\n",
    "               \"nationality\": fake.country(),\n",
    "              } for x in range(num)]\n",
    "    return output"
   ]
  },
  {
   "cell_type": "code",
   "execution_count": 6,
   "metadata": {},
   "outputs": [
    {
     "data": {
      "text/plain": [
       "[{'name': 'Элеонора Захаровна Константинова',\n",
       "  'age': 5,\n",
       "  'postcode': '816184',\n",
       "  'email': 'arhipsolovev@don-stro.edu',\n",
       "  'nationality': 'Кирибати'}]"
      ]
     },
     "execution_count": 6,
     "metadata": {},
     "output_type": "execute_result"
    }
   ],
   "source": [
    "create_row_faker()"
   ]
  },
  {
   "cell_type": "markdown",
   "metadata": {},
   "source": [
    "На базе функции сделаем фейковый набор данных `df_fake` из 50 строк сгенеренных `create_row_faker`. "
   ]
  },
  {
   "cell_type": "code",
   "execution_count": 12,
   "metadata": {},
   "outputs": [
    {
     "name": "stdout",
     "output_type": "stream",
     "text": [
      "Wall time: 48 ms\n"
     ]
    }
   ],
   "source": [
    "%%time\n",
    "df_fake = pd.DataFrame(create_row_faker(50))"
   ]
  },
  {
   "cell_type": "code",
   "execution_count": 13,
   "metadata": {},
   "outputs": [
    {
     "data": {
      "text/html": [
       "<div>\n",
       "<style scoped>\n",
       "    .dataframe tbody tr th:only-of-type {\n",
       "        vertical-align: middle;\n",
       "    }\n",
       "\n",
       "    .dataframe tbody tr th {\n",
       "        vertical-align: top;\n",
       "    }\n",
       "\n",
       "    .dataframe thead th {\n",
       "        text-align: right;\n",
       "    }\n",
       "</style>\n",
       "<table border=\"1\" class=\"dataframe\">\n",
       "  <thead>\n",
       "    <tr style=\"text-align: right;\">\n",
       "      <th></th>\n",
       "      <th>name</th>\n",
       "      <th>age</th>\n",
       "      <th>postcode</th>\n",
       "      <th>email</th>\n",
       "      <th>nationality</th>\n",
       "    </tr>\n",
       "  </thead>\n",
       "  <tbody>\n",
       "    <tr>\n",
       "      <th>0</th>\n",
       "      <td>Журавлев Ферапонт Артурович</td>\n",
       "      <td>10</td>\n",
       "      <td>182278</td>\n",
       "      <td>stojan96@yahoo.com</td>\n",
       "      <td>Северная Македония</td>\n",
       "    </tr>\n",
       "    <tr>\n",
       "      <th>1</th>\n",
       "      <td>Евпраксия Константиновна Власова</td>\n",
       "      <td>85</td>\n",
       "      <td>787133</td>\n",
       "      <td>adrian_98@yahoo.com</td>\n",
       "      <td>Соломоновы Острова</td>\n",
       "    </tr>\n",
       "    <tr>\n",
       "      <th>2</th>\n",
       "      <td>Богданов Аристарх Давыдович</td>\n",
       "      <td>8</td>\n",
       "      <td>518347</td>\n",
       "      <td>vlas_2019@yandex.ru</td>\n",
       "      <td>Словакия</td>\n",
       "    </tr>\n",
       "    <tr>\n",
       "      <th>3</th>\n",
       "      <td>Савватий Устинович Пономарев</td>\n",
       "      <td>12</td>\n",
       "      <td>656670</td>\n",
       "      <td>maslovalukija@gmail.com</td>\n",
       "      <td>Италия</td>\n",
       "    </tr>\n",
       "    <tr>\n",
       "      <th>4</th>\n",
       "      <td>Беляков Прохор Викентьевич</td>\n",
       "      <td>54</td>\n",
       "      <td>473178</td>\n",
       "      <td>kulaginasofija@gmail.com</td>\n",
       "      <td>Бразилия</td>\n",
       "    </tr>\n",
       "  </tbody>\n",
       "</table>\n",
       "</div>"
      ],
      "text/plain": [
       "                               name  age postcode                     email  \\\n",
       "0       Журавлев Ферапонт Артурович   10   182278        stojan96@yahoo.com   \n",
       "1  Евпраксия Константиновна Власова   85   787133       adrian_98@yahoo.com   \n",
       "2       Богданов Аристарх Давыдович    8   518347       vlas_2019@yandex.ru   \n",
       "3      Савватий Устинович Пономарев   12   656670   maslovalukija@gmail.com   \n",
       "4        Беляков Прохор Викентьевич   54   473178  kulaginasofija@gmail.com   \n",
       "\n",
       "          nationality  \n",
       "0  Северная Македония  \n",
       "1  Соломоновы Острова  \n",
       "2            Словакия  \n",
       "3              Италия  \n",
       "4            Бразилия  "
      ]
     },
     "execution_count": 13,
     "metadata": {},
     "output_type": "execute_result"
    }
   ],
   "source": [
    "df_fake.head()"
   ]
  }
 ],
 "metadata": {
  "kernelspec": {
   "display_name": "Python 3",
   "language": "python",
   "name": "python3"
  },
  "language_info": {
   "codemirror_mode": {
    "name": "ipython",
    "version": 3
   },
   "file_extension": ".py",
   "mimetype": "text/x-python",
   "name": "python",
   "nbconvert_exporter": "python",
   "pygments_lexer": "ipython3",
   "version": "3.8.6"
  }
 },
 "nbformat": 4,
 "nbformat_minor": 4
}
