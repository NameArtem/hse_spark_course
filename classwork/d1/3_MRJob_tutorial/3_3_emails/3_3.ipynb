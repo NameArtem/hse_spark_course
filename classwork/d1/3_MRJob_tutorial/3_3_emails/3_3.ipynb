{
 "cells": [
  {
   "cell_type": "code",
   "execution_count": 3,
   "metadata": {},
   "outputs": [
    {
     "name": "stdout",
     "output_type": "stream",
     "text": [
      "Overwriting email_connections.py\n"
     ]
    }
   ],
   "source": [
    "%%file hilmail.py\n",
    "from mrjob.job import MRJob\n",
    "from mrjob.step import MRStep\n",
    "\n",
    "# map-reduce пример для работы с данным\n",
    "# найдем топ-3 контакта из почты данной персоны (Hillary Clinton)\n",
    "\n",
    "class MRTopSenders(MRJob):\n",
    "\n",
    "    def mapper(self, key, record):\n",
    "        # маппер\n",
    "        # на вход подаются \"грязные данные\", не все данные подходят в CSV формат\n",
    "        # пропустим первую строчку \n",
    "        # нужные данные начинаются с 20 строки (используем провеку >20)\n",
    "        splits = record.split(\",\")\n",
    "        if len(splits) > 20:\n",
    "            # пропустим строки, где \"to\" или \"from\" пустые\n",
    "            if len(splits[3]) and len(splits[4]):\n",
    "                # получаем набор из кортежей (key (связка to -> from) и value)\n",
    "                yield (splits[3],splits[4]), 1\n",
    "                \n",
    "\n",
    "    def sum_by_from(self, tofrom, count):\n",
    "        # сделаем связку \"to\", (count,\"from\")\n",
    "        # этот шаг позволит далее отсортировать отправителей по кол-во\n",
    "        yield tofrom[0], (sum(count),tofrom[1])\n",
    "        \n",
    "\n",
    "    def find_top_three(self, to, counts):\n",
    "        topsenders = sorted(counts)[0:3]\n",
    "        fromnames = [ ts[1] for ts in topsenders ]\n",
    "        # результат \"to\",\"from1,from2,from3\"\n",
    "        yield to, \",\".join(fromnames)\n",
    "        \n",
    "\n",
    "    def hillary_only(self,to,topsenders):\n",
    "        # посмотрим, только Хиллари\n",
    "        if to == \"H\":\n",
    "        yield to, topsenders\n",
    "\n",
    "\n",
    "    def steps(self):\n",
    "        return [ MRStep(mapper=self.mapper, reducer=self.sum_by_from),\n",
    "                 MRStep(reducer=self.find_top_three),\n",
    "                 MRStep(mapper=self.hillary_only) ]\n",
    "\n",
    "\n",
    "if __name__ == '__main__':\n",
    "    MRTopSenders.run()"
   ]
  },
  {
   "cell_type": "markdown",
   "metadata": {},
   "source": [
    "**Дайте ответ на вопрос:**\n",
    "\n",
    "    - как можно сделать анализ социальный связий и анализ глубины связи по данному материалу (базируйтесь на to -> from)"
   ]
  },
  {
   "cell_type": "code",
   "execution_count": null,
   "metadata": {},
   "outputs": [],
   "source": []
  }
 ],
 "metadata": {
  "kernelspec": {
   "display_name": "Python 3",
   "language": "python",
   "name": "python3"
  },
  "language_info": {
   "codemirror_mode": {
    "name": "ipython",
    "version": 3
   },
   "file_extension": ".py",
   "mimetype": "text/x-python",
   "name": "python",
   "nbconvert_exporter": "python",
   "pygments_lexer": "ipython3",
   "version": "3.8.6"
  }
 },
 "nbformat": 4,
 "nbformat_minor": 4
}
