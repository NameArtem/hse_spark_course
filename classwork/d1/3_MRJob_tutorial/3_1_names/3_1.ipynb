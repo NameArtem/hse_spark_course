{
 "cells": [
  {
   "cell_type": "code",
   "execution_count": null,
   "metadata": {},
   "outputs": [],
   "source": [
    "%%file simple_job.py\n",
    "from mrjob.job import MRJob\n",
    "\n",
    "# подсчет ДР, с группировкой по первой букве имени\n",
    "\n",
    "class MRNamesByLetter(MRJob):\n",
    "\n",
    "    def mapper(self, key, record):\n",
    "        splits = record.split(\",\")\n",
    "        # output: первая буква имени, дата\n",
    "        yield splits[0][0], int(splits[2])\n",
    "        \n",
    "\n",
    "    def reducer(self, letter, births):\n",
    "        # input: первая буква имени, список дат\n",
    "        yield letter, sum(births)\n",
    "\n",
    "if __name__ == '__main__':\n",
    "    MRNamesByLetter.run()"
   ]
  },
  {
   "cell_type": "code",
   "execution_count": 1,
   "metadata": {},
   "outputs": [
    {
     "name": "stdout",
     "output_type": "stream",
     "text": [
      "Writing email_connections.py\n"
     ]
    }
   ],
   "source": [
    "%%file women_b.py\n",
    "from mrjob.job import MRJob\n",
    "\n",
    "# 2 jobs в одном пайплайне\n",
    "# подсчет женских дней рождения\n",
    "\n",
    "class MRFemaleNamesByLetter(MRJob):\n",
    "\n",
    "    def filter_by_gender(self, key, record):\n",
    "        # выделим только женщик (фильтр)\n",
    "        splits = record.split(\",\")\n",
    "        if splits[1]==\"F\":\n",
    "            yield \"F\", (splits[0]+\",\"+splits[2])\n",
    "\n",
    "    def count_by_letter(self, key, record):\n",
    "        splits = record.split(\",\")\n",
    "        # output: первая буква имени, дата\n",
    "        yield splits[0][0], int(splits[1])\n",
    "        \n",
    "\n",
    "    def sum_births(self, letter, births):\n",
    "        # input: первая буква имени, список дат\n",
    "        yield letter, sum(births)\n",
    "\n",
    "\n",
    "    def steps(self):\n",
    "        # создаем пайплайн\n",
    "        return [self.mr(mapper=self.filter_by_gender),\n",
    "                self.mr(mapper=self.count_by_letter,\n",
    "                    reducer=self.sum_births)]\n",
    "\n",
    "\n",
    "if __name__ == '__main__':\n",
    "    MRFemaleNamesByLetter.run()"
   ]
  },
  {
   "cell_type": "markdown",
   "metadata": {},
   "source": [
    "**Дайте ответ на вопросы:**\n",
    "\n",
    "    - поучему мы используем yield?\n",
    "    - обратите внимание на pipeline, что здесь странного?\n",
    "    - сравните этот вариант с \"классической\" реалиацией MapReduce, опишите разницу."
   ]
  },
  {
   "cell_type": "code",
   "execution_count": null,
   "metadata": {},
   "outputs": [],
   "source": []
  }
 ],
 "metadata": {
  "kernelspec": {
   "display_name": "Python 3",
   "language": "python",
   "name": "python3"
  },
  "language_info": {
   "codemirror_mode": {
    "name": "ipython",
    "version": 3
   },
   "file_extension": ".py",
   "mimetype": "text/x-python",
   "name": "python",
   "nbconvert_exporter": "python",
   "pygments_lexer": "ipython3",
   "version": "3.8.6"
  }
 },
 "nbformat": 4,
 "nbformat_minor": 4
}
