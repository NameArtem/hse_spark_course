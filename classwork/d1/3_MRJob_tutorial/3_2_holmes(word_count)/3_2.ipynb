{
 "cells": [
  {
   "cell_type": "code",
   "execution_count": 1,
   "metadata": {},
   "outputs": [
    {
     "name": "stdout",
     "output_type": "stream",
     "text": [
      "Writing email_connections.py\n"
     ]
    }
   ],
   "source": [
    "%%file hlmes_wc.py\n",
    "from mrjob.job import MRJob\n",
    "from mrjob.step import MRStep\n",
    "\n",
    "class MRMostUsedWord(MRJob):\n",
    "\n",
    "    def mapper_get_words(self, _, line):\n",
    "        # каждое слово в строку\n",
    "        words = line.split()\n",
    "        for word in words:\n",
    "            yield (word.lower(), 1)\n",
    "\n",
    "    def reducer_count_words(self, word, counts):\n",
    "        # все пары (num_occurrences, word) отправляем в редьюсер\n",
    "        # который готовит (суммирует) результат для дальнейше работы\n",
    "        # отбросим ключ-значение(первый параметр)\n",
    "        yield None, (sum(counts), word)\n",
    "\n",
    "    def reducer_find_max_word(self, _, word_count_pairs):\n",
    "        # посчитаем каждую пару (count, word),\n",
    "        # вернем результат key=counts, value=word\n",
    "        yield max(word_count_pairs)\n",
    "        \n",
    "        \n",
    "    def steps(self):\n",
    "        return [\n",
    "            MRStep(mapper=self.mapper_get_words,\n",
    "                   reducer=self.reducer_count_words),\n",
    "            MRStep(reducer=self.reducer_find_max_word)\n",
    "        ]\n",
    "\n",
    "\n",
    "if __name__ == '__main__':\n",
    "    MRMostUsedWord.run()"
   ]
  },
  {
   "cell_type": "markdown",
   "metadata": {},
   "source": [
    "**Дайте ответ на вопросы:**\n",
    "\n",
    "    - какая ключевая разница в такой реализаци Word Counter?"
   ]
  },
  {
   "cell_type": "code",
   "execution_count": null,
   "metadata": {},
   "outputs": [],
   "source": []
  }
 ],
 "metadata": {
  "kernelspec": {
   "display_name": "Python 3",
   "language": "python",
   "name": "python3"
  },
  "language_info": {
   "codemirror_mode": {
    "name": "ipython",
    "version": 3
   },
   "file_extension": ".py",
   "mimetype": "text/x-python",
   "name": "python",
   "nbconvert_exporter": "python",
   "pygments_lexer": "ipython3",
   "version": "3.8.6"
  }
 },
 "nbformat": 4,
 "nbformat_minor": 4
}
