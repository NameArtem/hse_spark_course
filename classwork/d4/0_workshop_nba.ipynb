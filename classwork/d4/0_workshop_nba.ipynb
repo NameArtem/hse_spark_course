{
 "cells": [
  {
   "cell_type": "markdown",
   "metadata": {},
   "source": [
    "## Workshop\n",
    "Необходимо сделать анализ данных игр NBA за последние года."
   ]
  },
  {
   "cell_type": "code",
   "execution_count": null,
   "metadata": {},
   "outputs": [],
   "source": [
    "# Читаем и делаем обзор данных\n",
    "from pyspark.sql import functions as f_\n",
    "\n",
    "data_file = 'nbagames.json'\n",
    "df = spark.read.json(data_file)\n",
    "\n",
    "df.printSchema()"
   ]
  },
  {
   "cell_type": "code",
   "execution_count": null,
   "metadata": {},
   "outputs": [],
   "source": [
    "# Explode - функция, которая расширяет колонку. \n",
    "# Если в ней список, то каждый элемент списка становиться одтельным значением в новой колонке\n",
    "\n",
    "all_df = \\\n",
    "    df \\\n",
    "    .select(\n",
    "        col(\"_id.$oid\").alias(\"id\"),\n",
    "        col(\"date.$date\").alias(\"date\"),\n",
    "        explode(\"teams\").alias(\"team\")\n",
    "    )\n",
    "\n",
    "clean.show(1)"
   ]
  },
  {
   "cell_type": "markdown",
   "metadata": {},
   "source": [
    "### Обзор ID  игра. Вам надо убедиться, что нет одинаковых ID у разных игр\n",
    "\n",
    "**Подсказка**\n",
    "+ для этого нам нужно обратно сгруппировать массив all_df, либо можно использовать оригинальные данные\n",
    "+ на выходе должн быть параметр True, если все ключи уникальные и False в обратном случае"
   ]
  },
  {
   "cell_type": "code",
   "execution_count": null,
   "metadata": {},
   "outputs": [],
   "source": []
  },
  {
   "cell_type": "markdown",
   "metadata": {},
   "source": [
    "### Обзор перодов игр. Какой период игр\n",
    "\n",
    "**Подсказка**\n",
    "+ вам необходимо получить DF, содержащий одну строку с двумя полями - минимальный год и максимальный год\n",
    "+ чтобы получить из даты нужно изменить строку в timestamp (функция cast)"
   ]
  },
  {
   "cell_type": "code",
   "execution_count": null,
   "metadata": {},
   "outputs": [],
   "source": []
  },
  {
   "cell_type": "markdown",
   "metadata": {},
   "source": [
    "### Сделаем обзор по датам. Сколько игра было сыграно за каждый год и сделаем сортировку по убыванию\n",
    "\n",
    "**Подсказка**\n",
    "+ Сделать новые колонки:\n",
    "  - ```df.withColumn(\"new_col\", new_col)```\n",
    "  - ```df.select(col(\"*\"), new_col.alias(\"new_col\")```\n",
    "+ Новые колонки во время группировки: ```df.groupBy(new_col.alias(\"new_col\"))```"
   ]
  },
  {
   "cell_type": "code",
   "execution_count": null,
   "metadata": {},
   "outputs": [],
   "source": []
  },
  {
   "cell_type": "markdown",
   "metadata": {},
   "source": [
    "### Найдем команды, которые выйграли больше всего игр за каждый год. \n",
    "\n",
    "**Подсказка**\n",
    "+ команды идентифицируются полем \"abbreviation\"\n",
    "+ Результат игры хранится в поле \"won\"\n",
    "+ внутри ```filter()``` тоже можно создавать колонки\n",
    "+ ограничить вывод можно не только параметров функции ```show()```, но и применив метод ```limit()```"
   ]
  },
  {
   "cell_type": "code",
   "execution_count": null,
   "metadata": {},
   "outputs": [],
   "source": []
  }
 ],
 "metadata": {
  "kernelspec": {
   "display_name": "Python 3",
   "language": "python",
   "name": "python3"
  },
  "language_info": {
   "codemirror_mode": {
    "name": "ipython",
    "version": 3
   },
   "file_extension": ".py",
   "mimetype": "text/x-python",
   "name": "python",
   "nbconvert_exporter": "python",
   "pygments_lexer": "ipython3",
   "version": "3.7.6"
  }
 },
 "nbformat": 4,
 "nbformat_minor": 2
}
