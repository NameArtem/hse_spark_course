{
 "cells": [
  {
   "cell_type": "code",
   "execution_count": 47,
   "id": "ethical-monaco",
   "metadata": {},
   "outputs": [],
   "source": [
    "from pyspark.sql import SparkSession\n",
    "\n",
    "from pyspark.sql.functions import count, round, concat\n",
    "from pyspark.sql.functions import mean, min, max, sum, datediff, to_date\n",
    "from pyspark.sql.functions import to_utc_timestamp, unix_timestamp, lit, datediff, col\n",
    "\n",
    "spark = SparkSession \\\n",
    "    .builder \\\n",
    "    .appName(\"RFM\") \\\n",
    "    .config(\"spark.some.config.option\", \"some-value\") \\\n",
    "    .getOrCreate()"
   ]
  },
  {
   "cell_type": "code",
   "execution_count": 2,
   "id": "external-highway",
   "metadata": {},
   "outputs": [],
   "source": [
    "df_raw = spark.read.format('com.databricks.spark.csv').\\\n",
    "                           options(header='true', \\\n",
    "                           inferschema='true').\\\n",
    "               load(\"data/Online Retail.csv\",header=True);"
   ]
  },
  {
   "cell_type": "code",
   "execution_count": 11,
   "id": "athletic-values",
   "metadata": {},
   "outputs": [
    {
     "data": {
      "text/plain": [
       "DataFrame[key: string, value: string]"
      ]
     },
     "execution_count": 11,
     "metadata": {},
     "output_type": "execute_result"
    }
   ],
   "source": [
    "# чтобы все spark работали одинаково (версии 2 и 3)\n",
    "spark.sql(\"set spark.sql.legacy.timeParserPolicy=LEGACY\")"
   ]
  },
  {
   "cell_type": "code",
   "execution_count": 3,
   "id": "chief-speed",
   "metadata": {},
   "outputs": [
    {
     "name": "stdout",
     "output_type": "stream",
     "text": [
      "+---------+---------+--------------------+--------+------------+---------+----------+--------------+\n",
      "|InvoiceNo|StockCode|         Description|Quantity| InvoiceDate|UnitPrice|CustomerID|       Country|\n",
      "+---------+---------+--------------------+--------+------------+---------+----------+--------------+\n",
      "|   536365|   85123A|WHITE HANGING HEA...|       6|12/1/10 8:26|     2.55|     17850|United Kingdom|\n",
      "|   536365|    71053| WHITE METAL LANTERN|       6|12/1/10 8:26|     3.39|     17850|United Kingdom|\n",
      "|   536365|   84406B|CREAM CUPID HEART...|       8|12/1/10 8:26|     2.75|     17850|United Kingdom|\n",
      "|   536365|   84029G|KNITTED UNION FLA...|       6|12/1/10 8:26|     3.39|     17850|United Kingdom|\n",
      "|   536365|   84029E|RED WOOLLY HOTTIE...|       6|12/1/10 8:26|     3.39|     17850|United Kingdom|\n",
      "+---------+---------+--------------------+--------+------------+---------+----------+--------------+\n",
      "only showing top 5 rows\n",
      "\n",
      "root\n",
      " |-- InvoiceNo: string (nullable = true)\n",
      " |-- StockCode: string (nullable = true)\n",
      " |-- Description: string (nullable = true)\n",
      " |-- Quantity: integer (nullable = true)\n",
      " |-- InvoiceDate: string (nullable = true)\n",
      " |-- UnitPrice: double (nullable = true)\n",
      " |-- CustomerID: integer (nullable = true)\n",
      " |-- Country: string (nullable = true)\n",
      "\n"
     ]
    }
   ],
   "source": [
    "df_raw.show(5)\n",
    "df_raw.printSchema()"
   ]
  },
  {
   "cell_type": "code",
   "execution_count": 5,
   "id": "drawn-azerbaijan",
   "metadata": {},
   "outputs": [
    {
     "name": "stdout",
     "output_type": "stream",
     "text": [
      "+---------+---------+-----------+--------+-----------+---------+----------+-------+\n",
      "|InvoiceNo|StockCode|Description|Quantity|InvoiceDate|UnitPrice|CustomerID|Country|\n",
      "+---------+---------+-----------+--------+-----------+---------+----------+-------+\n",
      "|    90995|    90995|      90709|   90995|      90995|    90994|     58567|  90994|\n",
      "+---------+---------+-----------+--------+-----------+---------+----------+-------+\n",
      "\n"
     ]
    }
   ],
   "source": [
    "# nullable = true - есть пустые значения, проверим сколько их по каждой колонке\n",
    "def my_count(df_in):\n",
    "    df_in.agg( *[ count(c).alias(c) for c in df_in.columns ] ).show()\n",
    "    \n",
    "my_count(df_raw)"
   ]
  },
  {
   "cell_type": "code",
   "execution_count": 6,
   "id": "governmental-holocaust",
   "metadata": {},
   "outputs": [
    {
     "name": "stdout",
     "output_type": "stream",
     "text": [
      "+---------+---------+-----------+--------+-----------+---------+----------+-------+\n",
      "|InvoiceNo|StockCode|Description|Quantity|InvoiceDate|UnitPrice|CustomerID|Country|\n",
      "+---------+---------+-----------+--------+-----------+---------+----------+-------+\n",
      "|    58567|    58567|      58567|   58567|      58567|    58567|     58567|  58567|\n",
      "+---------+---------+-----------+--------+-----------+---------+----------+-------+\n",
      "\n"
     ]
    }
   ],
   "source": [
    "df = df_raw.dropna(how='any')\n",
    "my_count(df)"
   ]
  },
  {
   "cell_type": "markdown",
   "id": "amended-broadcast",
   "metadata": {},
   "source": [
    "# RFM - как он есть"
   ]
  },
  {
   "cell_type": "code",
   "execution_count": 14,
   "id": "united-account",
   "metadata": {},
   "outputs": [
    {
     "name": "stdout",
     "output_type": "stream",
     "text": [
      "+---------+---------+--------------------+--------+------------+---------+----------+--------------+-------------------+\n",
      "|InvoiceNo|StockCode|         Description|Quantity| InvoiceDate|UnitPrice|CustomerID|       Country|     NewInvoiceDate|\n",
      "+---------+---------+--------------------+--------+------------+---------+----------+--------------+-------------------+\n",
      "|   536365|   85123A|WHITE HANGING HEA...|       6|12/1/10 8:26|     2.55|     17850|United Kingdom|2010-12-01 08:26:00|\n",
      "|   536365|    71053| WHITE METAL LANTERN|       6|12/1/10 8:26|     3.39|     17850|United Kingdom|2010-12-01 08:26:00|\n",
      "|   536365|   84406B|CREAM CUPID HEART...|       8|12/1/10 8:26|     2.75|     17850|United Kingdom|2010-12-01 08:26:00|\n",
      "|   536365|   84029G|KNITTED UNION FLA...|       6|12/1/10 8:26|     3.39|     17850|United Kingdom|2010-12-01 08:26:00|\n",
      "|   536365|   84029E|RED WOOLLY HOTTIE...|       6|12/1/10 8:26|     3.39|     17850|United Kingdom|2010-12-01 08:26:00|\n",
      "+---------+---------+--------------------+--------+------------+---------+----------+--------------+-------------------+\n",
      "only showing top 5 rows\n",
      "\n"
     ]
    }
   ],
   "source": [
    "# сделаем изменение в колонке InvoiceDate\n",
    "# из 12/1/10 8:26 => 2010-12-01 08:26\n",
    "\n",
    "timeFmt = \"MM/dd/yy HH:mm\"\n",
    "\n",
    "df = df.withColumn('NewInvoiceDate'\n",
    "                 , to_utc_timestamp(unix_timestamp(col('InvoiceDate'),timeFmt).cast('timestamp')\n",
    "                 , 'UTC'))\n",
    "\n",
    "df.show(5)"
   ]
  },
  {
   "cell_type": "code",
   "execution_count": 18,
   "id": "tested-christian",
   "metadata": {},
   "outputs": [],
   "source": [
    "# какую ошибку я тут совершил?\n",
    "\n",
    "# делаем расчет финальной ценны по позиции (по строке)\n",
    "df = df.withColumn('TotalPrice', round( df.Quantity * df.UnitPrice, 2 ) )"
   ]
  },
  {
   "cell_type": "code",
   "execution_count": 21,
   "id": "prescribed-civilian",
   "metadata": {},
   "outputs": [],
   "source": [
    "# здесь какие ошибки?\n",
    "date_max = df.select(max('NewInvoiceDate')).toPandas()\n",
    "\n",
    "current = to_utc_timestamp(unix_timestamp(lit(str(date_max.iloc[0][0])), \\\n",
    "                           'yy-MM-dd HH:mm').cast('timestamp'), 'UTC' )\n",
    "\n",
    "# считаем длительность \"жизни\" пользователя\n",
    "# lit - это фиксированое значение, просто current передать нельзя (и число, и строку)\n",
    "df = df.withColumn('Duration', datediff(lit(current), 'NewInvoiceDate'))"
   ]
  },
  {
   "cell_type": "code",
   "execution_count": 23,
   "id": "straight-nightlife",
   "metadata": {},
   "outputs": [
    {
     "name": "stdout",
     "output_type": "stream",
     "text": [
      "+----------+-------+---------+--------+\n",
      "|CustomerID|Recency|Frequency|Monetary|\n",
      "+----------+-------+---------+--------+\n",
      "|     17389|     15|        7|  224.34|\n",
      "|     13623|      0|        2|   136.1|\n",
      "|     15727|     34|        2|  2091.6|\n",
      "|     16503|     33|        3|  831.29|\n",
      "|     17420|     76|        1|  130.85|\n",
      "+----------+-------+---------+--------+\n",
      "only showing top 5 rows\n",
      "\n"
     ]
    }
   ],
   "source": [
    "# rfm\n",
    "recency = df.groupBy('CustomerID').agg(min('Duration').alias('Recency'))\n",
    "\n",
    "frequency = df.groupBy('CustomerID', 'InvoiceNo').count()\\\n",
    "                        .groupBy('CustomerID')\\\n",
    "                        .agg(count(\"*\").alias(\"Frequency\"))\n",
    "\n",
    "monetary = df.groupBy('CustomerID').agg(round(sum('TotalPrice'), 2).alias('Monetary'))\n",
    "\n",
    "rfm = recency.join(frequency,'CustomerID', how = 'inner')\\\n",
    "             .join(monetary,'CustomerID', how = 'inner')\n",
    "\n",
    "rfm.show(5)"
   ]
  },
  {
   "cell_type": "code",
   "execution_count": 26,
   "id": "abandoned-treaty",
   "metadata": {},
   "outputs": [
    {
     "name": "stdout",
     "output_type": "stream",
     "text": [
      "+-------+------------------+------------------+------------------+\n",
      "|summary|           Recency|         Frequency|          Monetary|\n",
      "+-------+------------------+------------------+------------------+\n",
      "|  count|              1559|              1559|              1559|\n",
      "|   mean|34.157793457344454| 2.289929441949968| 805.6828864656832|\n",
      "| stddev|25.192037563824275|2.7880811668997714|2190.3039302976686|\n",
      "|    min|                 0|                 1|           -1192.2|\n",
      "|    max|                76|                41|          38370.09|\n",
      "+-------+------------------+------------------+------------------+\n",
      "\n"
     ]
    }
   ],
   "source": [
    "# сделаем сегментацию\n",
    "cols = ['Recency','Frequency','Monetary']\n",
    "\n",
    "rfm.select(cols).describe().show()"
   ]
  },
  {
   "cell_type": "code",
   "execution_count": 40,
   "id": "desirable-photographer",
   "metadata": {},
   "outputs": [
    {
     "data": {
      "text/plain": [
       "<bound method DataFrame.approxQuantile of DataFrame[CustomerID: int, Recency: int, Frequency: bigint, Monetary: double]>"
      ]
     },
     "execution_count": 40,
     "metadata": {},
     "output_type": "execute_result"
    }
   ],
   "source": [
    "# а где же 25%, 50%, 75% квантили?\n",
    "# рассчитайте их\n",
    "rfm.approxQuantile\n",
    "\n",
    "# вам будет необходим метод approxQuantile\n",
    "# pandas.DataFrame, .T, указать индекс и столбцы"
   ]
  },
  {
   "cell_type": "code",
   "execution_count": 43,
   "id": "fancy-outdoors",
   "metadata": {},
   "outputs": [],
   "source": [
    "# это не идеальное (и точно не лучше решение)\n",
    "# но вы сможете сделать его лучше. Как?\n",
    "\n",
    "def RScore(x):\n",
    "    if  x <= 16:\n",
    "        return 1\n",
    "    elif x<= 50:\n",
    "        return 2\n",
    "    elif x<= 143:\n",
    "        return 3\n",
    "    else:\n",
    "        return 4\n",
    "\n",
    "def FScore(x):\n",
    "    if  x <= 1:\n",
    "        return 4\n",
    "    elif x <= 3:\n",
    "        return 3\n",
    "    elif x <= 5:\n",
    "        return 2\n",
    "    else:\n",
    "        return 1\n",
    "\n",
    "def MScore(x):\n",
    "    if  x <= 293:\n",
    "        return 4\n",
    "    elif x <= 648:\n",
    "        return 3\n",
    "    elif x <= 1611:\n",
    "        return 2\n",
    "    else:\n",
    "        return 1\n",
    "\n",
    "from pyspark.sql.functions import udf\n",
    "from pyspark.sql.types import StringType, DoubleType\n",
    "\n",
    "R_udf = udf(lambda x: RScore(x), StringType())\n",
    "F_udf = udf(lambda x: FScore(x), StringType())\n",
    "M_udf = udf(lambda x: MScore(x), StringType())"
   ]
  },
  {
   "cell_type": "code",
   "execution_count": 44,
   "id": "cosmetic-wireless",
   "metadata": {},
   "outputs": [
    {
     "name": "stdout",
     "output_type": "stream",
     "text": [
      "+----------+-------+---------+--------+-----+-----+-----+\n",
      "|CustomerID|Recency|Frequency|Monetary|r_seg|f_seg|m_seg|\n",
      "+----------+-------+---------+--------+-----+-----+-----+\n",
      "|     17389|     15|        7|  224.34|    1|    1|    4|\n",
      "|     13623|      0|        2|   136.1|    1|    3|    4|\n",
      "|     15727|     34|        2|  2091.6|    2|    3|    1|\n",
      "|     16503|     33|        3|  831.29|    2|    3|    2|\n",
      "|     17420|     76|        1|  130.85|    3|    4|    4|\n",
      "+----------+-------+---------+--------+-----+-----+-----+\n",
      "only showing top 5 rows\n",
      "\n"
     ]
    }
   ],
   "source": [
    "rfm_seg = rfm.withColumn(\"r_seg\", R_udf(\"Recency\"))\n",
    "rfm_seg = rfm_seg.withColumn(\"f_seg\", F_udf(\"Frequency\"))\n",
    "rfm_seg = rfm_seg.withColumn(\"m_seg\", M_udf(\"Monetary\"))\n",
    "rfm_seg.show(5)"
   ]
  },
  {
   "cell_type": "code",
   "execution_count": 49,
   "id": "affiliated-transcription",
   "metadata": {},
   "outputs": [
    {
     "name": "stdout",
     "output_type": "stream",
     "text": [
      "+----------+-------+---------+--------+-----+-----+-----+--------+\n",
      "|CustomerID|Recency|Frequency|Monetary|r_seg|f_seg|m_seg|RFMScore|\n",
      "+----------+-------+---------+--------+-----+-----+-----+--------+\n",
      "|     16839|      7|        6| 2244.95|    1|    1|    1|     111|\n",
      "|     14085|     12|        7| 1975.16|    1|    1|    1|     111|\n",
      "|     14180|      8|       12| 1678.42|    1|    1|    1|     111|\n",
      "|     12471|      4|       13| 4967.06|    1|    1|    1|     111|\n",
      "|     17677|      4|        8| 2718.35|    1|    1|    1|     111|\n",
      "+----------+-------+---------+--------+-----+-----+-----+--------+\n",
      "only showing top 5 rows\n",
      "\n"
     ]
    }
   ],
   "source": [
    "rfm_seg = rfm_seg.withColumn('RFMScore',\n",
    "                             concat(col('r_seg'),col('f_seg'), col('m_seg')))\n",
    "rfm_seg.sort(col('RFMScore')).show(5)"
   ]
  },
  {
   "cell_type": "code",
   "execution_count": 51,
   "id": "dedicated-prime",
   "metadata": {},
   "outputs": [
    {
     "name": "stdout",
     "output_type": "stream",
     "text": [
      "+--------+-----------------+------------------+------------------+\n",
      "|RFMScore|     avg(Recency)|     avg(Monetary)|    avg(Frequency)|\n",
      "+--------+-----------------+------------------+------------------+\n",
      "|     111|5.944444444444445| 7181.969074074074| 11.25925925925926|\n",
      "|     112|6.142857142857143|1159.4153571428571| 7.464285714285714|\n",
      "|     113|              9.4|           462.754|               6.6|\n",
      "|     114|              9.5|150.95000000000002|               7.5|\n",
      "|     121|5.913043478260869|2953.4104347826087|4.3478260869565215|\n",
      "+--------+-----------------+------------------+------------------+\n",
      "only showing top 5 rows\n",
      "\n"
     ]
    }
   ],
   "source": [
    "# статистический результат\n",
    "rfm_seg.groupBy('RFMScore')\\\n",
    "       .agg({'Recency':'mean',\n",
    "             'Frequency': 'mean',\n",
    "             'Monetary': 'mean'} )\\\n",
    "        .sort(col('RFMScore')).show(5)"
   ]
  },
  {
   "cell_type": "markdown",
   "id": "threatened-spell",
   "metadata": {},
   "source": [
    "# Сделаем кластеризацию (RFM, но K-Means)"
   ]
  },
  {
   "cell_type": "code",
   "execution_count": 76,
   "id": "indian-hypothesis",
   "metadata": {},
   "outputs": [],
   "source": [
    "from pyspark.ml.linalg import Vectors\n",
    "from pyspark.ml.feature import MinMaxScaler\n",
    "\n",
    "from pyspark.ml import Pipeline\n",
    "from pyspark.ml.feature import StringIndexer, OneHotEncoder, VectorAssembler\n",
    "from pyspark.sql.functions import col, percent_rank, lit\n",
    "from pyspark.sql.window import Window\n",
    "from pyspark.sql import DataFrame, Row\n",
    "from pyspark.sql.types import StructType\n",
    "from pyspark.ml.clustering import KMeans\n",
    "from functools import reduce  # For Python 3.x\n",
    "from pyspark.ml.evaluation import ClusteringEvaluator\n",
    "\n",
    "# создаем матрицу фичей\n",
    "def transData(data):\n",
    "    return data.rdd.map(lambda r: [r[0],Vectors.dense(r[1:])]).toDF(['CustomerID','rfm'])"
   ]
  },
  {
   "cell_type": "code",
   "execution_count": 59,
   "id": "palestinian-australia",
   "metadata": {},
   "outputs": [
    {
     "name": "stdout",
     "output_type": "stream",
     "text": [
      "+----------+-----------------+\n",
      "|CustomerID|              rfm|\n",
      "+----------+-----------------+\n",
      "|     17389|[15.0,7.0,224.34]|\n",
      "|     13623|  [0.0,2.0,136.1]|\n",
      "|     15727|[34.0,2.0,2091.6]|\n",
      "|     16503|[33.0,3.0,831.29]|\n",
      "|     17420|[76.0,1.0,130.85]|\n",
      "+----------+-----------------+\n",
      "only showing top 5 rows\n",
      "\n"
     ]
    }
   ],
   "source": [
    "transformed= transData(rfm)\n",
    "transformed.show(5)"
   ]
  },
  {
   "cell_type": "code",
   "execution_count": 60,
   "id": "dramatic-special",
   "metadata": {},
   "outputs": [
    {
     "name": "stdout",
     "output_type": "stream",
     "text": [
      "+----------+-----------------+-------------------------------------------------------------+\n",
      "|CustomerID|rfm              |features                                                     |\n",
      "+----------+-----------------+-------------------------------------------------------------+\n",
      "|17389     |[15.0,7.0,224.34]|[0.19736842105263158,0.15000000000000002,0.03580530854002638]|\n",
      "|13623     |[0.0,2.0,136.1]  |[0.0,0.025,0.03357490175619258]                              |\n",
      "|15727     |[34.0,2.0,2091.6]|[0.4473684210526315,0.025,0.08300328418804878]               |\n",
      "|16503     |[33.0,3.0,831.29]|[0.43421052631578944,0.05,0.05114693815752324]               |\n",
      "|17420     |[76.0,1.0,130.85]|[1.0,0.0,0.033442199630001196]                               |\n",
      "+----------+-----------------+-------------------------------------------------------------+\n",
      "only showing top 5 rows\n",
      "\n"
     ]
    }
   ],
   "source": [
    "# скалируем все наши фичи\n",
    "scaler = MinMaxScaler(inputCol=\"rfm\",\\\n",
    "                      outputCol=\"features\")\n",
    "\n",
    "scalerModel =  scaler.fit(transformed)\n",
    "scaledData = scalerModel.transform(transformed)\n",
    "scaledData.show(5,False)"
   ]
  },
  {
   "cell_type": "code",
   "execution_count": 83,
   "id": "informal-donna",
   "metadata": {},
   "outputs": [
    {
     "data": {
      "text/plain": [
       "DataFrame[CustomerID: bigint, rfm: vector, features: vector, cluster: int]"
      ]
     },
     "execution_count": 83,
     "metadata": {},
     "output_type": "execute_result"
    }
   ],
   "source": [
    "predictions"
   ]
  },
  {
   "cell_type": "code",
   "execution_count": 91,
   "id": "ranging-spyware",
   "metadata": {},
   "outputs": [
    {
     "name": "stdout",
     "output_type": "stream",
     "text": [
      "Silhouette with squared euclidean distance = 0.8383159513178675\n",
      "Silhouette with squared euclidean distance = 0.7304459590331249\n"
     ]
    }
   ],
   "source": [
    "import numpy as np\n",
    "\n",
    "n_rounds = 4\n",
    "cost = np.zeros(n_rounds)\n",
    "for k in range(2,n_rounds):\n",
    "    kmeans = KMeans()\\\n",
    "            .setK(k)\\\n",
    "            .setSeed(1) \\\n",
    "            .setFeaturesCol(\"features\")\\\n",
    "            .setPredictionCol(\"prediction\")\n",
    "\n",
    "    model = kmeans.fit(scaledData)\n",
    "\n",
    "    predictions = model.transform(scaledData)    \n",
    "    evaluator = ClusteringEvaluator()\n",
    "    silhouette = evaluator.evaluate(predictions)\n",
    "    cost[k] = silhouette\n",
    "    print(\"Silhouette with squared euclidean distance = \" + str(silhouette))"
   ]
  },
  {
   "cell_type": "code",
   "execution_count": 92,
   "id": "hindu-surname",
   "metadata": {},
   "outputs": [
    {
     "data": {
      "image/png": "[encoded data removed]",
      "text/plain": [
       "<Figure size 576x432 with 1 Axes>"
      ]
     },
     "metadata": {
      "needs_background": "light"
     },
     "output_type": "display_data"
    }
   ],
   "source": [
    "import numpy as np\n",
    "import matplotlib.mlab as mlab\n",
    "import matplotlib.pyplot as plt\n",
    "import seaborn as sbs\n",
    "from matplotlib.ticker import MaxNLocator\n",
    "\n",
    "fig, ax = plt.subplots(1,1, figsize =(8,6))\n",
    "ax.plot(range(2,n_rounds),cost[2:n_rounds], marker = \"o\")\n",
    "ax.set_xlabel('k')\n",
    "ax.set_ylabel('cost')\n",
    "ax.xaxis.set_major_locator(MaxNLocator(integer=True))\n",
    "plt.show()"
   ]
  },
  {
   "cell_type": "code",
   "execution_count": 73,
   "id": "digital-aquatic",
   "metadata": {},
   "outputs": [
    {
     "name": "stdout",
     "output_type": "stream",
     "text": [
      "+----------+-----------------+-------------------------------------------------------------+----------+\n",
      "|CustomerID|rfm              |features                                                     |prediction|\n",
      "+----------+-----------------+-------------------------------------------------------------+----------+\n",
      "|17389     |[15.0,7.0,224.34]|[0.19736842105263158,0.15000000000000002,0.03580530854002638]|1         |\n",
      "|13623     |[0.0,2.0,136.1]  |[0.0,0.025,0.03357490175619258]                              |1         |\n",
      "|15727     |[34.0,2.0,2091.6]|[0.4473684210526315,0.025,0.08300328418804878]               |0         |\n",
      "|16503     |[33.0,3.0,831.29]|[0.43421052631578944,0.05,0.05114693815752324]               |0         |\n",
      "|17420     |[76.0,1.0,130.85]|[1.0,0.0,0.033442199630001196]                               |2         |\n",
      "+----------+-----------------+-------------------------------------------------------------+----------+\n",
      "only showing top 5 rows\n",
      "\n"
     ]
    }
   ],
   "source": [
    "# выбираем лучшее количество\n",
    "k = 3\n",
    "kmeans = KMeans().setK(k).setSeed(1)\n",
    "model = kmeans.fit(scaledData)\n",
    "\n",
    "predictions = model.transform(scaledData)\n",
    "predictions.show(5,False)"
   ]
  },
  {
   "cell_type": "code",
   "execution_count": 93,
   "id": "downtown-arlington",
   "metadata": {},
   "outputs": [
    {
     "name": "stdout",
     "output_type": "stream",
     "text": [
      "+----------+-------+---------+--------+----------+\n",
      "|CustomerID|Recency|Frequency|Monetary|prediction|\n",
      "+----------+-------+---------+--------+----------+\n",
      "|     13098|      4|        5|  804.35|         1|\n",
      "|     15057|     18|        1|  1131.0|         1|\n",
      "|     15194|     15|        7| 2143.31|         1|\n",
      "|     17048|     25|        2|  250.91|         0|\n",
      "|     12967|      5|        3| 1630.95|         1|\n",
      "+----------+-------+---------+--------+----------+\n",
      "only showing top 5 rows\n",
      "\n"
     ]
    }
   ],
   "source": [
    "# делаем предикты\n",
    "results = rfm.join(predictions.select('CustomerID','prediction'),'CustomerID',how='left')\n",
    "results.show(5)"
   ]
  },
  {
   "cell_type": "code",
   "execution_count": 95,
   "id": "wooden-withdrawal",
   "metadata": {},
   "outputs": [
    {
     "name": "stdout",
     "output_type": "stream",
     "text": [
      "+----------+-----------------+------------------+------------------+\n",
      "|prediction|     avg(Recency)|     avg(Monetary)|    avg(Frequency)|\n",
      "+----------+-----------------+------------------+------------------+\n",
      "|         0|29.15320910973085| 611.2591304347822|1.8426501035196687|\n",
      "|         1|8.608540925266905|1407.1154448398572|3.5106761565836297|\n",
      "|         2|66.79571984435798| 330.7832295719843|1.3754863813229572|\n",
      "+----------+-----------------+------------------+------------------+\n",
      "\n"
     ]
    }
   ],
   "source": [
    "results.groupBy('prediction')\\\n",
    "       .agg({'Recency':'mean',\n",
    "             'Frequency': 'mean',\n",
    "             'Monetary': 'mean'} )\\\n",
    "        .sort(col('prediction')).show(5)"
   ]
  }
 ],
 "metadata": {
  "kernelspec": {
   "display_name": "Python 3",
   "language": "python",
   "name": "python3"
  },
  "language_info": {
   "codemirror_mode": {
    "name": "ipython",
    "version": 3
   },
   "file_extension": ".py",
   "mimetype": "text/x-python",
   "name": "python",
   "nbconvert_exporter": "python",
   "pygments_lexer": "ipython3",
   "version": "3.7.3"
  }
 },
 "nbformat": 4,
 "nbformat_minor": 5
}
