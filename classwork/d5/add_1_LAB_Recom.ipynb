{
 "cells": [
  {
   "cell_type": "markdown",
   "metadata": {},
   "source": [
    "# Recommendation System\n",
    "\n",
    "\n",
    "## Рассмотрим или сделаем\n",
    "\n",
    "* Как алгоритмы рекомендации делать рекомендации?\n",
    "* Сделаем фильтр Spark DF и отберем базовые фичи\n",
    "* Train | Test\n",
    "* Определим, что рекомендовать"
   ]
  },
  {
   "cell_type": "markdown",
   "metadata": {},
   "source": [
    "### Загрузите данные\n",
    "\n",
    "Сделайте:\n",
    "* запустите SparkSession\n",
    "* загрузите данные `data/ratings.csv`"
   ]
  },
  {
   "cell_type": "code",
   "execution_count": 2,
   "metadata": {},
   "outputs": [],
   "source": [
    "# импортируйте нужные библиотеки\n",
    "\n",
    "\n",
    "# SparkSession"
   ]
  },
  {
   "cell_type": "code",
   "execution_count": 3,
   "metadata": {},
   "outputs": [],
   "source": [
    "# прочитайте файл с рейтингами\n",
    "movie_ratings = None"
   ]
  },
  {
   "cell_type": "code",
   "execution_count": 4,
   "metadata": {},
   "outputs": [],
   "source": [
    "# проверте типы данных\n",
    "# все подходят дл вычислений?"
   ]
  },
  {
   "cell_type": "code",
   "execution_count": 57,
   "metadata": {},
   "outputs": [],
   "source": [
    "# сократите дата сети, оставьте только нужные колонки (например, время не нужно для рекомендаций)\n",
    "movie_ratings = None"
   ]
  },
  {
   "cell_type": "markdown",
   "metadata": {},
   "source": [
    "### Построение модели Alternating Least Squares (ALS)"
   ]
  },
  {
   "cell_type": "markdown",
   "metadata": {},
   "source": [
    "\n",
    "* Импортируйте ALS из yspark.ml.recommendation.\n",
    "* Используйте randomSplit\n",
    "* Обучите Alternating Least Squares модель. Не забудьте определить userCol, itemCol и ratingCol"
   ]
  },
  {
   "cell_type": "code",
   "execution_count": 10,
   "metadata": {},
   "outputs": [],
   "source": [
    "from pyspark.ml.evaluation import RegressionEvaluator\n",
    "\n",
    "from pyspark.ml.recommendation import ALS\n",
    "\n",
    "# разбиваем на train-test\n",
    "\n",
    "\n",
    "# ALS реком.\n",
    "# В качестве \"стратегии холодного старта\" сделайте выбор 'drop', тогда мы не получим NaN\n",
    "\n",
    "# Обучите модель\n"
   ]
  },
  {
   "cell_type": "markdown",
   "metadata": {},
   "source": [
    "Дя тестирования модели\n",
    "\n",
    "* импортируйте `RegressionEvalutor` из pyspark.ml.evaluation\n",
    "* сделайте prediction используя метод `transform` из обученной модели ALS\n",
    "* метрика оценки RMSE (а почему такая? Какие есть ещё?)"
   ]
  },
  {
   "cell_type": "code",
   "execution_count": 5,
   "metadata": {},
   "outputs": [],
   "source": [
    "# импорт библиотек\n",
    "\n",
    "\n",
    "# оцените качество модели\n"
   ]
  },
  {
   "cell_type": "markdown",
   "metadata": {},
   "source": [
    "### Cross Validation и поиск оптимальных парамтеров для модели\n",
    "\n",
    "Используем список из параметров для поиска лучших параметров\n",
    "\n",
    "* regularization = [0.01,0.001,0.1])\n",
    "* rank = [4,10,50]\n",
    "\n"
   ]
  },
  {
   "cell_type": "code",
   "execution_count": 63,
   "metadata": {},
   "outputs": [],
   "source": [
    "from pyspark.ml.tuning import CrossValidator, ParamGridBuilder\n",
    "\n",
    "# создание новой модели ALS\n",
    "\n",
    "\n",
    "# создание GridSearch (ParamGridBuilder)\n",
    "# какие методы ещё можно использовать? Какие вы знаете? И чем плох метод GridSearch?\n",
    "\n",
    "\n",
    "# сделаем crossvalidator\n",
    "\n",
    "\n",
    "# получить лучшие параметры\n"
   ]
  },
  {
   "cell_type": "markdown",
   "metadata": {},
   "source": [
    "### Соедините ID фильмов и их имена\n",
    "\n",
    "Мы использовали только ID фильмов, а теперь загрузите файл с фильмами '.data/movies.csv' и соедините их по ID\n"
   ]
  },
  {
   "cell_type": "code",
   "execution_count": 17,
   "metadata": {},
   "outputs": [
    {
     "data": {
      "text/plain": [
       "[Row(movieId=1, title='Toy Story (1995)', genres='Adventure|Animation|Children|Comedy|Fantasy'),\n",
       " Row(movieId=2, title='Jumanji (1995)', genres='Adventure|Children|Fantasy'),\n",
       " Row(movieId=3, title='Grumpier Old Men (1995)', genres='Comedy|Romance'),\n",
       " Row(movieId=4, title='Waiting to Exhale (1995)', genres='Comedy|Drama|Romance'),\n",
       " Row(movieId=5, title='Father of the Bride Part II (1995)', genres='Comedy')]"
      ]
     },
     "execution_count": 17,
     "metadata": {},
     "output_type": "execute_result"
    }
   ],
   "source": [
    "movie_titles = None\n",
    "\n",
    "movie_titles.head(5)"
   ]
  },
  {
   "cell_type": "code",
   "execution_count": 6,
   "metadata": {},
   "outputs": [],
   "source": [
    "def name_retriever(movie_id,movie_title_df):\n",
    "    # вы можете написать функцию,\n",
    "    # которая принимает id и DF с фильмами\n",
    "    # и возвращает DF с выбранным ID и Названием\n",
    "    # ????\n",
    "    pass"
   ]
  },
  {
   "cell_type": "code",
   "execution_count": 22,
   "metadata": {},
   "outputs": [
    {
     "name": "stdout",
     "output_type": "stream",
     "text": [
      "Winnie the Pooh and the Blustery Day (1968)\n"
     ]
    }
   ],
   "source": [
    "print(name_retriever(1023,movie_titles))"
   ]
  },
  {
   "cell_type": "markdown",
   "metadata": {},
   "source": [
    "## Получение рекомендаций\n",
    "\n",
    "ALS модель имеет методы `recommendForUserSubset` и `recommendForAllUsers`. Начнем с использования SubSet для пользователя (рекомендаций для пользователя)"
   ]
  },
  {
   "cell_type": "code",
   "execution_count": 34,
   "metadata": {},
   "outputs": [],
   "source": [
    "users = movie_ratings.select(als.getUserCol()).distinct().limit(1)\n",
    "userSubsetRecs = model.recommendForUserSubset(users, 10)\n",
    "recs = userSubsetRecs.take(1)"
   ]
  },
  {
   "cell_type": "code",
   "execution_count": 47,
   "metadata": {},
   "outputs": [
    {
     "data": {
      "text/plain": [
       "'Pirate Radio (2009)'"
      ]
     },
     "execution_count": 47,
     "metadata": {},
     "output_type": "execute_result"
    }
   ],
   "source": [
    "# используйте индексы для получения id фильмов\n",
    "first_recommendation = recs[0]['recommendations'][0][0]\n",
    "\n",
    "# примените вашу функцию и получите список фильмов (или один фильм)\n",
    "name_retriever(first_recommendation,movie_titles)"
   ]
  },
  {
   "cell_type": "code",
   "execution_count": 48,
   "metadata": {},
   "outputs": [],
   "source": [
    "# все рекомендации\n",
    "recommendations = model.recommendForAllUsers(5)\n",
    "recommendations.where(recommendations.userId == 3).collect()"
   ]
  },
  {
   "cell_type": "markdown",
   "metadata": {},
   "source": [
    "### Сможете сделать предикт для нового пользователя?\n",
    "\n",
    "\n",
    "* Добавьте новые данные в DataFrame (hint: используйте union метод)\n",
    "* Переобучите ALS модель\n",
    "* Сделайте новые рекомендации и сделайте выбор топ-5 (но уже не с ID, а с названием фильмов)\n",
    "\n",
    "Сделайте это все в одной функции, которая принимает параметры:\n",
    "* user_id : int \n",
    "* new_ratings : список в формате (user_id, item_id, rating)\n",
    "* rating_df : spark DF с рейтингами\n",
    "* movie_title_df : spark DF с именами фильмов\n",
    "* num_recs : int"
   ]
  },
  {
   "cell_type": "markdown",
   "metadata": {},
   "source": [
    "Добавьте эти новые фильмы и на их основе сделайте рекомендации\n",
    "\n",
    "```python\n",
    "[Row(movieId=3253, title=\"Wayne's World (1992)\", genres='Comedy'),\n",
    " Row(movieId=2459, title='Texas Chainsaw Massacre, The (1974)', genres='Horror'),\n",
    " Row(movieId=2513, title='Pet Sematary (1989)', genres='Horror'),\n",
    " Row(movieId=6502, title='28 Days Later (2002)', genres='Action|Horror|Sci-Fi'),\n",
    " Row(movieId=1091, title=\"Weekend at Bernie's (1989)\", genres='Comedy'),\n",
    "Row(movieId=441, title='Dazed and Confused (1993)', genres='Comedy'),\n",
    "Row(movieId=370, title='Naked Gun 33 1/3: The Final Insult (1994)', genres='Action|Comedy')]\n",
    "\n",
    "```"
   ]
  },
  {
   "cell_type": "code",
   "execution_count": 81,
   "metadata": {},
   "outputs": [],
   "source": [
    "def new_user_recs(user_id,new_ratings,rating_df,movie_title_df,num_recs):\n",
    "    # список новых фильмов в DF\n",
    "    \n",
    "    \n",
    "    # соедините 2 Spark DF\n",
    "  \n",
    "\n",
    "    # ALS модель (fit)\n",
    "\n",
    "    \n",
    "    # сделать рекомендации методом recommendForAllUsers\n",
    "\n",
    "    \n",
    "    # сделать DataFrame \n",
    "    pass\n",
    "        "
   ]
  }
 ],
 "metadata": {
  "kernelspec": {
   "display_name": "Python 3",
   "language": "python",
   "name": "python3"
  },
  "language_info": {
   "codemirror_mode": {
    "name": "ipython",
    "version": 3
   },
   "file_extension": ".py",
   "mimetype": "text/x-python",
   "name": "python",
   "nbconvert_exporter": "python",
   "pygments_lexer": "ipython3",
   "version": "3.7.3"
  }
 },
 "nbformat": 4,
 "nbformat_minor": 4
}
