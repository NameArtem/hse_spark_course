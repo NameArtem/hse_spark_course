{
 "cells": [
  {
   "cell_type": "markdown",
   "metadata": {},
   "source": [
    "## Timeseries на PySpark"
   ]
  },
  {
   "cell_type": "code",
   "execution_count": 2,
   "metadata": {
    "collapsed": true
   },
   "outputs": [],
   "source": [
    "from datetime import datetime\n",
    "\n",
    "from pyspark import SparkContext, SQLContext\n",
    "from pyspark.sql import Row\n",
    "from pyspark.sql.types import StructType, StructField, TimestampType, DoubleType, StringType\n",
    "\n",
    "from sparkts.datetimeindex import uniform, BusinessDayFrequency\n",
    "\n",
    "# timeseries библиотека\n",
    "from sparkts.timeseriesrdd import time_series_rdd_from_observations\n",
    "\n",
    "def lineToRow(line):\n",
    "    # функция преобразования\n",
    "    (year, month, day, symbol, volume, price) = line.split(\"\\t\")\n",
    "    # Совместимый для всех Python\n",
    "    dt = datetime(int(year), int(month), int(day))\n",
    "    return (dt, symbol, float(price))\n",
    "\n",
    "def loadObservations(sparkContext, sqlContext, path):\n",
    "    textFile = sparkContext.textFile(path)\n",
    "    rowRdd = textFile.map(lineToRow)\n",
    "    schema = StructType([\n",
    "        StructField('timestamp', TimestampType(), nullable=True),\n",
    "        StructField('symbol', StringType(), nullable=True),\n",
    "        StructField('price', DoubleType(), nullable=True),\n",
    "    ])\n",
    "    return sqlContext.createDataFrame(rowRdd, schema);"
   ]
  },
  {
   "cell_type": "code",
   "execution_count": 4,
   "metadata": {
    "collapsed": true
   },
   "outputs": [],
   "source": [
    "# оди из вариантов контекст + данные = df + init\n",
    "tickerObs = loadObservations(sc, sqlContext, \"ticker.tsv\")"
   ]
  },
  {
   "cell_type": "code",
   "execution_count": null,
   "metadata": {},
   "outputs": [],
   "source": [
    "tickerObs.show(2, truncate=False)"
   ]
  },
  {
   "cell_type": "code",
   "execution_count": 92,
   "metadata": {},
   "outputs": [],
   "source": [
    "# Переводим время в форма\n",
    "freq = BusinessDayFrequency(1, 1, sc)\n",
    "dtIndex = uniform(start='2015-08-03T00:00+01:00', end='2015-09-22T00:00+01:00', freq=freq, sc=sc)"
   ]
  },
  {
   "cell_type": "code",
   "execution_count": null,
   "metadata": {},
   "outputs": [],
   "source": [
    "dtIndex"
   ]
  },
  {
   "cell_type": "code",
   "execution_count": 94,
   "metadata": {
    "collapsed": true
   },
   "outputs": [],
   "source": [
    "# формируем DF на подобии Pandas DF (как особенности в данных для TS)\n",
    "tickerTsrdd = time_series_rdd_from_observations(dtIndex, tickerObs, \"timestamp\", \"symbol\", \"price\")"
   ]
  },
  {
   "cell_type": "code",
   "execution_count": null,
   "metadata": {},
   "outputs": [],
   "source": [
    "tickerTsrdd.take(20)"
   ]
  },
  {
   "cell_type": "code",
   "execution_count": null,
   "metadata": {},
   "outputs": [],
   "source": [
    "tickerTsrdd.cache()\n",
    "\n",
    "# кол-во элементов\n",
    "print(tickerTsrdd.count())\n",
    "\n",
    "# заменяем пропущенные значения (интерполиряция). Где такой способ \"на не помогает\"?\n",
    "filled = tickerTsrdd.fill(\"linear\")\n",
    "\n",
    "# рейт возвращения\n",
    "returnRates = filled.return_rates()\n",
    "\n",
    "# Durbin-Watson (нужно описать самому, подобее функции TimeSeriesStatisticalTests.scala)\n",
    "# вычисления на основе остатков\n",
    "def dwtest(residuals):\n",
    "    residsSum = residuals[0] * residuals[0]\n",
    "    diffsSum = 0.0\n",
    "    i = 1\n",
    "    while i < len(residuals):\n",
    "        residsSum += residuals[i] * residuals[i]\n",
    "        diff = residuals[i] - residuals[i - 1]\n",
    "        diffsSum += diff * diff\n",
    "        i += 1\n",
    "    return diffsSum / residsSum\n",
    "\n",
    "# Применим функцию\n",
    "dwStats = returnRates.map_series(lambda row: (row[0], [dwtest(row[1])])).map(lambda x: (x[1], x[0]))\n",
    "\n",
    "print(dwStats.min())\n",
    "print(dwStats.max())"
   ]
  },
  {
   "cell_type": "code",
   "execution_count": null,
   "metadata": {},
   "outputs": [],
   "source": [
    "returnRates.take(2)"
   ]
  },
  {
   "cell_type": "code",
   "execution_count": null,
   "metadata": {},
   "outputs": [],
   "source": [
    "tickerTsrdd.take(2)"
   ]
  },
  {
   "cell_type": "markdown",
   "metadata": {},
   "source": [
    "### ARIMA"
   ]
  },
  {
   "cell_type": "code",
   "execution_count": 102,
   "metadata": {},
   "outputs": [],
   "source": [
    "from sparkts.models import ARIMA\n",
    "\n",
    "from pyspark.mllib.linalg import Vectors"
   ]
  },
  {
   "cell_type": "code",
   "execution_count": 131,
   "metadata": {
    "collapsed": true
   },
   "outputs": [],
   "source": [
    "ts = Vectors.dense(returnRates.collect()[0][1])"
   ]
  },
  {
   "cell_type": "code",
   "execution_count": 135,
   "metadata": {},
   "outputs": [],
   "source": [
    "m = ARIMA.fit_model(1,0,1,ts, sc=sc) "
   ]
  },
  {
   "cell_type": "code",
   "execution_count": 136,
   "metadata": {},
   "outputs": [
    {
     "data": {
      "text/plain": [
       "[-0.0012474547399206936, 0.2666755318221923, 0.0961795619837402]"
      ]
     },
     "execution_count": 136,
     "metadata": {},
     "output_type": "execute_result"
    }
   ],
   "source": [
    "# коэф. модели\n",
    "m.coefficients"
   ]
  },
  {
   "cell_type": "code",
   "execution_count": 137,
   "metadata": {
    "collapsed": true
   },
   "outputs": [],
   "source": [
    "# предикт на 20 шагов\n",
    "forecast = m.forecast(ts, 20)"
   ]
  },
  {
   "cell_type": "code",
   "execution_count": null,
   "metadata": {},
   "outputs": [],
   "source": [
    "%matplotlib inline\n",
    "import matplotlib.pyplot as plt\n",
    "\n",
    "plt.plot(forecast.toArray(), label=\"Forecast\")\n",
    "plt.plot(ts.toArray(), label=\"Timeseries\")\n",
    "plt.legend(loc=\"best\")"
   ]
  },
  {
   "cell_type": "code",
   "execution_count": null,
   "metadata": {},
   "outputs": [],
   "source": [
    "dwStats.collect()"
   ]
  },
  {
   "cell_type": "markdown",
   "metadata": {},
   "source": [
    "### Применение Dickey Fueller теста"
   ]
  },
  {
   "cell_type": "code",
   "execution_count": null,
   "metadata": {},
   "outputs": [],
   "source": [
    "import numpy as np\n",
    "import statsmodels.tsa.stattools as ts"
   ]
  },
  {
   "cell_type": "code",
   "execution_count": null,
   "metadata": {},
   "outputs": [],
   "source": [
    "# функция применяется к RDD\n",
    "returnRates.map(lambda x: (x[0], ts.adfuller(x[1],1))).take(2)"
   ]
  },
  {
   "cell_type": "markdown",
   "metadata": {},
   "source": [
    "## Durbin Watson"
   ]
  },
  {
   "cell_type": "code",
   "execution_count": 186,
   "metadata": {},
   "outputs": [
    {
     "data": {
      "text/plain": [
       "[(u'AAL', 1.2651505598339603), (u'AAPL', 1.9645069225856866)]"
      ]
     },
     "execution_count": 186,
     "metadata": {},
     "output_type": "execute_result"
    }
   ],
   "source": [
    "import statsmodels.api as sm\n",
    "\n",
    "# применение метода из statsodels\n",
    "returnRates.map(lambda x: (x[0], sm.stats.durbin_watson(x[1]))).take(2)"
   ]
  },
  {
   "cell_type": "markdown",
   "metadata": {},
   "source": [
    "### Применение модели из Statsmodels"
   ]
  },
  {
   "cell_type": "code",
   "execution_count": 198,
   "metadata": {
    "collapsed": true
   },
   "outputs": [],
   "source": [
    "# rdd позволяет применять методы и модели\n",
    "arima_101 = returnRates.map(lambda x: (x[0], sm.tsa.ARIMA(x[1], (1,0,1)).fit()))"
   ]
  },
  {
   "cell_type": "code",
   "execution_count": 199,
   "metadata": {},
   "outputs": [
    {
     "data": {
      "text/plain": [
       "[(u'AAL', array([-0.00037234,  0.22196278,  0.12971846]))]"
      ]
     },
     "execution_count": 199,
     "metadata": {},
     "output_type": "execute_result"
    }
   ],
   "source": [
    "# обзор параметров (коэф)\n",
    "arima_101.map(lambda res_arima:(res_arima[0], res_arima[1].params) ).take(1)"
   ]
  }
 ],
 "metadata": {
  "kernelspec": {
   "display_name": "Python 3",
   "language": "python",
   "name": "python3"
  },
  "language_info": {
   "codemirror_mode": {
    "name": "ipython",
    "version": 3
   },
   "file_extension": ".py",
   "mimetype": "text/x-python",
   "name": "python",
   "nbconvert_exporter": "python",
   "pygments_lexer": "ipython3",
   "version": "3.8.6"
  }
 },
 "nbformat": 4,
 "nbformat_minor": 1
}
