{
 "cells": [
  {
   "cell_type": "markdown",
   "metadata": {
    "colab_type": "text",
    "id": "kO9J5hlrAy8M"
   },
   "source": [
    "### ML Pipeline"
   ]
  },
  {
   "cell_type": "code",
   "execution_count": 0,
   "metadata": {
    "colab": {},
    "colab_type": "code",
    "id": "QSGrFzSWBOVq"
   },
   "outputs": [],
   "source": [
    "# init методов\n",
    "Method1 = Method_Name(inputCol = 'in_col_name_1', outputCol = 'out_col_name_1')\n",
    "Method2 = Method_Name(inputCol = 'out_col_name_1', outputCol = 'out_col_name_2')\n",
    "\n",
    "# и так далее"
   ]
  },
  {
   "cell_type": "markdown",
   "metadata": {
    "colab_type": "text",
    "id": "8oV5yafOKSM2"
   },
   "source": [
    "### Pipeline"
   ]
  },
  {
   "cell_type": "code",
   "execution_count": null,
   "metadata": {
    "colab": {},
    "colab_type": "code",
    "id": "oetoru2WKdnc"
   },
   "outputs": [],
   "source": [
    "from pyspark.ml import Pipeline\n",
    "\n",
    "# постановка методов в последовательность\n",
    "pipeline = Pipeline(stages = [Method1 , Method2, MethodN])"
   ]
  },
  {
   "cell_type": "markdown",
   "metadata": {
    "colab_type": "text",
    "id": "Ejb_hwq3MNjd"
   },
   "source": [
    "Запуск Pipeline -> fit()"
   ]
  },
  {
   "cell_type": "code",
   "execution_count": 0,
   "metadata": {
    "colab": {},
    "colab_type": "code",
    "id": "dnmte1GmMVeq"
   },
   "outputs": [],
   "source": [
    "# обучение (вся последовательность)\n",
    "model = pipeline.fit(df)"
   ]
  },
  {
   "cell_type": "code",
   "execution_count": 0,
   "metadata": {
    "colab": {},
    "colab_type": "code",
    "id": "_8jnQxNvMq0T"
   },
   "outputs": [],
   "source": [
    "# предикт (последний метод)\n",
    "prediction = model.transform(df)"
   ]
  },
  {
   "cell_type": "code",
   "execution_count": null,
   "metadata": {
    "colab": {
     "base_uri": "https://localhost:8080/",
     "height": 454
    },
    "colab_type": "code",
    "id": "dIUj-UwEMzTC",
    "outputId": "8009cc1f-0036-41ba-bb4b-b33d733285a4"
   },
   "outputs": [],
   "source": [
    "# результат\n",
    "prediction.show()"
   ]
  }
 ],
 "metadata": {
  "accelerator": "GPU",
  "colab": {
   "authorship_tag": "ABX9TyP/inhfSanPF+jXkx8kb6VB",
   "include_colab_link": true,
   "name": "SparkML_pipelines.ipynb",
   "provenance": []
  },
  "kernelspec": {
   "display_name": "Python 3",
   "language": "python",
   "name": "python3"
  },
  "language_info": {
   "codemirror_mode": {
    "name": "ipython",
    "version": 3
   },
   "file_extension": ".py",
   "mimetype": "text/x-python",
   "name": "python",
   "nbconvert_exporter": "python",
   "pygments_lexer": "ipython3",
   "version": "3.8.6"
  }
 },
 "nbformat": 4,
 "nbformat_minor": 1
}
