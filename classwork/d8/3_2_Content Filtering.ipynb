{
 "cells": [
  {
   "cell_type": "code",
   "execution_count": 1,
   "metadata": {
    "collapsed": false,
    "jupyter": {
     "outputs_hidden": false
    }
   },
   "outputs": [],
   "source": [
    "import numpy as np\n",
    "import pandas as pd\n",
    "\n",
    "from operator import add\n",
    "from pyspark.ml.feature import RegexTokenizer, CountVectorizer\n",
    "from pyspark.ml.feature import StopWordsRemover, VectorAssembler\n",
    "from pyspark.ml.feature import Word2Vec, Word2VecModel\n",
    "from pyspark.ml.feature import IDF\n",
    "\n",
    "from pyspark.ml import Pipeline, PipelineModel\n",
    "\n",
    "\n",
    "from pyspark.sql.functions import *\n",
    "\n",
    "from pyspark.sql.types import *\n",
    "\n",
    "import folium\n",
    "import html"
   ]
  },
  {
   "cell_type": "markdown",
   "metadata": {},
   "source": [
    "### Data Loading"
   ]
  },
  {
   "cell_type": "code",
   "execution_count": 3,
   "metadata": {
    "collapsed": false,
    "jupyter": {
     "outputs_hidden": false
    }
   },
   "outputs": [
    {
     "name": "stdout",
     "output_type": "stream",
     "text": [
      "root\n",
      " |-- business_id: string (nullable = true)\n",
      " |-- business_name: string (nullable = true)\n",
      " |-- neighborhood: string (nullable = true)\n",
      " |-- address: string (nullable = true)\n",
      " |-- city: string (nullable = true)\n",
      " |-- state: string (nullable = true)\n",
      " |-- postal_code: string (nullable = true)\n",
      " |-- latitude: double (nullable = true)\n",
      " |-- longitude: double (nullable = true)\n",
      " |-- stars: double (nullable = true)\n",
      " |-- review_count: long (nullable = true)\n",
      " |-- categories: array (nullable = true)\n",
      " |    |-- element: string (containsNull = true)\n",
      "\n"
     ]
    }
   ],
   "source": [
    "business_df = spark.read.parquet( 'business-small.parquet')"
   ]
  },
  {
   "cell_type": "code",
   "execution_count": null,
   "metadata": {},
   "outputs": [],
   "source": [
    "business_df.createOrReplaceTempView(\"businesses\")"
   ]
  },
  {
   "cell_type": "code",
   "execution_count": 5,
   "metadata": {
    "collapsed": false,
    "jupyter": {
     "outputs_hidden": false
    }
   },
   "outputs": [
    {
     "name": "stdout",
     "output_type": "stream",
     "text": [
      "root\n",
      " |-- user_id: string (nullable = true)\n",
      " |-- user_name: string (nullable = true)\n",
      " |-- review_count: long (nullable = true)\n",
      " |-- yelping_since: string (nullable = true)\n",
      " |-- useful: long (nullable = true)\n",
      " |-- funny: long (nullable = true)\n",
      " |-- cool: long (nullable = true)\n",
      " |-- fans: long (nullable = true)\n",
      " |-- average_stars: double (nullable = true)\n",
      "\n"
     ]
    }
   ],
   "source": [
    "user_df = spark.read.parquet('user-small.parquet')\n",
    "user_df.printSchema()"
   ]
  },
  {
   "cell_type": "code",
   "execution_count": 6,
   "metadata": {
    "collapsed": true,
    "jupyter": {
     "outputs_hidden": true
    }
   },
   "outputs": [],
   "source": [
    "user_df.createOrReplaceTempView(\"users\")"
   ]
  },
  {
   "cell_type": "code",
   "execution_count": 7,
   "metadata": {
    "collapsed": false,
    "jupyter": {
     "outputs_hidden": false
    }
   },
   "outputs": [
    {
     "name": "stdout",
     "output_type": "stream",
     "text": [
      "root\n",
      " |-- review_id: string (nullable = true)\n",
      " |-- user_id: string (nullable = true)\n",
      " |-- business_id: string (nullable = true)\n",
      " |-- stars: long (nullable = true)\n",
      " |-- review_date: string (nullable = true)\n",
      " |-- review_text: string (nullable = true)\n",
      " |-- useful: long (nullable = true)\n",
      " |-- funny: long (nullable = true)\n",
      " |-- cool: long (nullable = true)\n",
      "\n"
     ]
    }
   ],
   "source": [
    "review_df = spark.read.parquet('review-small.parquet')\n",
    "review_df.printSchema()"
   ]
  },
  {
   "cell_type": "code",
   "execution_count": 8,
   "metadata": {
    "collapsed": true,
    "jupyter": {
     "outputs_hidden": true
    }
   },
   "outputs": [],
   "source": [
    "review_df.createOrReplaceTempView(\"reviews\")"
   ]
  },
  {
   "cell_type": "markdown",
   "metadata": {},
   "source": [
    "### Обработка текста и создание фич на его основе"
   ]
  },
  {
   "cell_type": "code",
   "execution_count": 9,
   "metadata": {
    "collapsed": false,
    "jupyter": {
     "outputs_hidden": false
    }
   },
   "outputs": [
    {
     "name": "stdout",
     "output_type": "stream",
     "text": [
      "+--------------------+--------------------+\n",
      "|         business_id|         review_text|\n",
      "+--------------------+--------------------+\n",
      "|mr4FiPaXTWlJ3qGzp...|I left Table 17 f...|\n",
      "|mr4FiPaXTWlJ3qGzp...|for the time bein...|\n",
      "|mr4FiPaXTWlJ3qGzp...|Love this place. ...|\n",
      "+--------------------+--------------------+\n",
      "only showing top 3 rows\n",
      "\n"
     ]
    }
   ],
   "source": [
    "reviews_text = spark.sql(\"SELECT business_id, review_text FROM reviews\")\n",
    "reviews_text.show(3)"
   ]
  },
  {
   "cell_type": "code",
   "execution_count": 10,
   "metadata": {
    "collapsed": false,
    "jupyter": {
     "outputs_hidden": false
    }
   },
   "outputs": [
    {
     "data": {
      "text/plain": [
       "6750"
      ]
     },
     "execution_count": 10,
     "metadata": {},
     "output_type": "execute_result"
    }
   ],
   "source": [
    "# соединяем отзывы и рестораны\n",
    "reviews_text_rdd = reviews_text.rdd\n",
    "reviews_by_business_rdd = reviews_text_rdd.map(tuple).reduceByKey(add)  \n",
    "reviews_by_business_df = spark.createDataFrame(reviews_by_business_rdd)\n",
    "reviews_by_business_df = reviews_by_business_df \\\n",
    "                            .withColumnRenamed('_1', 'business_id') \\\n",
    "                            .withColumnRenamed('_2', 'text')\n",
    "reviews_by_business_df.count()   "
   ]
  },
  {
   "cell_type": "code",
   "execution_count": null,
   "metadata": {
    "collapsed": true,
    "jupyter": {
     "outputs_hidden": true
    }
   },
   "outputs": [],
   "source": [
    "# pipeline генерации фичей\n",
    "regexTokenizer = RegexTokenizer(gaps = False, pattern = '\\w+', inputCol = 'text', outputCol = 'token')\n",
    "stopWordsRemover = StopWordsRemover(inputCol = 'token', outputCol = 'nostopwrd')\n",
    "countVectorizer = CountVectorizer(inputCol=\"nostopwrd\", outputCol=\"rawFeature\")\n",
    "iDF = IDF(inputCol=\"rawFeature\", outputCol=\"idf_vec\")\n",
    "word2Vec = Word2Vec(vectorSize = 100, minCount = 5, inputCol = 'nostopwrd', outputCol = 'word_vec', seed=123)\n",
    "vectorAssembler = VectorAssembler(inputCols=['idf_vec', 'word_vec'], outputCol='comb_vec')\n",
    "pipeline = Pipeline(stages=[regexTokenizer, stopWordsRemover, countVectorizer, iDF, word2Vec, vectorAssembler])\n",
    "\n",
    "# fit\n",
    "pipeline_mdl = pipeline.fit(reviews_by_business_df)\n",
    "\n",
    "#save\n",
    "pipeline_mdl.write().overwrite().save('pipe_txt')"
   ]
  },
  {
   "cell_type": "code",
   "execution_count": 12,
   "metadata": {
    "collapsed": false,
    "jupyter": {
     "outputs_hidden": false
    }
   },
   "outputs": [],
   "source": [
    "pipeline_mdl = PipelineModel.load( 'pipe_txt')"
   ]
  },
  {
   "cell_type": "code",
   "execution_count": 13,
   "metadata": {
    "collapsed": true,
    "jupyter": {
     "outputs_hidden": true
    }
   },
   "outputs": [],
   "source": [
    "# обработка данных для модели\n",
    "reviews_by_business_trf_df = pipeline_mdl.transform(reviews_by_business_df)\n"
   ]
  },
  {
   "cell_type": "code",
   "execution_count": 14,
   "metadata": {
    "collapsed": false,
    "jupyter": {
     "outputs_hidden": false
    }
   },
   "outputs": [
    {
     "name": "stdout",
     "output_type": "stream",
     "text": [
      "+--------------------+--------------------+--------------------+--------------------+--------------------+\n",
      "|                text|           nostopwrd|             idf_vec|            word_vec|            comb_vec|\n",
      "+--------------------+--------------------+--------------------+--------------------+--------------------+\n",
      "|Attention allergy...|[attention, aller...|(126299,[0,1,2,3,...|[0.01133526750371...|(126399,[0,1,2,3,...|\n",
      "|I don't understan...|[understand, prev...|(126299,[0,1,2,3,...|[-0.0166730810390...|(126399,[0,1,2,3,...|\n",
      "|Food here is alwa...|[food, always, fr...|(126299,[0,2,3,4,...|[-0.0013763984012...|(126399,[0,2,3,4,...|\n",
      "|i keep on coming ...|[keep, coming, ba...|(126299,[0,1,2,3,...|[0.04195703681602...|(126399,[0,1,2,3,...|\n",
      "|I love this place...|[love, place, pro...|(126299,[0,1,2,3,...|[0.03136265755356...|(126399,[0,1,2,3,...|\n",
      "|We were here last...|[last, night, rap...|(126299,[0,1,2,3,...|[0.05398540855765...|(126399,[0,1,2,3,...|\n",
      "|Kirei was part of...|[kirei, part, sus...|(126299,[0,1,2,3,...|[0.01341627198570...|(126399,[0,1,2,3,...|\n",
      "|Due to the more u...|[due, unique, ann...|(126299,[0,1,2,3,...|[-0.0060614878909...|(126399,[0,1,2,3,...|\n",
      "|Great bakery and ...|[great, bakery, d...|(126299,[0,1,2,3,...|[0.02780313674056...|(126399,[0,1,2,3,...|\n",
      "|The owners are ch...|[owners, charming...|(126299,[0,1,2,3,...|[0.02681611248017...|(126399,[0,1,2,3,...|\n",
      "+--------------------+--------------------+--------------------+--------------------+--------------------+\n",
      "only showing top 10 rows\n",
      "\n"
     ]
    }
   ],
   "source": [
    "# \n",
    "reviews_by_business_trf_df.select( 'text', 'nostopwrd', 'idf_vec', 'word_vec', 'comb_vec').show(10)"
   ]
  },
  {
   "cell_type": "code",
   "execution_count": 16,
   "metadata": {
    "collapsed": false,
    "jupyter": {
     "outputs_hidden": false
    }
   },
   "outputs": [
    {
     "name": "stdout",
     "output_type": "stream",
     "text": [
      "root\n",
      " |-- business_id: string (nullable = true)\n",
      " |-- text: string (nullable = true)\n",
      " |-- token: array (nullable = true)\n",
      " |    |-- element: string (containsNull = true)\n",
      " |-- nostopwrd: array (nullable = true)\n",
      " |    |-- element: string (containsNull = true)\n",
      " |-- rawFeature: vector (nullable = true)\n",
      " |-- idf_vec: vector (nullable = true)\n",
      " |-- word_vec: vector (nullable = true)\n",
      " |-- comb_vec: vector (nullable = true)\n",
      "\n"
     ]
    }
   ],
   "source": [
    "reviews_by_business_trf_df.printSchema()"
   ]
  },
  {
   "cell_type": "code",
   "execution_count": 17,
   "metadata": {
    "collapsed": true,
    "jupyter": {
     "outputs_hidden": true
    }
   },
   "outputs": [],
   "source": [
    "# функция схожести\n",
    "def CosineSim(vec1, vec2): \n",
    "    return np.dot(vec1, vec2) / np.sqrt(np.dot(vec1, vec1)) / np.sqrt(np.dot(vec2, vec2)) "
   ]
  },
  {
   "cell_type": "code",
   "execution_count": 18,
   "metadata": {
    "collapsed": false,
    "jupyter": {
     "outputs_hidden": false
    }
   },
   "outputs": [],
   "source": [
    "all_business_vecs = reviews_by_business_trf_df.select('business_id', 'word_vec').rdd.map(lambda x: (x[0], x[1])).collect()"
   ]
  },
  {
   "cell_type": "code",
   "execution_count": 19,
   "metadata": {
    "collapsed": false,
    "jupyter": {
     "outputs_hidden": false
    }
   },
   "outputs": [
    {
     "data": {
      "text/plain": [
       "('Dl2vgi5W_nbe-A97D0zgfA',\n",
       " DenseVector([-0.0167, 0.0002, -0.0424, -0.0282, -0.0148, -0.0422, 0.0008, -0.0571, -0.0222, 0.0302, -0.0607, 0.0654, -0.0822, -0.0371, 0.0366, 0.0218, 0.0188, -0.0654, -0.0116, -0.0427, 0.0087, 0.0133, 0.0079, 0.0058, 0.1021, -0.0085, 0.0447, -0.087, -0.003, -0.0083, -0.0345, 0.0596, -0.0254, 0.0326, 0.0526, 0.0563, 0.0442, 0.0128, -0.0115, -0.0216, 0.0598, -0.0289, -0.0175, 0.0052, 0.06, -0.0747, -0.0769, 0.0693, 0.0589, -0.017, 0.018, -0.0264, 0.0283, -0.0598, 0.0609, 0.0174, 0.0492, 0.0459, -0.0151, -0.0558, 0.0161, -0.1232, 0.0352, -0.0366, -0.0109, -0.0347, -0.0094, -0.0101, -0.024, -0.0322, -0.0297, 0.0323, 0.0171, 0.0436, 0.0587, -0.0266, 0.0826, -0.0328, 0.0251, -0.0253, -0.0636, -0.0724, -0.0517, 0.0041, 0.0043, 0.0803, -0.1038, -0.0452, 0.0507, -0.0056, -0.0278, 0.0256, 0.0247, 0.021, -0.1104, -0.017, 0.0096, -0.0659, -0.002, -0.0284]))"
      ]
     },
     "execution_count": 19,
     "metadata": {},
     "output_type": "execute_result"
    }
   ],
   "source": [
    "# 1 строка \n",
    "all_business_vecs[1]"
   ]
  },
  {
   "cell_type": "code",
   "execution_count": 23,
   "metadata": {
    "collapsed": true,
    "jupyter": {
     "outputs_hidden": true
    }
   },
   "outputs": [],
   "source": [
    "def getSimilarBusinesses(b_ids, sim_bus_limit=10):\n",
    "    \n",
    "    schema = StructType([   \n",
    "                            StructField(\"business_id\", StringType(), True)\n",
    "                            ,StructField(\"score\", IntegerType(), True)\n",
    "                            ,StructField(\"input_business_id\", StringType(), True)\n",
    "                        ])\n",
    "    \n",
    "    similar_businesses_df = spark.createDataFrame([], schema)\n",
    "    \n",
    "    for b_id in b_ids:\n",
    "        \n",
    "        input_vec = [(r[1]) for r in all_business_vecs if r[0] == b_id][0]\n",
    "        similar_business_rdd = sc.parallelize((i[0], float(CosineSim(input_vec, i[1]))) for i in all_business_vecs)\n",
    "\n",
    "        similar_business_df = spark.createDataFrame(similar_business_rdd) \\\n",
    "            .withColumnRenamed('_1', 'business_id') \\\n",
    "            .withColumnRenamed('_2', 'score') \\\n",
    "            .orderBy(\"score\", ascending = False)\n",
    "            \n",
    "        similar_business_df = similar_business_df.filter(col(\"business_id\") != b_id).limit(sim_bus_limit)\n",
    "        similar_business_df = similar_business_df.withColumn('input_business_id', lit(b_id))\n",
    "        \n",
    "        similar_businesses_df = similar_businesses_df \\\n",
    "                                    .union(similar_business_df)\n",
    "        \n",
    "    \n",
    "    return similar_businesses_df\n",
    "    "
   ]
  },
  {
   "cell_type": "code",
   "execution_count": 24,
   "metadata": {
    "collapsed": true,
    "jupyter": {
     "outputs_hidden": true
    }
   },
   "outputs": [],
   "source": [
    "def getBusinessDetails(in_bus):\n",
    "    \n",
    "    a = in_bus.alias(\"a\")\n",
    "    b = business_df.alias(\"b\")\n",
    "    \n",
    "    return a.join(b, col(\"a.business_id\") == col(\"b.business_id\"), 'inner') \\\n",
    "             .select([col('a.'+xx) for xx in a.columns] + [col('b.business_name'),col('b.categories'),\n",
    "                                                           col('b.stars'),col('b.review_count'),\n",
    "                                                           col('b.latitude'),col('b.longitude')])\n",
    "    "
   ]
  },
  {
   "cell_type": "code",
   "execution_count": 25,
   "metadata": {
    "collapsed": false,
    "jupyter": {
     "outputs_hidden": false
    }
   },
   "outputs": [],
   "source": [
    "def showInMap(df):\n",
    "    \n",
    "    mp = folium.Map(location=[43.70011, -79.4163], zoom_start=12)\n",
    "\n",
    "    for i, r in df.toPandas().iterrows():\n",
    "        folium.Marker(\n",
    "                    location =[r.latitude, r.longitude], \n",
    "                    popup = html.escape(r[\"business_name\"]) + '<br>' + 'Stars: ' + str(r.stars) + '<br>' + 'Reviews: ' + str(r.review_count),    \n",
    "                    icon = folium.Icon(color='green')).add_to(mp)\n",
    "    return mp"
   ]
  },
  {
   "cell_type": "code",
   "execution_count": 26,
   "metadata": {
    "collapsed": false,
    "jupyter": {
     "outputs_hidden": false
    }
   },
   "outputs": [
    {
     "name": "stdout",
     "output_type": "stream",
     "text": [
      "\n",
      "input restaurants details:\n",
      "+----------------------+----------------------+------------------------------------------------------------------------------+\n",
      "|business_id           |business_name         |categories                                                                    |\n",
      "+----------------------+----------------------+------------------------------------------------------------------------------+\n",
      "|RtUvSWO_UZ8V3Wpj0n077w|KINKA IZAKAYA ORIGINAL|[Pubs, Japanese, Restaurants, Bars, Nightlife, Tapas Bars, Tapas/Small Plates]|\n",
      "|Dl2vgi5W_nbe-A97D0zgfA|Tasty Hut             |[Restaurants, Chinese]                                                        |\n",
      "+----------------------+----------------------+------------------------------------------------------------------------------+\n",
      "\n",
      "Top 10 similar restaurants for each input restaurant are:\"\n"
     ]
    },
    {
     "data": {
      "text/html": [
       "<div>\n",
       "<table border=\"1\" class=\"dataframe\">\n",
       "  <thead>\n",
       "    <tr style=\"text-align: right;\">\n",
       "      <th></th>\n",
       "      <th>input_business_id</th>\n",
       "      <th>business_name</th>\n",
       "      <th>score</th>\n",
       "      <th>categories</th>\n",
       "    </tr>\n",
       "  </thead>\n",
       "  <tbody>\n",
       "    <tr>\n",
       "      <th>0</th>\n",
       "      <td>Dl2vgi5W_nbe-A97D0zgfA</td>\n",
       "      <td>New Regime Restaurant</td>\n",
       "      <td>0.941276</td>\n",
       "      <td>[Restaurants, Chinese]</td>\n",
       "    </tr>\n",
       "    <tr>\n",
       "      <th>1</th>\n",
       "      <td>Dl2vgi5W_nbe-A97D0zgfA</td>\n",
       "      <td>The Only Cuisine Corp</td>\n",
       "      <td>0.940966</td>\n",
       "      <td>[Restaurants, Chinese]</td>\n",
       "    </tr>\n",
       "    <tr>\n",
       "      <th>2</th>\n",
       "      <td>Dl2vgi5W_nbe-A97D0zgfA</td>\n",
       "      <td>L's Chinese Eatery</td>\n",
       "      <td>0.940475</td>\n",
       "      <td>[Chinese, Restaurants]</td>\n",
       "    </tr>\n",
       "    <tr>\n",
       "      <th>3</th>\n",
       "      <td>Dl2vgi5W_nbe-A97D0zgfA</td>\n",
       "      <td>Qin Tang Taste</td>\n",
       "      <td>0.939837</td>\n",
       "      <td>[Chinese, Restaurants]</td>\n",
       "    </tr>\n",
       "    <tr>\n",
       "      <th>4</th>\n",
       "      <td>Dl2vgi5W_nbe-A97D0zgfA</td>\n",
       "      <td>Congee Me</td>\n",
       "      <td>0.938798</td>\n",
       "      <td>[Chinese, Restaurants]</td>\n",
       "    </tr>\n",
       "    <tr>\n",
       "      <th>5</th>\n",
       "      <td>Dl2vgi5W_nbe-A97D0zgfA</td>\n",
       "      <td>King Lobster</td>\n",
       "      <td>0.930083</td>\n",
       "      <td>[Seafood, Restaurants, Chinese]</td>\n",
       "    </tr>\n",
       "    <tr>\n",
       "      <th>6</th>\n",
       "      <td>Dl2vgi5W_nbe-A97D0zgfA</td>\n",
       "      <td>Si Chuan House Cuisine</td>\n",
       "      <td>0.929784</td>\n",
       "      <td>[Restaurants, Chinese]</td>\n",
       "    </tr>\n",
       "    <tr>\n",
       "      <th>7</th>\n",
       "      <td>Dl2vgi5W_nbe-A97D0zgfA</td>\n",
       "      <td>Golden House</td>\n",
       "      <td>0.929729</td>\n",
       "      <td>[Restaurants, Chinese]</td>\n",
       "    </tr>\n",
       "    <tr>\n",
       "      <th>8</th>\n",
       "      <td>Dl2vgi5W_nbe-A97D0zgfA</td>\n",
       "      <td>Jackpot Chicken Rice</td>\n",
       "      <td>0.929478</td>\n",
       "      <td>[Restaurants, Chinese, Bars, Pan Asian, Singap...</td>\n",
       "    </tr>\n",
       "    <tr>\n",
       "      <th>9</th>\n",
       "      <td>Dl2vgi5W_nbe-A97D0zgfA</td>\n",
       "      <td>Verdant Garden Chinese Restaurant</td>\n",
       "      <td>0.929080</td>\n",
       "      <td>[Chinese, Restaurants]</td>\n",
       "    </tr>\n",
       "    <tr>\n",
       "      <th>10</th>\n",
       "      <td>RtUvSWO_UZ8V3Wpj0n077w</td>\n",
       "      <td>KINKA IZAKAYA BLOOR</td>\n",
       "      <td>0.993457</td>\n",
       "      <td>[Nightlife, Restaurants, Pubs, Japanese, Tapas...</td>\n",
       "    </tr>\n",
       "    <tr>\n",
       "      <th>11</th>\n",
       "      <td>RtUvSWO_UZ8V3Wpj0n077w</td>\n",
       "      <td>KINKA IZAKAYA NORTH YORK</td>\n",
       "      <td>0.979195</td>\n",
       "      <td>[Bars, Nightlife, Restaurants, Tapas/Small Pla...</td>\n",
       "    </tr>\n",
       "    <tr>\n",
       "      <th>12</th>\n",
       "      <td>RtUvSWO_UZ8V3Wpj0n077w</td>\n",
       "      <td>DonDon Izakaya</td>\n",
       "      <td>0.972752</td>\n",
       "      <td>[Restaurants, Japanese, Tapas/Small Plates, Ta...</td>\n",
       "    </tr>\n",
       "    <tr>\n",
       "      <th>13</th>\n",
       "      <td>RtUvSWO_UZ8V3Wpj0n077w</td>\n",
       "      <td>Guu Izakaya Toronto</td>\n",
       "      <td>0.967972</td>\n",
       "      <td>[Tapas Bars, Izakaya, Japanese, Restaurants]</td>\n",
       "    </tr>\n",
       "    <tr>\n",
       "      <th>14</th>\n",
       "      <td>RtUvSWO_UZ8V3Wpj0n077w</td>\n",
       "      <td>Teppan Kenta</td>\n",
       "      <td>0.962260</td>\n",
       "      <td>[Japanese, Restaurants, Food]</td>\n",
       "    </tr>\n",
       "    <tr>\n",
       "      <th>15</th>\n",
       "      <td>RtUvSWO_UZ8V3Wpj0n077w</td>\n",
       "      <td>Hapa Izakaya</td>\n",
       "      <td>0.945645</td>\n",
       "      <td>[Japanese, Restaurants]</td>\n",
       "    </tr>\n",
       "    <tr>\n",
       "      <th>16</th>\n",
       "      <td>RtUvSWO_UZ8V3Wpj0n077w</td>\n",
       "      <td>Nomé Izakaya</td>\n",
       "      <td>0.940213</td>\n",
       "      <td>[Bars, Nightlife, Restaurants, Lounges, Tapas ...</td>\n",
       "    </tr>\n",
       "    <tr>\n",
       "      <th>17</th>\n",
       "      <td>RtUvSWO_UZ8V3Wpj0n077w</td>\n",
       "      <td>Ki Modern Japanese + Bar</td>\n",
       "      <td>0.938575</td>\n",
       "      <td>[Sushi Bars, Restaurants, Japanese]</td>\n",
       "    </tr>\n",
       "    <tr>\n",
       "      <th>18</th>\n",
       "      <td>RtUvSWO_UZ8V3Wpj0n077w</td>\n",
       "      <td>Hanmoto</td>\n",
       "      <td>0.937537</td>\n",
       "      <td>[Korean, Asian Fusion, Restaurants, Japanese]</td>\n",
       "    </tr>\n",
       "    <tr>\n",
       "      <th>19</th>\n",
       "      <td>RtUvSWO_UZ8V3Wpj0n077w</td>\n",
       "      <td>Sake Bar Kushi</td>\n",
       "      <td>0.937176</td>\n",
       "      <td>[Sushi Bars, Japanese, Restaurants, Tapas Bars]</td>\n",
       "    </tr>\n",
       "  </tbody>\n",
       "</table>\n",
       "</div>"
      ],
      "text/plain": [
       "         input_business_id                      business_name     score  \\\n",
       "0   Dl2vgi5W_nbe-A97D0zgfA              New Regime Restaurant  0.941276   \n",
       "1   Dl2vgi5W_nbe-A97D0zgfA              The Only Cuisine Corp  0.940966   \n",
       "2   Dl2vgi5W_nbe-A97D0zgfA                 L's Chinese Eatery  0.940475   \n",
       "3   Dl2vgi5W_nbe-A97D0zgfA                     Qin Tang Taste  0.939837   \n",
       "4   Dl2vgi5W_nbe-A97D0zgfA                          Congee Me  0.938798   \n",
       "5   Dl2vgi5W_nbe-A97D0zgfA                       King Lobster  0.930083   \n",
       "6   Dl2vgi5W_nbe-A97D0zgfA             Si Chuan House Cuisine  0.929784   \n",
       "7   Dl2vgi5W_nbe-A97D0zgfA                       Golden House  0.929729   \n",
       "8   Dl2vgi5W_nbe-A97D0zgfA               Jackpot Chicken Rice  0.929478   \n",
       "9   Dl2vgi5W_nbe-A97D0zgfA  Verdant Garden Chinese Restaurant  0.929080   \n",
       "10  RtUvSWO_UZ8V3Wpj0n077w                KINKA IZAKAYA BLOOR  0.993457   \n",
       "11  RtUvSWO_UZ8V3Wpj0n077w           KINKA IZAKAYA NORTH YORK  0.979195   \n",
       "12  RtUvSWO_UZ8V3Wpj0n077w                     DonDon Izakaya  0.972752   \n",
       "13  RtUvSWO_UZ8V3Wpj0n077w                Guu Izakaya Toronto  0.967972   \n",
       "14  RtUvSWO_UZ8V3Wpj0n077w                       Teppan Kenta  0.962260   \n",
       "15  RtUvSWO_UZ8V3Wpj0n077w                       Hapa Izakaya  0.945645   \n",
       "16  RtUvSWO_UZ8V3Wpj0n077w                       Nomé Izakaya  0.940213   \n",
       "17  RtUvSWO_UZ8V3Wpj0n077w           Ki Modern Japanese + Bar  0.938575   \n",
       "18  RtUvSWO_UZ8V3Wpj0n077w                            Hanmoto  0.937537   \n",
       "19  RtUvSWO_UZ8V3Wpj0n077w                     Sake Bar Kushi  0.937176   \n",
       "\n",
       "                                           categories  \n",
       "0                              [Restaurants, Chinese]  \n",
       "1                              [Restaurants, Chinese]  \n",
       "2                              [Chinese, Restaurants]  \n",
       "3                              [Chinese, Restaurants]  \n",
       "4                              [Chinese, Restaurants]  \n",
       "5                     [Seafood, Restaurants, Chinese]  \n",
       "6                              [Restaurants, Chinese]  \n",
       "7                              [Restaurants, Chinese]  \n",
       "8   [Restaurants, Chinese, Bars, Pan Asian, Singap...  \n",
       "9                              [Chinese, Restaurants]  \n",
       "10  [Nightlife, Restaurants, Pubs, Japanese, Tapas...  \n",
       "11  [Bars, Nightlife, Restaurants, Tapas/Small Pla...  \n",
       "12  [Restaurants, Japanese, Tapas/Small Plates, Ta...  \n",
       "13       [Tapas Bars, Izakaya, Japanese, Restaurants]  \n",
       "14                      [Japanese, Restaurants, Food]  \n",
       "15                            [Japanese, Restaurants]  \n",
       "16  [Bars, Nightlife, Restaurants, Lounges, Tapas ...  \n",
       "17                [Sushi Bars, Restaurants, Japanese]  \n",
       "18      [Korean, Asian Fusion, Restaurants, Japanese]  \n",
       "19    [Sushi Bars, Japanese, Restaurants, Tapas Bars]  "
      ]
     },
     "execution_count": 26,
     "metadata": {},
     "output_type": "execute_result"
    }
   ],
   "source": [
    "# тестирование по 2 ID\n",
    "bids = ['Dl2vgi5W_nbe-A97D0zgfA', 'RtUvSWO_UZ8V3Wpj0n077w']\n",
    "\n",
    "print('\\ninput restaurants details:')\n",
    "business_df.select('business_id','business_name', 'categories') \\\n",
    "    .filter(business_df.business_id.isin(bids) == True).show(truncate=False)\n",
    "    \n",
    "# получаем результат\n",
    "sims = getBusinessDetails(getSimilarBusinesses(bids))\n",
    "\n",
    "sims.select('input_business_id','business_name', 'score','categories').toPandas()"
   ]
  },
  {
   "cell_type": "code",
   "execution_count": 27,
   "metadata": {
    "collapsed": true,
    "jupyter": {
     "outputs_hidden": true
    }
   },
   "outputs": [],
   "source": [
    "def getContentRecoms(u_id, sim_bus_limit=10):\n",
    "    \n",
    "    # получаем рестораны по рекомендациям, которые имеют рейтинг (3+)\n",
    "    query = \"\"\"\n",
    "    SELECT distinct business_id FROM reviews  \n",
    "    where stars >= 3.0 \n",
    "    and user_id = \"{}\"\n",
    "    \"\"\".format(u_id)\n",
    "\n",
    "    usr_rev_bus = sqlContext.sql(query)\n",
    "    \n",
    "    # топ 5\n",
    "    usr_rev_bus = usr_rev_bus.sample(False, 0.5).limit(5)\n",
    "\n",
    "    usr_rev_bus_det = getBusinessDetails(usr_rev_bus)\n",
    "    \n",
    "    # \n",
    "    print('\\nBusinesses previously reviewed by user:')\n",
    "    usr_rev_bus_det.select(['business_id', 'business_name', 'categories']).show(truncate = False)\n",
    "\n",
    "    bus_list = [i.business_id for i in usr_rev_bus.collect()]\n",
    "\n",
    "    # схожесть\n",
    "    sim_bus_df = getSimilarBusinesses(bus_list, sim_bus_limit)\n",
    "\n",
    "    # фильтрация\n",
    "    s = sim_bus_df.alias(\"s\")\n",
    "    r = usr_rev_bus.alias(\"r\")\n",
    "    j = s.join(r, col(\"s.business_id\") == col(\"r.business_id\"), 'left_outer') \\\n",
    "         .where(col(\"r.business_id\").isNull()) \\\n",
    "         .select([col('s.business_id'),col('s.score')])\n",
    "\n",
    "    a = j.orderBy(\"score\", ascending = False).limit(sim_bus_limit)\n",
    "\n",
    "    return getBusinessDetails(a)\n",
    "\n",
    "     "
   ]
  },
  {
   "cell_type": "code",
   "execution_count": 28,
   "metadata": {
    "collapsed": false,
    "jupyter": {
     "outputs_hidden": false
    }
   },
   "outputs": [
    {
     "name": "stdout",
     "output_type": "stream",
     "text": [
      "\n",
      "Businesses previously reviewed by user:\n",
      "+----------------------+------------------+-------------------------------------------------------------------------------+\n",
      "|business_id           |business_name     |categories                                                                     |\n",
      "+----------------------+------------------+-------------------------------------------------------------------------------+\n",
      "|9jYnZymuaW-XpMIS75YxgQ|The Beaver        |[Canadian (New), Nightlife, Cafes, Bars, Restaurants, Gay Bars, American (New)]|\n",
      "|_HqZL3gK98-Q4ObAoyM1aw|Rose and Sons Swan|[Breakfast & Brunch, American (Traditional), Restaurants]                      |\n",
      "|wSojc-y-d7MWiGWdy8deCg|Barque Smokehouse |[Barbeque, Chicken Wings, Food, Restaurants, Smokehouse]                       |\n",
      "|aAYl1-tsvP9Kzs7YESi8Rg|Electric Mud BBQ  |[Restaurants, Sandwiches, Food, Barbeque, Desserts]                            |\n",
      "|oc8204pyvf9ixdA4JzzaLA|The Good Son      |[Canadian (New), Restaurants]                                                  |\n",
      "+----------------------+------------------+-------------------------------------------------------------------------------+\n",
      "\n",
      "Businesses recommended to user based on his previously reviewd businesses:\n"
     ]
    },
    {
     "data": {
      "text/html": [
       "<div>\n",
       "<table border=\"1\" class=\"dataframe\">\n",
       "  <thead>\n",
       "    <tr style=\"text-align: right;\">\n",
       "      <th></th>\n",
       "      <th>business_id</th>\n",
       "      <th>score</th>\n",
       "      <th>business_name</th>\n",
       "      <th>categories</th>\n",
       "      <th>stars</th>\n",
       "      <th>review_count</th>\n",
       "      <th>latitude</th>\n",
       "      <th>longitude</th>\n",
       "    </tr>\n",
       "  </thead>\n",
       "  <tbody>\n",
       "    <tr>\n",
       "      <th>0</th>\n",
       "      <td>NrJSy3dgcXErFtOKGREmnw</td>\n",
       "      <td>0.980849</td>\n",
       "      <td>Aft Kitchen &amp; Bar</td>\n",
       "      <td>[American (Traditional), Bars, Barbeque, Ameri...</td>\n",
       "      <td>4.0</td>\n",
       "      <td>130</td>\n",
       "      <td>43.658654</td>\n",
       "      <td>-79.350779</td>\n",
       "    </tr>\n",
       "    <tr>\n",
       "      <th>1</th>\n",
       "      <td>RyDiwx4xD3Lx8sWHx1aFlQ</td>\n",
       "      <td>0.978504</td>\n",
       "      <td>Smoque N' Bones</td>\n",
       "      <td>[Barbeque, American (Traditional), Comfort Foo...</td>\n",
       "      <td>4.0</td>\n",
       "      <td>273</td>\n",
       "      <td>43.645676</td>\n",
       "      <td>-79.410701</td>\n",
       "    </tr>\n",
       "    <tr>\n",
       "      <th>2</th>\n",
       "      <td>Fl2yDmC0B0TTVsNixxVXfA</td>\n",
       "      <td>0.975142</td>\n",
       "      <td>The Emerson</td>\n",
       "      <td>[Canadian (New), Restaurants]</td>\n",
       "      <td>4.0</td>\n",
       "      <td>104</td>\n",
       "      <td>43.658353</td>\n",
       "      <td>-79.442003</td>\n",
       "    </tr>\n",
       "    <tr>\n",
       "      <th>3</th>\n",
       "      <td>onCx6Ye5IwD07emyj-VLrg</td>\n",
       "      <td>0.973462</td>\n",
       "      <td>Hogtown Smoke</td>\n",
       "      <td>[Food Trucks, Food, Barbeque, Restaurants, Sou...</td>\n",
       "      <td>3.5</td>\n",
       "      <td>132</td>\n",
       "      <td>43.669549</td>\n",
       "      <td>-79.302143</td>\n",
       "    </tr>\n",
       "    <tr>\n",
       "      <th>4</th>\n",
       "      <td>oQylTvXwGIkKFdCjmafKVg</td>\n",
       "      <td>0.973422</td>\n",
       "      <td>Fire on the East Side</td>\n",
       "      <td>[Southern, Restaurants, Breakfast &amp; Brunch, Am...</td>\n",
       "      <td>3.5</td>\n",
       "      <td>119</td>\n",
       "      <td>43.666765</td>\n",
       "      <td>-79.384836</td>\n",
       "    </tr>\n",
       "    <tr>\n",
       "      <th>5</th>\n",
       "      <td>WnUttoJffplgWaQGR2J2Xw</td>\n",
       "      <td>0.973141</td>\n",
       "      <td>The Saint Tavern</td>\n",
       "      <td>[Restaurants, Bars, Nightlife, Gastropubs]</td>\n",
       "      <td>3.5</td>\n",
       "      <td>121</td>\n",
       "      <td>43.649062</td>\n",
       "      <td>-79.420478</td>\n",
       "    </tr>\n",
       "    <tr>\n",
       "      <th>6</th>\n",
       "      <td>ShUh_MMkaVp_KXCtNjPvXA</td>\n",
       "      <td>0.973117</td>\n",
       "      <td>Universal Grill</td>\n",
       "      <td>[American (Traditional), Canadian (New), Break...</td>\n",
       "      <td>3.5</td>\n",
       "      <td>45</td>\n",
       "      <td>43.670521</td>\n",
       "      <td>-79.426440</td>\n",
       "    </tr>\n",
       "    <tr>\n",
       "      <th>7</th>\n",
       "      <td>cFyXbPxTAwKRlIqe-XLMcw</td>\n",
       "      <td>0.972669</td>\n",
       "      <td>STACK</td>\n",
       "      <td>[Restaurants, Barbeque]</td>\n",
       "      <td>4.0</td>\n",
       "      <td>206</td>\n",
       "      <td>43.729286</td>\n",
       "      <td>-79.403090</td>\n",
       "    </tr>\n",
       "    <tr>\n",
       "      <th>8</th>\n",
       "      <td>Cew9RRnuldbqaL3MW6p1wg</td>\n",
       "      <td>0.970811</td>\n",
       "      <td>Greenwood Smokehouse BBQ</td>\n",
       "      <td>[Southern, Soul Food, Barbeque, Restaurants]</td>\n",
       "      <td>3.5</td>\n",
       "      <td>120</td>\n",
       "      <td>43.678998</td>\n",
       "      <td>-79.344287</td>\n",
       "    </tr>\n",
       "    <tr>\n",
       "      <th>9</th>\n",
       "      <td>8cusyHsqMhNAsrNSMpzB1A</td>\n",
       "      <td>0.969611</td>\n",
       "      <td>The 420 Smokehouse</td>\n",
       "      <td>[Food, Restaurants, American (Traditional), Sm...</td>\n",
       "      <td>4.0</td>\n",
       "      <td>53</td>\n",
       "      <td>43.662659</td>\n",
       "      <td>-79.367316</td>\n",
       "    </tr>\n",
       "  </tbody>\n",
       "</table>\n",
       "</div>"
      ],
      "text/plain": [
       "              business_id     score             business_name  \\\n",
       "0  NrJSy3dgcXErFtOKGREmnw  0.980849         Aft Kitchen & Bar   \n",
       "1  RyDiwx4xD3Lx8sWHx1aFlQ  0.978504           Smoque N' Bones   \n",
       "2  Fl2yDmC0B0TTVsNixxVXfA  0.975142               The Emerson   \n",
       "3  onCx6Ye5IwD07emyj-VLrg  0.973462             Hogtown Smoke   \n",
       "4  oQylTvXwGIkKFdCjmafKVg  0.973422     Fire on the East Side   \n",
       "5  WnUttoJffplgWaQGR2J2Xw  0.973141          The Saint Tavern   \n",
       "6  ShUh_MMkaVp_KXCtNjPvXA  0.973117           Universal Grill   \n",
       "7  cFyXbPxTAwKRlIqe-XLMcw  0.972669                     STACK   \n",
       "8  Cew9RRnuldbqaL3MW6p1wg  0.970811  Greenwood Smokehouse BBQ   \n",
       "9  8cusyHsqMhNAsrNSMpzB1A  0.969611        The 420 Smokehouse   \n",
       "\n",
       "                                          categories  stars  review_count  \\\n",
       "0  [American (Traditional), Bars, Barbeque, Ameri...    4.0           130   \n",
       "1  [Barbeque, American (Traditional), Comfort Foo...    4.0           273   \n",
       "2                      [Canadian (New), Restaurants]    4.0           104   \n",
       "3  [Food Trucks, Food, Barbeque, Restaurants, Sou...    3.5           132   \n",
       "4  [Southern, Restaurants, Breakfast & Brunch, Am...    3.5           119   \n",
       "5         [Restaurants, Bars, Nightlife, Gastropubs]    3.5           121   \n",
       "6  [American (Traditional), Canadian (New), Break...    3.5            45   \n",
       "7                            [Restaurants, Barbeque]    4.0           206   \n",
       "8       [Southern, Soul Food, Barbeque, Restaurants]    3.5           120   \n",
       "9  [Food, Restaurants, American (Traditional), Sm...    4.0            53   \n",
       "\n",
       "    latitude  longitude  \n",
       "0  43.658654 -79.350779  \n",
       "1  43.645676 -79.410701  \n",
       "2  43.658353 -79.442003  \n",
       "3  43.669549 -79.302143  \n",
       "4  43.666765 -79.384836  \n",
       "5  43.649062 -79.420478  \n",
       "6  43.670521 -79.426440  \n",
       "7  43.729286 -79.403090  \n",
       "8  43.678998 -79.344287  \n",
       "9  43.662659 -79.367316  "
      ]
     },
     "execution_count": 28,
     "metadata": {},
     "output_type": "execute_result"
    }
   ],
   "source": [
    "# тест на пользователе\n",
    "\n",
    "u_id = 'Wc5L6iuvSNF5WGBlqIO8nw'\n",
    "\n",
    "content_recom_df = getContentRecoms(u_id)\n",
    "\n",
    "content_recom_df.toPandas()"
   ]
  },
  {
   "cell_type": "code",
   "execution_count": 29,
   "metadata": {
    "collapsed": false,
    "jupyter": {
     "outputs_hidden": false
    }
   },
   "outputs": [
    {
     "data": {
      "text/html": [
       "<div style=\"width:100%;\"><div style=\"position:relative;width:100%;height:0;padding-bottom:60%;\"><iframe src=\"data:text/html;charset=utf-8;base64,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\" style=\"position:absolute;width:100%;height:100%;left:0;top:0;border:none !important;\" allowfullscreen webkitallowfullscreen mozallowfullscreen></iframe></div></div>"
      ],
      "text/plain": [
       "<folium.folium.Map at 0x7fd69d4b7ac8>"
      ]
     },
     "execution_count": 29,
     "metadata": {},
     "output_type": "execute_result"
    }
   ],
   "source": [
    "showInMap(content_recom_df)"
   ]
  },
  {
   "cell_type": "code",
   "execution_count": 30,
   "metadata": {
    "collapsed": true,
    "jupyter": {
     "outputs_hidden": true
    }
   },
   "outputs": [],
   "source": [
    "def getKeyWordsRecoms(key_words, sim_bus_limit):\n",
    "    \n",
    "    print('\\nBusinesses similar to key words: \"' + key_words + '\"')\n",
    "    \n",
    "    input_words_df = sc.parallelize([(0, key_words)]).toDF(['business_id', 'text'])\n",
    "    \n",
    "    # transform the the key words to vectors\n",
    "    input_words_df = pipeline_mdl.transform(input_words_df)\n",
    "    \n",
    "    # choose word2vec vectors\n",
    "    input_key_words_vec = input_words_df.select('word_vec').collect()[0][0]\n",
    "    \n",
    "    # get similarity\n",
    "    sim_bus_byword_rdd = sc.parallelize((i[0], float(CosineSim(input_key_words_vec, i[1]))) for i in all_business_vecs)\n",
    "\n",
    "    sim_bus_byword_df = spark.createDataFrame(sim_bus_byword_rdd) \\\n",
    "         .withColumnRenamed('_1', 'business_id') \\\n",
    "         .withColumnRenamed('_2', 'score') \\\n",
    "         .orderBy(\"score\", ascending = False)\n",
    "    \n",
    "    # return top 10 similar businesses\n",
    "    a = sim_bus_byword_df.limit(sim_bus_limit)\n",
    "    return getBusinessDetails(a)\n"
   ]
  },
  {
   "cell_type": "code",
   "execution_count": 31,
   "metadata": {
    "collapsed": false,
    "jupyter": {
     "outputs_hidden": false
    }
   },
   "outputs": [
    {
     "name": "stdout",
     "output_type": "stream",
     "text": [
      "\n",
      "Businesses similar to key words: \"chicken cheese burger\"\n"
     ]
    },
    {
     "data": {
      "text/html": [
       "<div>\n",
       "<table border=\"1\" class=\"dataframe\">\n",
       "  <thead>\n",
       "    <tr style=\"text-align: right;\">\n",
       "      <th></th>\n",
       "      <th>business_id</th>\n",
       "      <th>score</th>\n",
       "      <th>business_name</th>\n",
       "      <th>categories</th>\n",
       "      <th>stars</th>\n",
       "      <th>review_count</th>\n",
       "      <th>latitude</th>\n",
       "      <th>longitude</th>\n",
       "    </tr>\n",
       "  </thead>\n",
       "  <tbody>\n",
       "    <tr>\n",
       "      <th>0</th>\n",
       "      <td>37joQpD9m5AIcrW1c8OBnQ</td>\n",
       "      <td>0.718460</td>\n",
       "      <td>Urban Smoke Fusion BBQ Food Truck</td>\n",
       "      <td>[Desserts, Barbeque, Food, Restaurants, Food T...</td>\n",
       "      <td>4.0</td>\n",
       "      <td>8</td>\n",
       "      <td>43.718711</td>\n",
       "      <td>-79.470037</td>\n",
       "    </tr>\n",
       "    <tr>\n",
       "      <th>1</th>\n",
       "      <td>3Cu-af4en3uWCrAkkqfiHQ</td>\n",
       "      <td>0.697351</td>\n",
       "      <td>Epic Burgers and Waffles</td>\n",
       "      <td>[Burgers, Food, Restaurants]</td>\n",
       "      <td>2.5</td>\n",
       "      <td>5</td>\n",
       "      <td>43.632351</td>\n",
       "      <td>-79.421280</td>\n",
       "    </tr>\n",
       "    <tr>\n",
       "      <th>2</th>\n",
       "      <td>nP87zXxeS-8got7IBvoAuA</td>\n",
       "      <td>0.662935</td>\n",
       "      <td>McCoy Burger Company</td>\n",
       "      <td>[Local Flavor, Sandwiches, Restaurants, Poutin...</td>\n",
       "      <td>4.0</td>\n",
       "      <td>33</td>\n",
       "      <td>43.731511</td>\n",
       "      <td>-79.404081</td>\n",
       "    </tr>\n",
       "    <tr>\n",
       "      <th>3</th>\n",
       "      <td>DiCMYxT69I22-1nfsvYAJQ</td>\n",
       "      <td>0.662169</td>\n",
       "      <td>Gourmet Burger Co</td>\n",
       "      <td>[Burgers, Restaurants]</td>\n",
       "      <td>3.5</td>\n",
       "      <td>37</td>\n",
       "      <td>43.664683</td>\n",
       "      <td>-79.368279</td>\n",
       "    </tr>\n",
       "    <tr>\n",
       "      <th>4</th>\n",
       "      <td>ky9RbwLtChekSrqcYR39kw</td>\n",
       "      <td>0.652767</td>\n",
       "      <td>Big Smoke Burger</td>\n",
       "      <td>[Burgers, Poutineries, Restaurants]</td>\n",
       "      <td>3.0</td>\n",
       "      <td>6</td>\n",
       "      <td>43.611289</td>\n",
       "      <td>-79.556867</td>\n",
       "    </tr>\n",
       "    <tr>\n",
       "      <th>5</th>\n",
       "      <td>ZzF5098L4xg-0COjng2LVA</td>\n",
       "      <td>0.648873</td>\n",
       "      <td>Burgatory</td>\n",
       "      <td>[Pubs, Burgers, Food Trucks, Nightlife, Bars, ...</td>\n",
       "      <td>3.0</td>\n",
       "      <td>9</td>\n",
       "      <td>43.655055</td>\n",
       "      <td>-79.418563</td>\n",
       "    </tr>\n",
       "    <tr>\n",
       "      <th>6</th>\n",
       "      <td>UN0UwUh7jaeX6Jg3lZImCg</td>\n",
       "      <td>0.644995</td>\n",
       "      <td>Holy Chuck</td>\n",
       "      <td>[Food, Restaurants, Desserts, Poutineries, Bur...</td>\n",
       "      <td>3.0</td>\n",
       "      <td>43</td>\n",
       "      <td>43.665211</td>\n",
       "      <td>-79.384925</td>\n",
       "    </tr>\n",
       "    <tr>\n",
       "      <th>7</th>\n",
       "      <td>ycAW6Q5quaCSDX5zwQ3tPg</td>\n",
       "      <td>0.640920</td>\n",
       "      <td>New York Fries</td>\n",
       "      <td>[Canadian (New), Specialty Food, Food, Restaur...</td>\n",
       "      <td>3.5</td>\n",
       "      <td>8</td>\n",
       "      <td>43.776875</td>\n",
       "      <td>-79.256655</td>\n",
       "    </tr>\n",
       "    <tr>\n",
       "      <th>8</th>\n",
       "      <td>PkeaeQS8aJTeS8PS_Hl_-g</td>\n",
       "      <td>0.635419</td>\n",
       "      <td>Steak and Cheese Factory</td>\n",
       "      <td>[Sandwiches, Cheesesteaks, Restaurants]</td>\n",
       "      <td>3.0</td>\n",
       "      <td>3</td>\n",
       "      <td>43.708213</td>\n",
       "      <td>-79.392367</td>\n",
       "    </tr>\n",
       "    <tr>\n",
       "      <th>9</th>\n",
       "      <td>67Pa_CtXthgJzXfY8JzLDQ</td>\n",
       "      <td>0.635081</td>\n",
       "      <td>Holy Chuck</td>\n",
       "      <td>[Burgers, Restaurants]</td>\n",
       "      <td>3.5</td>\n",
       "      <td>263</td>\n",
       "      <td>43.687527</td>\n",
       "      <td>-79.394060</td>\n",
       "    </tr>\n",
       "  </tbody>\n",
       "</table>\n",
       "</div>"
      ],
      "text/plain": [
       "              business_id     score                      business_name  \\\n",
       "0  37joQpD9m5AIcrW1c8OBnQ  0.718460  Urban Smoke Fusion BBQ Food Truck   \n",
       "1  3Cu-af4en3uWCrAkkqfiHQ  0.697351           Epic Burgers and Waffles   \n",
       "2  nP87zXxeS-8got7IBvoAuA  0.662935               McCoy Burger Company   \n",
       "3  DiCMYxT69I22-1nfsvYAJQ  0.662169                  Gourmet Burger Co   \n",
       "4  ky9RbwLtChekSrqcYR39kw  0.652767                   Big Smoke Burger   \n",
       "5  ZzF5098L4xg-0COjng2LVA  0.648873                          Burgatory   \n",
       "6  UN0UwUh7jaeX6Jg3lZImCg  0.644995                         Holy Chuck   \n",
       "7  ycAW6Q5quaCSDX5zwQ3tPg  0.640920                     New York Fries   \n",
       "8  PkeaeQS8aJTeS8PS_Hl_-g  0.635419           Steak and Cheese Factory   \n",
       "9  67Pa_CtXthgJzXfY8JzLDQ  0.635081                         Holy Chuck   \n",
       "\n",
       "                                          categories  stars  review_count  \\\n",
       "0  [Desserts, Barbeque, Food, Restaurants, Food T...    4.0             8   \n",
       "1                       [Burgers, Food, Restaurants]    2.5             5   \n",
       "2  [Local Flavor, Sandwiches, Restaurants, Poutin...    4.0            33   \n",
       "3                             [Burgers, Restaurants]    3.5            37   \n",
       "4                [Burgers, Poutineries, Restaurants]    3.0             6   \n",
       "5  [Pubs, Burgers, Food Trucks, Nightlife, Bars, ...    3.0             9   \n",
       "6  [Food, Restaurants, Desserts, Poutineries, Bur...    3.0            43   \n",
       "7  [Canadian (New), Specialty Food, Food, Restaur...    3.5             8   \n",
       "8            [Sandwiches, Cheesesteaks, Restaurants]    3.0             3   \n",
       "9                             [Burgers, Restaurants]    3.5           263   \n",
       "\n",
       "    latitude  longitude  \n",
       "0  43.718711 -79.470037  \n",
       "1  43.632351 -79.421280  \n",
       "2  43.731511 -79.404081  \n",
       "3  43.664683 -79.368279  \n",
       "4  43.611289 -79.556867  \n",
       "5  43.655055 -79.418563  \n",
       "6  43.665211 -79.384925  \n",
       "7  43.776875 -79.256655  \n",
       "8  43.708213 -79.392367  \n",
       "9  43.687527 -79.394060  "
      ]
     },
     "execution_count": 31,
     "metadata": {},
     "output_type": "execute_result"
    }
   ],
   "source": [
    "# test key word similarity to review text\n",
    "\n",
    "key_words = 'chicken cheese burger'\n",
    "\n",
    "keywords_recom_df = getKeyWordsRecoms(key_words, 10)\n",
    "keywords_recom_df.toPandas()"
   ]
  },
  {
   "cell_type": "code",
   "execution_count": 31,
   "metadata": {
    "collapsed": false,
    "jupyter": {
     "outputs_hidden": false
    }
   },
   "outputs": [
    {
     "data": {
      "text/html": [
       "<div style=\"width:100%;\"><div style=\"position:relative;width:100%;height:0;padding-bottom:60%;\"><iframe src=\"data:text/html;charset=utf-8;base64,PCFET0NUWVBFIGh0bWw+CjxoZWFkPiAgICAKICAgIDxtZXRhIGh0dHAtZXF1aXY9ImNvbnRlbnQtdHlwZSIgY29udGVudD0idGV4dC9odG1sOyBjaGFyc2V0PVVURi04IiAvPgogICAgPHNjcmlwdD5MX1BSRUZFUl9DQU5WQVMgPSBmYWxzZTsgTF9OT19UT1VDSCA9IGZhbHNlOyBMX0RJU0FCTEVfM0QgPSBmYWxzZTs8L3NjcmlwdD4KICAgIDxzY3JpcHQgc3JjPSJodHRwczovL2Nkbi5qc2RlbGl2ci5uZXQvbnBtL2xlYWZsZXRAMS4yLjAvZGlzdC9sZWFmbGV0LmpzIj48L3NjcmlwdD4KICAgIDxzY3JpcHQgc3JjPSJodHRwczovL2FqYXguZ29vZ2xlYXBpcy5jb20vYWpheC9saWJzL2pxdWVyeS8xLjExLjEvanF1ZXJ5Lm1pbi5qcyI+PC9zY3JpcHQ+CiAgICA8c2NyaXB0IHNyYz0iaHR0cHM6Ly9tYXhjZG4uYm9vdHN0cmFwY2RuLmNvbS9ib290c3RyYXAvMy4yLjAvanMvYm9vdHN0cmFwLm1pbi5qcyI+PC9zY3JpcHQ+CiAgICA8c2NyaXB0IHNyYz0iaHR0cHM6Ly9jZG5qcy5jbG91ZGZsYXJlLmNvbS9hamF4L2xpYnMvTGVhZmxldC5hd2Vzb21lLW1hcmtlcnMvMi4wLjIvbGVhZmxldC5hd2Vzb21lLW1hcmtlcnMuanMiPjwvc2NyaXB0PgogICAgPGxpbmsgcmVsPSJzdHlsZXNoZWV0IiBocmVmPSJodHRwczovL2Nkbi5qc2RlbGl2ci5uZXQvbnBtL2xlYWZsZXRAMS4yLjAvZGlzdC9sZWFmbGV0LmNzcyIgLz4KICAgIDxsaW5rIHJlbD0ic3R5bGVzaGVldCIgaHJlZj0iaHR0cHM6Ly9tYXhjZG4uYm9vdHN0cmFwY2RuLmNvbS9ib290c3RyYXAvMy4yLjAvY3NzL2Jvb3RzdHJhcC5taW4uY3NzIiAvPgogICAgPGxpbmsgcmVsPSJzdHlsZXNoZWV0IiBocmVmPSJodHRwczovL21heGNkbi5ib290c3RyYXBjZG4uY29tL2Jvb3RzdHJhcC8zLjIuMC9jc3MvYm9vdHN0cmFwLXRoZW1lLm1pbi5jc3MiIC8+CiAgICA8bGluayByZWw9InN0eWxlc2hlZXQiIGhyZWY9Imh0dHBzOi8vbWF4Y2RuLmJvb3RzdHJhcGNkbi5jb20vZm9udC1hd2Vzb21lLzQuNi4zL2Nzcy9mb250LWF3ZXNvbWUubWluLmNzcyIgLz4KICAgIDxsaW5rIHJlbD0ic3R5bGVzaGVldCIgaHJlZj0iaHR0cHM6Ly9jZG5qcy5jbG91ZGZsYXJlLmNvbS9hamF4L2xpYnMvTGVhZmxldC5hd2Vzb21lLW1hcmtlcnMvMi4wLjIvbGVhZmxldC5hd2Vzb21lLW1hcmtlcnMuY3NzIiAvPgogICAgPGxpbmsgcmVsPSJzdHlsZXNoZWV0IiBocmVmPSJodHRwczovL3Jhd2dpdC5jb20vcHl0aG9uLXZpc3VhbGl6YXRpb24vZm9saXVtL21hc3Rlci9mb2xpdW0vdGVtcGxhdGVzL2xlYWZsZXQuYXdlc29tZS5yb3RhdGUuY3NzIiAvPgogICAgPHN0eWxlPmh0bWwsIGJvZHkge3dpZHRoOiAxMDAlO2hlaWdodDogMTAwJTttYXJnaW46IDA7cGFkZGluZzogMDt9PC9zdHlsZT4KICAgIDxzdHlsZT4jbWFwIHtwb3NpdGlvbjphYnNvbHV0ZTt0b3A6MDtib3R0b206MDtyaWdodDowO2xlZnQ6MDt9PC9zdHlsZT4KICAgIAogICAgICAgICAgICA8c3R5bGU+ICNtYXBfMTM2YjZlYjgxNGUzNDk4M2JmZmYxNWI0NmYyNmUwOWUgewogICAgICAgICAgICAgICAgcG9zaXRpb24gOiByZWxhdGl2ZTsKICAgICAgICAgICAgICAgIHdpZHRoIDogMTAwLjAlOwogICAgICAgICAgICAgICAgaGVpZ2h0OiAxMDAuMCU7CiAgICAgICAgICAgICAgICBsZWZ0OiAwLjAlOwogICAgICAgICAgICAgICAgdG9wOiAwLjAlOwogICAgICAgICAgICAgICAgfQogICAgICAgICAgICA8L3N0eWxlPgogICAgICAgIAo8L2hlYWQ+Cjxib2R5PiAgICAKICAgIAogICAgICAgICAgICA8ZGl2IGNsYXNzPSJmb2xpdW0tbWFwIiBpZD0ibWFwXzEzNmI2ZWI4MTRlMzQ5ODNiZmZmMTViNDZmMjZlMDllIiA+PC9kaXY+CiAgICAgICAgCjwvYm9keT4KPHNjcmlwdD4gICAgCiAgICAKCiAgICAgICAgICAgIAogICAgICAgICAgICAgICAgdmFyIGJvdW5kcyA9IG51bGw7CiAgICAgICAgICAgIAoKICAgICAgICAgICAgdmFyIG1hcF8xMzZiNmViODE0ZTM0OTgzYmZmZjE1YjQ2ZjI2ZTA5ZSA9IEwubWFwKAogICAgICAgICAgICAgICAgICAgICAgICAgICAgICAgICAgJ21hcF8xMzZiNmViODE0ZTM0OTgzYmZmZjE1YjQ2ZjI2ZTA5ZScsCiAgICAgICAgICAgICAgICAgICAgICAgICAgICAgICAgICB7Y2VudGVyOiBbNDMuNzAwMTEsLTc5LjQxNjNdLAogICAgICAgICAgICAgICAgICAgICAgICAgICAgICAgICAgem9vbTogMTIsCiAgICAgICAgICAgICAgICAgICAgICAgICAgICAgICAgICBtYXhCb3VuZHM6IGJvdW5kcywKICAgICAgICAgICAgICAgICAgICAgICAgICAgICAgICAgIGxheWVyczogW10sCiAgICAgICAgICAgICAgICAgICAgICAgICAgICAgICAgICB3b3JsZENvcHlKdW1wOiBmYWxzZSwKICAgICAgICAgICAgICAgICAgICAgICAgICAgICAgICAgIGNyczogTC5DUlMuRVBTRzM4NTcKICAgICAgICAgICAgICAgICAgICAgICAgICAgICAgICAgfSk7CiAgICAgICAgICAgIAogICAgICAgIAogICAgCiAgICAgICAgICAgIHZhciB0aWxlX2xheWVyXzAxZGJiMmJhODYxZjRkNDNhYmM2ZTczMzA1YjBkN2E3ID0gTC50aWxlTGF5ZXIoCiAgICAgICAgICAgICAgICAnaHR0cHM6Ly97c30udGlsZS5vcGVuc3RyZWV0bWFwLm9yZy97en0ve3h9L3t5fS5wbmcnLAogICAgICAgICAgICAgICAgewogICJhdHRyaWJ1dGlvbiI6IG51bGwsCiAgImRldGVjdFJldGluYSI6IGZhbHNlLAogICJtYXhab29tIjogMTgsCiAgIm1pblpvb20iOiAxLAogICJub1dyYXAiOiBmYWxzZSwKICAic3ViZG9tYWlucyI6ICJhYmMiCn0KICAgICAgICAgICAgICAgICkuYWRkVG8obWFwXzEzNmI2ZWI4MTRlMzQ5ODNiZmZmMTViNDZmMjZlMDllKTsKICAgICAgICAKICAgIAoKICAgICAgICAgICAgdmFyIG1hcmtlcl9jMzI3NjM1OTEwZDY0Y2Q3YmVlMzI5NDBjNmZmMjQwNyA9IEwubWFya2VyKAogICAgICAgICAgICAgICAgWzQzLjcxODcxMTUsLTc5LjQ3MDAzNjldLAogICAgICAgICAgICAgICAgewogICAgICAgICAgICAgICAgICAgIGljb246IG5ldyBMLkljb24uRGVmYXVsdCgpCiAgICAgICAgICAgICAgICAgICAgfQogICAgICAgICAgICAgICAgKQogICAgICAgICAgICAgICAgLmFkZFRvKG1hcF8xMzZiNmViODE0ZTM0OTgzYmZmZjE1YjQ2ZjI2ZTA5ZSk7CiAgICAgICAgICAgIAogICAgCgogICAgICAgICAgICAgICAgdmFyIGljb25fNDg0YmEzNjlkOGE1NGRhZDg5OGIxODcxNjM0YjJjYmEgPSBMLkF3ZXNvbWVNYXJrZXJzLmljb24oewogICAgICAgICAgICAgICAgICAgIGljb246ICdpbmZvLXNpZ24nLAogICAgICAgICAgICAgICAgICAgIGljb25Db2xvcjogJ3doaXRlJywKICAgICAgICAgICAgICAgICAgICBtYXJrZXJDb2xvcjogJ2dyZWVuJywKICAgICAgICAgICAgICAgICAgICBwcmVmaXg6ICdnbHlwaGljb24nLAogICAgICAgICAgICAgICAgICAgIGV4dHJhQ2xhc3NlczogJ2ZhLXJvdGF0ZS0wJwogICAgICAgICAgICAgICAgICAgIH0pOwogICAgICAgICAgICAgICAgbWFya2VyX2MzMjc2MzU5MTBkNjRjZDdiZWUzMjk0MGM2ZmYyNDA3LnNldEljb24oaWNvbl80ODRiYTM2OWQ4YTU0ZGFkODk4YjE4NzE2MzRiMmNiYSk7CiAgICAgICAgICAgIAogICAgCiAgICAgICAgICAgIHZhciBwb3B1cF8wOWU1MTA2OWE0ZjQ0NjUxOTQwMDVlODQwNjY5MDUxMiA9IEwucG9wdXAoe21heFdpZHRoOiAnMzAwJ30pOwoKICAgICAgICAgICAgCiAgICAgICAgICAgICAgICB2YXIgaHRtbF9hNjY5ZmE5MWY3YTc0YWY1OWNjYzkwNjI3MGQxODc1ZSA9ICQoJzxkaXYgaWQ9Imh0bWxfYTY2OWZhOTFmN2E3NGFmNTljY2M5MDYyNzBkMTg3NWUiIHN0eWxlPSJ3aWR0aDogMTAwLjAlOyBoZWlnaHQ6IDEwMC4wJTsiPlVyYmFuIFNtb2tlIEZ1c2lvbiBCQlEgRm9vZCBUcnVjazxicj5TdGFyczogNC4wPGJyPlJldmlld3M6IDg8L2Rpdj4nKVswXTsKICAgICAgICAgICAgICAgIHBvcHVwXzA5ZTUxMDY5YTRmNDQ2NTE5NDAwNWU4NDA2NjkwNTEyLnNldENvbnRlbnQoaHRtbF9hNjY5ZmE5MWY3YTc0YWY1OWNjYzkwNjI3MGQxODc1ZSk7CiAgICAgICAgICAgIAoKICAgICAgICAgICAgbWFya2VyX2MzMjc2MzU5MTBkNjRjZDdiZWUzMjk0MGM2ZmYyNDA3LmJpbmRQb3B1cChwb3B1cF8wOWU1MTA2OWE0ZjQ0NjUxOTQwMDVlODQwNjY5MDUxMik7CgogICAgICAgICAgICAKICAgICAgICAKICAgIAoKICAgICAgICAgICAgdmFyIG1hcmtlcl9hYjJjYjE5NGNiNzU0ZjI5OTU0MDYxYjEyMzNjYWQyMSA9IEwubWFya2VyKAogICAgICAgICAgICAgICAgWzQzLjYzMjM1MDgsLTc5LjQyMTI3OTZdLAogICAgICAgICAgICAgICAgewogICAgICAgICAgICAgICAgICAgIGljb246IG5ldyBMLkljb24uRGVmYXVsdCgpCiAgICAgICAgICAgICAgICAgICAgfQogICAgICAgICAgICAgICAgKQogICAgICAgICAgICAgICAgLmFkZFRvKG1hcF8xMzZiNmViODE0ZTM0OTgzYmZmZjE1YjQ2ZjI2ZTA5ZSk7CiAgICAgICAgICAgIAogICAgCgogICAgICAgICAgICAgICAgdmFyIGljb25fYTAzNDg1YzU0NGIzNDE2ZGI4NDgyZmQyZTM4MGE4MTUgPSBMLkF3ZXNvbWVNYXJrZXJzLmljb24oewogICAgICAgICAgICAgICAgICAgIGljb246ICdpbmZvLXNpZ24nLAogICAgICAgICAgICAgICAgICAgIGljb25Db2xvcjogJ3doaXRlJywKICAgICAgICAgICAgICAgICAgICBtYXJrZXJDb2xvcjogJ2dyZWVuJywKICAgICAgICAgICAgICAgICAgICBwcmVmaXg6ICdnbHlwaGljb24nLAogICAgICAgICAgICAgICAgICAgIGV4dHJhQ2xhc3NlczogJ2ZhLXJvdGF0ZS0wJwogICAgICAgICAgICAgICAgICAgIH0pOwogICAgICAgICAgICAgICAgbWFya2VyX2FiMmNiMTk0Y2I3NTRmMjk5NTQwNjFiMTIzM2NhZDIxLnNldEljb24oaWNvbl9hMDM0ODVjNTQ0YjM0MTZkYjg0ODJmZDJlMzgwYTgxNSk7CiAgICAgICAgICAgIAogICAgCiAgICAgICAgICAgIHZhciBwb3B1cF9lMmU3MjU0MDNlN2Y0MGI1YmFiMGUwNjI4YTZmODRmNSA9IEwucG9wdXAoe21heFdpZHRoOiAnMzAwJ30pOwoKICAgICAgICAgICAgCiAgICAgICAgICAgICAgICB2YXIgaHRtbF84NjAwNTdlYzM1YmM0MjE0OGFlYjc5NzE3Yjg3MTExYiA9ICQoJzxkaXYgaWQ9Imh0bWxfODYwMDU3ZWMzNWJjNDIxNDhhZWI3OTcxN2I4NzExMWIiIHN0eWxlPSJ3aWR0aDogMTAwLjAlOyBoZWlnaHQ6IDEwMC4wJTsiPkVwaWMgQnVyZ2VycyBhbmQgV2FmZmxlczxicj5TdGFyczogMi41PGJyPlJldmlld3M6IDU8L2Rpdj4nKVswXTsKICAgICAgICAgICAgICAgIHBvcHVwX2UyZTcyNTQwM2U3ZjQwYjViYWIwZTA2MjhhNmY4NGY1LnNldENvbnRlbnQoaHRtbF84NjAwNTdlYzM1YmM0MjE0OGFlYjc5NzE3Yjg3MTExYik7CiAgICAgICAgICAgIAoKICAgICAgICAgICAgbWFya2VyX2FiMmNiMTk0Y2I3NTRmMjk5NTQwNjFiMTIzM2NhZDIxLmJpbmRQb3B1cChwb3B1cF9lMmU3MjU0MDNlN2Y0MGI1YmFiMGUwNjI4YTZmODRmNSk7CgogICAgICAgICAgICAKICAgICAgICAKICAgIAoKICAgICAgICAgICAgdmFyIG1hcmtlcl85YWVlYzdmZTRhNjc0YWVjYmQ4Mjk0MjMxMTZkNGE3OSA9IEwubWFya2VyKAogICAgICAgICAgICAgICAgWzQzLjczMTUxMTEsLTc5LjQwNDA4MDhdLAogICAgICAgICAgICAgICAgewogICAgICAgICAgICAgICAgICAgIGljb246IG5ldyBMLkljb24uRGVmYXVsdCgpCiAgICAgICAgICAgICAgICAgICAgfQogICAgICAgICAgICAgICAgKQogICAgICAgICAgICAgICAgLmFkZFRvKG1hcF8xMzZiNmViODE0ZTM0OTgzYmZmZjE1YjQ2ZjI2ZTA5ZSk7CiAgICAgICAgICAgIAogICAgCgogICAgICAgICAgICAgICAgdmFyIGljb25fMjc1OWU4N2Q1NDM0NDk3YTgyN2QyZGY2MTNkZTM5YWEgPSBMLkF3ZXNvbWVNYXJrZXJzLmljb24oewogICAgICAgICAgICAgICAgICAgIGljb246ICdpbmZvLXNpZ24nLAogICAgICAgICAgICAgICAgICAgIGljb25Db2xvcjogJ3doaXRlJywKICAgICAgICAgICAgICAgICAgICBtYXJrZXJDb2xvcjogJ2dyZWVuJywKICAgICAgICAgICAgICAgICAgICBwcmVmaXg6ICdnbHlwaGljb24nLAogICAgICAgICAgICAgICAgICAgIGV4dHJhQ2xhc3NlczogJ2ZhLXJvdGF0ZS0wJwogICAgICAgICAgICAgICAgICAgIH0pOwogICAgICAgICAgICAgICAgbWFya2VyXzlhZWVjN2ZlNGE2NzRhZWNiZDgyOTQyMzExNmQ0YTc5LnNldEljb24oaWNvbl8yNzU5ZTg3ZDU0MzQ0OTdhODI3ZDJkZjYxM2RlMzlhYSk7CiAgICAgICAgICAgIAogICAgCiAgICAgICAgICAgIHZhciBwb3B1cF8xNjYxMjBhYjFhNWQ0ZjIxOTY4ZjVkMmFkN2Q3ZmFhMyA9IEwucG9wdXAoe21heFdpZHRoOiAnMzAwJ30pOwoKICAgICAgICAgICAgCiAgICAgICAgICAgICAgICB2YXIgaHRtbF8wYTcxYzY2NjRlNmY0MzQ0YTE1ZjUxMGRiOTE3MzY0ZCA9ICQoJzxkaXYgaWQ9Imh0bWxfMGE3MWM2NjY0ZTZmNDM0NGExNWY1MTBkYjkxNzM2NGQiIHN0eWxlPSJ3aWR0aDogMTAwLjAlOyBoZWlnaHQ6IDEwMC4wJTsiPk1jQ295IEJ1cmdlciBDb21wYW55PGJyPlN0YXJzOiA0LjA8YnI+UmV2aWV3czogMzM8L2Rpdj4nKVswXTsKICAgICAgICAgICAgICAgIHBvcHVwXzE2NjEyMGFiMWE1ZDRmMjE5NjhmNWQyYWQ3ZDdmYWEzLnNldENvbnRlbnQoaHRtbF8wYTcxYzY2NjRlNmY0MzQ0YTE1ZjUxMGRiOTE3MzY0ZCk7CiAgICAgICAgICAgIAoKICAgICAgICAgICAgbWFya2VyXzlhZWVjN2ZlNGE2NzRhZWNiZDgyOTQyMzExNmQ0YTc5LmJpbmRQb3B1cChwb3B1cF8xNjYxMjBhYjFhNWQ0ZjIxOTY4ZjVkMmFkN2Q3ZmFhMyk7CgogICAgICAgICAgICAKICAgICAgICAKICAgIAoKICAgICAgICAgICAgdmFyIG1hcmtlcl8zOTUwZWRjOTFkOWY0M2JiYjc0YzI2ZWY2YzRlYzE4ZiA9IEwubWFya2VyKAogICAgICAgICAgICAgICAgWzQzLjY2NDY4MjgsLTc5LjM2ODI3OTNdLAogICAgICAgICAgICAgICAgewogICAgICAgICAgICAgICAgICAgIGljb246IG5ldyBMLkljb24uRGVmYXVsdCgpCiAgICAgICAgICAgICAgICAgICAgfQogICAgICAgICAgICAgICAgKQogICAgICAgICAgICAgICAgLmFkZFRvKG1hcF8xMzZiNmViODE0ZTM0OTgzYmZmZjE1YjQ2ZjI2ZTA5ZSk7CiAgICAgICAgICAgIAogICAgCgogICAgICAgICAgICAgICAgdmFyIGljb25fY2I4ZTFiYzRlN2E0NDZkMDg1NDgxNzBlMTMxMzE1MWEgPSBMLkF3ZXNvbWVNYXJrZXJzLmljb24oewogICAgICAgICAgICAgICAgICAgIGljb246ICdpbmZvLXNpZ24nLAogICAgICAgICAgICAgICAgICAgIGljb25Db2xvcjogJ3doaXRlJywKICAgICAgICAgICAgICAgICAgICBtYXJrZXJDb2xvcjogJ2dyZWVuJywKICAgICAgICAgICAgICAgICAgICBwcmVmaXg6ICdnbHlwaGljb24nLAogICAgICAgICAgICAgICAgICAgIGV4dHJhQ2xhc3NlczogJ2ZhLXJvdGF0ZS0wJwogICAgICAgICAgICAgICAgICAgIH0pOwogICAgICAgICAgICAgICAgbWFya2VyXzM5NTBlZGM5MWQ5ZjQzYmJiNzRjMjZlZjZjNGVjMThmLnNldEljb24oaWNvbl9jYjhlMWJjNGU3YTQ0NmQwODU0ODE3MGUxMzEzMTUxYSk7CiAgICAgICAgICAgIAogICAgCiAgICAgICAgICAgIHZhciBwb3B1cF9lZjg5ZjA2MjUyNDg0NTRjYjk1N2RhOTk0MzVlOTVjZiA9IEwucG9wdXAoe21heFdpZHRoOiAnMzAwJ30pOwoKICAgICAgICAgICAgCiAgICAgICAgICAgICAgICB2YXIgaHRtbF81NzI5MjM2ODQ0YWU0NzQ1OWIyMjdhM2UxNDMwZmI1NCA9ICQoJzxkaXYgaWQ9Imh0bWxfNTcyOTIzNjg0NGFlNDc0NTliMjI3YTNlMTQzMGZiNTQiIHN0eWxlPSJ3aWR0aDogMTAwLjAlOyBoZWlnaHQ6IDEwMC4wJTsiPkdvdXJtZXQgQnVyZ2VyIENvPGJyPlN0YXJzOiAzLjU8YnI+UmV2aWV3czogMzc8L2Rpdj4nKVswXTsKICAgICAgICAgICAgICAgIHBvcHVwX2VmODlmMDYyNTI0ODQ1NGNiOTU3ZGE5OTQzNWU5NWNmLnNldENvbnRlbnQoaHRtbF81NzI5MjM2ODQ0YWU0NzQ1OWIyMjdhM2UxNDMwZmI1NCk7CiAgICAgICAgICAgIAoKICAgICAgICAgICAgbWFya2VyXzM5NTBlZGM5MWQ5ZjQzYmJiNzRjMjZlZjZjNGVjMThmLmJpbmRQb3B1cChwb3B1cF9lZjg5ZjA2MjUyNDg0NTRjYjk1N2RhOTk0MzVlOTVjZik7CgogICAgICAgICAgICAKICAgICAgICAKICAgIAoKICAgICAgICAgICAgdmFyIG1hcmtlcl9jNmM5MTRjMmJjMTI0ZmY4OThiMDUyOTg1MGY2YWMxMSA9IEwubWFya2VyKAogICAgICAgICAgICAgICAgWzQzLjYxMTI4ODksLTc5LjU1Njg2NzFdLAogICAgICAgICAgICAgICAgewogICAgICAgICAgICAgICAgICAgIGljb246IG5ldyBMLkljb24uRGVmYXVsdCgpCiAgICAgICAgICAgICAgICAgICAgfQogICAgICAgICAgICAgICAgKQogICAgICAgICAgICAgICAgLmFkZFRvKG1hcF8xMzZiNmViODE0ZTM0OTgzYmZmZjE1YjQ2ZjI2ZTA5ZSk7CiAgICAgICAgICAgIAogICAgCgogICAgICAgICAgICAgICAgdmFyIGljb25fODAyM2NlMWI5N2EzNDI5OGJlM2VhYTIxOTZjNzgyMDcgPSBMLkF3ZXNvbWVNYXJrZXJzLmljb24oewogICAgICAgICAgICAgICAgICAgIGljb246ICdpbmZvLXNpZ24nLAogICAgICAgICAgICAgICAgICAgIGljb25Db2xvcjogJ3doaXRlJywKICAgICAgICAgICAgICAgICAgICBtYXJrZXJDb2xvcjogJ2dyZWVuJywKICAgICAgICAgICAgICAgICAgICBwcmVmaXg6ICdnbHlwaGljb24nLAogICAgICAgICAgICAgICAgICAgIGV4dHJhQ2xhc3NlczogJ2ZhLXJvdGF0ZS0wJwogICAgICAgICAgICAgICAgICAgIH0pOwogICAgICAgICAgICAgICAgbWFya2VyX2M2YzkxNGMyYmMxMjRmZjg5OGIwNTI5ODUwZjZhYzExLnNldEljb24oaWNvbl84MDIzY2UxYjk3YTM0Mjk4YmUzZWFhMjE5NmM3ODIwNyk7CiAgICAgICAgICAgIAogICAgCiAgICAgICAgICAgIHZhciBwb3B1cF80ODg4MjFkNThiMmQ0Y2FkOTUyMjQ3MTUzMmMyOGMzMSA9IEwucG9wdXAoe21heFdpZHRoOiAnMzAwJ30pOwoKICAgICAgICAgICAgCiAgICAgICAgICAgICAgICB2YXIgaHRtbF9jMGJmYTMwMjRjMGU0NjVkYTUzYzQ4MGZlYjE1NDA5MSA9ICQoJzxkaXYgaWQ9Imh0bWxfYzBiZmEzMDI0YzBlNDY1ZGE1M2M0ODBmZWIxNTQwOTEiIHN0eWxlPSJ3aWR0aDogMTAwLjAlOyBoZWlnaHQ6IDEwMC4wJTsiPkJpZyBTbW9rZSBCdXJnZXI8YnI+U3RhcnM6IDMuMDxicj5SZXZpZXdzOiA2PC9kaXY+JylbMF07CiAgICAgICAgICAgICAgICBwb3B1cF80ODg4MjFkNThiMmQ0Y2FkOTUyMjQ3MTUzMmMyOGMzMS5zZXRDb250ZW50KGh0bWxfYzBiZmEzMDI0YzBlNDY1ZGE1M2M0ODBmZWIxNTQwOTEpOwogICAgICAgICAgICAKCiAgICAgICAgICAgIG1hcmtlcl9jNmM5MTRjMmJjMTI0ZmY4OThiMDUyOTg1MGY2YWMxMS5iaW5kUG9wdXAocG9wdXBfNDg4ODIxZDU4YjJkNGNhZDk1MjI0NzE1MzJjMjhjMzEpOwoKICAgICAgICAgICAgCiAgICAgICAgCiAgICAKCiAgICAgICAgICAgIHZhciBtYXJrZXJfNGEyZWI0NzQ5Mjk4NDkwYmIwZDllNWJkMGE3YTg4OGMgPSBMLm1hcmtlcigKICAgICAgICAgICAgICAgIFs0My42NTUwNTUsLTc5LjQxODU2MjddLAogICAgICAgICAgICAgICAgewogICAgICAgICAgICAgICAgICAgIGljb246IG5ldyBMLkljb24uRGVmYXVsdCgpCiAgICAgICAgICAgICAgICAgICAgfQogICAgICAgICAgICAgICAgKQogICAgICAgICAgICAgICAgLmFkZFRvKG1hcF8xMzZiNmViODE0ZTM0OTgzYmZmZjE1YjQ2ZjI2ZTA5ZSk7CiAgICAgICAgICAgIAogICAgCgogICAgICAgICAgICAgICAgdmFyIGljb25fMzIwZGM5ZWM0YmJkNDZiNDk1NTM4MDM5NGZhNTFlNjQgPSBMLkF3ZXNvbWVNYXJrZXJzLmljb24oewogICAgICAgICAgICAgICAgICAgIGljb246ICdpbmZvLXNpZ24nLAogICAgICAgICAgICAgICAgICAgIGljb25Db2xvcjogJ3doaXRlJywKICAgICAgICAgICAgICAgICAgICBtYXJrZXJDb2xvcjogJ2dyZWVuJywKICAgICAgICAgICAgICAgICAgICBwcmVmaXg6ICdnbHlwaGljb24nLAogICAgICAgICAgICAgICAgICAgIGV4dHJhQ2xhc3NlczogJ2ZhLXJvdGF0ZS0wJwogICAgICAgICAgICAgICAgICAgIH0pOwogICAgICAgICAgICAgICAgbWFya2VyXzRhMmViNDc0OTI5ODQ5MGJiMGQ5ZTViZDBhN2E4ODhjLnNldEljb24oaWNvbl8zMjBkYzllYzRiYmQ0NmI0OTU1MzgwMzk0ZmE1MWU2NCk7CiAgICAgICAgICAgIAogICAgCiAgICAgICAgICAgIHZhciBwb3B1cF82ZmI4ZmU0ZjFlN2Y0MzE1OTRkMTBjZGVlZGI3MDVmYSA9IEwucG9wdXAoe21heFdpZHRoOiAnMzAwJ30pOwoKICAgICAgICAgICAgCiAgICAgICAgICAgICAgICB2YXIgaHRtbF9mZTg2N2E4YzcyY2Y0YTY3OTlhMDE4M2E5MzdiYmE3ZSA9ICQoJzxkaXYgaWQ9Imh0bWxfZmU4NjdhOGM3MmNmNGE2Nzk5YTAxODNhOTM3YmJhN2UiIHN0eWxlPSJ3aWR0aDogMTAwLjAlOyBoZWlnaHQ6IDEwMC4wJTsiPkJ1cmdhdG9yeTxicj5TdGFyczogMy4wPGJyPlJldmlld3M6IDk8L2Rpdj4nKVswXTsKICAgICAgICAgICAgICAgIHBvcHVwXzZmYjhmZTRmMWU3ZjQzMTU5NGQxMGNkZWVkYjcwNWZhLnNldENvbnRlbnQoaHRtbF9mZTg2N2E4YzcyY2Y0YTY3OTlhMDE4M2E5MzdiYmE3ZSk7CiAgICAgICAgICAgIAoKICAgICAgICAgICAgbWFya2VyXzRhMmViNDc0OTI5ODQ5MGJiMGQ5ZTViZDBhN2E4ODhjLmJpbmRQb3B1cChwb3B1cF82ZmI4ZmU0ZjFlN2Y0MzE1OTRkMTBjZGVlZGI3MDVmYSk7CgogICAgICAgICAgICAKICAgICAgICAKICAgIAoKICAgICAgICAgICAgdmFyIG1hcmtlcl9kNzY5ODVkMTAwYzI0ZjA5YWMzOTMyYmMzN2I5NmM3ZSA9IEwubWFya2VyKAogICAgICAgICAgICAgICAgWzQzLjY2NTIxMTAzNzcsLTc5LjM4NDkyNDU1MTFdLAogICAgICAgICAgICAgICAgewogICAgICAgICAgICAgICAgICAgIGljb246IG5ldyBMLkljb24uRGVmYXVsdCgpCiAgICAgICAgICAgICAgICAgICAgfQogICAgICAgICAgICAgICAgKQogICAgICAgICAgICAgICAgLmFkZFRvKG1hcF8xMzZiNmViODE0ZTM0OTgzYmZmZjE1YjQ2ZjI2ZTA5ZSk7CiAgICAgICAgICAgIAogICAgCgogICAgICAgICAgICAgICAgdmFyIGljb25fNDEyM2QyZmI2MjQzNGZlMDliZDhlMzFlYjY3MTQzNTMgPSBMLkF3ZXNvbWVNYXJrZXJzLmljb24oewogICAgICAgICAgICAgICAgICAgIGljb246ICdpbmZvLXNpZ24nLAogICAgICAgICAgICAgICAgICAgIGljb25Db2xvcjogJ3doaXRlJywKICAgICAgICAgICAgICAgICAgICBtYXJrZXJDb2xvcjogJ2dyZWVuJywKICAgICAgICAgICAgICAgICAgICBwcmVmaXg6ICdnbHlwaGljb24nLAogICAgICAgICAgICAgICAgICAgIGV4dHJhQ2xhc3NlczogJ2ZhLXJvdGF0ZS0wJwogICAgICAgICAgICAgICAgICAgIH0pOwogICAgICAgICAgICAgICAgbWFya2VyX2Q3Njk4NWQxMDBjMjRmMDlhYzM5MzJiYzM3Yjk2YzdlLnNldEljb24oaWNvbl80MTIzZDJmYjYyNDM0ZmUwOWJkOGUzMWViNjcxNDM1Myk7CiAgICAgICAgICAgIAogICAgCiAgICAgICAgICAgIHZhciBwb3B1cF9jOTBmZTc3ZDYyYTg0ZGVkODczM2Q2NzQ0NWNmZGM0YyA9IEwucG9wdXAoe21heFdpZHRoOiAnMzAwJ30pOwoKICAgICAgICAgICAgCiAgICAgICAgICAgICAgICB2YXIgaHRtbF9mZmYyYjM3MDYzMjg0OTQxYWEzOGNkYjEyMmNmNjY1YyA9ICQoJzxkaXYgaWQ9Imh0bWxfZmZmMmIzNzA2MzI4NDk0MWFhMzhjZGIxMjJjZjY2NWMiIHN0eWxlPSJ3aWR0aDogMTAwLjAlOyBoZWlnaHQ6IDEwMC4wJTsiPkhvbHkgQ2h1Y2s8YnI+U3RhcnM6IDMuMDxicj5SZXZpZXdzOiA0MzwvZGl2PicpWzBdOwogICAgICAgICAgICAgICAgcG9wdXBfYzkwZmU3N2Q2MmE4NGRlZDg3MzNkNjc0NDVjZmRjNGMuc2V0Q29udGVudChodG1sX2ZmZjJiMzcwNjMyODQ5NDFhYTM4Y2RiMTIyY2Y2NjVjKTsKICAgICAgICAgICAgCgogICAgICAgICAgICBtYXJrZXJfZDc2OTg1ZDEwMGMyNGYwOWFjMzkzMmJjMzdiOTZjN2UuYmluZFBvcHVwKHBvcHVwX2M5MGZlNzdkNjJhODRkZWQ4NzMzZDY3NDQ1Y2ZkYzRjKTsKCiAgICAgICAgICAgIAogICAgICAgIAogICAgCgogICAgICAgICAgICB2YXIgbWFya2VyXzVlZTFjNjJkYjAzNTRjNjY4MmY1NzFlNjkxNjUwNzk1ID0gTC5tYXJrZXIoCiAgICAgICAgICAgICAgICBbNDMuNzc2ODc0NywtNzkuMjU2NjU0N10sCiAgICAgICAgICAgICAgICB7CiAgICAgICAgICAgICAgICAgICAgaWNvbjogbmV3IEwuSWNvbi5EZWZhdWx0KCkKICAgICAgICAgICAgICAgICAgICB9CiAgICAgICAgICAgICAgICApCiAgICAgICAgICAgICAgICAuYWRkVG8obWFwXzEzNmI2ZWI4MTRlMzQ5ODNiZmZmMTViNDZmMjZlMDllKTsKICAgICAgICAgICAgCiAgICAKCiAgICAgICAgICAgICAgICB2YXIgaWNvbl8yYTVkNmQ2OWM4OGI0YTE4ODAxMjU5MmE3N2M2NzVjZCA9IEwuQXdlc29tZU1hcmtlcnMuaWNvbih7CiAgICAgICAgICAgICAgICAgICAgaWNvbjogJ2luZm8tc2lnbicsCiAgICAgICAgICAgICAgICAgICAgaWNvbkNvbG9yOiAnd2hpdGUnLAogICAgICAgICAgICAgICAgICAgIG1hcmtlckNvbG9yOiAnZ3JlZW4nLAogICAgICAgICAgICAgICAgICAgIHByZWZpeDogJ2dseXBoaWNvbicsCiAgICAgICAgICAgICAgICAgICAgZXh0cmFDbGFzc2VzOiAnZmEtcm90YXRlLTAnCiAgICAgICAgICAgICAgICAgICAgfSk7CiAgICAgICAgICAgICAgICBtYXJrZXJfNWVlMWM2MmRiMDM1NGM2NjgyZjU3MWU2OTE2NTA3OTUuc2V0SWNvbihpY29uXzJhNWQ2ZDY5Yzg4YjRhMTg4MDEyNTkyYTc3YzY3NWNkKTsKICAgICAgICAgICAgCiAgICAKICAgICAgICAgICAgdmFyIHBvcHVwXzUzYzdlM2JhNmVhZDRjYjM4ZmFjODNhZDBlNjBjM2Y3ID0gTC5wb3B1cCh7bWF4V2lkdGg6ICczMDAnfSk7CgogICAgICAgICAgICAKICAgICAgICAgICAgICAgIHZhciBodG1sX2QzMzU4NzQ3NGY3NTQ2YTc4YThiZTg1ODdiZDA1NDlkID0gJCgnPGRpdiBpZD0iaHRtbF9kMzM1ODc0NzRmNzU0NmE3OGE4YmU4NTg3YmQwNTQ5ZCIgc3R5bGU9IndpZHRoOiAxMDAuMCU7IGhlaWdodDogMTAwLjAlOyI+TmV3IFlvcmsgRnJpZXM8YnI+U3RhcnM6IDMuNTxicj5SZXZpZXdzOiA4PC9kaXY+JylbMF07CiAgICAgICAgICAgICAgICBwb3B1cF81M2M3ZTNiYTZlYWQ0Y2IzOGZhYzgzYWQwZTYwYzNmNy5zZXRDb250ZW50KGh0bWxfZDMzNTg3NDc0Zjc1NDZhNzhhOGJlODU4N2JkMDU0OWQpOwogICAgICAgICAgICAKCiAgICAgICAgICAgIG1hcmtlcl81ZWUxYzYyZGIwMzU0YzY2ODJmNTcxZTY5MTY1MDc5NS5iaW5kUG9wdXAocG9wdXBfNTNjN2UzYmE2ZWFkNGNiMzhmYWM4M2FkMGU2MGMzZjcpOwoKICAgICAgICAgICAgCiAgICAgICAgCiAgICAKCiAgICAgICAgICAgIHZhciBtYXJrZXJfNTM4ODFkZGU2ZTdiNDc0MTkyYzY0ZTFiZmI1NmVlZTMgPSBMLm1hcmtlcigKICAgICAgICAgICAgICAgIFs0My43MDgyMTMsLTc5LjM5MjM2NjhdLAogICAgICAgICAgICAgICAgewogICAgICAgICAgICAgICAgICAgIGljb246IG5ldyBMLkljb24uRGVmYXVsdCgpCiAgICAgICAgICAgICAgICAgICAgfQogICAgICAgICAgICAgICAgKQogICAgICAgICAgICAgICAgLmFkZFRvKG1hcF8xMzZiNmViODE0ZTM0OTgzYmZmZjE1YjQ2ZjI2ZTA5ZSk7CiAgICAgICAgICAgIAogICAgCgogICAgICAgICAgICAgICAgdmFyIGljb25fNzgwNGUzOGI3MTcyNDFlMDlmM2M1NDc5MWFiZDlmZDMgPSBMLkF3ZXNvbWVNYXJrZXJzLmljb24oewogICAgICAgICAgICAgICAgICAgIGljb246ICdpbmZvLXNpZ24nLAogICAgICAgICAgICAgICAgICAgIGljb25Db2xvcjogJ3doaXRlJywKICAgICAgICAgICAgICAgICAgICBtYXJrZXJDb2xvcjogJ2dyZWVuJywKICAgICAgICAgICAgICAgICAgICBwcmVmaXg6ICdnbHlwaGljb24nLAogICAgICAgICAgICAgICAgICAgIGV4dHJhQ2xhc3NlczogJ2ZhLXJvdGF0ZS0wJwogICAgICAgICAgICAgICAgICAgIH0pOwogICAgICAgICAgICAgICAgbWFya2VyXzUzODgxZGRlNmU3YjQ3NDE5MmM2NGUxYmZiNTZlZWUzLnNldEljb24oaWNvbl83ODA0ZTM4YjcxNzI0MWUwOWYzYzU0NzkxYWJkOWZkMyk7CiAgICAgICAgICAgIAogICAgCiAgICAgICAgICAgIHZhciBwb3B1cF8wMTk1Mjk5NTFlYjc0MjgyYjJjNWU0YTRjM2I3MTRiOSA9IEwucG9wdXAoe21heFdpZHRoOiAnMzAwJ30pOwoKICAgICAgICAgICAgCiAgICAgICAgICAgICAgICB2YXIgaHRtbF9lZTA0ODk2MTE3YzM0NWU5OTNkYTIxOTA2MjIzOWUzOCA9ICQoJzxkaXYgaWQ9Imh0bWxfZWUwNDg5NjExN2MzNDVlOTkzZGEyMTkwNjIyMzllMzgiIHN0eWxlPSJ3aWR0aDogMTAwLjAlOyBoZWlnaHQ6IDEwMC4wJTsiPlN0ZWFrIGFuZCBDaGVlc2UgRmFjdG9yeTxicj5TdGFyczogMy4wPGJyPlJldmlld3M6IDM8L2Rpdj4nKVswXTsKICAgICAgICAgICAgICAgIHBvcHVwXzAxOTUyOTk1MWViNzQyODJiMmM1ZTRhNGMzYjcxNGI5LnNldENvbnRlbnQoaHRtbF9lZTA0ODk2MTE3YzM0NWU5OTNkYTIxOTA2MjIzOWUzOCk7CiAgICAgICAgICAgIAoKICAgICAgICAgICAgbWFya2VyXzUzODgxZGRlNmU3YjQ3NDE5MmM2NGUxYmZiNTZlZWUzLmJpbmRQb3B1cChwb3B1cF8wMTk1Mjk5NTFlYjc0MjgyYjJjNWU0YTRjM2I3MTRiOSk7CgogICAgICAgICAgICAKICAgICAgICAKICAgIAoKICAgICAgICAgICAgdmFyIG1hcmtlcl82YjNhNWEzMzIwYzk0OTA3OGIxYzhjZDhiMGYyNzUxMCA9IEwubWFya2VyKAogICAgICAgICAgICAgICAgWzQzLjY4NzUyNzQsLTc5LjM5NDA1OTldLAogICAgICAgICAgICAgICAgewogICAgICAgICAgICAgICAgICAgIGljb246IG5ldyBMLkljb24uRGVmYXVsdCgpCiAgICAgICAgICAgICAgICAgICAgfQogICAgICAgICAgICAgICAgKQogICAgICAgICAgICAgICAgLmFkZFRvKG1hcF8xMzZiNmViODE0ZTM0OTgzYmZmZjE1YjQ2ZjI2ZTA5ZSk7CiAgICAgICAgICAgIAogICAgCgogICAgICAgICAgICAgICAgdmFyIGljb25fM2U3YmVhMDRkNGExNGNlYmE0NTQxZjFmMGY5MDRiYjAgPSBMLkF3ZXNvbWVNYXJrZXJzLmljb24oewogICAgICAgICAgICAgICAgICAgIGljb246ICdpbmZvLXNpZ24nLAogICAgICAgICAgICAgICAgICAgIGljb25Db2xvcjogJ3doaXRlJywKICAgICAgICAgICAgICAgICAgICBtYXJrZXJDb2xvcjogJ2dyZWVuJywKICAgICAgICAgICAgICAgICAgICBwcmVmaXg6ICdnbHlwaGljb24nLAogICAgICAgICAgICAgICAgICAgIGV4dHJhQ2xhc3NlczogJ2ZhLXJvdGF0ZS0wJwogICAgICAgICAgICAgICAgICAgIH0pOwogICAgICAgICAgICAgICAgbWFya2VyXzZiM2E1YTMzMjBjOTQ5MDc4YjFjOGNkOGIwZjI3NTEwLnNldEljb24oaWNvbl8zZTdiZWEwNGQ0YTE0Y2ViYTQ1NDFmMWYwZjkwNGJiMCk7CiAgICAgICAgICAgIAogICAgCiAgICAgICAgICAgIHZhciBwb3B1cF9iZDU2NGUxZDlmZmQ0MTIwYjliZmYyOGUzNGZkMzZjNiA9IEwucG9wdXAoe21heFdpZHRoOiAnMzAwJ30pOwoKICAgICAgICAgICAgCiAgICAgICAgICAgICAgICB2YXIgaHRtbF8wNThkNjkyNTc4ZjY0YzQ2OTM5MzdkZTJjOWJhMGU1MyA9ICQoJzxkaXYgaWQ9Imh0bWxfMDU4ZDY5MjU3OGY2NGM0NjkzOTM3ZGUyYzliYTBlNTMiIHN0eWxlPSJ3aWR0aDogMTAwLjAlOyBoZWlnaHQ6IDEwMC4wJTsiPkhvbHkgQ2h1Y2s8YnI+U3RhcnM6IDMuNTxicj5SZXZpZXdzOiAyNjM8L2Rpdj4nKVswXTsKICAgICAgICAgICAgICAgIHBvcHVwX2JkNTY0ZTFkOWZmZDQxMjBiOWJmZjI4ZTM0ZmQzNmM2LnNldENvbnRlbnQoaHRtbF8wNThkNjkyNTc4ZjY0YzQ2OTM5MzdkZTJjOWJhMGU1Myk7CiAgICAgICAgICAgIAoKICAgICAgICAgICAgbWFya2VyXzZiM2E1YTMzMjBjOTQ5MDc4YjFjOGNkOGIwZjI3NTEwLmJpbmRQb3B1cChwb3B1cF9iZDU2NGUxZDlmZmQ0MTIwYjliZmYyOGUzNGZkMzZjNik7CgogICAgICAgICAgICAKICAgICAgICAKPC9zY3JpcHQ+\" style=\"position:absolute;width:100%;height:100%;left:0;top:0;border:none !important;\" allowfullscreen webkitallowfullscreen mozallowfullscreen></iframe></div></div>"
      ],
      "text/plain": [
       "<folium.folium.Map at 0x7f52e1dd5f60>"
      ]
     },
     "execution_count": 31,
     "metadata": {},
     "output_type": "execute_result"
    }
   ],
   "source": [
    "showInMap(keywords_recom_df)"
   ]
  }
 ],
 "metadata": {
  "anaconda-cloud": {},
  "kernelspec": {
   "display_name": "Python 3 (ipykernel)",
   "language": "python",
   "name": "python3"
  },
  "language_info": {
   "codemirror_mode": {
    "name": "ipython",
    "version": 3
   },
   "file_extension": ".py",
   "mimetype": "text/x-python",
   "name": "python",
   "nbconvert_exporter": "python",
   "pygments_lexer": "ipython3",
   "version": "3.9.7"
  }
 },
 "nbformat": 4,
 "nbformat_minor": 4
}
