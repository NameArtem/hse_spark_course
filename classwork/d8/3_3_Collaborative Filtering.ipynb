{
 "cells": [
  {
   "cell_type": "code",
   "execution_count": 1,
   "metadata": {
    "collapsed": true,
    "jupyter": {
     "outputs_hidden": true
    }
   },
   "outputs": [],
   "source": [
    "import numpy as np\n",
    "import pandas as pd\n",
    "import matplotlib.pyplot as plt\n",
    "\n",
    "from pyspark.ml import Pipeline\n",
    "from pyspark.sql.functions import *\n",
    "from pyspark.sql.types import *\n",
    "\n",
    "\n",
    "from pyspark.sql import Row\n",
    "\n",
    "from pyspark.ml.recommendation import ALS, ALSModel\n",
    "from pyspark.ml.tuning import TrainValidationSplit, ParamGridBuilder, CrossValidator\n",
    "from pyspark.ml.evaluation import RegressionEvaluator\n",
    "\n",
    "import folium\n",
    "import html"
   ]
  },
  {
   "cell_type": "markdown",
   "metadata": {},
   "source": [
    "### Data Loading"
   ]
  },
  {
   "cell_type": "code",
   "execution_count": 3,
   "metadata": {
    "collapsed": false,
    "jupyter": {
     "outputs_hidden": false
    }
   },
   "outputs": [
    {
     "name": "stdout",
     "output_type": "stream",
     "text": [
      "root\n",
      " |-- business_id: string (nullable = true)\n",
      " |-- business_name: string (nullable = true)\n",
      " |-- neighborhood: string (nullable = true)\n",
      " |-- address: string (nullable = true)\n",
      " |-- city: string (nullable = true)\n",
      " |-- state: string (nullable = true)\n",
      " |-- postal_code: string (nullable = true)\n",
      " |-- latitude: double (nullable = true)\n",
      " |-- longitude: double (nullable = true)\n",
      " |-- stars: double (nullable = true)\n",
      " |-- review_count: long (nullable = true)\n",
      " |-- categories: array (nullable = true)\n",
      " |    |-- element: string (containsNull = true)\n",
      "\n"
     ]
    }
   ],
   "source": [
    "# business DF\n",
    "business_df = spark.read.parquet('business-small.parquet')\n",
    "\n",
    "business_df.printSchema()"
   ]
  },
  {
   "cell_type": "code",
   "execution_count": 4,
   "metadata": {
    "collapsed": false,
    "jupyter": {
     "outputs_hidden": false
    }
   },
   "outputs": [
    {
     "name": "stdout",
     "output_type": "stream",
     "text": [
      "root\n",
      " |-- user_id: string (nullable = true)\n",
      " |-- user_name: string (nullable = true)\n",
      " |-- review_count: long (nullable = true)\n",
      " |-- yelping_since: string (nullable = true)\n",
      " |-- useful: long (nullable = true)\n",
      " |-- funny: long (nullable = true)\n",
      " |-- cool: long (nullable = true)\n",
      " |-- fans: long (nullable = true)\n",
      " |-- average_stars: double (nullable = true)\n",
      "\n"
     ]
    }
   ],
   "source": [
    "# user DF\n",
    "user_df = spark.read.parquet(d'user-small.parquet')\n",
    "\n",
    "user_df.printSchema()"
   ]
  },
  {
   "cell_type": "code",
   "execution_count": 5,
   "metadata": {
    "collapsed": false,
    "jupyter": {
     "outputs_hidden": false
    }
   },
   "outputs": [
    {
     "name": "stdout",
     "output_type": "stream",
     "text": [
      "root\n",
      " |-- review_id: string (nullable = true)\n",
      " |-- user_id: string (nullable = true)\n",
      " |-- business_id: string (nullable = true)\n",
      " |-- stars: long (nullable = true)\n",
      " |-- review_date: string (nullable = true)\n",
      " |-- review_text: string (nullable = true)\n",
      " |-- useful: long (nullable = true)\n",
      " |-- funny: long (nullable = true)\n",
      " |-- cool: long (nullable = true)\n",
      "\n"
     ]
    }
   ],
   "source": [
    "# review DF\n",
    "review_df = spark.read.parquet('review-small.parquet')\n",
    "\n",
    "review_df.printSchema()"
   ]
  },
  {
   "cell_type": "markdown",
   "metadata": {},
   "source": [
    "#### Spark ALS реализуется на следующих данных:\n",
    "\n",
    "```\n",
    "ratings_df_schema = StructType(\n",
    "[StructField('userId', IntegerType()),\n",
    " StructField('businessId', IntegerType()),\n",
    " StructField('rating', DoubleType())]\n",
    ")\n",
    "```\n",
    "\n",
    "Сделаем маппинг user_id и business_id"
   ]
  },
  {
   "cell_type": "code",
   "execution_count": 9,
   "metadata": {
    "collapsed": false,
    "jupyter": {
     "outputs_hidden": false
    }
   },
   "outputs": [
    {
     "name": "stdout",
     "output_type": "stream",
     "text": [
      "+--------------------+------+\n",
      "|             user_id|userId|\n",
      "+--------------------+------+\n",
      "|om5ZiponkpRqUNa3p...|     0|\n",
      "|Wc5L6iuvSNF5WGBlq...|     1|\n",
      "+--------------------+------+\n",
      "only showing top 2 rows\n",
      "\n"
     ]
    }
   ],
   "source": [
    "# колонка userId согласно структуре \n",
    "\n",
    "user_newid_df = (sqlContext.createDataFrame(user_df.rdd.map(lambda x: x[0]).zipWithIndex(), \n",
    "                                            StructType([StructField(\"user_id\", StringType(), True),\n",
    "                                                        StructField(\"userId\", IntegerType(), True)]))\n",
    "                )\n",
    "\n",
    "user_newid_df.show(2)"
   ]
  },
  {
   "cell_type": "code",
   "execution_count": 10,
   "metadata": {
    "collapsed": false,
    "jupyter": {
     "outputs_hidden": false
    }
   },
   "outputs": [
    {
     "name": "stdout",
     "output_type": "stream",
     "text": [
      "+------+--------------------+---------+\n",
      "|userId|             user_id|user_name|\n",
      "+------+--------------------+---------+\n",
      "|     0|om5ZiponkpRqUNa3p...|   Andrea|\n",
      "|     1|Wc5L6iuvSNF5WGBlq...|     Risa|\n",
      "+------+--------------------+---------+\n",
      "only showing top 2 rows\n",
      "\n"
     ]
    }
   ],
   "source": [
    "# добавим userId к существующим данным\n",
    "\n",
    "a = user_df.alias(\"a\")\n",
    "b = user_newid_df.alias(\"b\")\n",
    "    \n",
    "user_new_df = a.join(b, col(\"a.user_id\") == col(\"b.user_id\"), 'inner') \\\n",
    "             .select([col('a.'+xx) for xx in a.columns] + [col('b.userId')])\n",
    "\n",
    "user_new_df.select('userId','user_id', 'user_name').show(2)"
   ]
  },
  {
   "cell_type": "code",
   "execution_count": 11,
   "metadata": {
    "collapsed": false,
    "jupyter": {
     "outputs_hidden": false
    }
   },
   "outputs": [
    {
     "name": "stdout",
     "output_type": "stream",
     "text": [
      "+--------------------+----------+\n",
      "|         business_id|businessId|\n",
      "+--------------------+----------+\n",
      "|qim0lD112TkDhm8Zy...|         0|\n",
      "|Wf5C8Amv_SlhoYE3_...|         1|\n",
      "+--------------------+----------+\n",
      "only showing top 2 rows\n",
      "\n"
     ]
    }
   ],
   "source": [
    "# businessId \n",
    "business_newid_df = (\n",
    "                    sqlContext.createDataFrame(business_df.rdd.map(lambda x: x[0]).zipWithIndex(), \n",
    "                                               StructType([StructField(\"business_id\", StringType(), True),\n",
    "                                                           StructField(\"businessId\", IntegerType(), True)]))\n",
    "\n",
    "business_newid_df.show(2)"
   ]
  },
  {
   "cell_type": "code",
   "execution_count": 12,
   "metadata": {
    "collapsed": false,
    "jupyter": {
     "outputs_hidden": false
    }
   },
   "outputs": [
    {
     "name": "stdout",
     "output_type": "stream",
     "text": [
      "+----------+--------------------+--------------------+\n",
      "|businessId|         business_id|       business_name|\n",
      "+----------+--------------------+--------------------+\n",
      "|         0|qim0lD112TkDhm8Zy...|McCarthy's Irish Pub|\n",
      "|         1|Wf5C8Amv_SlhoYE3_...|         Oishi Sushi|\n",
      "+----------+--------------------+--------------------+\n",
      "only showing top 2 rows\n",
      "\n"
     ]
    }
   ],
   "source": [
    "# повторим действие\n",
    "\n",
    "a = business_df.alias(\"a\")\n",
    "b = business_newid_df.alias(\"b\")\n",
    "    \n",
    "business_new_df = a.join(b, col(\"a.business_id\") == col(\"b.business_id\"), 'inner') \\\n",
    "             .select([col('a.'+xx) for xx in a.columns] + [col('b.businessId')])\n",
    "\n",
    "business_new_df.select('businessId','business_id', 'business_name').show(2)"
   ]
  },
  {
   "cell_type": "code",
   "execution_count": 13,
   "metadata": {
    "collapsed": false,
    "jupyter": {
     "outputs_hidden": false
    }
   },
   "outputs": [
    {
     "name": "stdout",
     "output_type": "stream",
     "text": [
      "+--------------------+--------------------+-----+------+----------+\n",
      "|             user_id|         business_id|stars|userId|businessId|\n",
      "+--------------------+--------------------+-----+------+----------+\n",
      "|u642WP1g6Z3oRA9qd...|1RFIVcZYV77tGIwVV...|    5| 23561|       872|\n",
      "|CGmWH1Nwx1hbasHqo...|1RFIVcZYV77tGIwVV...|    4|  6268|       872|\n",
      "+--------------------+--------------------+-----+------+----------+\n",
      "only showing top 2 rows\n",
      "\n"
     ]
    }
   ],
   "source": [
    "# сделаем маппинг userId и businessId на review DF\n",
    "\n",
    "review_df = review_df.select('user_id', 'business_id', 'stars')\n",
    "\n",
    "\n",
    "# map userId\n",
    "a = review_df.alias(\"a\")\n",
    "b = user_newid_df.alias(\"b\")\n",
    "    \n",
    "review_userId_df = a.join(b, col(\"a.user_id\") == col(\"b.user_id\"), 'inner') \\\n",
    "                     .select([col('a.'+xx) for xx in a.columns] + [col('b.userId')])\n",
    "\n",
    "# map businessId\n",
    "a = review_userId_df.alias(\"a\")\n",
    "b = business_newid_df.alias(\"b\")\n",
    "\n",
    "review_userId_businessId_df = a.join(b, col(\"a.business_id\") == col(\"b.business_id\"), 'inner') \\\n",
    "                         .select([col('a.'+xx) for xx in a.columns] + [col('b.businessId')])\n",
    "\n",
    "review_userId_businessId_df.show(2)"
   ]
  },
  {
   "cell_type": "markdown",
   "metadata": {},
   "source": [
    "### Collaborative Filtering"
   ]
  },
  {
   "cell_type": "code",
   "execution_count": 16,
   "metadata": {
    "collapsed": false,
    "jupyter": {
     "outputs_hidden": false
    }
   },
   "outputs": [
    {
     "name": "stdout",
     "output_type": "stream",
     "text": [
      "+------+----------+------+\n",
      "|userId|businessId|rating|\n",
      "+------+----------+------+\n",
      "| 23561|       872|   5.0|\n",
      "|  6268|       872|   4.0|\n",
      "+------+----------+------+\n",
      "only showing top 2 rows\n",
      "\n",
      " Rating matrx no. of rows : 276887\n",
      "root\n",
      " |-- userId: integer (nullable = true)\n",
      " |-- businessId: integer (nullable = true)\n",
      " |-- rating: float (nullable = true)\n",
      "\n"
     ]
    }
   ],
   "source": [
    "# создадим DF для ALS\n",
    "\n",
    "rating_df = review_userId_businessId_df.select('userId', 'businessId', review_userId_businessId_df.stars.cast('float').alias('rating'))\n",
    "rating_df.show(2)\n",
    "print(' Rating matrx no. of rows :', rating_df.count())\n",
    "rating_df.printSchema()"
   ]
  },
  {
   "cell_type": "code",
   "execution_count": 15,
   "metadata": {
    "collapsed": false,
    "jupyter": {
     "outputs_hidden": false
    }
   },
   "outputs": [
    {
     "data": {
      "text/html": [
       "<div>\n",
       "<table border=\"1\" class=\"dataframe\">\n",
       "  <thead>\n",
       "    <tr style=\"text-align: right;\">\n",
       "      <th></th>\n",
       "      <th>userId</th>\n",
       "      <th>businessId</th>\n",
       "      <th>rating</th>\n",
       "    </tr>\n",
       "  </thead>\n",
       "  <tbody>\n",
       "    <tr>\n",
       "      <th>0</th>\n",
       "      <td>23561</td>\n",
       "      <td>872</td>\n",
       "      <td>5.0</td>\n",
       "    </tr>\n",
       "    <tr>\n",
       "      <th>1</th>\n",
       "      <td>6268</td>\n",
       "      <td>872</td>\n",
       "      <td>4.0</td>\n",
       "    </tr>\n",
       "    <tr>\n",
       "      <th>2</th>\n",
       "      <td>8646</td>\n",
       "      <td>872</td>\n",
       "      <td>4.0</td>\n",
       "    </tr>\n",
       "    <tr>\n",
       "      <th>3</th>\n",
       "      <td>531</td>\n",
       "      <td>4253</td>\n",
       "      <td>3.0</td>\n",
       "    </tr>\n",
       "    <tr>\n",
       "      <th>4</th>\n",
       "      <td>2217</td>\n",
       "      <td>4253</td>\n",
       "      <td>5.0</td>\n",
       "    </tr>\n",
       "  </tbody>\n",
       "</table>\n",
       "</div>"
      ],
      "text/plain": [
       "   userId  businessId  rating\n",
       "0   23561         872     5.0\n",
       "1    6268         872     4.0\n",
       "2    8646         872     4.0\n",
       "3     531        4253     3.0\n",
       "4    2217        4253     5.0"
      ]
     },
     "execution_count": 15,
     "metadata": {},
     "output_type": "execute_result"
    }
   ],
   "source": [
    "rating_df.limit(5).toPandas()"
   ]
  },
  {
   "cell_type": "code",
   "execution_count": 15,
   "metadata": {
    "collapsed": true,
    "jupyter": {
     "outputs_hidden": true
    }
   },
   "outputs": [],
   "source": [
    "# трейн тест разделение\n",
    "(train, test) = rating_df.randomSplit([0.8, 0.2], seed=123)"
   ]
  },
  {
   "cell_type": "code",
   "execution_count": null,
   "metadata": {
    "collapsed": true,
    "jupyter": {
     "outputs_hidden": true
    }
   },
   "outputs": [],
   "source": [
    "# Cross Validation для ALS\n",
    "\n",
    "als = ALS(userCol=\"userId\", itemCol=\"businessId\", ratingCol=\"rating\", coldStartStrategy=\"drop\")\n",
    "\n",
    "param_grid = ParamGridBuilder().addGrid(\n",
    "                                        als.rank,\n",
    "                                        [10, 15, 20],\n",
    "                                    ).addGrid(\n",
    "                                        als.maxIter,\n",
    "                                        [10, 15, 20],\n",
    "                                    ).build()\n",
    "\n",
    "evaluator = RegressionEvaluator(\n",
    "    metricName=\"rmse\",\n",
    "    labelCol=\"rating\",\n",
    ")\n",
    "\n",
    "cv = CrossValidator(estimator=als, estimatorParamMaps=param_grid, evaluator=evaluator, numFolds=5, seed=123)\n",
    "cv_als_model = cv.fit(train)\n",
    "\n",
    "# RMSE для валидации\n",
    "als_predictions = cv_als_model.bestModel.transform(test)\n",
    "evaluator = RegressionEvaluator(metricName=\"rmse\", labelCol=\"rating\", predictionCol=\"prediction\")\n",
    "rmse = evaluator.evaluate(als_predictions)\n",
    "print(\"Root-mean-square error = \" + str(rmse))\n",
    "\n",
    "best_model = cv_als_model.bestModel\n",
    "\n",
    "#получим лучшие значения\n",
    "best_model.rank\n",
    "\n",
    "#best_maxIter\n",
    "(best_model\n",
    "    ._java_obj     # Java object\n",
    "    .parent()      # ALS estimator\n",
    "    .getMaxIter()) # maxIter\n"
   ]
  },
  {
   "cell_type": "code",
   "execution_count": null,
   "metadata": {
    "collapsed": true,
    "jupyter": {
     "outputs_hidden": true
    }
   },
   "outputs": [],
   "source": [
    "# тюниг модели\n",
    "# большой rank и  большое значение maxIter будут требовать много ресурсов и времени.\n",
    "# начните с настройки regParam (default value = 0.1)\n",
    "\n",
    "alsb = ALS(rank=20, maxIter=20, regParam=0.3, userCol=\"userId\", itemCol=\"businessId\", ratingCol=\"rating\", \\\n",
    "               coldStartStrategy=\"drop\", seed=123)\n",
    "alsb_model = alsb.fit(train)\n",
    "\n",
    "alsb_predictions = alsb_model.transform(test)\n",
    "evaluator = RegressionEvaluator(metricName=\"rmse\", labelCol=\"rating\", predictionCol=\"prediction\")\n",
    "rmse = evaluator.evaluate(alsb_predictions)\n",
    "print(\"Root-mean-square error = \" + str(rmse))\n",
    "\n",
    "# save the ALS model\n",
    "alsb_model.write().overwrite().save('als')\n",
    "\n"
   ]
  },
  {
   "cell_type": "code",
   "execution_count": 17,
   "metadata": {
    "collapsed": false,
    "jupyter": {
     "outputs_hidden": false
    }
   },
   "outputs": [],
   "source": [
    "# Загрузка модели\n",
    "alsn_model = ALSModel.load(model_path + 'als')"
   ]
  },
  {
   "cell_type": "code",
   "execution_count": 18,
   "metadata": {
    "collapsed": true,
    "jupyter": {
     "outputs_hidden": true
    }
   },
   "outputs": [],
   "source": [
    "# Создаем 10 лучших рекомендаций\n",
    "userRecoms = alsn_model.recommendForAllUsers(10)\n"
   ]
  },
  {
   "cell_type": "code",
   "execution_count": 19,
   "metadata": {
    "collapsed": false,
    "jupyter": {
     "outputs_hidden": false
    }
   },
   "outputs": [
    {
     "name": "stdout",
     "output_type": "stream",
     "text": [
      "+------+----------------------------------------------------------------------------------------------------------------------------------------------------------------------------+----------------------+\n",
      "|userId|recommendations                                                                                                                                                             |user_id               |\n",
      "+------+----------------------------------------------------------------------------------------------------------------------------------------------------------------------------+----------------------+\n",
      "|148   |[[4592,4.6922364], [2432,4.614214], [401,4.4767885], [6596,4.439251], [2848,4.3852043], [810,4.359094], [4267,4.340767], [1410,4.307626], [4390,4.2542963], [4408,4.245825]]|_K9sKlA4fVkWI4hyGSpoPA|\n",
      "+------+----------------------------------------------------------------------------------------------------------------------------------------------------------------------------+----------------------+\n",
      "only showing top 1 row\n",
      "\n"
     ]
    }
   ],
   "source": [
    "# добавляем рекомендации к DF\n",
    "\n",
    "a = userRecoms.alias(\"a\")\n",
    "b = user_newid_df.alias(\"b\")\n",
    "    \n",
    "all_userRecoms = a.join(b, col(\"a.userId\") == col(\"b.userId\"), 'inner') \\\n",
    "             .select([col('a.'+xx) for xx in a.columns] + [col('b.user_id')])\n",
    "\n",
    "all_userRecoms.cache()   \n",
    "all_userRecoms.show(1, truncate=False)"
   ]
  },
  {
   "cell_type": "code",
   "execution_count": 20,
   "metadata": {
    "collapsed": false,
    "jupyter": {
     "outputs_hidden": false
    }
   },
   "outputs": [
    {
     "name": "stdout",
     "output_type": "stream",
     "text": [
      "+----------+------------------+\n",
      "|businessId|            rating|\n",
      "+----------+------------------+\n",
      "|      2432| 4.570364475250244|\n",
      "|      4592| 4.527902126312256|\n",
      "|      2668| 4.490123271942139|\n",
      "|       401| 4.438344955444336|\n",
      "|       810| 4.414823055267334|\n",
      "|      2028|4.4012932777404785|\n",
      "|      3237| 4.399106025695801|\n",
      "|      4133| 4.392766952514648|\n",
      "|      4408| 4.377004623413086|\n",
      "|      5664| 4.362335205078125|\n",
      "+----------+------------------+\n",
      "\n"
     ]
    }
   ],
   "source": [
    "# тестируем рекомендации для одного пользователя\n",
    "u_id = 'ZWD8UH1T7QXQr0Eq-mcWYg'\n",
    "\n",
    "userFlatRec =  sqlContext.createDataFrame(all_userRecoms.filter(col('user_id') == u_id).rdd.flatMap(lambda p: p[1]))\n",
    "userFlatRec.show()"
   ]
  },
  {
   "cell_type": "code",
   "execution_count": 21,
   "metadata": {
    "collapsed": false,
    "jupyter": {
     "outputs_hidden": false
    }
   },
   "outputs": [
    {
     "data": {
      "text/html": [
       "<div>\n",
       "<table border=\"1\" class=\"dataframe\">\n",
       "  <thead>\n",
       "    <tr style=\"text-align: right;\">\n",
       "      <th></th>\n",
       "      <th>business_id</th>\n",
       "      <th>business_name</th>\n",
       "      <th>rating</th>\n",
       "      <th>categories</th>\n",
       "    </tr>\n",
       "  </thead>\n",
       "  <tbody>\n",
       "    <tr>\n",
       "      <th>0</th>\n",
       "      <td>2H5EaBEreDzzP7sPmD_oDQ</td>\n",
       "      <td>Vila Verde</td>\n",
       "      <td>4.362335</td>\n",
       "      <td>[Restaurants, Event Planning &amp; Services, Portu...</td>\n",
       "    </tr>\n",
       "    <tr>\n",
       "      <th>1</th>\n",
       "      <td>mpDcuUs6dB5uBsYVKDWCNQ</td>\n",
       "      <td>Druxy's Famous Deli</td>\n",
       "      <td>4.527902</td>\n",
       "      <td>[Restaurants, Sandwiches, Delis, Breakfast &amp; B...</td>\n",
       "    </tr>\n",
       "    <tr>\n",
       "      <th>2</th>\n",
       "      <td>1VAsBosvx02jpvIUxiKvmg</td>\n",
       "      <td>The Dumpling Shop</td>\n",
       "      <td>4.490123</td>\n",
       "      <td>[Restaurants, Specialty Food, Chinese, Dim Sum...</td>\n",
       "    </tr>\n",
       "    <tr>\n",
       "      <th>3</th>\n",
       "      <td>XKa5R1lJSvNrbo8InhNliQ</td>\n",
       "      <td>Toronto Star Food Building</td>\n",
       "      <td>4.399106</td>\n",
       "      <td>[Food, Fast Food, Restaurants]</td>\n",
       "    </tr>\n",
       "    <tr>\n",
       "      <th>4</th>\n",
       "      <td>LcIgUlWaJJwtOfPoPWCmBg</td>\n",
       "      <td>Souppe Shoppe</td>\n",
       "      <td>4.570364</td>\n",
       "      <td>[Restaurants, Street Vendors, Food, Soup, Food...</td>\n",
       "    </tr>\n",
       "    <tr>\n",
       "      <th>5</th>\n",
       "      <td>vAz5pelrjwkpMDo_OHCDAg</td>\n",
       "      <td>Kuya Willie's Kainan</td>\n",
       "      <td>4.414823</td>\n",
       "      <td>[Breakfast &amp; Brunch, Filipino, Restaurants]</td>\n",
       "    </tr>\n",
       "    <tr>\n",
       "      <th>6</th>\n",
       "      <td>9GLN1xfck07CKfNfejKCwg</td>\n",
       "      <td>T-Sushi</td>\n",
       "      <td>4.438345</td>\n",
       "      <td>[Food, Restaurants, Sushi Bars, Food Delivery ...</td>\n",
       "    </tr>\n",
       "    <tr>\n",
       "      <th>7</th>\n",
       "      <td>y9yeMK6N0UINVECI3Ijz3Q</td>\n",
       "      <td>Hot Dog Stand</td>\n",
       "      <td>4.401293</td>\n",
       "      <td>[Hot Dogs, Restaurants]</td>\n",
       "    </tr>\n",
       "    <tr>\n",
       "      <th>8</th>\n",
       "      <td>LIjlU7K-0SPXPtYFQiXamQ</td>\n",
       "      <td>Magic Oven</td>\n",
       "      <td>4.392767</td>\n",
       "      <td>[Food Stands, Sandwiches, Restaurants, Indian]</td>\n",
       "    </tr>\n",
       "    <tr>\n",
       "      <th>9</th>\n",
       "      <td>fxRcHzovnRyWh_WMdQoNOQ</td>\n",
       "      <td>Taj Restaurant</td>\n",
       "      <td>4.377005</td>\n",
       "      <td>[Restaurants, Russian, Mediterranean]</td>\n",
       "    </tr>\n",
       "  </tbody>\n",
       "</table>\n",
       "</div>"
      ],
      "text/plain": [
       "              business_id               business_name    rating  \\\n",
       "0  2H5EaBEreDzzP7sPmD_oDQ                  Vila Verde  4.362335   \n",
       "1  mpDcuUs6dB5uBsYVKDWCNQ         Druxy's Famous Deli  4.527902   \n",
       "2  1VAsBosvx02jpvIUxiKvmg           The Dumpling Shop  4.490123   \n",
       "3  XKa5R1lJSvNrbo8InhNliQ  Toronto Star Food Building  4.399106   \n",
       "4  LcIgUlWaJJwtOfPoPWCmBg               Souppe Shoppe  4.570364   \n",
       "5  vAz5pelrjwkpMDo_OHCDAg        Kuya Willie's Kainan  4.414823   \n",
       "6  9GLN1xfck07CKfNfejKCwg                     T-Sushi  4.438345   \n",
       "7  y9yeMK6N0UINVECI3Ijz3Q               Hot Dog Stand  4.401293   \n",
       "8  LIjlU7K-0SPXPtYFQiXamQ                  Magic Oven  4.392767   \n",
       "9  fxRcHzovnRyWh_WMdQoNOQ              Taj Restaurant  4.377005   \n",
       "\n",
       "                                          categories  \n",
       "0  [Restaurants, Event Planning & Services, Portu...  \n",
       "1  [Restaurants, Sandwiches, Delis, Breakfast & B...  \n",
       "2  [Restaurants, Specialty Food, Chinese, Dim Sum...  \n",
       "3                     [Food, Fast Food, Restaurants]  \n",
       "4  [Restaurants, Street Vendors, Food, Soup, Food...  \n",
       "5        [Breakfast & Brunch, Filipino, Restaurants]  \n",
       "6  [Food, Restaurants, Sushi Bars, Food Delivery ...  \n",
       "7                            [Hot Dogs, Restaurants]  \n",
       "8     [Food Stands, Sandwiches, Restaurants, Indian]  \n",
       "9              [Restaurants, Russian, Mediterranean]  "
      ]
     },
     "execution_count": 21,
     "metadata": {},
     "output_type": "execute_result"
    }
   ],
   "source": [
    "# смотрим рекомендации и детали по ним\n",
    "a = business_new_df.alias(\"a\")\n",
    "b = userFlatRec.alias(\"b\")\n",
    "\n",
    "user_collab_df = a.join(b, col(\"a.businessId\") == col(\"b.businessId\"), 'inner') \\\n",
    "                         .select([col('a.'+xx) for xx in a.columns] + [col('b.rating')])\n",
    "    \n",
    "user_collab_df.select('business_id', 'business_name', 'rating', 'categories').toPandas()"
   ]
  },
  {
   "cell_type": "code",
   "execution_count": 23,
   "metadata": {
    "collapsed": false,
    "jupyter": {
     "outputs_hidden": false
    }
   },
   "outputs": [],
   "source": [
    "def showInMap(df):\n",
    "    mp = folium.Map(location=[43.70011, -79.4163], zoom_start=12)\n",
    "\n",
    "    for i, r in df.toPandas().iterrows():\n",
    "        folium.Marker(\n",
    "                    location =[r.latitude, r.longitude], \n",
    "                    popup = html.escape(r[\"business_name\"]) + '<br>' + 'Stars: ' + str(r.stars) + '<br>' + 'Reviews: ' + str(r.review_count),    \n",
    "                    icon = folium.Icon(color='blue')).add_to(mp)\n",
    "\n",
    "    return mp"
   ]
  },
  {
   "cell_type": "code",
   "execution_count": 24,
   "metadata": {
    "collapsed": false,
    "jupyter": {
     "outputs_hidden": false
    }
   },
   "outputs": [],
   "source": [
    "def getCollabRecom(u_id):\n",
    "    userFlatRec =  sqlContext.createDataFrame(all_userRecoms.filter(col('user_id') == u_id).rdd.flatMap(lambda p: p[1]))\n",
    "\n",
    "    a = userFlatRec.alias(\"a\")\n",
    "    b = business_new_df.alias(\"b\")\n",
    "    \n",
    "    return a.join(b, col(\"a.businessId\") == col(\"b.businessId\"), 'inner') \\\n",
    "             .select([col('b.business_id'), col('a.rating'), col('b.business_name'),col('b.categories'),\n",
    "                                                           col('b.stars'),col('b.review_count'),\n",
    "                                                           col('b.latitude'),col('b.longitude')]) \\\n",
    "             .orderBy(\"rating\", ascending = False)\n",
    "    "
   ]
  },
  {
   "cell_type": "code",
   "execution_count": 25,
   "metadata": {
    "collapsed": false,
    "jupyter": {
     "outputs_hidden": false
    }
   },
   "outputs": [
    {
     "data": {
      "text/html": [
       "<div>\n",
       "<table border=\"1\" class=\"dataframe\">\n",
       "  <thead>\n",
       "    <tr style=\"text-align: right;\">\n",
       "      <th></th>\n",
       "      <th>business_id</th>\n",
       "      <th>rating</th>\n",
       "      <th>business_name</th>\n",
       "      <th>categories</th>\n",
       "      <th>stars</th>\n",
       "      <th>review_count</th>\n",
       "      <th>latitude</th>\n",
       "      <th>longitude</th>\n",
       "    </tr>\n",
       "  </thead>\n",
       "  <tbody>\n",
       "    <tr>\n",
       "      <th>0</th>\n",
       "      <td>LcIgUlWaJJwtOfPoPWCmBg</td>\n",
       "      <td>4.570364</td>\n",
       "      <td>Souppe Shoppe</td>\n",
       "      <td>[Restaurants, Street Vendors, Food, Soup, Food...</td>\n",
       "      <td>5.0</td>\n",
       "      <td>4</td>\n",
       "      <td>43.651425</td>\n",
       "      <td>-79.404123</td>\n",
       "    </tr>\n",
       "    <tr>\n",
       "      <th>1</th>\n",
       "      <td>mpDcuUs6dB5uBsYVKDWCNQ</td>\n",
       "      <td>4.527902</td>\n",
       "      <td>Druxy's Famous Deli</td>\n",
       "      <td>[Restaurants, Sandwiches, Delis, Breakfast &amp; B...</td>\n",
       "      <td>4.0</td>\n",
       "      <td>4</td>\n",
       "      <td>43.648235</td>\n",
       "      <td>-79.379525</td>\n",
       "    </tr>\n",
       "    <tr>\n",
       "      <th>2</th>\n",
       "      <td>1VAsBosvx02jpvIUxiKvmg</td>\n",
       "      <td>4.490123</td>\n",
       "      <td>The Dumpling Shop</td>\n",
       "      <td>[Restaurants, Specialty Food, Chinese, Dim Sum...</td>\n",
       "      <td>4.5</td>\n",
       "      <td>11</td>\n",
       "      <td>43.767971</td>\n",
       "      <td>-79.401363</td>\n",
       "    </tr>\n",
       "    <tr>\n",
       "      <th>3</th>\n",
       "      <td>9GLN1xfck07CKfNfejKCwg</td>\n",
       "      <td>4.438345</td>\n",
       "      <td>T-Sushi</td>\n",
       "      <td>[Food, Restaurants, Sushi Bars, Food Delivery ...</td>\n",
       "      <td>5.0</td>\n",
       "      <td>13</td>\n",
       "      <td>43.644745</td>\n",
       "      <td>-79.390892</td>\n",
       "    </tr>\n",
       "    <tr>\n",
       "      <th>4</th>\n",
       "      <td>vAz5pelrjwkpMDo_OHCDAg</td>\n",
       "      <td>4.414823</td>\n",
       "      <td>Kuya Willie's Kainan</td>\n",
       "      <td>[Breakfast &amp; Brunch, Filipino, Restaurants]</td>\n",
       "      <td>3.5</td>\n",
       "      <td>3</td>\n",
       "      <td>43.759288</td>\n",
       "      <td>-79.310866</td>\n",
       "    </tr>\n",
       "    <tr>\n",
       "      <th>5</th>\n",
       "      <td>y9yeMK6N0UINVECI3Ijz3Q</td>\n",
       "      <td>4.401293</td>\n",
       "      <td>Hot Dog Stand</td>\n",
       "      <td>[Hot Dogs, Restaurants]</td>\n",
       "      <td>4.0</td>\n",
       "      <td>3</td>\n",
       "      <td>43.681236</td>\n",
       "      <td>-79.377222</td>\n",
       "    </tr>\n",
       "    <tr>\n",
       "      <th>6</th>\n",
       "      <td>XKa5R1lJSvNrbo8InhNliQ</td>\n",
       "      <td>4.399106</td>\n",
       "      <td>Toronto Star Food Building</td>\n",
       "      <td>[Food, Fast Food, Restaurants]</td>\n",
       "      <td>4.5</td>\n",
       "      <td>3</td>\n",
       "      <td>43.632265</td>\n",
       "      <td>-79.420313</td>\n",
       "    </tr>\n",
       "    <tr>\n",
       "      <th>7</th>\n",
       "      <td>LIjlU7K-0SPXPtYFQiXamQ</td>\n",
       "      <td>4.392767</td>\n",
       "      <td>Magic Oven</td>\n",
       "      <td>[Food Stands, Sandwiches, Restaurants, Indian]</td>\n",
       "      <td>5.0</td>\n",
       "      <td>3</td>\n",
       "      <td>43.652294</td>\n",
       "      <td>-79.405521</td>\n",
       "    </tr>\n",
       "    <tr>\n",
       "      <th>8</th>\n",
       "      <td>fxRcHzovnRyWh_WMdQoNOQ</td>\n",
       "      <td>4.377005</td>\n",
       "      <td>Taj Restaurant</td>\n",
       "      <td>[Restaurants, Russian, Mediterranean]</td>\n",
       "      <td>5.0</td>\n",
       "      <td>4</td>\n",
       "      <td>43.696764</td>\n",
       "      <td>-79.446227</td>\n",
       "    </tr>\n",
       "    <tr>\n",
       "      <th>9</th>\n",
       "      <td>2H5EaBEreDzzP7sPmD_oDQ</td>\n",
       "      <td>4.362335</td>\n",
       "      <td>Vila Verde</td>\n",
       "      <td>[Restaurants, Event Planning &amp; Services, Portu...</td>\n",
       "      <td>4.0</td>\n",
       "      <td>4</td>\n",
       "      <td>43.651243</td>\n",
       "      <td>-79.410631</td>\n",
       "    </tr>\n",
       "  </tbody>\n",
       "</table>\n",
       "</div>"
      ],
      "text/plain": [
       "              business_id    rating               business_name  \\\n",
       "0  LcIgUlWaJJwtOfPoPWCmBg  4.570364               Souppe Shoppe   \n",
       "1  mpDcuUs6dB5uBsYVKDWCNQ  4.527902         Druxy's Famous Deli   \n",
       "2  1VAsBosvx02jpvIUxiKvmg  4.490123           The Dumpling Shop   \n",
       "3  9GLN1xfck07CKfNfejKCwg  4.438345                     T-Sushi   \n",
       "4  vAz5pelrjwkpMDo_OHCDAg  4.414823        Kuya Willie's Kainan   \n",
       "5  y9yeMK6N0UINVECI3Ijz3Q  4.401293               Hot Dog Stand   \n",
       "6  XKa5R1lJSvNrbo8InhNliQ  4.399106  Toronto Star Food Building   \n",
       "7  LIjlU7K-0SPXPtYFQiXamQ  4.392767                  Magic Oven   \n",
       "8  fxRcHzovnRyWh_WMdQoNOQ  4.377005              Taj Restaurant   \n",
       "9  2H5EaBEreDzzP7sPmD_oDQ  4.362335                  Vila Verde   \n",
       "\n",
       "                                          categories  stars  review_count  \\\n",
       "0  [Restaurants, Street Vendors, Food, Soup, Food...    5.0             4   \n",
       "1  [Restaurants, Sandwiches, Delis, Breakfast & B...    4.0             4   \n",
       "2  [Restaurants, Specialty Food, Chinese, Dim Sum...    4.5            11   \n",
       "3  [Food, Restaurants, Sushi Bars, Food Delivery ...    5.0            13   \n",
       "4        [Breakfast & Brunch, Filipino, Restaurants]    3.5             3   \n",
       "5                            [Hot Dogs, Restaurants]    4.0             3   \n",
       "6                     [Food, Fast Food, Restaurants]    4.5             3   \n",
       "7     [Food Stands, Sandwiches, Restaurants, Indian]    5.0             3   \n",
       "8              [Restaurants, Russian, Mediterranean]    5.0             4   \n",
       "9  [Restaurants, Event Planning & Services, Portu...    4.0             4   \n",
       "\n",
       "    latitude  longitude  \n",
       "0  43.651425 -79.404123  \n",
       "1  43.648235 -79.379525  \n",
       "2  43.767971 -79.401363  \n",
       "3  43.644745 -79.390892  \n",
       "4  43.759288 -79.310866  \n",
       "5  43.681236 -79.377222  \n",
       "6  43.632265 -79.420313  \n",
       "7  43.652294 -79.405521  \n",
       "8  43.696764 -79.446227  \n",
       "9  43.651243 -79.410631  "
      ]
     },
     "execution_count": 25,
     "metadata": {},
     "output_type": "execute_result"
    }
   ],
   "source": [
    "u_id = 'ZWD8UH1T7QXQr0Eq-mcWYg'\n",
    "\n",
    "getCollabRecom(u_id).toPandas()"
   ]
  },
  {
   "cell_type": "code",
   "execution_count": 26,
   "metadata": {
    "collapsed": false,
    "jupyter": {
     "outputs_hidden": false
    }
   },
   "outputs": [
    {
     "data": {
      "text/html": [
       "<div style=\"width:100%;\"><div style=\"position:relative;width:100%;height:0;padding-bottom:60%;\"><iframe src=\"data:text/html;charset=utf-8;base64,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\" style=\"position:absolute;width:100%;height:100%;left:0;top:0;border:none !important;\" allowfullscreen webkitallowfullscreen mozallowfullscreen></iframe></div></div>"
      ],
      "text/plain": [
       "<folium.folium.Map at 0x7feffbabfa90>"
      ]
     },
     "execution_count": 26,
     "metadata": {},
     "output_type": "execute_result"
    }
   ],
   "source": [
    "u_id = 'ZWD8UH1T7QXQr0Eq-mcWYg'\n",
    "showInMap(getCollabRecom(u_id))"
   ]
  },
  {
   "cell_type": "code",
   "execution_count": null,
   "metadata": {
    "collapsed": true,
    "jupyter": {
     "outputs_hidden": true
    }
   },
   "outputs": [],
   "source": []
  }
 ],
 "metadata": {
  "anaconda-cloud": {},
  "kernelspec": {
   "display_name": "Python 3 (ipykernel)",
   "language": "python",
   "name": "python3"
  },
  "language_info": {
   "codemirror_mode": {
    "name": "ipython",
    "version": 3
   },
   "file_extension": ".py",
   "mimetype": "text/x-python",
   "name": "python",
   "nbconvert_exporter": "python",
   "pygments_lexer": "ipython3",
   "version": "3.9.7"
  }
 },
 "nbformat": 4,
 "nbformat_minor": 4
}
