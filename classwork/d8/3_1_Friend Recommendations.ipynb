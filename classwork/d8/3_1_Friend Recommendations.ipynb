{
 "cells": [
  {
   "cell_type": "code",
   "execution_count": 1,
   "metadata": {
    "collapsed": false,
    "jupyter": {
     "outputs_hidden": false
    }
   },
   "outputs": [],
   "source": [
    "import numpy as np\n",
    "import pandas as pd\n",
    "import matplotlib.pyplot as plt\n",
    "%matplotlib inline\n",
    "\n",
    "import seaborn as sns\n",
    "sns.set(style=\"darkgrid\")\n",
    "\n",
    "\n",
    "from pyspark.sql.functions import *\n",
    "from pyspark.sql.types import *\n",
    "\n",
    "\n",
    "\n",
    "import folium\n",
    "import html"
   ]
  },
  {
   "cell_type": "markdown",
   "metadata": {},
   "source": [
    "### Load Data"
   ]
  },
  {
   "cell_type": "markdown",
   "metadata": {},
   "source": [
    "##### Load business data"
   ]
  },
  {
   "cell_type": "code",
   "execution_count": 3,
   "metadata": {
    "collapsed": false,
    "jupyter": {
     "outputs_hidden": false
    }
   },
   "outputs": [],
   "source": [
    "business_df = spark.read.parquet('business-small.parquet')"
   ]
  },
  {
   "cell_type": "code",
   "execution_count": 7,
   "metadata": {
    "collapsed": false,
    "jupyter": {
     "outputs_hidden": false
    }
   },
   "outputs": [],
   "source": [
    "# создадим SQL вид для привычного обращения через SQL скрипт\n",
    "business_df.createOrReplaceTempView(\"businesses\")"
   ]
  },
  {
   "cell_type": "markdown",
   "metadata": {},
   "source": [
    "##### Load user data"
   ]
  },
  {
   "cell_type": "code",
   "execution_count": 8,
   "metadata": {
    "collapsed": false,
    "jupyter": {
     "outputs_hidden": false
    }
   },
   "outputs": [
    {
     "name": "stdout",
     "output_type": "stream",
     "text": [
      "root\n",
      " |-- user_id: string (nullable = true)\n",
      " |-- user_name: string (nullable = true)\n",
      " |-- review_count: long (nullable = true)\n",
      " |-- yelping_since: string (nullable = true)\n",
      " |-- useful: long (nullable = true)\n",
      " |-- funny: long (nullable = true)\n",
      " |-- cool: long (nullable = true)\n",
      " |-- fans: long (nullable = true)\n",
      " |-- average_stars: double (nullable = true)\n",
      "\n"
     ]
    }
   ],
   "source": [
    "user_df = spark.read.parquet(data_path + 'user-small.parquet')"
   ]
  },
  {
   "cell_type": "code",
   "execution_count": 11,
   "metadata": {
    "collapsed": true,
    "jupyter": {
     "outputs_hidden": true
    }
   },
   "outputs": [],
   "source": [
    "user_df.createOrReplaceTempView(\"users\")"
   ]
  },
  {
   "cell_type": "markdown",
   "metadata": {},
   "source": [
    "##### Load users' friends data"
   ]
  },
  {
   "cell_type": "code",
   "execution_count": 12,
   "metadata": {
    "collapsed": false,
    "jupyter": {
     "outputs_hidden": false
    }
   },
   "outputs": [
    {
     "name": "stdout",
     "output_type": "stream",
     "text": [
      "root\n",
      " |-- user_id: string (nullable = true)\n",
      " |-- friend_id: string (nullable = true)\n",
      "\n"
     ]
    }
   ],
   "source": [
    "friend_df = spark.read.parquet('friend-small.parquet')"
   ]
  },
  {
   "cell_type": "code",
   "execution_count": 21,
   "metadata": {
    "collapsed": true,
    "jupyter": {
     "outputs_hidden": true
    }
   },
   "outputs": [],
   "source": [
    "friend_df.createOrReplaceTempView(\"friends\")"
   ]
  },
  {
   "cell_type": "markdown",
   "metadata": {},
   "source": [
    "##### Load review data"
   ]
  },
  {
   "cell_type": "code",
   "execution_count": 15,
   "metadata": {
    "collapsed": false,
    "jupyter": {
     "outputs_hidden": false
    }
   },
   "outputs": [
    {
     "name": "stdout",
     "output_type": "stream",
     "text": [
      "root\n",
      " |-- review_id: string (nullable = true)\n",
      " |-- user_id: string (nullable = true)\n",
      " |-- business_id: string (nullable = true)\n",
      " |-- stars: long (nullable = true)\n",
      " |-- review_date: string (nullable = true)\n",
      " |-- review_text: string (nullable = true)\n",
      " |-- useful: long (nullable = true)\n",
      " |-- funny: long (nullable = true)\n",
      " |-- cool: long (nullable = true)\n",
      "\n"
     ]
    }
   ],
   "source": [
    "review_df = spark.read.parquet( 'review-small.parquet')"
   ]
  },
  {
   "cell_type": "code",
   "execution_count": 17,
   "metadata": {
    "collapsed": false,
    "jupyter": {
     "outputs_hidden": false
    }
   },
   "outputs": [
    {
     "name": "stdout",
     "output_type": "stream",
     "text": [
      "root\n",
      " |-- review_id: string (nullable = true)\n",
      " |-- user_id: string (nullable = true)\n",
      " |-- business_id: string (nullable = true)\n",
      " |-- stars: long (nullable = true)\n",
      " |-- review_date: date (nullable = true)\n",
      " |-- review_text: string (nullable = true)\n",
      " |-- useful: long (nullable = true)\n",
      " |-- funny: long (nullable = true)\n",
      " |-- cool: long (nullable = true)\n",
      "\n"
     ]
    }
   ],
   "source": [
    "# меняем типы данных для лучшего обращения к ним\n",
    "review_df = review_df.withColumn(\"review_date\", review_df[\"review_date\"].cast(DateType()))\n",
    "\n",
    "review_df.printSchema()"
   ]
  },
  {
   "cell_type": "code",
   "execution_count": 20,
   "metadata": {
    "collapsed": true,
    "jupyter": {
     "outputs_hidden": true
    }
   },
   "outputs": [],
   "source": [
    "review_df.createOrReplaceTempView(\"reviews\")"
   ]
  },
  {
   "cell_type": "markdown",
   "metadata": {},
   "source": [
    "### Простая рекомендашка (как посоветуют друзья)"
   ]
  },
  {
   "cell_type": "code",
   "execution_count": 54,
   "metadata": {
    "collapsed": false,
    "jupyter": {
     "outputs_hidden": false
    }
   },
   "outputs": [
    {
     "data": {
      "text/html": [
       "<div>\n",
       "<table border=\"1\" class=\"dataframe\">\n",
       "  <thead>\n",
       "    <tr style=\"text-align: right;\">\n",
       "      <th></th>\n",
       "      <th>business_id</th>\n",
       "      <th>4_5_stars_count</th>\n",
       "    </tr>\n",
       "  </thead>\n",
       "  <tbody>\n",
       "    <tr>\n",
       "      <th>0</th>\n",
       "      <td>SGP1jf6k7spXkgwBlhiUVw</td>\n",
       "      <td>5</td>\n",
       "    </tr>\n",
       "    <tr>\n",
       "      <th>1</th>\n",
       "      <td>kOFDVcnj-8fd3doIpCQ06A</td>\n",
       "      <td>5</td>\n",
       "    </tr>\n",
       "    <tr>\n",
       "      <th>2</th>\n",
       "      <td>0a2O150ytxrDjDzXNfRWkA</td>\n",
       "      <td>4</td>\n",
       "    </tr>\n",
       "    <tr>\n",
       "      <th>3</th>\n",
       "      <td>k6zmSLmYAquCpJGKNnTgSQ</td>\n",
       "      <td>4</td>\n",
       "    </tr>\n",
       "    <tr>\n",
       "      <th>4</th>\n",
       "      <td>SjgeuBlgKER9yegpoxT99w</td>\n",
       "      <td>4</td>\n",
       "    </tr>\n",
       "    <tr>\n",
       "      <th>5</th>\n",
       "      <td>b4LmLgVdbhM-nc1IZc5Weg</td>\n",
       "      <td>3</td>\n",
       "    </tr>\n",
       "    <tr>\n",
       "      <th>6</th>\n",
       "      <td>-J6FVdY9pSgAdFmmalO-pQ</td>\n",
       "      <td>3</td>\n",
       "    </tr>\n",
       "    <tr>\n",
       "      <th>7</th>\n",
       "      <td>28adZ4lsuUeVB2aWzohK9g</td>\n",
       "      <td>3</td>\n",
       "    </tr>\n",
       "    <tr>\n",
       "      <th>8</th>\n",
       "      <td>G6EkDTXZ6zMUovg7JTG4YQ</td>\n",
       "      <td>3</td>\n",
       "    </tr>\n",
       "    <tr>\n",
       "      <th>9</th>\n",
       "      <td>RwRNR4z3kY-4OsFqigY5sw</td>\n",
       "      <td>3</td>\n",
       "    </tr>\n",
       "    <tr>\n",
       "      <th>10</th>\n",
       "      <td>HUYEadSbGSQNHXFmT2Ujjw</td>\n",
       "      <td>3</td>\n",
       "    </tr>\n",
       "    <tr>\n",
       "      <th>11</th>\n",
       "      <td>_5izyrn1qV0uyec65UsdIA</td>\n",
       "      <td>3</td>\n",
       "    </tr>\n",
       "    <tr>\n",
       "      <th>12</th>\n",
       "      <td>Yv4P4qUwd7F-qQ4Y4eD1JQ</td>\n",
       "      <td>3</td>\n",
       "    </tr>\n",
       "    <tr>\n",
       "      <th>13</th>\n",
       "      <td>_xAJZOKBMPOe47p1MphB2w</td>\n",
       "      <td>3</td>\n",
       "    </tr>\n",
       "    <tr>\n",
       "      <th>14</th>\n",
       "      <td>dTuT_G3Zp79RZmnF3oxfiA</td>\n",
       "      <td>3</td>\n",
       "    </tr>\n",
       "    <tr>\n",
       "      <th>15</th>\n",
       "      <td>GcxE5hK_TaHP4EZFDYz2mg</td>\n",
       "      <td>3</td>\n",
       "    </tr>\n",
       "    <tr>\n",
       "      <th>16</th>\n",
       "      <td>piZ4JqJI5WTljJuQV7yZHQ</td>\n",
       "      <td>3</td>\n",
       "    </tr>\n",
       "    <tr>\n",
       "      <th>17</th>\n",
       "      <td>LBHbyID7tcaGszznHtnCrw</td>\n",
       "      <td>3</td>\n",
       "    </tr>\n",
       "    <tr>\n",
       "      <th>18</th>\n",
       "      <td>crstB-H5rOfbXhV8pX0e6g</td>\n",
       "      <td>3</td>\n",
       "    </tr>\n",
       "    <tr>\n",
       "      <th>19</th>\n",
       "      <td>MhiBpIBNTCAm1Xd3WzRzjQ</td>\n",
       "      <td>3</td>\n",
       "    </tr>\n",
       "    <tr>\n",
       "      <th>20</th>\n",
       "      <td>TLMysu1mWiLEslCBon5W1g</td>\n",
       "      <td>2</td>\n",
       "    </tr>\n",
       "    <tr>\n",
       "      <th>21</th>\n",
       "      <td>RyDiwx4xD3Lx8sWHx1aFlQ</td>\n",
       "      <td>2</td>\n",
       "    </tr>\n",
       "    <tr>\n",
       "      <th>22</th>\n",
       "      <td>cPXasVLtq_1gmuSg65TUfQ</td>\n",
       "      <td>2</td>\n",
       "    </tr>\n",
       "    <tr>\n",
       "      <th>23</th>\n",
       "      <td>JJ8ypBu3b--fy4HA5RB1gg</td>\n",
       "      <td>2</td>\n",
       "    </tr>\n",
       "    <tr>\n",
       "      <th>24</th>\n",
       "      <td>ERnG-1q3igX3VSgm5uLZ6A</td>\n",
       "      <td>2</td>\n",
       "    </tr>\n",
       "    <tr>\n",
       "      <th>25</th>\n",
       "      <td>cisqOxAgQPjVVr9Yzk8_dw</td>\n",
       "      <td>2</td>\n",
       "    </tr>\n",
       "    <tr>\n",
       "      <th>26</th>\n",
       "      <td>mES9E5K4HbYoPFXGv0pUuw</td>\n",
       "      <td>2</td>\n",
       "    </tr>\n",
       "    <tr>\n",
       "      <th>27</th>\n",
       "      <td>O-uIEuv7JLUHajkemx_sVw</td>\n",
       "      <td>2</td>\n",
       "    </tr>\n",
       "    <tr>\n",
       "      <th>28</th>\n",
       "      <td>MC4becrrM9ntmnfMrD9b0g</td>\n",
       "      <td>2</td>\n",
       "    </tr>\n",
       "    <tr>\n",
       "      <th>29</th>\n",
       "      <td>SnsZFsVf1tQvBCPmhe8gGw</td>\n",
       "      <td>2</td>\n",
       "    </tr>\n",
       "    <tr>\n",
       "      <th>...</th>\n",
       "      <td>...</td>\n",
       "      <td>...</td>\n",
       "    </tr>\n",
       "    <tr>\n",
       "      <th>70</th>\n",
       "      <td>Bf2fuqWbHd3L-X69FSMvmg</td>\n",
       "      <td>2</td>\n",
       "    </tr>\n",
       "    <tr>\n",
       "      <th>71</th>\n",
       "      <td>-Tpo5r3kF_z4iilx8JXhvA</td>\n",
       "      <td>2</td>\n",
       "    </tr>\n",
       "    <tr>\n",
       "      <th>72</th>\n",
       "      <td>ofw8aDSEg1HoQdmCgvLtaQ</td>\n",
       "      <td>2</td>\n",
       "    </tr>\n",
       "    <tr>\n",
       "      <th>73</th>\n",
       "      <td>KpFgHrxoVOiwfpR0f5KXUA</td>\n",
       "      <td>2</td>\n",
       "    </tr>\n",
       "    <tr>\n",
       "      <th>74</th>\n",
       "      <td>_u1Bq7QsgMUXSMex8QHqLQ</td>\n",
       "      <td>2</td>\n",
       "    </tr>\n",
       "    <tr>\n",
       "      <th>75</th>\n",
       "      <td>8I5U8OQ06nSxX2y4PPOWzQ</td>\n",
       "      <td>2</td>\n",
       "    </tr>\n",
       "    <tr>\n",
       "      <th>76</th>\n",
       "      <td>a911y0BuV1rjHXkXlFm3Ig</td>\n",
       "      <td>2</td>\n",
       "    </tr>\n",
       "    <tr>\n",
       "      <th>77</th>\n",
       "      <td>KvfaPsLlpOZAF276Lpvm4w</td>\n",
       "      <td>2</td>\n",
       "    </tr>\n",
       "    <tr>\n",
       "      <th>78</th>\n",
       "      <td>K6XIGkyk7-fuOQtA8i7p6A</td>\n",
       "      <td>2</td>\n",
       "    </tr>\n",
       "    <tr>\n",
       "      <th>79</th>\n",
       "      <td>0cpLF0LFQHHRFNlL0iy_Aw</td>\n",
       "      <td>2</td>\n",
       "    </tr>\n",
       "    <tr>\n",
       "      <th>80</th>\n",
       "      <td>RncIql4WBvbJBMed8x3F_A</td>\n",
       "      <td>2</td>\n",
       "    </tr>\n",
       "    <tr>\n",
       "      <th>81</th>\n",
       "      <td>4twpbw7n4DmsLxAm6-sMkg</td>\n",
       "      <td>2</td>\n",
       "    </tr>\n",
       "    <tr>\n",
       "      <th>82</th>\n",
       "      <td>dc3uoAmNo5STqKV6mlD_aA</td>\n",
       "      <td>2</td>\n",
       "    </tr>\n",
       "    <tr>\n",
       "      <th>83</th>\n",
       "      <td>9Oc8UhYNarSisYM9SEBsKQ</td>\n",
       "      <td>2</td>\n",
       "    </tr>\n",
       "    <tr>\n",
       "      <th>84</th>\n",
       "      <td>3tiEjjBtdfV5_npPNzs0Cg</td>\n",
       "      <td>2</td>\n",
       "    </tr>\n",
       "    <tr>\n",
       "      <th>85</th>\n",
       "      <td>U4iqELk1IiqARpk5uJJOZg</td>\n",
       "      <td>2</td>\n",
       "    </tr>\n",
       "    <tr>\n",
       "      <th>86</th>\n",
       "      <td>9_CGhHMz8698M9-PkVf0CQ</td>\n",
       "      <td>2</td>\n",
       "    </tr>\n",
       "    <tr>\n",
       "      <th>87</th>\n",
       "      <td>57_msr8gjNakjGO-1f6B_g</td>\n",
       "      <td>2</td>\n",
       "    </tr>\n",
       "    <tr>\n",
       "      <th>88</th>\n",
       "      <td>mG71gQ5HWl7ut9OCN6NJKA</td>\n",
       "      <td>2</td>\n",
       "    </tr>\n",
       "    <tr>\n",
       "      <th>89</th>\n",
       "      <td>DPA9MQKkCqT0qnevsG740A</td>\n",
       "      <td>2</td>\n",
       "    </tr>\n",
       "    <tr>\n",
       "      <th>90</th>\n",
       "      <td>oZyaFqZYf0eqKRiP-aY81Q</td>\n",
       "      <td>2</td>\n",
       "    </tr>\n",
       "    <tr>\n",
       "      <th>91</th>\n",
       "      <td>kDFeGBX1vWiDyJXMYRL0_A</td>\n",
       "      <td>1</td>\n",
       "    </tr>\n",
       "    <tr>\n",
       "      <th>92</th>\n",
       "      <td>7v91woy8IpLrqXsRvxj_vw</td>\n",
       "      <td>1</td>\n",
       "    </tr>\n",
       "    <tr>\n",
       "      <th>93</th>\n",
       "      <td>c1_adyjYG6JEa1PZAXMOBg</td>\n",
       "      <td>1</td>\n",
       "    </tr>\n",
       "    <tr>\n",
       "      <th>94</th>\n",
       "      <td>5WJOM9DefIvLOIrntDIv-A</td>\n",
       "      <td>1</td>\n",
       "    </tr>\n",
       "    <tr>\n",
       "      <th>95</th>\n",
       "      <td>_cjPEH9wXhKS-HQe_U3M4Q</td>\n",
       "      <td>1</td>\n",
       "    </tr>\n",
       "    <tr>\n",
       "      <th>96</th>\n",
       "      <td>oOGLDf2rzeCPS7UQ8hhPlQ</td>\n",
       "      <td>1</td>\n",
       "    </tr>\n",
       "    <tr>\n",
       "      <th>97</th>\n",
       "      <td>DIVF4oo86EGupm5CC60sZg</td>\n",
       "      <td>1</td>\n",
       "    </tr>\n",
       "    <tr>\n",
       "      <th>98</th>\n",
       "      <td>An_U8woQkFVsMqVblkImZQ</td>\n",
       "      <td>1</td>\n",
       "    </tr>\n",
       "    <tr>\n",
       "      <th>99</th>\n",
       "      <td>84ezTxVxTCmI65_UeYRJcA</td>\n",
       "      <td>1</td>\n",
       "    </tr>\n",
       "  </tbody>\n",
       "</table>\n",
       "<p>100 rows × 2 columns</p>\n",
       "</div>"
      ],
      "text/plain": [
       "               business_id  4_5_stars_count\n",
       "0   SGP1jf6k7spXkgwBlhiUVw                5\n",
       "1   kOFDVcnj-8fd3doIpCQ06A                5\n",
       "2   0a2O150ytxrDjDzXNfRWkA                4\n",
       "3   k6zmSLmYAquCpJGKNnTgSQ                4\n",
       "4   SjgeuBlgKER9yegpoxT99w                4\n",
       "5   b4LmLgVdbhM-nc1IZc5Weg                3\n",
       "6   -J6FVdY9pSgAdFmmalO-pQ                3\n",
       "7   28adZ4lsuUeVB2aWzohK9g                3\n",
       "8   G6EkDTXZ6zMUovg7JTG4YQ                3\n",
       "9   RwRNR4z3kY-4OsFqigY5sw                3\n",
       "10  HUYEadSbGSQNHXFmT2Ujjw                3\n",
       "11  _5izyrn1qV0uyec65UsdIA                3\n",
       "12  Yv4P4qUwd7F-qQ4Y4eD1JQ                3\n",
       "13  _xAJZOKBMPOe47p1MphB2w                3\n",
       "14  dTuT_G3Zp79RZmnF3oxfiA                3\n",
       "15  GcxE5hK_TaHP4EZFDYz2mg                3\n",
       "16  piZ4JqJI5WTljJuQV7yZHQ                3\n",
       "17  LBHbyID7tcaGszznHtnCrw                3\n",
       "18  crstB-H5rOfbXhV8pX0e6g                3\n",
       "19  MhiBpIBNTCAm1Xd3WzRzjQ                3\n",
       "20  TLMysu1mWiLEslCBon5W1g                2\n",
       "21  RyDiwx4xD3Lx8sWHx1aFlQ                2\n",
       "22  cPXasVLtq_1gmuSg65TUfQ                2\n",
       "23  JJ8ypBu3b--fy4HA5RB1gg                2\n",
       "24  ERnG-1q3igX3VSgm5uLZ6A                2\n",
       "25  cisqOxAgQPjVVr9Yzk8_dw                2\n",
       "26  mES9E5K4HbYoPFXGv0pUuw                2\n",
       "27  O-uIEuv7JLUHajkemx_sVw                2\n",
       "28  MC4becrrM9ntmnfMrD9b0g                2\n",
       "29  SnsZFsVf1tQvBCPmhe8gGw                2\n",
       "..                     ...              ...\n",
       "70  Bf2fuqWbHd3L-X69FSMvmg                2\n",
       "71  -Tpo5r3kF_z4iilx8JXhvA                2\n",
       "72  ofw8aDSEg1HoQdmCgvLtaQ                2\n",
       "73  KpFgHrxoVOiwfpR0f5KXUA                2\n",
       "74  _u1Bq7QsgMUXSMex8QHqLQ                2\n",
       "75  8I5U8OQ06nSxX2y4PPOWzQ                2\n",
       "76  a911y0BuV1rjHXkXlFm3Ig                2\n",
       "77  KvfaPsLlpOZAF276Lpvm4w                2\n",
       "78  K6XIGkyk7-fuOQtA8i7p6A                2\n",
       "79  0cpLF0LFQHHRFNlL0iy_Aw                2\n",
       "80  RncIql4WBvbJBMed8x3F_A                2\n",
       "81  4twpbw7n4DmsLxAm6-sMkg                2\n",
       "82  dc3uoAmNo5STqKV6mlD_aA                2\n",
       "83  9Oc8UhYNarSisYM9SEBsKQ                2\n",
       "84  3tiEjjBtdfV5_npPNzs0Cg                2\n",
       "85  U4iqELk1IiqARpk5uJJOZg                2\n",
       "86  9_CGhHMz8698M9-PkVf0CQ                2\n",
       "87  57_msr8gjNakjGO-1f6B_g                2\n",
       "88  mG71gQ5HWl7ut9OCN6NJKA                2\n",
       "89  DPA9MQKkCqT0qnevsG740A                2\n",
       "90  oZyaFqZYf0eqKRiP-aY81Q                2\n",
       "91  kDFeGBX1vWiDyJXMYRL0_A                1\n",
       "92  7v91woy8IpLrqXsRvxj_vw                1\n",
       "93  c1_adyjYG6JEa1PZAXMOBg                1\n",
       "94  5WJOM9DefIvLOIrntDIv-A                1\n",
       "95  _cjPEH9wXhKS-HQe_U3M4Q                1\n",
       "96  oOGLDf2rzeCPS7UQ8hhPlQ                1\n",
       "97  DIVF4oo86EGupm5CC60sZg                1\n",
       "98  An_U8woQkFVsMqVblkImZQ                1\n",
       "99  84ezTxVxTCmI65_UeYRJcA                1\n",
       "\n",
       "[100 rows x 2 columns]"
      ]
     },
     "execution_count": 54,
     "metadata": {},
     "output_type": "execute_result"
    }
   ],
   "source": [
    "u_id = 'uxKSnOVAoEj4I6X9YhLBlg'\n",
    "\n",
    "query = \"\"\"\n",
    "select business_id, count(*) as 4_5_stars_count \n",
    "from reviews\n",
    "where user_id in\n",
    "    (select f.friend_id from friends f\n",
    "    inner join users u on f.friend_id = u.user_id\n",
    "    where f.user_id = \"{}\") \n",
    "and stars >= 4 \n",
    "and business_id not in (select business_id from reviews where user_id = \"{}\")\n",
    "group by business_id\n",
    "order by count(*) desc limit 100\n",
    "\"\"\".format(u_id, u_id)\n",
    "\n",
    "friend_recoms_df = sqlContext.sql(query)\n",
    "\n",
    "friend_recoms_df.toPandas()"
   ]
  },
  {
   "cell_type": "code",
   "execution_count": 58,
   "metadata": {
    "collapsed": false,
    "jupyter": {
     "outputs_hidden": false
    }
   },
   "outputs": [
    {
     "data": {
      "text/html": [
       "<div>\n",
       "<table border=\"1\" class=\"dataframe\">\n",
       "  <thead>\n",
       "    <tr style=\"text-align: right;\">\n",
       "      <th></th>\n",
       "      <th>business_id</th>\n",
       "      <th>4_5_stars_count</th>\n",
       "    </tr>\n",
       "  </thead>\n",
       "  <tbody>\n",
       "    <tr>\n",
       "      <th>0</th>\n",
       "      <td>SGP1jf6k7spXkgwBlhiUVw</td>\n",
       "      <td>5</td>\n",
       "    </tr>\n",
       "    <tr>\n",
       "      <th>1</th>\n",
       "      <td>kOFDVcnj-8fd3doIpCQ06A</td>\n",
       "      <td>5</td>\n",
       "    </tr>\n",
       "    <tr>\n",
       "      <th>2</th>\n",
       "      <td>SjgeuBlgKER9yegpoxT99w</td>\n",
       "      <td>4</td>\n",
       "    </tr>\n",
       "    <tr>\n",
       "      <th>3</th>\n",
       "      <td>GcxE5hK_TaHP4EZFDYz2mg</td>\n",
       "      <td>3</td>\n",
       "    </tr>\n",
       "    <tr>\n",
       "      <th>4</th>\n",
       "      <td>crstB-H5rOfbXhV8pX0e6g</td>\n",
       "      <td>3</td>\n",
       "    </tr>\n",
       "    <tr>\n",
       "      <th>5</th>\n",
       "      <td>28adZ4lsuUeVB2aWzohK9g</td>\n",
       "      <td>3</td>\n",
       "    </tr>\n",
       "    <tr>\n",
       "      <th>6</th>\n",
       "      <td>HUYEadSbGSQNHXFmT2Ujjw</td>\n",
       "      <td>3</td>\n",
       "    </tr>\n",
       "    <tr>\n",
       "      <th>7</th>\n",
       "      <td>RwRNR4z3kY-4OsFqigY5sw</td>\n",
       "      <td>3</td>\n",
       "    </tr>\n",
       "    <tr>\n",
       "      <th>8</th>\n",
       "      <td>b4LmLgVdbhM-nc1IZc5Weg</td>\n",
       "      <td>3</td>\n",
       "    </tr>\n",
       "    <tr>\n",
       "      <th>9</th>\n",
       "      <td>a8pmtlVKf7NiSLI-4KejIw</td>\n",
       "      <td>2</td>\n",
       "    </tr>\n",
       "  </tbody>\n",
       "</table>\n",
       "</div>"
      ],
      "text/plain": [
       "              business_id  4_5_stars_count\n",
       "0  SGP1jf6k7spXkgwBlhiUVw                5\n",
       "1  kOFDVcnj-8fd3doIpCQ06A                5\n",
       "2  SjgeuBlgKER9yegpoxT99w                4\n",
       "3  GcxE5hK_TaHP4EZFDYz2mg                3\n",
       "4  crstB-H5rOfbXhV8pX0e6g                3\n",
       "5  28adZ4lsuUeVB2aWzohK9g                3\n",
       "6  HUYEadSbGSQNHXFmT2Ujjw                3\n",
       "7  RwRNR4z3kY-4OsFqigY5sw                3\n",
       "8  b4LmLgVdbhM-nc1IZc5Weg                3\n",
       "9  a8pmtlVKf7NiSLI-4KejIw                2"
      ]
     },
     "execution_count": 58,
     "metadata": {},
     "output_type": "execute_result"
    }
   ],
   "source": [
    "# Возьмем сэмпл данных\n",
    "friend_recoms_df = friend_recoms_df.sample(False, 0.5).limit(10)\n",
    "friend_recoms_df.toPandas()"
   ]
  },
  {
   "cell_type": "code",
   "execution_count": 38,
   "metadata": {
    "collapsed": true,
    "jupyter": {
     "outputs_hidden": true
    }
   },
   "outputs": [],
   "source": [
    "def getBusinessDetails(in_bus):\n",
    "    a = in_bus.alias(\"a\")\n",
    "    b = business_df.alias(\"b\")\n",
    "    \n",
    "    return a.join(b, col(\"a.business_id\") == col(\"b.business_id\"), 'inner') \\\n",
    "             .select([col('a.'+xx) for xx in a.columns] + [col('b.business_name'),col('b.categories'),\n",
    "                                                           col('b.stars'),col('b.review_count'),\n",
    "                                                           col('b.latitude'),col('b.longitude')])\n",
    "    "
   ]
  },
  {
   "cell_type": "code",
   "execution_count": 51,
   "metadata": {
    "collapsed": true,
    "jupyter": {
     "outputs_hidden": true
    }
   },
   "outputs": [],
   "source": [
    "def showInMap(df):\n",
    "    mp = folium.Map(location=[43.70011, -79.4163], zoom_start=12)\n",
    "\n",
    "    for i, r in df.toPandas().iterrows():\n",
    "        folium.Marker(\n",
    "                    location =[r.latitude, r.longitude], \n",
    "                    popup = html.escape(r[\"business_name\"]) + '<br>' + 'Stars: ' + str(r.stars) + '<br>' + 'Reviews: ' + str(r.review_count),    \n",
    "                    icon = folium.Icon(color='orange')).add_to(mp)\n",
    "    return mp"
   ]
  },
  {
   "cell_type": "code",
   "execution_count": 55,
   "metadata": {
    "collapsed": true,
    "jupyter": {
     "outputs_hidden": true
    }
   },
   "outputs": [],
   "source": [
    "def getFriendRecoms(u_id, sim_bus_limit=10):\n",
    "    \n",
    "    query = \"\"\"\n",
    "    select business_id, count(*) as 4_5_stars_count \n",
    "    from reviews\n",
    "    where user_id in\n",
    "        (select f.friend_id from friends f\n",
    "        inner join users u on f.friend_id = u.user_id\n",
    "        where f.user_id = \"{}\") \n",
    "    and stars >= 4 \n",
    "    and business_id not in (select business_id from reviews where user_id = \"{}\")\n",
    "    group by business_id\n",
    "    order by count(*) desc limit 100\n",
    "    \"\"\".format(u_id, u_id)\n",
    "\n",
    "    friend_recoms_df = sqlContext.sql(query)\n",
    "    \n",
    "    friend_recoms_df = friend_recoms_df.sample(False, 0.5).limit(sim_bus_limit)\n",
    "\n",
    "    return getBusinessDetails(friend_recoms_df)"
   ]
  },
  {
   "cell_type": "code",
   "execution_count": 56,
   "metadata": {
    "collapsed": false,
    "jupyter": {
     "outputs_hidden": false
    }
   },
   "outputs": [
    {
     "name": "stdout",
     "output_type": "stream",
     "text": [
      "Businesses recommended to user by best useful friends:\n"
     ]
    },
    {
     "data": {
      "text/html": [
       "<div>\n",
       "<table border=\"1\" class=\"dataframe\">\n",
       "  <thead>\n",
       "    <tr style=\"text-align: right;\">\n",
       "      <th></th>\n",
       "      <th>business_id</th>\n",
       "      <th>4_5_stars_count</th>\n",
       "      <th>business_name</th>\n",
       "      <th>categories</th>\n",
       "      <th>stars</th>\n",
       "      <th>review_count</th>\n",
       "      <th>latitude</th>\n",
       "      <th>longitude</th>\n",
       "    </tr>\n",
       "  </thead>\n",
       "  <tbody>\n",
       "    <tr>\n",
       "      <th>0</th>\n",
       "      <td>SGP1jf6k7spXkgwBlhiUVw</td>\n",
       "      <td>5</td>\n",
       "      <td>Kekou Gelato House</td>\n",
       "      <td>[Food, Restaurants, Ice Cream &amp; Frozen Yogurt,...</td>\n",
       "      <td>4.5</td>\n",
       "      <td>332</td>\n",
       "      <td>43.655983</td>\n",
       "      <td>-79.392686</td>\n",
       "    </tr>\n",
       "    <tr>\n",
       "      <th>1</th>\n",
       "      <td>kOFDVcnj-8fd3doIpCQ06A</td>\n",
       "      <td>5</td>\n",
       "      <td>Mildred's Temple Kitchen</td>\n",
       "      <td>[Comfort Food, Event Planning &amp; Services, Vege...</td>\n",
       "      <td>4.0</td>\n",
       "      <td>472</td>\n",
       "      <td>43.639911</td>\n",
       "      <td>-79.420424</td>\n",
       "    </tr>\n",
       "    <tr>\n",
       "      <th>2</th>\n",
       "      <td>0a2O150ytxrDjDzXNfRWkA</td>\n",
       "      <td>4</td>\n",
       "      <td>Miku Toronto</td>\n",
       "      <td>[Sushi Bars, Restaurants, Seafood, Japanese]</td>\n",
       "      <td>4.0</td>\n",
       "      <td>384</td>\n",
       "      <td>43.641235</td>\n",
       "      <td>-79.377370</td>\n",
       "    </tr>\n",
       "    <tr>\n",
       "      <th>3</th>\n",
       "      <td>G6EkDTXZ6zMUovg7JTG4YQ</td>\n",
       "      <td>3</td>\n",
       "      <td>Vietnam Noodle Star</td>\n",
       "      <td>[Restaurants, Vietnamese, Noodles]</td>\n",
       "      <td>3.5</td>\n",
       "      <td>148</td>\n",
       "      <td>43.804603</td>\n",
       "      <td>-79.287842</td>\n",
       "    </tr>\n",
       "    <tr>\n",
       "      <th>4</th>\n",
       "      <td>RwRNR4z3kY-4OsFqigY5sw</td>\n",
       "      <td>3</td>\n",
       "      <td>Uncle Tetsu's Japanese Cheesecake</td>\n",
       "      <td>[Desserts, Japanese, Restaurants, Bakeries, Food]</td>\n",
       "      <td>3.5</td>\n",
       "      <td>806</td>\n",
       "      <td>43.655969</td>\n",
       "      <td>-79.384013</td>\n",
       "    </tr>\n",
       "    <tr>\n",
       "      <th>5</th>\n",
       "      <td>Yv4P4qUwd7F-qQ4Y4eD1JQ</td>\n",
       "      <td>3</td>\n",
       "      <td>Han Ba Tang</td>\n",
       "      <td>[Nightlife, Pubs, Lounges, Korean, Asian Fusio...</td>\n",
       "      <td>3.5</td>\n",
       "      <td>213</td>\n",
       "      <td>43.762928</td>\n",
       "      <td>-79.411511</td>\n",
       "    </tr>\n",
       "    <tr>\n",
       "      <th>6</th>\n",
       "      <td>dTuT_G3Zp79RZmnF3oxfiA</td>\n",
       "      <td>3</td>\n",
       "      <td>The Bier Markt</td>\n",
       "      <td>[Belgian, Nightlife, Bars, Gastropubs, Canadia...</td>\n",
       "      <td>3.0</td>\n",
       "      <td>197</td>\n",
       "      <td>43.647095</td>\n",
       "      <td>-79.373915</td>\n",
       "    </tr>\n",
       "    <tr>\n",
       "      <th>7</th>\n",
       "      <td>MhiBpIBNTCAm1Xd3WzRzjQ</td>\n",
       "      <td>3</td>\n",
       "      <td>Messini Authentic Gyros</td>\n",
       "      <td>[Mediterranean, Sandwiches, Greek, Restaurants...</td>\n",
       "      <td>3.5</td>\n",
       "      <td>372</td>\n",
       "      <td>43.677691</td>\n",
       "      <td>-79.350536</td>\n",
       "    </tr>\n",
       "    <tr>\n",
       "      <th>8</th>\n",
       "      <td>9_CGhHMz8698M9-PkVf0CQ</td>\n",
       "      <td>2</td>\n",
       "      <td>Little Coxwell Vietnamese &amp; Thai Cuisine</td>\n",
       "      <td>[Vietnamese, Thai, Restaurants]</td>\n",
       "      <td>4.0</td>\n",
       "      <td>109</td>\n",
       "      <td>43.696175</td>\n",
       "      <td>-79.329092</td>\n",
       "    </tr>\n",
       "    <tr>\n",
       "      <th>9</th>\n",
       "      <td>ofw8aDSEg1HoQdmCgvLtaQ</td>\n",
       "      <td>2</td>\n",
       "      <td>The Pie Commission</td>\n",
       "      <td>[Canadian (New), Fast Food, Food, Do-It-Yourse...</td>\n",
       "      <td>4.5</td>\n",
       "      <td>183</td>\n",
       "      <td>43.623881</td>\n",
       "      <td>-79.512074</td>\n",
       "    </tr>\n",
       "  </tbody>\n",
       "</table>\n",
       "</div>"
      ],
      "text/plain": [
       "              business_id  4_5_stars_count  \\\n",
       "0  SGP1jf6k7spXkgwBlhiUVw                5   \n",
       "1  kOFDVcnj-8fd3doIpCQ06A                5   \n",
       "2  0a2O150ytxrDjDzXNfRWkA                4   \n",
       "3  G6EkDTXZ6zMUovg7JTG4YQ                3   \n",
       "4  RwRNR4z3kY-4OsFqigY5sw                3   \n",
       "5  Yv4P4qUwd7F-qQ4Y4eD1JQ                3   \n",
       "6  dTuT_G3Zp79RZmnF3oxfiA                3   \n",
       "7  MhiBpIBNTCAm1Xd3WzRzjQ                3   \n",
       "8  9_CGhHMz8698M9-PkVf0CQ                2   \n",
       "9  ofw8aDSEg1HoQdmCgvLtaQ                2   \n",
       "\n",
       "                              business_name  \\\n",
       "0                        Kekou Gelato House   \n",
       "1                  Mildred's Temple Kitchen   \n",
       "2                              Miku Toronto   \n",
       "3                       Vietnam Noodle Star   \n",
       "4         Uncle Tetsu's Japanese Cheesecake   \n",
       "5                               Han Ba Tang   \n",
       "6                            The Bier Markt   \n",
       "7                   Messini Authentic Gyros   \n",
       "8  Little Coxwell Vietnamese & Thai Cuisine   \n",
       "9                        The Pie Commission   \n",
       "\n",
       "                                          categories  stars  review_count  \\\n",
       "0  [Food, Restaurants, Ice Cream & Frozen Yogurt,...    4.5           332   \n",
       "1  [Comfort Food, Event Planning & Services, Vege...    4.0           472   \n",
       "2       [Sushi Bars, Restaurants, Seafood, Japanese]    4.0           384   \n",
       "3                 [Restaurants, Vietnamese, Noodles]    3.5           148   \n",
       "4  [Desserts, Japanese, Restaurants, Bakeries, Food]    3.5           806   \n",
       "5  [Nightlife, Pubs, Lounges, Korean, Asian Fusio...    3.5           213   \n",
       "6  [Belgian, Nightlife, Bars, Gastropubs, Canadia...    3.0           197   \n",
       "7  [Mediterranean, Sandwiches, Greek, Restaurants...    3.5           372   \n",
       "8                    [Vietnamese, Thai, Restaurants]    4.0           109   \n",
       "9  [Canadian (New), Fast Food, Food, Do-It-Yourse...    4.5           183   \n",
       "\n",
       "    latitude  longitude  \n",
       "0  43.655983 -79.392686  \n",
       "1  43.639911 -79.420424  \n",
       "2  43.641235 -79.377370  \n",
       "3  43.804603 -79.287842  \n",
       "4  43.655969 -79.384013  \n",
       "5  43.762928 -79.411511  \n",
       "6  43.647095 -79.373915  \n",
       "7  43.677691 -79.350536  \n",
       "8  43.696175 -79.329092  \n",
       "9  43.623881 -79.512074  "
      ]
     },
     "execution_count": 56,
     "metadata": {},
     "output_type": "execute_result"
    }
   ],
   "source": [
    "#  тестируем на одном пользователе\n",
    "\n",
    "u_id = 'uxKSnOVAoEj4I6X9YhLBlg'\n",
    "\n",
    "friend_recom_df = getFriendRecoms(u_id)\n",
    "\n",
    "friend_recom_df.toPandas()"
   ]
  },
  {
   "cell_type": "code",
   "execution_count": 57,
   "metadata": {
    "collapsed": false,
    "jupyter": {
     "outputs_hidden": false
    }
   },
   "outputs": [
    {
     "data": {
      "text/html": [
       "<div style=\"width:100%;\"><div style=\"position:relative;width:100%;height:0;padding-bottom:60%;\"><iframe src=\"data:text/html;charset=utf-8;base64,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\" style=\"position:absolute;width:100%;height:100%;left:0;top:0;border:none !important;\" allowfullscreen webkitallowfullscreen mozallowfullscreen></iframe></div></div>"
      ],
      "text/plain": [
       "<folium.folium.Map at 0x7f862d62d780>"
      ]
     },
     "execution_count": 57,
     "metadata": {},
     "output_type": "execute_result"
    }
   ],
   "source": [
    "showInMap(friend_recom_df)"
   ]
  }
 ],
 "metadata": {
  "anaconda-cloud": {},
  "kernelspec": {
   "display_name": "Python 3 (ipykernel)",
   "language": "python",
   "name": "python3"
  },
  "language_info": {
   "codemirror_mode": {
    "name": "ipython",
    "version": 3
   },
   "file_extension": ".py",
   "mimetype": "text/x-python",
   "name": "python",
   "nbconvert_exporter": "python",
   "pygments_lexer": "ipython3",
   "version": "3.9.7"
  }
 },
 "nbformat": 4,
 "nbformat_minor": 4
}
