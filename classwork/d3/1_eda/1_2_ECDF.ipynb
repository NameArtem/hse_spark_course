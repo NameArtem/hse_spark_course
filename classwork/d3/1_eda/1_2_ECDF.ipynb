{
 "cells": [
  {
   "cell_type": "code",
   "execution_count": 1,
   "metadata": {},
   "outputs": [],
   "source": [
    "import wget\n",
    "import numpy as np\n",
    "import pandas as pd\n",
    "\n",
    "import seaborn as sns\n",
    "import matplotlib.pyplot as plt\n",
    "import matplotlib.patches as mpatches\n",
    "\n",
    "%matplotlib inline"
   ]
  },
  {
   "cell_type": "code",
   "execution_count": 2,
   "metadata": {},
   "outputs": [],
   "source": [
    "import warnings\n",
    "warnings.filterwarnings('ignore')"
   ]
  },
  {
   "cell_type": "code",
   "execution_count": 3,
   "metadata": {},
   "outputs": [],
   "source": [
    "file_name  = \"Housing.csv\""
   ]
  },
  {
   "cell_type": "code",
   "execution_count": 10,
   "metadata": {},
   "outputs": [
    {
     "data": {
      "text/html": [
       "<div>\n",
       "<style scoped>\n",
       "    .dataframe tbody tr th:only-of-type {\n",
       "        vertical-align: middle;\n",
       "    }\n",
       "\n",
       "    .dataframe tbody tr th {\n",
       "        vertical-align: top;\n",
       "    }\n",
       "\n",
       "    .dataframe thead th {\n",
       "        text-align: right;\n",
       "    }\n",
       "</style>\n",
       "<table border=\"1\" class=\"dataframe\">\n",
       "  <thead>\n",
       "    <tr style=\"text-align: right;\">\n",
       "      <th></th>\n",
       "      <th>longitude</th>\n",
       "      <th>latitude</th>\n",
       "      <th>housing_median_age</th>\n",
       "      <th>total_rooms</th>\n",
       "      <th>total_bedrooms</th>\n",
       "      <th>population</th>\n",
       "      <th>households</th>\n",
       "      <th>median_income</th>\n",
       "      <th>median_house_value</th>\n",
       "      <th>ocean_proximity</th>\n",
       "    </tr>\n",
       "  </thead>\n",
       "  <tbody>\n",
       "    <tr>\n",
       "      <th>0</th>\n",
       "      <td>-122.23</td>\n",
       "      <td>37.88</td>\n",
       "      <td>41.0</td>\n",
       "      <td>880.0</td>\n",
       "      <td>129.0</td>\n",
       "      <td>322.0</td>\n",
       "      <td>126.0</td>\n",
       "      <td>8.3252</td>\n",
       "      <td>452600.0</td>\n",
       "      <td>NEAR BAY</td>\n",
       "    </tr>\n",
       "    <tr>\n",
       "      <th>1</th>\n",
       "      <td>-122.22</td>\n",
       "      <td>37.86</td>\n",
       "      <td>21.0</td>\n",
       "      <td>7099.0</td>\n",
       "      <td>1106.0</td>\n",
       "      <td>2401.0</td>\n",
       "      <td>1138.0</td>\n",
       "      <td>8.3014</td>\n",
       "      <td>358500.0</td>\n",
       "      <td>NEAR BAY</td>\n",
       "    </tr>\n",
       "    <tr>\n",
       "      <th>2</th>\n",
       "      <td>-122.24</td>\n",
       "      <td>37.85</td>\n",
       "      <td>52.0</td>\n",
       "      <td>1467.0</td>\n",
       "      <td>190.0</td>\n",
       "      <td>496.0</td>\n",
       "      <td>177.0</td>\n",
       "      <td>7.2574</td>\n",
       "      <td>352100.0</td>\n",
       "      <td>NEAR BAY</td>\n",
       "    </tr>\n",
       "  </tbody>\n",
       "</table>\n",
       "</div>"
      ],
      "text/plain": [
       "   longitude  latitude  housing_median_age  total_rooms  total_bedrooms  \\\n",
       "0    -122.23     37.88                41.0        880.0           129.0   \n",
       "1    -122.22     37.86                21.0       7099.0          1106.0   \n",
       "2    -122.24     37.85                52.0       1467.0           190.0   \n",
       "\n",
       "   population  households  median_income  median_house_value ocean_proximity  \n",
       "0       322.0       126.0         8.3252            452600.0        NEAR BAY  \n",
       "1      2401.0      1138.0         8.3014            358500.0        NEAR BAY  \n",
       "2       496.0       177.0         7.2574            352100.0        NEAR BAY  "
      ]
     },
     "execution_count": 10,
     "metadata": {},
     "output_type": "execute_result"
    }
   ],
   "source": [
    "# Загрузка данных\n",
    "df = pd.read_csv(\"Assets/Housing.csv\")\n",
    "df.head(3)"
   ]
  },
  {
   "cell_type": "code",
   "execution_count": 11,
   "metadata": {},
   "outputs": [],
   "source": [
    "df1=df[['median_house_value']]"
   ]
  },
  {
   "cell_type": "markdown",
   "metadata": {},
   "source": [
    "#### Красиво покажем медиану по стоимости"
   ]
  },
  {
   "cell_type": "code",
   "execution_count": 13,
   "metadata": {},
   "outputs": [
    {
     "data": {
      "text/plain": [
       "<matplotlib.lines.Line2D at 0x1891ae580d0>"
      ]
     },
     "execution_count": 13,
     "metadata": {},
     "output_type": "execute_result"
    },
    {
     "data": {
      "image/png": "[encoded data removed]",
      "text/plain": [
       "<Figure size 432x288 with 1 Axes>"
      ]
     },
     "metadata": {
      "needs_background": "light"
     },
     "output_type": "display_data"
    }
   ],
   "source": [
    "# основной график\n",
    "ax = sns.distplot(df1['median_house_value'], rug=True, hist=True)\n",
    "\n",
    "# доп. визуализация\n",
    "avg1 = int(df1.mean())\n",
    "plt.axvline(x=avg1,\n",
    "           linestyle = '--',\n",
    "           color = 'red')\n"
   ]
  },
  {
   "cell_type": "markdown",
   "metadata": {},
   "source": [
    "#### ECDF (Выборочная функция распределения)\n",
    "\n",
    "Это приближение теоретической функции распределения, построенное с помощью выборки"
   ]
  },
  {
   "cell_type": "code",
   "execution_count": 14,
   "metadata": {},
   "outputs": [],
   "source": [
    "def ecdf(data):\n",
    "    n = len(data)\n",
    "    # x-data ECDF\n",
    "    x = np.sort(data)\n",
    "    # y-data ECDF\n",
    "    y = np.arange(1, len(x)+1) / n\n",
    "    return x, y"
   ]
  },
  {
   "cell_type": "markdown",
   "metadata": {},
   "source": [
    "#### Расчет квартилей\n",
    "\n",
    "При использовании функции обратим внимание на то, что \"идеальный\" порог должен быть ниже 0.1 (10%)"
   ]
  },
  {
   "cell_type": "code",
   "execution_count": 16,
   "metadata": {},
   "outputs": [],
   "source": [
    "def quartiles(data, threshold):\n",
    "    quarts = df1.quantile([threshold, 1 - threshold])\n",
    "    quart1 = quarts.iloc[0]\n",
    "    quart2 = quarts.iloc[1]\n",
    "    return quart1, quart2"
   ]
  },
  {
   "cell_type": "markdown",
   "metadata": {},
   "source": [
    "#### Расчет"
   ]
  },
  {
   "cell_type": "code",
   "execution_count": 19,
   "metadata": {},
   "outputs": [
    {
     "name": "stdout",
     "output_type": "stream",
     "text": [
      "Персентили с порогом 0.03 :\n",
      "|3.0 % : 58800.0\n",
      "|97.0 % : 500001.0\n"
     ]
    }
   ],
   "source": [
    "threshold = 0.03\n",
    "\n",
    "quart1, quart2 = quartiles(df1, threshold)\n",
    "print('Персентили с порогом {} :\\n|{} % : {}\\n|{} % : {}'.format(threshold,\n",
    "                                                                                         threshold * 100,\n",
    "                                                                                         quart1[0],\n",
    "                                                                                         (1 - threshold) * 100,\n",
    "                                                                                         quart2[0]))"
   ]
  },
  {
   "cell_type": "markdown",
   "metadata": {},
   "source": [
    "### Правильная визуализация функции распределения"
   ]
  },
  {
   "cell_type": "code",
   "execution_count": 21,
   "metadata": {},
   "outputs": [],
   "source": [
    "def plot_ecdf_distribution(data, quart1, quart2, avg):\n",
    "    # Установка цветов\n",
    "    primary_color   = '#1F00AA'\n",
    "    secondary_color = '#F74600'\n",
    "    value_color     = '#2F1557'\n",
    "    subcolor        = '#32B132'\n",
    "\n",
    "    # отбор результатов по ECDF\n",
    "    x, y = ecdf(data['median_house_value'])\n",
    "    sns.set_style('whitegrid')\n",
    "    plt.figure('fig_size'==(25,15))\n",
    "    plt.plot(x, y, marker='.',\n",
    "                 linestyle='none',\n",
    "                 color = value_color,\n",
    "                 alpha = 0.8)\n",
    "    plt.margins(0.02)\n",
    "    \n",
    "    # Обозначим границы данных относительно персентилей\n",
    "    percentiles = np.array([50])\n",
    "    df_perc = np.percentile(data['median_house_value'],\n",
    "                            percentiles)\n",
    "    \n",
    "    \n",
    "    # именование осей    \n",
    "    plt.ylabel('ECDF',\n",
    "                   fontsize = 12)\n",
    "\n",
    "    # визуализация\n",
    "    plt.plot(df_perc, percentiles/100, marker='D', color='red', linestyle='none', markersize = 10)\n",
    "\n",
    "    # дополнительные линии (вертикаль)\n",
    "    plt.axvline(x = df_perc, color = primary_color)\n",
    "    plt.axvline(x = avg, color = subcolor)\n",
    "    plt.axvline(x = quart1, color = secondary_color, linestyle = '--')\n",
    "    plt.axvline(x = quart2, color = secondary_color, linestyle = '--')\n",
    "\n",
    "    # дополнительные линии (горизонталь)\n",
    "    plt.axhline(y = 0.5, color = primary_color)\n",
    "    plt.axhline(y = threshold, color = secondary_color, linestyle = '--')\n",
    "    plt.axhline(y = 1 - threshold, color = secondary_color, linestyle = '--')\n",
    "\n",
    "    plt.tick_params(labelsize=12)\n",
    "\n",
    "    # стиль\n",
    "    plt.grid(b=True,\n",
    "                 which='major',\n",
    "                 color='#cccccc',\n",
    "                 linestyle='--')\n",
    "\n",
    "    # легенда\n",
    "    patch = mpatches.Patch(color = value_color,\n",
    "                           label='Dataset')\n",
    "\n",
    "    plt.legend(handles=[patch],\n",
    "                   loc = 'lower right',\n",
    "                   fontsize = 14)\n",
    "    \n",
    "    return None"
   ]
  },
  {
   "cell_type": "code",
   "execution_count": 22,
   "metadata": {},
   "outputs": [
    {
     "data": {
      "image/png": "[encoded data removed]",
      "text/plain": [
       "<Figure size 432x288 with 1 Axes>"
      ]
     },
     "metadata": {},
     "output_type": "display_data"
    }
   ],
   "source": [
    "plot_ecdf_distribution(df1, quart1[0], quart2[0], avg1)"
   ]
  },
  {
   "cell_type": "markdown",
   "metadata": {},
   "source": [
    "#### Отчистка данных относительно порога"
   ]
  },
  {
   "cell_type": "code",
   "execution_count": 26,
   "metadata": {},
   "outputs": [
    {
     "name": "stdout",
     "output_type": "stream",
     "text": [
      "После отчистки данных мы потеряли 1591 и теперь в DF 19049 строк.\n",
      "Это 8.0 %\n"
     ]
    }
   ],
   "source": [
    "len1 = df1.shape[0]\n",
    "# обрезаем значения по выбранному порогу\n",
    "df2= df1[df1['median_house_value'] > quart1[0]]\n",
    "df2 = df2[df2['median_house_value'] < quart2[0]]\n",
    "len2 = df2.shape[0]\n",
    "len3=len1-len2\n",
    "print('После отчистки данных мы потеряли {} и теперь в DF {} строк.'.format(len3,len2))  \n",
    "print('Это {} %'.format(round(len3 / df1['median_house_value'].shape[0],2) * 100))"
   ]
  },
  {
   "cell_type": "markdown",
   "metadata": {},
   "source": [
    "#### Расчет на чистом DF"
   ]
  },
  {
   "cell_type": "code",
   "execution_count": 27,
   "metadata": {},
   "outputs": [
    {
     "name": "stdout",
     "output_type": "stream",
     "text": [
      "Персентили с порогом 0.03 :\n",
      "|3.0 % : 58800.0\n",
      "|97.0 % : 500001.0\n"
     ]
    }
   ],
   "source": [
    "quart1, quart2 = quartiles(df2, threshold)\n",
    "print('Персентили с порогом {} :\\n|{} % : {}\\n|{} % : {}'.format(threshold,\n",
    "                                                                                         threshold * 100,\n",
    "                                                                                         quart1[0],\n",
    "                                                                                         (1 - threshold) * 100,\n",
    "                                                                                         quart2[0]))"
   ]
  },
  {
   "cell_type": "code",
   "execution_count": 28,
   "metadata": {},
   "outputs": [
    {
     "data": {
      "image/png": "[encoded data removed]",
      "text/plain": [
       "<Figure size 432x288 with 1 Axes>"
      ]
     },
     "metadata": {},
     "output_type": "display_data"
    }
   ],
   "source": [
    "plot_ecdf_distribution(df2, quart1[0], quart2[0], df2['median_house_value'].mean())"
   ]
  },
  {
   "cell_type": "code",
   "execution_count": 29,
   "metadata": {},
   "outputs": [
    {
     "data": {
      "text/plain": [
       "<matplotlib.lines.Line2D at 0x1891b946eb0>"
      ]
     },
     "execution_count": 29,
     "metadata": {},
     "output_type": "execute_result"
    },
    {
     "data": {
      "image/png": "[encoded data removed]",
      "text/plain": [
       "<Figure size 432x288 with 1 Axes>"
      ]
     },
     "metadata": {},
     "output_type": "display_data"
    }
   ],
   "source": [
    "# Визуализация нового распределения\n",
    "ax = sns.distplot(df2['median_house_value'], rug=True, hist=True)\n",
    "avg1 = int(df2.mean())\n",
    "plt.axvline(x=avg1,\n",
    "           linestyle = '--',\n",
    "           color = 'red')"
   ]
  },
  {
   "cell_type": "code",
   "execution_count": null,
   "metadata": {},
   "outputs": [],
   "source": []
  }
 ],
 "metadata": {
  "kernelspec": {
   "display_name": "Python 3",
   "language": "python",
   "name": "python3"
  },
  "language_info": {
   "codemirror_mode": {
    "name": "ipython",
    "version": 3
   },
   "file_extension": ".py",
   "mimetype": "text/x-python",
   "name": "python",
   "nbconvert_exporter": "python",
   "pygments_lexer": "ipython3",
   "version": "3.8.6"
  }
 },
 "nbformat": 4,
 "nbformat_minor": 4
}
