{
 "cells": [
  {
   "cell_type": "code",
   "execution_count": 12,
   "id": "sapphire-situation",
   "metadata": {},
   "outputs": [],
   "source": [
    "from pyspark.sql import SparkSession\n",
    "\n",
    "spark = SparkSession.\\\n",
    "        builder.\\\n",
    "        appName(\"best_one\").\\\n",
    "        master(\"spark://spark-master:7077\").\\\n",
    "        config(\"spark.executor.memory\", \"512m\").\\\n",
    "        getOrCreate()"
   ]
  },
  {
   "cell_type": "code",
   "execution_count": 6,
   "id": "attempted-river",
   "metadata": {},
   "outputs": [],
   "source": [
    "from sklearn.datasets import make_classification\n",
    "from sklearn.svm import SVC\n",
    "from sklearn.model_selection import GridSearchCV\n",
    "import pandas as pd\n",
    "\n",
    "X, y = make_classification(n_samples=1000, random_state=0)\n",
    "#X[:5]\n",
    "\n",
    "param_grid = {\"C\": [0.001, 0.01, 0.1, 0.5, 1.0, 2.0, 5.0, 10.0],\n",
    "             \"kernel\": ['rbf', 'poly', 'sigmoid'],\n",
    "             \"shrinking\": [True, False]}\n",
    "\n",
    "grid_search = GridSearchCV(SVC(gamma='auto', random_state=0, probability=True),\n",
    "                          param_grid=param_grid,\n",
    "                          return_train_score=False,\n",
    "                          cv=3)"
   ]
  },
  {
   "cell_type": "code",
   "execution_count": 7,
   "id": "direct-magazine",
   "metadata": {},
   "outputs": [
    {
     "data": {
      "text/plain": [
       "GridSearchCV(cv=3,\n",
       "             estimator=SVC(gamma='auto', probability=True, random_state=0),\n",
       "             param_grid={'C': [0.001, 0.01, 0.1, 0.5, 1.0, 2.0, 5.0, 10.0],\n",
       "                         'kernel': ['rbf', 'poly', 'sigmoid'],\n",
       "                         'shrinking': [True, False]})"
      ]
     },
     "execution_count": 7,
     "metadata": {},
     "output_type": "execute_result"
    }
   ],
   "source": [
    "grid_search.fit(X, y)"
   ]
  },
  {
   "cell_type": "code",
   "execution_count": 25,
   "id": "genuine-panel",
   "metadata": {},
   "outputs": [],
   "source": [
    "# запуск кода SKLEARN в PYSPARK\n",
    "from sklearn.utils import parallel_backend\n",
    "from joblibspark import register_spark\n",
    "\n",
    "register_spark() # регистрация Spark\n",
    "\n",
    "with parallel_backend('spark',n_jobs=3):\n",
    "    grid_search.fit(X, y)"
   ]
  },
  {
   "cell_type": "code",
   "execution_count": 27,
   "id": "about-bride",
   "metadata": {},
   "outputs": [
    {
     "name": "stdout",
     "output_type": "stream",
     "text": [
      "[0.96666667 1.         0.96666667 0.96666667 1.        ]\n"
     ]
    }
   ],
   "source": [
    "# на Spark\n",
    "from sklearn.utils import parallel_backend\n",
    "from sklearn.model_selection import cross_val_score\n",
    "from sklearn import datasets\n",
    "from sklearn import svm\n",
    "from joblibspark import register_spark\n",
    "\n",
    "register_spark() #\n",
    "\n",
    "iris = datasets.load_iris()\n",
    "clf = svm.SVC(kernel='linear', C=1)\n",
    "with parallel_backend('spark', n_jobs=3):\n",
    "    scores = cross_val_score(clf, iris.data, iris.target, cv=5)\n",
    "\n",
    "print(scores)"
   ]
  },
  {
   "cell_type": "markdown",
   "id": "macro-label",
   "metadata": {},
   "source": [
    "### нельзя отправить на Spark модели("
   ]
  },
  {
   "cell_type": "code",
   "execution_count": null,
   "id": "graduate-leisure",
   "metadata": {},
   "outputs": [],
   "source": [
    "from sklearn.feature_extraction import FeatureHasher\n",
    "\n",
    "h = FeatureHasher(n_features=10)\n",
    "\n",
    "with parallel_backend('spark', n_jobs=3):\n",
    "    # Не будет в Spark - будет на локальной машине ((\n",
    "    h.transform()\n",
    "\n",
    "from sklearn import linear_model\n",
    "regr = linear_model.LinearRegression()\n",
    "regr.fit(X_train, y_train)\n",
    "\n",
    "with parallel_backend('spark', n_jobs=3):\n",
    "    # Не будет в Spark - будет на локальной машине ((\n",
    "    regr.predict(diabetes_X_test)"
   ]
  },
  {
   "cell_type": "code",
   "execution_count": null,
   "id": "hispanic-bookmark",
   "metadata": {},
   "outputs": [],
   "source": []
  }
 ],
 "metadata": {
  "kernelspec": {
   "display_name": "Python 3",
   "language": "python",
   "name": "python3"
  },
  "language_info": {
   "codemirror_mode": {
    "name": "ipython",
    "version": 3
   },
   "file_extension": ".py",
   "mimetype": "text/x-python",
   "name": "python",
   "nbconvert_exporter": "python",
   "pygments_lexer": "ipython3",
   "version": "3.8.8"
  }
 },
 "nbformat": 4,
 "nbformat_minor": 5
}
