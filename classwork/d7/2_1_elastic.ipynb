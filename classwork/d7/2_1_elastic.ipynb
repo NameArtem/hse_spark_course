{
 "cells": [
  {
   "cell_type": "code",
   "execution_count": 3,
   "id": "retired-better",
   "metadata": {},
   "outputs": [],
   "source": [
    "#!pip install tmdbsimple"
   ]
  },
  {
   "cell_type": "code",
   "execution_count": 5,
   "id": "round-steps",
   "metadata": {},
   "outputs": [],
   "source": [
    "#!pip install elasticsearch "
   ]
  },
  {
   "cell_type": "code",
   "execution_count": 11,
   "id": "compound-bruce",
   "metadata": {},
   "outputs": [],
   "source": [
    "# !pip install numpy pandas sklearn"
   ]
  },
  {
   "cell_type": "code",
   "execution_count": null,
   "id": "dressed-yorkshire",
   "metadata": {},
   "outputs": [],
   "source": [
    "from pyspark.sql.functions import udf\n",
    "from pyspark.sql.types import *"
   ]
  },
  {
   "cell_type": "code",
   "execution_count": 1,
   "id": "eastern-decrease",
   "metadata": {},
   "outputs": [],
   "source": [
    "from IPython.display import Image, HTML, display\n",
    "from pyspark.sql import SparkSession\n",
    "\n",
    "spark = SparkSession.\\\n",
    "        builder.\\\n",
    "        appName(\"best_one\").\\\n",
    "        getOrCreate()"
   ]
  },
  {
   "cell_type": "code",
   "execution_count": 61,
   "id": "respective-tuesday",
   "metadata": {},
   "outputs": [],
   "source": [
    "from pyspark.ml.recommendation import ALS\n",
    "from pyspark.sql.functions import col, lit\n",
    "\n",
    "\n",
    "# появились конфиги - что это?\n",
    "\n",
    "spark.conf.set(\"es.nodes\",\"89.253.237.183\")\n",
    "spark.conf.set(\"es.port\",\"9200\")\n",
    "spark.conf.set(\"es.nodes.wan.only\",\"true\")\n",
    "spark.conf.set(\"es.index.auto.create\", \"true\")\n",
    "\n",
    "\n",
    "spark.conf.set('spark.jars.packages', 'elasticsearch-spark-20_2.11-7.12.0.jar')\n",
    "#spark.conf.set('spark.jars.packages', 'elasticsearch-hadoop-7.12.0.jar')"
   ]
  },
  {
   "cell_type": "code",
   "execution_count": 3,
   "id": "approved-sight",
   "metadata": {},
   "outputs": [],
   "source": [
    "# другой вариант добавить конфиг\n",
    "import os\n",
    "os.environ[\"PYSPARK_SUBMIT_ARGS\"]='--jars elasticsearch-spark-20_2.11-7.12.0.jar pyspark-shell'"
   ]
  },
  {
   "cell_type": "code",
   "execution_count": 4,
   "id": "familiar-contract",
   "metadata": {},
   "outputs": [
    {
     "name": "stdout",
     "output_type": "stream",
     "text": [
      "Number of ratings: 100836\n",
      "Sample of ratings:\n",
      "+------+-------+------+---------+\n",
      "|userId|movieId|rating|timestamp|\n",
      "+------+-------+------+---------+\n",
      "|     1|      1|   4.0|964982703|\n",
      "|     1|      3|   4.0|964981247|\n",
      "|     1|      6|   4.0|964982224|\n",
      "|     1|     47|   5.0|964983815|\n",
      "|     1|     50|   5.0|964982931|\n",
      "+------+-------+------+---------+\n",
      "only showing top 5 rows\n",
      "\n"
     ]
    }
   ],
   "source": [
    "ratings = spark.read.csv(\"data/ratings.csv\", header=True, inferSchema=True)\n",
    "ratings.cache()\n",
    "\n",
    "print(\"Number of ratings: {}\".format(ratings.count()))\n",
    "print(\"Sample of ratings:\")\n",
    "ratings.show(5)"
   ]
  },
  {
   "cell_type": "code",
   "execution_count": 5,
   "id": "individual-coast",
   "metadata": {},
   "outputs": [
    {
     "name": "stdout",
     "output_type": "stream",
     "text": [
      "+------+-------+------+------------+\n",
      "|userId|movieId|rating|   timestamp|\n",
      "+------+-------+------+------------+\n",
      "|     1|      1|   4.0|964982703000|\n",
      "|     1|      3|   4.0|964981247000|\n",
      "|     1|      6|   4.0|964982224000|\n",
      "|     1|     47|   5.0|964983815000|\n",
      "|     1|     50|   5.0|964982931000|\n",
      "+------+-------+------+------------+\n",
      "only showing top 5 rows\n",
      "\n"
     ]
    }
   ],
   "source": [
    "# timestamp в Unix TimeStamp (добавим нули )\n",
    "\n",
    "ratings = ratings.select(ratings.userId,\n",
    "                         ratings.movieId,\n",
    "                         ratings.rating,\n",
    "                         (ratings.timestamp.cast(\"long\") * 1000).alias(\"timestamp\"))\n",
    "ratings.show(5)"
   ]
  },
  {
   "cell_type": "code",
   "execution_count": 6,
   "id": "surgical-hepatitis",
   "metadata": {},
   "outputs": [
    {
     "name": "stdout",
     "output_type": "stream",
     "text": [
      "Raw movie data:\n",
      "+-------+----------------------------------+-------------------------------------------+\n",
      "|movieId|title                             |genres                                     |\n",
      "+-------+----------------------------------+-------------------------------------------+\n",
      "|1      |Toy Story (1995)                  |Adventure|Animation|Children|Comedy|Fantasy|\n",
      "|2      |Jumanji (1995)                    |Adventure|Children|Fantasy                 |\n",
      "|3      |Grumpier Old Men (1995)           |Comedy|Romance                             |\n",
      "|4      |Waiting to Exhale (1995)          |Comedy|Drama|Romance                       |\n",
      "|5      |Father of the Bride Part II (1995)|Comedy                                     |\n",
      "+-------+----------------------------------+-------------------------------------------+\n",
      "only showing top 5 rows\n",
      "\n"
     ]
    }
   ],
   "source": [
    "raw_movies = spark.read.csv(\"data/movies.csv\", header=True, inferSchema=True)\n",
    "\n",
    "print(\"Raw movie data:\")\n",
    "raw_movies.show(5, truncate=False)"
   ]
  },
  {
   "cell_type": "code",
   "execution_count": 7,
   "id": "atlantic-shell",
   "metadata": {},
   "outputs": [
    {
     "name": "stdout",
     "output_type": "stream",
     "text": [
      "+-------+----------------------------------+-------------------------------------------------+\n",
      "|movieId|title                             |genres                                           |\n",
      "+-------+----------------------------------+-------------------------------------------------+\n",
      "|1      |Toy Story (1995)                  |[adventure, animation, children, comedy, fantasy]|\n",
      "|2      |Jumanji (1995)                    |[adventure, children, fantasy]                   |\n",
      "|3      |Grumpier Old Men (1995)           |[comedy, romance]                                |\n",
      "|4      |Waiting to Exhale (1995)          |[comedy, drama, romance]                         |\n",
      "|5      |Father of the Bride Part II (1995)|[comedy]                                         |\n",
      "+-------+----------------------------------+-------------------------------------------------+\n",
      "only showing top 5 rows\n",
      "\n"
     ]
    }
   ],
   "source": [
    "# udf для жанра (всё в нижний регистр)\n",
    "\n",
    "extract_genres = udf(lambda x: x.lower().split(\"|\"), ArrayType(StringType()))\n",
    "\n",
    "raw_movies.select(\"movieId\",\n",
    "                  \"title\",\n",
    "                  extract_genres(\"genres\").alias(\"genres\")).show(5, False)"
   ]
  },
  {
   "cell_type": "code",
   "execution_count": 8,
   "id": "facial-inspector",
   "metadata": {},
   "outputs": [
    {
     "data": {
      "text/plain": [
       "('Jumanji', '1995')"
      ]
     },
     "execution_count": 8,
     "metadata": {},
     "output_type": "execute_result"
    }
   ],
   "source": [
    "# сделаем оделение года выпока от описания фильма\n",
    "import re\n",
    "def extract_year_fn(title):\n",
    "    result = re.search(\"\\(\\d{4}\\)\", title)\n",
    "    try:\n",
    "        if result:\n",
    "            group = result.group()\n",
    "            year = group[1:-1]\n",
    "            start_pos = result.start()\n",
    "            title = title[:start_pos-1]\n",
    "            return (title, year)\n",
    "        else:\n",
    "            return (title, 1970)\n",
    "    except:\n",
    "        print(title)\n",
    "\n",
    "        \n",
    "extract_year = udf(extract_year_fn,\\\n",
    "                   StructType([StructField(\"title\", StringType(), True),\\\n",
    "                               StructField(\"release_date\", StringType(), True)]))\n",
    "    \n",
    "# проведем тестирования\n",
    "s = \"Jumanji (1995)\"\n",
    "extract_year_fn(s)"
   ]
  },
  {
   "cell_type": "code",
   "execution_count": 9,
   "id": "widespread-there",
   "metadata": {},
   "outputs": [
    {
     "name": "stdout",
     "output_type": "stream",
     "text": [
      "Cleaned movie data:\n",
      "+-------+---------------------------+------------+-------------------------------------------------+\n",
      "|movieId|title                      |release_date|genres                                           |\n",
      "+-------+---------------------------+------------+-------------------------------------------------+\n",
      "|1      |Toy Story                  |1995        |[adventure, animation, children, comedy, fantasy]|\n",
      "|2      |Jumanji                    |1995        |[adventure, children, fantasy]                   |\n",
      "|3      |Grumpier Old Men           |1995        |[comedy, romance]                                |\n",
      "|4      |Waiting to Exhale          |1995        |[comedy, drama, romance]                         |\n",
      "|5      |Father of the Bride Part II|1995        |[comedy]                                         |\n",
      "+-------+---------------------------+------------+-------------------------------------------------+\n",
      "only showing top 5 rows\n",
      "\n"
     ]
    }
   ],
   "source": [
    "# применим функцию\n",
    "movies = raw_movies.select(\"movieId\", extract_year(\"title\").title.alias(\"title\"),\\\n",
    "                           extract_year(\"title\").release_date.alias(\"release_date\"),\\\n",
    "                           extract_genres(\"genres\").alias(\"genres\"))\n",
    "\n",
    "print(\"Cleaned movie data:\")\n",
    "movies.show(5, truncate=False)"
   ]
  },
  {
   "cell_type": "code",
   "execution_count": 10,
   "id": "productive-bishop",
   "metadata": {},
   "outputs": [
    {
     "name": "stdout",
     "output_type": "stream",
     "text": [
      "Cleaned movie data with tmdbId links:\n",
      "+-------+---------------------------+------------+-------------------------------------------------+------+\n",
      "|movieId|title                      |release_date|genres                                           |tmdbId|\n",
      "+-------+---------------------------+------------+-------------------------------------------------+------+\n",
      "|1      |Toy Story                  |1995        |[adventure, animation, children, comedy, fantasy]|862   |\n",
      "|2      |Jumanji                    |1995        |[adventure, children, fantasy]                   |8844  |\n",
      "|3      |Grumpier Old Men           |1995        |[comedy, romance]                                |15602 |\n",
      "|4      |Waiting to Exhale          |1995        |[comedy, drama, romance]                         |31357 |\n",
      "|5      |Father of the Bride Part II|1995        |[comedy]                                         |11862 |\n",
      "+-------+---------------------------+------------+-------------------------------------------------+------+\n",
      "only showing top 5 rows\n",
      "\n"
     ]
    }
   ],
   "source": [
    "link_data = spark.read.csv(\"data/links.csv\", header=True, inferSchema=True)\n",
    "\n",
    "\n",
    "# добавим tmdbId\n",
    "movie_data = movies.join(link_data, movies.movieId == link_data.movieId)\\\n",
    "                   .select(movies.movieId,\n",
    "                           movies.title,\n",
    "                           movies.release_date,\n",
    "                           movies.genres,\n",
    "                           link_data.tmdbId)\n",
    "\n",
    "num_movies = movie_data.count()\n",
    "\n",
    "print(\"Cleaned movie data with tmdbId links:\")\n",
    "movie_data.show(5, truncate=False)"
   ]
  },
  {
   "cell_type": "code",
   "execution_count": null,
   "id": "funny-credit",
   "metadata": {},
   "outputs": [],
   "source": [
    "# пример получения картинки с сервиса https://www.themoviedb.org/\n",
    "try:\n",
    "    import tmdbsimple as tmdb\n",
    "    import json\n",
    "    from requests.exceptions import HTTPError\n",
    "    # получите свой ключ\n",
    "    tmdb.API_KEY = '3403d7129a0d23281bf49971d87b43e0'\n",
    "    print(\"Successfully imported tmdbsimple!\")\n",
    "    \n",
    "    # пример URL\n",
    "    IMAGE_URL = 'https://image.tmdb.org/t/p/w500'\n",
    "    movie_id = movie_data.first().tmdbId\n",
    "    movie_info = tmdb.Movies(movie_id).info()\n",
    "    movie_poster_url = IMAGE_URL + movie_info['poster_path']\n",
    "    display(Image(movie_poster_url, width=200))\n",
    "    \n",
    "except ImportError:\n",
    "    print(\"Cannot import tmdbsimple as it is not installed, no movie posters will be displayed!\")\n",
    "    \n",
    "except HTTPError as e:\n",
    "    if e.response.status_code == 401:\n",
    "        j = json.loads(e.response.text)\n",
    "        print(\"TMdb API call failed: {}\".format(j['status_message']))"
   ]
  },
  {
   "cell_type": "markdown",
   "id": "caring-tomato",
   "metadata": {},
   "source": [
    "## Elasticsearch"
   ]
  },
  {
   "cell_type": "code",
   "execution_count": 11,
   "id": "addressed-opposition",
   "metadata": {},
   "outputs": [
    {
     "data": {
      "text/plain": [
       "{'name': 'vps-11009347-124249.host4g.ru',\n",
       " 'cluster_name': 'elasticsearch',\n",
       " 'cluster_uuid': 'tZ8R80WeRm6V4yiMpzZP2A',\n",
       " 'version': {'number': '7.12.0',\n",
       "  'build_flavor': 'default',\n",
       "  'build_type': 'tar',\n",
       "  'build_hash': '78722783c38caa25a70982b5b042074cde5d3b3a',\n",
       "  'build_date': '2021-03-18T06:17:15.410153305Z',\n",
       "  'build_snapshot': False,\n",
       "  'lucene_version': '8.8.0',\n",
       "  'minimum_wire_compatibility_version': '6.8.0',\n",
       "  'minimum_index_compatibility_version': '6.0.0-beta1'},\n",
       " 'tagline': 'You Know, for Search'}"
      ]
     },
     "execution_count": 11,
     "metadata": {},
     "output_type": "execute_result"
    }
   ],
   "source": [
    "from elasticsearch import Elasticsearch\n",
    "\n",
    "# запускаем ElasticSearch\n",
    "es = Elasticsearch(hosts='89.253.237.183:9200')\n",
    "es.info(pretty=True)"
   ]
  },
  {
   "cell_type": "code",
   "execution_count": null,
   "id": "executed-zealand",
   "metadata": {},
   "outputs": [],
   "source": [
    "# установим кол-во факторов для модели\n",
    "VECTOR_DIM = 20\n",
    "\n",
    "create_ratings = {\n",
    "    # маппинг на таблицу рейтингов\n",
    "    \"mappings\": {\n",
    "        \"properties\": {\n",
    "            \"timestamp\": {\n",
    "                \"type\": \"date\"\n",
    "            },\n",
    "            \"userId\": {\n",
    "                \"type\": \"integer\"\n",
    "            },\n",
    "            \"movieId\": {\n",
    "                \"type\": \"integer\"\n",
    "            },\n",
    "            \"rating\": {\n",
    "                \"type\": \"double\"\n",
    "            }\n",
    "        }  \n",
    "    }\n",
    "}\n",
    "\n",
    "create_users = {\n",
    "    # маппинг на таблицу пользователей\n",
    "    \"mappings\": {\n",
    "        \"properties\": {\n",
    "            \"userId\": {\n",
    "                \"type\": \"integer\"\n",
    "            },\n",
    "            # маппни на вектор обучения для модели\n",
    "            \"model_factor\": {\n",
    "                \"type\": \"dense_vector\",\n",
    "                \"dims\" : VECTOR_DIM\n",
    "            },\n",
    "            \"model_version\": {\n",
    "                \"type\": \"keyword\"\n",
    "            },\n",
    "            \"model_timestamp\": {\n",
    "                \"type\": \"date\"\n",
    "            }\n",
    "        }\n",
    "    }\n",
    "}\n",
    "\n",
    "create_movies = {\n",
    "    # маппинг на фильмы\n",
    "    \"mappings\": {\n",
    "        \"properties\": {\n",
    "            \"movieId\": {\n",
    "                \"type\": \"integer\"\n",
    "            },\n",
    "            \"tmdbId\": {\n",
    "                \"type\": \"keyword\"\n",
    "            },\n",
    "            \"genres\": {\n",
    "                \"type\": \"keyword\"\n",
    "            },\n",
    "            \"release_date\": {\n",
    "                \"type\": \"date\",\n",
    "                \"format\": \"year\"\n",
    "            },\n",
    "            # маппинг на вектор обучения для фильмов\n",
    "            \"model_factor\": {\n",
    "                \"type\": \"dense_vector\",\n",
    "                \"dims\" : VECTOR_DIM\n",
    "            },\n",
    "            \"model_version\": {\n",
    "                \"type\": \"keyword\"\n",
    "            },\n",
    "            \"model_timestamp\": {\n",
    "                \"type\": \"date\"\n",
    "            }          \n",
    "        }\n",
    "    }\n",
    "}\n",
    "\n",
    "# создадим индексы для маппингов (таблицы)\n",
    "res_ratings = es.indices.create(index=\"ratings\", body=create_ratings)\n",
    "res_users = es.indices.create(index=\"users\", body=create_users)\n",
    "res_movies = es.indices.create(index=\"movies\", body=create_movies)\n",
    "\n",
    "print(\"Created indices:\")\n",
    "print(res_ratings)\n",
    "print(res_users)\n",
    "print(res_movies)"
   ]
  },
  {
   "cell_type": "code",
   "execution_count": 30,
   "id": "charged-candy",
   "metadata": {},
   "outputs": [
    {
     "data": {
      "text/plain": [
       "{'mappings': {'properties': {'timestamp': {'type': 'date'},\n",
       "   'userId': {'type': 'integer'},\n",
       "   'movieId': {'type': 'integer'},\n",
       "   'rating': {'type': 'double'}}}}"
      ]
     },
     "execution_count": 30,
     "metadata": {},
     "output_type": "execute_result"
    }
   ],
   "source": [
    "# что мы создали?\n",
    "create_ratings"
   ]
  },
  {
   "cell_type": "code",
   "execution_count": 55,
   "id": "placed-penalty",
   "metadata": {},
   "outputs": [
    {
     "data": {
      "text/plain": [
       "Row(userId=1, movieId=1, rating=4.0, timestamp=964982703000)"
      ]
     },
     "execution_count": 55,
     "metadata": {},
     "output_type": "execute_result"
    }
   ],
   "source": [
    "# сравним с одной строкой \n",
    "ratings.rdd.take(1)[0]"
   ]
  },
  {
   "cell_type": "code",
   "execution_count": 58,
   "id": "classified-explorer",
   "metadata": {},
   "outputs": [],
   "source": [
    "# пример данных\n",
    "d = {'mappings': \n",
    "        {'properties': {'timestamp': ratings.rdd.take(1)[0].timestamp,\n",
    "                         'userId': int(ratings.rdd.take(1)[0].userId),\n",
    "                         'movieId': int(ratings.rdd.take(1)[0].movieId),\n",
    "                         'rating': ratings.rdd.take(1)[0].rating}\n",
    "        }\n",
    "    }"
   ]
  },
  {
   "cell_type": "code",
   "execution_count": 59,
   "id": "second-physics",
   "metadata": {},
   "outputs": [
    {
     "data": {
      "text/plain": [
       "{'mappings': {'properties': {'timestamp': 964982703000,\n",
       "   'userId': 1,\n",
       "   'movieId': 1,\n",
       "   'rating': 4.0}}}"
      ]
     },
     "execution_count": 59,
     "metadata": {},
     "output_type": "execute_result"
    }
   ],
   "source": [
    "d"
   ]
  },
  {
   "cell_type": "code",
   "execution_count": null,
   "id": "mathematical-detroit",
   "metadata": {},
   "outputs": [],
   "source": [
    "# запишим в ES\n",
    "ratings.write.format(\"es\")\\\n",
    "             .option(\"es.nodes\",'89.253.237.183')\\\n",
    "             .save(\"ratings\")\n",
    "\n",
    "num_ratings_es = es.count(index=\"ratings\")['count']\n",
    "num_ratings_df = ratings.count()\n",
    "\n",
    "print(\"Dataframe count: {}\".format(num_ratings_df))\n",
    "print(\"ES index count:  {}\".format(num_ratings_es))"
   ]
  },
  {
   "cell_type": "code",
   "execution_count": null,
   "id": "amazing-lancaster",
   "metadata": {},
   "outputs": [],
   "source": [
    "# тестируем\n",
    "es.search(index=\"ratings\", q=\"*\", size=3)"
   ]
  },
  {
   "cell_type": "code",
   "execution_count": null,
   "id": "olive-general",
   "metadata": {},
   "outputs": [],
   "source": [
    "es.count(index=\"ratings\", q=\"timestamp:[2018-01-01 TO 2018-02-01]\")"
   ]
  },
  {
   "cell_type": "code",
   "execution_count": null,
   "id": "particular-tribe",
   "metadata": {},
   "outputs": [],
   "source": [
    "movie_data.write.format(\"es\").option(\"es.mapping.id\", \"movieId\").save(\"movies\")\n",
    "num_movies_df = movie_data.count()\n",
    "num_movies_es = es.count(index=\"movies\")['count']"
   ]
  },
  {
   "cell_type": "code",
   "execution_count": null,
   "id": "native-nancy",
   "metadata": {},
   "outputs": [],
   "source": [
    "es.search(index=\"movies\", q=\"title:matrix\", size=3)"
   ]
  },
  {
   "cell_type": "code",
   "execution_count": null,
   "id": "infrared-instrumentation",
   "metadata": {},
   "outputs": [],
   "source": [
    "ratings_from_es = spark.read.format(\"es\").load(\"ratings\")\n",
    "ratings_from_es.show(5)"
   ]
  },
  {
   "cell_type": "markdown",
   "id": "ecological-zoning",
   "metadata": {},
   "source": [
    "## ALS"
   ]
  },
  {
   "cell_type": "code",
   "execution_count": 91,
   "id": "affecting-ivory",
   "metadata": {},
   "outputs": [
    {
     "name": "stdout",
     "output_type": "stream",
     "text": [
      "+---+--------------------+\n",
      "| id|            features|\n",
      "+---+--------------------+\n",
      "| 10|[-0.2570028, 0.48...|\n",
      "| 20|[-0.4637753, -2.3...|\n",
      "| 30|[-0.31054392, -0....|\n",
      "| 40|[0.013998926, 0.5...|\n",
      "| 50|[0.093884476, -0....|\n",
      "+---+--------------------+\n",
      "only showing top 5 rows\n",
      "\n",
      "+---+--------------------+\n",
      "| id|            features|\n",
      "+---+--------------------+\n",
      "| 10|[0.4070635, -0.12...|\n",
      "| 20|[0.6117462, 0.196...|\n",
      "| 30|[1.0076349, 0.849...|\n",
      "| 40|[0.35743824, -0.2...|\n",
      "| 50|[0.85448134, 0.06...|\n",
      "+---+--------------------+\n",
      "only showing top 5 rows\n",
      "\n"
     ]
    }
   ],
   "source": [
    "als = ALS(userCol=\"userId\", itemCol=\"movieId\", ratingCol=\"rating\", regParam=0.02, rank=VECTOR_DIM, seed=54)\n",
    "model = als.fit(ratings)\n",
    "model.userFactors.show(5)\n",
    "model.itemFactors.show(5)"
   ]
  },
  {
   "cell_type": "code",
   "execution_count": 92,
   "id": "composite-ethernet",
   "metadata": {},
   "outputs": [
    {
     "name": "stdout",
     "output_type": "stream",
     "text": [
      "+---+--------------------+----------------+---------------+\n",
      "| id|        model_factor|   model_version|model_timestamp|\n",
      "+---+--------------------+----------------+---------------+\n",
      "| 10|[0.4070635, -0.12...|ALS_653159374be1|     1617893924|\n",
      "| 20|[0.6117462, 0.196...|ALS_653159374be1|     1617893924|\n",
      "| 30|[1.0076349, 0.849...|ALS_653159374be1|     1617893924|\n",
      "| 40|[0.35743824, -0.2...|ALS_653159374be1|     1617893924|\n",
      "| 50|[0.85448134, 0.06...|ALS_653159374be1|     1617893924|\n",
      "+---+--------------------+----------------+---------------+\n",
      "only showing top 5 rows\n",
      "\n",
      "+---+--------------------+----------------+---------------+\n",
      "| id|        model_factor|   model_version|model_timestamp|\n",
      "+---+--------------------+----------------+---------------+\n",
      "| 10|[-0.2570028, 0.48...|ALS_653159374be1|     1617893924|\n",
      "| 20|[-0.4637753, -2.3...|ALS_653159374be1|     1617893924|\n",
      "| 30|[-0.31054392, -0....|ALS_653159374be1|     1617893924|\n",
      "| 40|[0.013998926, 0.5...|ALS_653159374be1|     1617893924|\n",
      "| 50|[0.093884476, -0....|ALS_653159374be1|     1617893924|\n",
      "+---+--------------------+----------------+---------------+\n",
      "only showing top 5 rows\n",
      "\n"
     ]
    }
   ],
   "source": [
    "from pyspark.sql.functions import lit, current_timestamp, unix_timestamp\n",
    "\n",
    "ver = model.uid\n",
    "ts = unix_timestamp(current_timestamp())\n",
    "movie_vectors = model.itemFactors.select(\"id\",\\\n",
    "                                         col(\"features\").alias(\"model_factor\"),\\\n",
    "                                         lit(ver).alias(\"model_version\"),\\\n",
    "                                         ts.alias(\"model_timestamp\"))\n",
    "movie_vectors.show(5)\n",
    "user_vectors = model.userFactors.select(\"id\",\\\n",
    "                                        col(\"features\").alias(\"model_factor\"),\\\n",
    "                                        lit(ver).alias(\"model_version\"),\\\n",
    "                                        ts.alias(\"model_timestamp\"))\n",
    "user_vectors.show(5)"
   ]
  },
  {
   "cell_type": "code",
   "execution_count": null,
   "id": "aware-reviewer",
   "metadata": {},
   "outputs": [],
   "source": [
    "# запишим данные в ES\n",
    "movie_vectors.write.format(\"es\") \\\n",
    "    .option(\"es.mapping.id\", \"id\") \\\n",
    "    .option(\"es.write.operation\", \"update\") \\\n",
    "    .save(\"movies\", mode=\"append\")"
   ]
  },
  {
   "cell_type": "code",
   "execution_count": null,
   "id": "announced-amino",
   "metadata": {},
   "outputs": [],
   "source": [
    "# запишим данные в ES\n",
    "user_vectors.write.format(\"es\") \\\n",
    "    .option(\"es.mapping.id\", \"id\") \\\n",
    "    .option(\"es.write.operation\", \"index\") \\\n",
    "    .save(\"users\", mode=\"append\")"
   ]
  },
  {
   "cell_type": "code",
   "execution_count": null,
   "id": "biblical-colombia",
   "metadata": {},
   "outputs": [],
   "source": [
    "# поиск определенного фильма в ES\n",
    "es.search(index=\"movies\", q=\"force awakens\")['hits']['hits'][0]"
   ]
  }
 ],
 "metadata": {
  "kernelspec": {
   "display_name": "Python 3",
   "language": "python",
   "name": "python3"
  },
  "language_info": {
   "codemirror_mode": {
    "name": "ipython",
    "version": 3
   },
   "file_extension": ".py",
   "mimetype": "text/x-python",
   "name": "python",
   "nbconvert_exporter": "python",
   "pygments_lexer": "ipython3",
   "version": "3.7.3"
  }
 },
 "nbformat": 4,
 "nbformat_minor": 5
}
