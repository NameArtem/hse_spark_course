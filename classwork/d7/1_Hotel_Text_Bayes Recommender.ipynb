{
 "cells": [
  {
   "cell_type": "code",
   "execution_count": 1,
   "metadata": {},
   "outputs": [],
   "source": [
    "from pyspark import SparkContext, SparkConf\n",
    "from pyspark.sql import SparkSession\n",
    "from pyspark.sql.functions import col, avg,when\n",
    "import hashlib\n",
    "from pyspark.sql.functions import udf\n",
    "\n",
    "from pyspark.ml.evaluation import RegressionEvaluator\n",
    "from pyspark.ml.recommendation import ALS\n",
    "\n",
    "\n",
    "import pandas as pd\n",
    "import numpy as np\n",
    "import matplotlib.pyplot as plt\n",
    "from scipy.stats import norm \n",
    "\n",
    "from pyspark.sql.types import *\n",
    "from pyspark.sql import Row\n",
    "\n",
    "from pyspark.ml.feature import StringIndexer\n",
    "\n",
    "### Tokenizers\n",
    "from pyspark.ml.feature import Tokenizer, RegexTokenizer\n",
    "from pyspark.sql.functions import col, udf\n",
    "from pyspark.sql.types import IntegerType\n",
    "from pyspark.ml.feature import StopWordsRemover\n",
    "## convert to word v review matrix \n",
    "from pyspark.ml.feature import HashingTF, IDF\n",
    "##Naive Bayes\n",
    "from pyspark.ml.classification import NaiveBayes, NaiveBayesModel\n",
    "from pyspark.ml.evaluation import MulticlassClassificationEvaluator\n",
    "from pyspark.mllib.evaluation import MultilabelMetrics,MulticlassMetrics"
   ]
  },
  {
   "cell_type": "code",
   "execution_count": 2,
   "metadata": {},
   "outputs": [],
   "source": [
    "import pandas as pd\n",
    "from pyspark.sql import SparkSession\n",
    "\n",
    "spark = SparkSession.\\\n",
    "        builder.\\\n",
    "        appName(\"best_one\").\\\n",
    "        getOrCreate()"
   ]
  },
  {
   "cell_type": "code",
   "execution_count": 9,
   "metadata": {},
   "outputs": [
    {
     "name": "stdout",
     "output_type": "stream",
     "text": [
      "+--------------------+-----+--------------------+--------------------+\n",
      "|             user_id|stars|         business_id|                text|\n",
      "+--------------------+-----+--------------------+--------------------+\n",
      "|7jc9f2Nn2S--5b-G5...|    4|_jYt69Zx1SUo_V9z0...|If I could give 3...|\n",
      "|byro3oSQQ1gRESKlf...|    2|ch1ercqwoNLpQLxpT...|Highlights: Recen...|\n",
      "|Eypq5gLLjCapBVVnM...|    4|hSFmjAeFlsltnIowd...|Strong diner food...|\n",
      "|I0pfui2bGR9R6aodF...|    4|pc1PkDBggUSNU73jO...|This was truly my...|\n",
      "|vNH1hOEqSphDpCfBf...|    1|qjI4sbA1xa8B9F81L...|I decided to take...|\n",
      "+--------------------+-----+--------------------+--------------------+\n",
      "only showing top 5 rows\n",
      "\n"
     ]
    }
   ],
   "source": [
    "# загрузим данные и сразу сделаем разделение на выборки\n",
    "\n",
    "review = spark.createDataFrame(pd.read_json('data/reviews.json'))\n",
    "\n",
    "(review,spill) = review.randomSplit([0.40,0.60])\n",
    "\n",
    "review = review.select('user_id',\n",
    "                       'stars',\n",
    "                       'business_id',\n",
    "                       'text' )\n",
    "\n",
    "review.show(5)"
   ]
  },
  {
   "cell_type": "code",
   "execution_count": 35,
   "metadata": {},
   "outputs": [],
   "source": [
    "# дополнительные функции для обработки данныз\n",
    "\n",
    "# создание своего hash\n",
    "def fix_ids(s):\n",
    "    return int(int(hashlib.sha1(str(s).encode('utf8')).hexdigest(), 16) % 179426083)\n",
    "\n",
    "fix_ids_udf = udf(fix_ids)\n",
    "\n",
    "# decimil -> float\n",
    "def fix_decimal_values(s):\n",
    "    return round(s,2)\n",
    "\n",
    "fix_round_udf = udf(fix_decimal_values)\n",
    "\n",
    "# в int\n",
    "def conv_to_int(v):\n",
    "    return int(v)\n",
    "\n",
    "to_int_udf = udf(conv_to_int)"
   ]
  },
  {
   "cell_type": "code",
   "execution_count": 13,
   "metadata": {},
   "outputs": [
    {
     "name": "stdout",
     "output_type": "stream",
     "text": [
      "+--------------------+--------------------+-----------+--------------------+\n",
      "|         business_id|                name|       city|          categories|\n",
      "+--------------------+--------------------+-----------+--------------------+\n",
      "|6iYb2HFDywm3zjuRg...| Oskar Blues Taproom|    Boulder|Gastropubs, Food,...|\n",
      "|tCbdrRPZA0oiIYSmH...|Flying Elephants ...|   Portland|Salad, Soup, Sand...|\n",
      "|bvN78flM8NLprQ1a1...|      The Reclaimory|   Portland|Antiques, Fashion...|\n",
      "|oaepsyvc0J17qwi8c...|         Great Clips|Orange City|Beauty & Spas, Ha...|\n",
      "|PE9uqAjdw0E4-8mjG...|   Crossfit Terminus|    Atlanta|Gyms, Active Life...|\n",
      "+--------------------+--------------------+-----------+--------------------+\n",
      "only showing top 5 rows\n",
      "\n"
     ]
    }
   ],
   "source": [
    "business = spark.createDataFrame(pd.read_json('data/business.json'))\n",
    "business = business.select('business_id','name','city','categories')\n",
    "business.show(5)"
   ]
  },
  {
   "cell_type": "code",
   "execution_count": 48,
   "metadata": {},
   "outputs": [
    {
     "name": "stdout",
     "output_type": "stream",
     "text": [
      "+--------------------+--------------------+-----+--------------------+--------------------+---------+--------------------+\n",
      "|         business_id|             user_id|stars|                text|                name|     city|          categories|\n",
      "+--------------------+--------------------+-----+--------------------+--------------------+---------+--------------------+\n",
      "|8oz6JU_1D8PaLDNvq...|AIuBTJZ0WlpHSnE-T...|    5|This is my second...|Gorin Plastic Sur...| Tualatin|Health & Medical,...|\n",
      "|Agq4zoNLSIpT1_ZJb...|PR-NRdbE4Fnaq-kUL...|    4|The cost isn't ex...|        Donut Palace| Portland|        Food, Donuts|\n",
      "|r-hWf-bd9im5rj_l2...|-FZBTkAZEXoP7CYvR...|    4|My buddy was visi...|     Take Five CafГ©|Vancouver|Food, Coffee & Te...|\n",
      "|6sSXBu_PWwLcw12PY...|IAw4S5vemSLn48f4m...|    5|I wanted to write...|         A & V Nails| Winthrop|Beauty & Spas, Na...|\n",
      "|BkbqFtF0rK2DS9c5G...|ZChm0C4YeOihxVvy8...|    1|I would not recom...|Boston Lobster Feast|Kissimmee|Restaurants, Seafood|\n",
      "+--------------------+--------------------+-----+--------------------+--------------------+---------+--------------------+\n",
      "only showing top 5 rows\n",
      "\n"
     ]
    }
   ],
   "source": [
    "df = review.join(business,'business_id')\n",
    "df.show(5)"
   ]
  },
  {
   "cell_type": "code",
   "execution_count": 49,
   "metadata": {},
   "outputs": [
    {
     "name": "stdout",
     "output_type": "stream",
     "text": [
      "+---------+----------+------+--------------------+\n",
      "|   userId|businessId|rating|             comment|\n",
      "+---------+----------+------+--------------------+\n",
      "| 93598605|  90943709|     5|This is my second...|\n",
      "| 60929937|  56296887|     4|The cost isn't ex...|\n",
      "| 72090464| 101058292|     4|My buddy was visi...|\n",
      "|118371911| 153166766|     5|I wanted to write...|\n",
      "|120510584|   4916707|     1|I would not recom...|\n",
      "+---------+----------+------+--------------------+\n",
      "only showing top 5 rows\n",
      "\n"
     ]
    }
   ],
   "source": [
    "# применим функции\n",
    "df= df.withColumn('userId',fix_ids_udf(df['user_id']).cast('int'))\n",
    "df= df.withColumn('businessId',fix_ids_udf(df['business_id']).cast('int'))\n",
    "\n",
    "df = df.select('userId','businessId',col('stars').alias('rating'),col('text').alias('comment'))\n",
    "\n",
    "df.show(5)"
   ]
  },
  {
   "cell_type": "markdown",
   "metadata": {},
   "source": [
    "## Tokenizing / Удаление стоп-слов (пример - FLŰGGÅƏNK∂€ČHIŒβØL∫ÊN)"
   ]
  },
  {
   "cell_type": "code",
   "execution_count": 60,
   "metadata": {},
   "outputs": [],
   "source": [
    "countTokens = udf(lambda words: len(words), IntegerType())"
   ]
  },
  {
   "cell_type": "code",
   "execution_count": null,
   "metadata": {},
   "outputs": [],
   "source": [
    "# токенизация текста (предложения в объекты)\n",
    "tokenizer = Tokenizer(inputCol=\"comment\", outputCol=\"words\")\n",
    "tokenized = tokenizer.transform(df)\n",
    "\n",
    "# посмотрим результат\n",
    "tokenized.select(\"comment\", \"words\").withColumn(\"tokens\", countTokens(col(\"words\"))).show(5)"
   ]
  },
  {
   "cell_type": "code",
   "execution_count": 62,
   "metadata": {
    "scrolled": true
   },
   "outputs": [
    {
     "name": "stdout",
     "output_type": "stream",
     "text": [
      "+--------------------+--------------------+--------------------+------+\n",
      "|             comment|               words|            filtered|tokens|\n",
      "+--------------------+--------------------+--------------------+------+\n",
      "|This is my second...|[this, is, my, se...|[second, time, ge...|    36|\n",
      "|The cost isn't ex...|[the, cost, isn't...|[cost, expensive,...|    22|\n",
      "|My buddy was visi...|[my, buddy, was, ...|[buddy, visiting,...|    48|\n",
      "|I wanted to write...|[i, wanted, to, w...|[wanted, write, r...|   136|\n",
      "|I would not recom...|[i, would, not, r...|[recommend, place...|    73|\n",
      "+--------------------+--------------------+--------------------+------+\n",
      "only showing top 5 rows\n",
      "\n"
     ]
    }
   ],
   "source": [
    "# удалить стоп-слова\n",
    "remover = StopWordsRemover(inputCol=\"words\", outputCol=\"filtered\")\n",
    "remover.transform(tokenized)\\\n",
    "       .select('comment','words','filtered')\\\n",
    "       .withColumn(\"tokens\", countTokens(col(\"filtered\"))).show(5)"
   ]
  },
  {
   "cell_type": "code",
   "execution_count": 65,
   "metadata": {},
   "outputs": [],
   "source": [
    "filtered = remover.transform(tokenized)\\\n",
    "                  .select('userId','businessId','rating','comment','filtered')\\\n",
    "                  .withColumn(\"tokens\", countTokens(col(\"filtered\")))"
   ]
  },
  {
   "cell_type": "code",
   "execution_count": 66,
   "metadata": {
    "scrolled": true
   },
   "outputs": [
    {
     "name": "stdout",
     "output_type": "stream",
     "text": [
      "+---------+----------+------+--------------------+--------------------+------+\n",
      "|   userId|businessId|rating|             comment|            filtered|tokens|\n",
      "+---------+----------+------+--------------------+--------------------+------+\n",
      "| 93598605|  90943709|     5|This is my second...|[second, time, ge...|    36|\n",
      "| 60929937|  56296887|     4|The cost isn't ex...|[cost, expensive,...|    22|\n",
      "| 72090464| 101058292|     4|My buddy was visi...|[buddy, visiting,...|    48|\n",
      "|118371911| 153166766|     5|I wanted to write...|[wanted, write, r...|   136|\n",
      "|120510584|   4916707|     1|I would not recom...|[recommend, place...|    73|\n",
      "+---------+----------+------+--------------------+--------------------+------+\n",
      "only showing top 5 rows\n",
      "\n"
     ]
    }
   ],
   "source": [
    "filtered.show(5)"
   ]
  },
  {
   "cell_type": "markdown",
   "metadata": {},
   "source": [
    "## создаем матрицу слов и описания"
   ]
  },
  {
   "cell_type": "code",
   "execution_count": 67,
   "metadata": {
    "scrolled": true
   },
   "outputs": [],
   "source": [
    "# метод для хеширования\n",
    "hashingTF = HashingTF(inputCol=\"filtered\", outputCol=\"rawFeatures\")\n",
    "idf = IDF(inputCol=\"rawFeatures\", outputCol=\"features\")\n",
    "\n",
    "#hashingTF - создание фичей из слов\n",
    "tf = hashingTF.transform(filtered)\n",
    "\n",
    "# можно применить TF-IDF, а не HashingTF\n",
    "idf = idf.fit(tf)\n",
    "tfidf = idf.transform(tf)"
   ]
  },
  {
   "cell_type": "code",
   "execution_count": 68,
   "metadata": {
    "scrolled": true
   },
   "outputs": [
    {
     "name": "stdout",
     "output_type": "stream",
     "text": [
      "+---------+----------+--------------------+--------------------+--------------------+-----+\n",
      "|   userId|businessId|             comment|            filtered|            features|label|\n",
      "+---------+----------+--------------------+--------------------+--------------------+-----+\n",
      "| 93598605|  90943709|This is my second...|[second, time, ge...|(262144,[1354,225...|    5|\n",
      "| 60929937|  56296887|The cost isn't ex...|[cost, expensive,...|(262144,[2306,193...|    4|\n",
      "| 72090464| 101058292|My buddy was visi...|[buddy, visiting,...|(262144,[614,3679...|    4|\n",
      "|118371911| 153166766|I wanted to write...|[wanted, write, r...|(262144,[991,2437...|    5|\n",
      "|120510584|   4916707|I would not recom...|[recommend, place...|(262144,[1865,240...|    1|\n",
      "+---------+----------+--------------------+--------------------+--------------------+-----+\n",
      "only showing top 5 rows\n",
      "\n"
     ]
    }
   ],
   "source": [
    "data = tfidf.select('userId','businessId','comment','filtered','features',col('rating').alias('label'))\n",
    "data.show(5)"
   ]
  },
  {
   "cell_type": "code",
   "execution_count": 69,
   "metadata": {},
   "outputs": [
    {
     "name": "stdout",
     "output_type": "stream",
     "text": [
      "+---------+----------+--------------------+--------------------+--------------------+-----+\n",
      "|   userId|businessId|             comment|            filtered|            features|label|\n",
      "+---------+----------+--------------------+--------------------+--------------------+-----+\n",
      "| 93598605|  90943709|This is my second...|[second, time, ge...|(262144,[1354,225...|    1|\n",
      "|118371911| 153166766|I wanted to write...|[wanted, write, r...|(262144,[991,2437...|    1|\n",
      "|120510584|   4916707|I would not recom...|[recommend, place...|(262144,[1865,240...|    0|\n",
      "|  3501315|   6492804|Best breakfast in...|[best, breakfast,...|(262144,[329,5383...|    1|\n",
      "|113030580|  85111127|Worst food ever ....|[worst, food, eve...|(262144,[6330,133...|    0|\n",
      "+---------+----------+--------------------+--------------------+--------------------+-----+\n",
      "only showing top 5 rows\n",
      "\n"
     ]
    }
   ],
   "source": [
    "# проставляем метки для обучения\n",
    "def c_zero_one(n):\n",
    "    if n==1:\n",
    "        return 0\n",
    "    elif n == 5:\n",
    "        return 1\n",
    "\n",
    "\n",
    "conv_zero_one = udf(c_zero_one)\n",
    "\n",
    "good_bad = data.filter( (col('label') == 1) | (col('label') == 5) ).withColumn('label',conv_zero_one(col('label')).cast('int'))\n",
    "good_bad.show(5)"
   ]
  },
  {
   "cell_type": "code",
   "execution_count": 70,
   "metadata": {},
   "outputs": [],
   "source": [
    "(training,test) = good_bad.randomSplit([0.80,.20])"
   ]
  },
  {
   "cell_type": "code",
   "execution_count": 71,
   "metadata": {
    "scrolled": true
   },
   "outputs": [],
   "source": [
    "# применяем модель NvB\n",
    "# https://ru.wikipedia.org/wiki/%D0%9D%D0%B0%D0%B8%D0%B2%D0%BD%D1%8B%D0%B9_%D0%B1%D0%B0%D0%B9%D0%B5%D1%81%D0%BE%D0%B2%D1%81%D0%BA%D0%B8%D0%B9_%D0%BA%D0%BB%D0%B0%D1%81%D1%81%D0%B8%D1%84%D0%B8%D0%BA%D0%B0%D1%82%D0%BE%D1%80\n",
    "nb = NaiveBayes(smoothing=1)\n",
    "model = nb.fit(training)"
   ]
  },
  {
   "cell_type": "markdown",
   "metadata": {},
   "source": [
    "# Pred"
   ]
  },
  {
   "cell_type": "markdown",
   "metadata": {},
   "source": [
    "## Сделаем предикт по рейтингам"
   ]
  },
  {
   "cell_type": "code",
   "execution_count": 72,
   "metadata": {},
   "outputs": [],
   "source": [
    "# predict\n",
    "predictions = model.transform(test)"
   ]
  },
  {
   "cell_type": "code",
   "execution_count": 73,
   "metadata": {},
   "outputs": [
    {
     "name": "stdout",
     "output_type": "stream",
     "text": [
      "+-------+--------+-----+----------+\n",
      "|comment|filtered|label|prediction|\n",
      "+-------+--------+-----+----------+\n",
      "+-------+--------+-----+----------+\n",
      "\n"
     ]
    }
   ],
   "source": [
    "# обзор класса - 0\n",
    "predictions.filter(predictions['prediction'] == 0).select('comment','filtered','label','prediction').show(10)"
   ]
  },
  {
   "cell_type": "code",
   "execution_count": 74,
   "metadata": {},
   "outputs": [
    {
     "name": "stdout",
     "output_type": "stream",
     "text": [
      "+--------------------+--------------------+-----+----------+\n",
      "|             comment|            filtered|label|prediction|\n",
      "+--------------------+--------------------+-----+----------+\n",
      "|I would not recom...|[recommend, place...|    0|       1.0|\n",
      "|I was in the area...|[area, decided, c...|    0|       1.0|\n",
      "|Zero Stars.\n",
      "\n",
      "Just...|[zero, stars., , ...|    0|       1.0|\n",
      "|The worst Chinese...|[worst, chinese, ...|    0|       1.0|\n",
      "|This is a five-st...|[five-star, resta...|    1|       1.0|\n",
      "|I have never writ...|[never, written, ...|    0|       1.0|\n",
      "|Wish I could give...|[wish, give, zero...|    0|       1.0|\n",
      "|John was quick to...|[john, quick, ret...|    1|       1.0|\n",
      "|Since discovering...|[since, discoveri...|    1|       1.0|\n",
      "|I haven't made it...|[made, yoga, clas...|    1|       1.0|\n",
      "+--------------------+--------------------+-----+----------+\n",
      "only showing top 10 rows\n",
      "\n"
     ]
    }
   ],
   "source": [
    "# обзор класса - 1\n",
    "predictions.filter(predictions['prediction'] == 1).select('comment','filtered','label','prediction').show(10)"
   ]
  },
  {
   "cell_type": "code",
   "execution_count": 75,
   "metadata": {},
   "outputs": [
    {
     "name": "stdout",
     "output_type": "stream",
     "text": [
      "+-------------------------------------------------------------------------------------------------------------------------------------------------------------------------------------------------------------------------------------------------------------------------------------------------------------------------------------------------------------------------------------------------------------------------------------------------------------------------------------------------------------------------------------------------------------------------------------------------------------------------------------------------------------------------------------------------------------------------------------------------------------------------------------------------------------------------------------------------------------------------------------------------------------------------------------------------------------------------------------------------------------------------------------------------------------------------------------------------------------------------------------------------------------------------------------------------------------------------------------------------------------------------------------------------------------------------------------------------------+\n",
      "|comment                                                                                                                                                                                                                                                                                                                                                                                                                                                                                                                                                                                                                                                                                                                                                                                                                                                                                                                                                                                                                                                                                                                                                                                                                                                                                                                                                |\n",
      "+-------------------------------------------------------------------------------------------------------------------------------------------------------------------------------------------------------------------------------------------------------------------------------------------------------------------------------------------------------------------------------------------------------------------------------------------------------------------------------------------------------------------------------------------------------------------------------------------------------------------------------------------------------------------------------------------------------------------------------------------------------------------------------------------------------------------------------------------------------------------------------------------------------------------------------------------------------------------------------------------------------------------------------------------------------------------------------------------------------------------------------------------------------------------------------------------------------------------------------------------------------------------------------------------------------------------------------------------------------+\n",
      "|I would not recommend this place if you are looking for delicious lobster.  The lobsters were chewy like eating rubber.  Over cooked. I spoke with the manager and he was very cordial to me. I asked about how long they were cooking the lobsters.  He advised they were pre cooked.  Then later reheated.  My whole family was disappointed \n",
      "The manager offered to bring us fresher lobsters but it was all the same.  Very disappointing.  I paid the hefty bill and didn't complain. Our server was very nice and attentive and I tipped her very well.  It's not her fault lobsters are cooked twice!  The rest of the food on the buffet was just ok.   Never again.  Red lobster was fantastic the next night tho!                                                                                                                                                                                                                                                                                                                                                                                                                                                                                                                                                                                                                            |\n",
      "|I was in the area and decided to check this place out. \n",
      "\n",
      "First, there are no real indicators on International to find this place....the address number isn't easily found nor the name of the business...it's about 500 feet back from the road.\n",
      "\n",
      "The Yelp hours say they open at 12 noon.  Nope. 2pm. So I just wasted my time to come here. \n",
      "\n",
      "Fail.                                                                                                                                                                                                                                                                                                                                                                                                                                                                                                                                                                                                                                                                                                                                                                                                                                                                                                                                                                                                  |\n",
      "|Zero Stars.\n",
      "\n",
      "Just left a bag of quarters 5 minutes ago in the car with $15 in it, went back RIGHT away (within 5 minutes) and they said there's nothing in the car. They also nickel and dime you for every service and use scare tactics to sell their services. Thieves and crooks. Don't ever use their service. They're lucky we have a flight to catch.\n",
      "\n",
      "Use other friendlier rental car services.                                                                                                                                                                                                                                                                                                                                                                                                                                                                                                                                                                                                                                                                                                                                                                                                                                                                                                                                                |\n",
      "|The worst Chinese restaurant I have ever been to in vancouver.\n",
      "The the shreaded pork had no mushrooms and is full of Msg.\n",
      "The lions head was full of corn starch.\n",
      "The fish was not fresh.\n",
      "We have to wait 40 minutes for dessert which we eventually cancelled thee order.\n",
      "You can be blind folded and bump into a better Chinese restaurant in Vancouver.\n",
      "Service was slow with an attitude.  The chef managed to screw up every dish we ordered. I was angry and said I would write them up on yelp. The response is their loyal chinese customers do not use yelp. wt$%&++                                                                                                                                                                                                                                                                                                                                                                                                                                                                                                                                                                                                                                                                                                                                                                          |\n",
      "|This is a five-star restaurant if ever I have seen one! Maurice, one of the owners, met us at the front door, Daniel a seasoned waiter from Hawaii, took care of us and the food was over-the-top delicious. This is not just a restaurant, it is an experience!  My son recommended this to us and we are glad that we took his advice. I had the rack of lamb and my wife had the grouper with crab. Save room for dessert! We live in Tallahassee but the next time we are in Orlando it's back to Chatham's!                                                                                                                                                                                                                                                                                                                                                                                                                                                                                                                                                                                                                                                                                                                                                                                                                                       |\n",
      "|I have never written a review before. But this  place was so horrible that I had to warn others.  We went with a party of 15 people. We had made a reservation. We  got to the restaurant at 6:20. No one came to offer us even menus or water  until  we Had been sitting  for about 35 min.  They had a large party on the other side of the restaurant. They were only paying attention to that side.  There were only two tables with patrons on this side of the restaurant.   There were people / staff standing around doing nothing initially and still did not come to ask us anything.  The music was so terribly loud from the party side  we could not  hear each other nor even converse with the waitress when she finally did come. Most of us developed headaches .We finally ordered and it took over an hour for the kids pasta to even come out. Close to the end we could not wait anymore. The kids were asleep on the bed/seating area. We had to get up and leave Before our dinner even arrived.  The waitress told me to go get some fresh air from outside.  And that the food should be ready soon.  it was 28В° and raining, by the way.  Was she out of her mind!  1/2 of us left while the others waited for the food to come still... \n",
      "\n",
      "My husband  stated that this is the most horrible dining experience has ever had|\n",
      "|Wish I could give zero stars, this review is for the food not the service. Over priced NOT authentic vietnamese food. $6.5 for a banh mi (vietnamese sandwich), seriously?? hoagie bread not the usual banh mi bread and they skimp on the meat and veggie toppings. The dipping fish sauce that came with the spring rolls were salty and lack sweetness. So disappointed...The Pho (beef noodle soup) was overly spiced, my parents couldn't even finished their meals. Will not be returning and would not recommend.                                                                                                                                                                                                                                                                                                                                                                                                                                                                                                                                                                                                                                                                                                                                                                                                                               |\n",
      "|John was quick to return my call, communicated well, came on time, and most importantly did great work. There was a minor hiccup where he left a lever on that caused the heat to bypass the thermostat but he quickly returned my call and walked me through the process for a quick fix. I would highly recommend. Went through a few other services in the past and John stands above the rest                                                                                                                                                                                                                                                                                                                                                                                                                                                                                                                                                                                                                                                                                                                                                                                                                                                                                                                                                      |\n",
      "|Since discovering Modern Dog I have been a happier dog owner. The team here has been great with dog walks, nail clips, overnight help, and even delivered dog food to me when I was snowbound! Every one of them is reliable, friendly, trustworthy, and patient with my neurotic dog. The shop is stocked with food, treats, toys, and they'll order just about anything you need. Modern Dog is an awesome addition to the neighborhood                                                                                                                                                                                                                                                                                                                                                                                                                                                                                                                                                                                                                                                                                                                                                                                                                                                                                                              |\n",
      "|I haven't made it to a yoga class, yet, but I did do the Yoga Therapy. I'm really glad I went. I also managed to break the reservation system, which led to a hiccup, and the management were incredibly helpful and went out of their way to make it right. So, I feel quite good about going here in the future.                                                                                                                                                                                                                                                                                                                                                                                                                                                                                                                                                                                                                                                                                                                                                                                                                                                                                                                                                                                                                                     |\n",
      "|Hate to say this but they leave the food on the warmer over heated and soggy. It's not like there's a lot of people by 1:45pm but Christ people will be eating what they paid for! Yup that's what I had, a soggy string beans and broccoli. Yuck! Do a better job please!!!                                                                                                                                                                                                                                                                                                                                                                                                                                                                                                                                                                                                                                                                                                                                                                                                                                                                                                                                                                                                                                                                           |\n",
      "|Great spot for a quick breakfast or a lovely salad lunch. The owners are awesome and they run a great little cafe.                                                                                                                                                                                                                                                                                                                                                                                                                                                                                                                                                                                                                                                                                                                                                                                                                                                                                                                                                                                                                                                                                                                                                                                                                                     |\n",
      "|If I could give kanes a zero I would. I purchased a 1200 dollar sofa set from them in 2011. The leather peeled off on both the sofa and the love seat. They would not fix it, they would not contact me when they said they would. They have the worst customer service and they have a recording that says your furniture is guaranteed for life. That is a lie.  I have purchased a dining set, a bedroom set and a 2000 dollar mattress from Kanes.  After the sofa set and the way they treated me I would never buy from them again.  I strongly urge you to purchase your furniture from any other company. If not you will reqret dealing with Kanes if you have a problem.                                                                                                                                                                                                                                                                                                                                                                                                                                                                                                                                                                                                                                                                     |\n",
      "|We asked them about adding the gooey half boiled eggs that you'd be able to get at any other ramen place - and they only serve hard boiled eggs! This just seemed extremely weird to us and as owners of a ramen shop I would highly recommend they add that to their menu. Sorry but it's a necessity. As for our meals, they were unremarkable. Extremely bland and I honestly regret wasting time, money, and calories.                                                                                                                                                                                                                                                                                                                                                                                                                                                                                                                                                                                                                                                                                                                                                                                                                                                                                                                             |\n",
      "+-------------------------------------------------------------------------------------------------------------------------------------------------------------------------------------------------------------------------------------------------------------------------------------------------------------------------------------------------------------------------------------------------------------------------------------------------------------------------------------------------------------------------------------------------------------------------------------------------------------------------------------------------------------------------------------------------------------------------------------------------------------------------------------------------------------------------------------------------------------------------------------------------------------------------------------------------------------------------------------------------------------------------------------------------------------------------------------------------------------------------------------------------------------------------------------------------------------------------------------------------------------------------------------------------------------------------------------------------------+\n",
      "\n"
     ]
    }
   ],
   "source": [
    "# класс 1, только комментарий \n",
    "predictions.filter(predictions['prediction'] == 1).select('comment').show(truncate=False)"
   ]
  },
  {
   "cell_type": "code",
   "execution_count": 76,
   "metadata": {},
   "outputs": [
    {
     "data": {
      "text/plain": [
       "0.18796992481203006"
      ]
     },
     "execution_count": 76,
     "metadata": {},
     "output_type": "execute_result"
    }
   ],
   "source": [
    "# оценка качества\n",
    "evaluator = MulticlassClassificationEvaluator(predictionCol=\"prediction\")\n",
    "evaluator.evaluate(predictions)"
   ]
  },
  {
   "cell_type": "markdown",
   "metadata": {},
   "source": [
    "### precision, recall, f1score"
   ]
  },
  {
   "cell_type": "code",
   "execution_count": 77,
   "metadata": {},
   "outputs": [],
   "source": [
    "metrics_rdd = predictions.select(col('label').cast('float'),col('prediction').cast('float')).rdd"
   ]
  },
  {
   "cell_type": "code",
   "execution_count": 78,
   "metadata": {},
   "outputs": [],
   "source": [
    "metrics = MulticlassMetrics(metrics_rdd)"
   ]
  },
  {
   "cell_type": "markdown",
   "metadata": {},
   "source": [
    "#### precision, recall, f1score для класса 1"
   ]
  },
  {
   "cell_type": "code",
   "execution_count": 84,
   "metadata": {},
   "outputs": [
    {
     "data": {
      "text/plain": [
       "1.0"
      ]
     },
     "execution_count": 84,
     "metadata": {},
     "output_type": "execute_result"
    }
   ],
   "source": [
    "metrics.precision(1.0)"
   ]
  },
  {
   "cell_type": "code",
   "execution_count": 85,
   "metadata": {},
   "outputs": [
    {
     "data": {
      "text/plain": [
       "0.35714285714285715"
      ]
     },
     "execution_count": 85,
     "metadata": {},
     "output_type": "execute_result"
    }
   ],
   "source": [
    "metrics.recall(1.0)"
   ]
  },
  {
   "cell_type": "code",
   "execution_count": 86,
   "metadata": {},
   "outputs": [
    {
     "data": {
      "text/plain": [
       "0.5263157894736842"
      ]
     },
     "execution_count": 86,
     "metadata": {},
     "output_type": "execute_result"
    }
   ],
   "source": [
    "metrics.fMeasure(1.0)"
   ]
  },
  {
   "cell_type": "markdown",
   "metadata": {},
   "source": [
    "### Pred на всех данных с установкой порогового значения (threshold)"
   ]
  },
  {
   "cell_type": "code",
   "execution_count": 87,
   "metadata": {},
   "outputs": [],
   "source": [
    "(sample,spill) = data.randomSplit([0.20,.80])"
   ]
  },
  {
   "cell_type": "code",
   "execution_count": 88,
   "metadata": {},
   "outputs": [
    {
     "name": "stdout",
     "output_type": "stream",
     "text": [
      "+---------+----------+--------------------+--------------------+--------------------+-----+\n",
      "|   userId|businessId|             comment|            filtered|            features|label|\n",
      "+---------+----------+--------------------+--------------------+--------------------+-----+\n",
      "|120510584|   4916707|I would not recom...|[recommend, place...|(262144,[1865,240...|    1|\n",
      "|124636930| 147898287|The first time I ...|[first, time, san...|(262144,[3928,504...|    1|\n",
      "| 81155808|  84538770|I enjoyed the pho...|[enjoyed, pho,, s...|(262144,[5537,912...|    3|\n",
      "| 90261353| 111957329|First, working wi...|[first,, working,...|(262144,[2437,576...|    5|\n",
      "| 69138410|  44510514|Delicious ice cre...|[delicious, ice, ...|(262144,[8618,153...|    5|\n",
      "+---------+----------+--------------------+--------------------+--------------------+-----+\n",
      "only showing top 5 rows\n",
      "\n"
     ]
    }
   ],
   "source": [
    "sample.show(5)"
   ]
  },
  {
   "cell_type": "code",
   "execution_count": 89,
   "metadata": {},
   "outputs": [
    {
     "name": "stdout",
     "output_type": "stream",
     "text": [
      "+---------+---------------+\n",
      "|   userId|avg-user-rating|\n",
      "+---------+---------------+\n",
      "| 16372514|            1.0|\n",
      "| 90261353|            5.0|\n",
      "|120510584|            1.0|\n",
      "|148775291|            5.0|\n",
      "|  1870041|            5.0|\n",
      "+---------+---------------+\n",
      "only showing top 5 rows\n",
      "\n"
     ]
    }
   ],
   "source": [
    "avg_rating = sample.groupBy('userId').agg(avg(col('label')).alias('avg-user-rating'))\n",
    "avg_rating.show(5)"
   ]
  },
  {
   "cell_type": "code",
   "execution_count": 90,
   "metadata": {},
   "outputs": [
    {
     "name": "stdout",
     "output_type": "stream",
     "text": [
      "+---------+----------+--------------------+--------------------+--------------------+-----+---------------+\n",
      "|   userId|businessId|             comment|            filtered|            features|label|avg-user-rating|\n",
      "+---------+----------+--------------------+--------------------+--------------------+-----+---------------+\n",
      "| 16372514|  98125878|We asked them abo...|[asked, adding, g...|(262144,[2437,361...|    1|            1.0|\n",
      "| 90261353| 111957329|First, working wi...|[first,, working,...|(262144,[2437,576...|    5|            5.0|\n",
      "|120510584|   4916707|I would not recom...|[recommend, place...|(262144,[1865,240...|    1|            1.0|\n",
      "|148775291|  20722863|It's a pleasure d...|[pleasure, busine...|(262144,[43756,92...|    5|            5.0|\n",
      "|  1870041|  42372853|I loved this plac...|[loved, place!, f...|(262144,[3228,136...|    5|            5.0|\n",
      "+---------+----------+--------------------+--------------------+--------------------+-----+---------------+\n",
      "only showing top 5 rows\n",
      "\n"
     ]
    }
   ],
   "source": [
    "sample_test = sample.join(avg_rating,'userId')\n",
    "sample_test.show(5)"
   ]
  },
  {
   "cell_type": "code",
   "execution_count": 33,
   "metadata": {
    "scrolled": true
   },
   "outputs": [
    {
     "name": "stdout",
     "output_type": "stream",
     "text": [
      "+-------+----------+--------------------+--------------------+--------------------+-----+------------------+\n",
      "| userId|businessId|             comment|            filtered|            features|label|   avg-user-rating|\n",
      "+-------+----------+--------------------+--------------------+--------------------+-----+------------------+\n",
      "|  26583| 123465947|Airy and colorful...|[airy, colorful, ...|(262144,[10879,21...|    4|               4.0|\n",
      "| 109068| 130676348|Want a loud, obno...|[want, loud,, obn...|(262144,[28172,50...|    2|               2.0|\n",
      "| 687716|  45848465|Great food at gre...|[great, food, gre...|(262144,[6979,223...|    5|               5.0|\n",
      "| 694746| 102984270|Do the price sear...|[price, search, b...|(262144,[40861,43...|    1|               1.0|\n",
      "| 922409|  12790888|Sherri Did a real...|[sherri, really, ...|(262144,[14,54961...|    5|               4.0|\n",
      "| 922409|  66199679|Very good filet m...|[good, filet, mig...|(262144,[1536,420...|    3|               4.0|\n",
      "|1001043|  39216299|This review is sp...|[review, specific...|(262144,[3091,688...|    2|               3.0|\n",
      "|1001043|  86505060|We decided to com...|[decided, come, l...|(262144,[11748,18...|    4|               3.0|\n",
      "|1038881| 127465696|Hot meal, flavor ...|[hot, meal,, flav...|(262144,[2437,295...|    2|              2.75|\n",
      "|1038881| 130753980|This place almost...|[place, almost, r...|(262144,[2437,271...|    3|              2.75|\n",
      "|1038881| 135583425|Not really impres...|[really, impresse...|(262144,[14,9133,...|    3|              2.75|\n",
      "|1038881| 160836964|This is about at ...|[3, 5, stars, get...|(262144,[22486,33...|    3|              2.75|\n",
      "|1134061|  81332260|Dineen's Mocha's ...|[dineen's, mocha'...|(262144,[4200,736...|    2|               2.0|\n",
      "|1178241|  28284453|Went here for the...|[went, ccw, renew...|(262144,[13114,13...|    5|               5.0|\n",
      "|1280879| 160662620|The ambiance of t...|[ambiance, place,...|(262144,[14,1879,...|    4|               4.0|\n",
      "|1611041|  35739108|Mt friend and I w...|[mt, friend, went...|(262144,[14,5430,...|    4|3.7777777777777777|\n",
      "|1611041|  44431275|I read about the ...|[read, 1, hr, par...|(262144,[6967,160...|    4|3.7777777777777777|\n",
      "|1611041|  61737433|I've been going t...|[going, cleaners,...|(262144,[14385,15...|    2|3.7777777777777777|\n",
      "|1611041|  62402605|I've heard a lot ...|[heard, lot, plac...|(262144,[1076,462...|    4|3.7777777777777777|\n",
      "|1611041|  65096078|What I like abt L...|[like, abt, lola,...|(262144,[9350,198...|    4|3.7777777777777777|\n",
      "|1611041|  80700072|I've hiked this m...|[hiked, mountain,...|(262144,[535,699,...|    5|3.7777777777777777|\n",
      "|1611041|  88304938|I'd never heard o...|[never, heard, fl...|(262144,[14,7717,...|    3|3.7777777777777777|\n",
      "|1611041|  92958955|I stopped by this...|[stopped, shop, f...|(262144,[3463,386...|    5|3.7777777777777777|\n",
      "|1611041| 152076674|I visited Slickab...|[visited, slickab...|(262144,[14,3530,...|    3|3.7777777777777777|\n",
      "|1750806|  41782063|This place sucks ...|[place, sucks, eg...|(262144,[6872,104...|    1|               1.0|\n",
      "|1907741|  15110460|Love love love th...|[love, love, love...|(262144,[1728,192...|    5|               5.0|\n",
      "|2023132|  55109051|Nobody greets you...|[nobody, greets, ...|(262144,[12320,12...|    2|               2.0|\n",
      "|2165860|  70201335|Sushi this good a...|[sushi, good, sma...|(262144,[7897,186...|    5|               5.0|\n",
      "|2239215| 173166765|Okay, this is the...|[okay,, honest, r...|(262144,[1536,271...|    4|               4.0|\n",
      "|2353175|   1914635|Not really a fan ...|[really, fan, sho...|(262144,[14,2618,...|    2|               2.0|\n",
      "|2438081|  28837311|I came to Oh Boy ...|[came, oh, boy, s...|(262144,[5381,852...|    3|               4.0|\n",
      "|2438081|  37179023|This is a review ...|[review, eat, opt...|(262144,[1846,537...|    4|               4.0|\n",
      "|2438081|  53106174|BIG!! That's the ...|[big!!, best, way...|(262144,[11901,11...|    4|               4.0|\n",
      "|2438081| 103784952|Do you know how d...|[know, difficult,...|(262144,[1176,129...|    5|               4.0|\n",
      "|2438081| 156286101|I have been here ...|[three, times, sa...|(262144,[5034,707...|    5|               4.0|\n",
      "|2438081| 161154795|This is a three s...|[three, star, rev...|(262144,[14,991,4...|    3|               4.0|\n",
      "|2694199| 165913834|All I can say is ...|[say, love, place...|(262144,[4333,241...|    5|               5.0|\n",
      "|2807549|    611354|It's a shame that...|[shame, thai, opt...|(262144,[14,8287,...|    2|               3.5|\n",
      "|2807549| 114029502|Max's is one of t...|[max's, one, best...|(262144,[3067,334...|    5|               3.5|\n",
      "|2837605| 159214974|I had my F-350 de...|[f-350, detailed,...|(262144,[8126,991...|    3|               3.0|\n",
      "|2931076|  72382829|Ok buffet... No l...|[ok, buffet..., l...|(262144,[1509,316...|    3|               3.0|\n",
      "|2970105|  88877494|Good sandwich. To...|[good, sandwich.,...|(262144,[8443,198...|    3|               3.0|\n",
      "|3156146| 114436898|Started working o...|[started, working...|(262144,[1354,523...|    5|               5.0|\n",
      "|3252532|   2716008|This is the perfe...|[perfect, spot, b...|(262144,[21872,22...|    5|               5.0|\n",
      "|3293834| 175826672|Somewhat of a div...|[somewhat, dive, ...|(262144,[5595,155...|    4|               4.0|\n",
      "|3907541|   2959242|I would definitel...|[definitely, go, ...|(262144,[2437,584...|    4| 4.333333333333333|\n",
      "|3907541|  32019105|I love Bacchus Lo...|[love, bacchus, l...|(262144,[14,2437,...|    5| 4.333333333333333|\n",
      "|3907541|  52448547|I really want to ...|[really, want, li...|(262144,[14,6728,...|    3| 4.333333333333333|\n",
      "|3907541|  79461299|I went here for a...|[went, monthly, d...|(262144,[14,18694...|    4| 4.333333333333333|\n",
      "|3907541| 101991322|You can never go ...|[never, go, wrong...|(262144,[14,2307,...|    5| 4.333333333333333|\n",
      "+-------+----------+--------------------+--------------------+--------------------+-----+------------------+\n",
      "only showing top 50 rows\n",
      "\n"
     ]
    }
   ],
   "source": [
    "sample_test.show(50)"
   ]
  },
  {
   "cell_type": "code",
   "execution_count": 91,
   "metadata": {},
   "outputs": [],
   "source": [
    "sample_labeled = sample_test.withColumn('label', when(col('label') < col('avg-user-rating') , 0 ).otherwise(1)  )"
   ]
  },
  {
   "cell_type": "code",
   "execution_count": 92,
   "metadata": {},
   "outputs": [
    {
     "name": "stdout",
     "output_type": "stream",
     "text": [
      "+---------+----------+--------------------+--------------------+--------------------+-----+---------------+\n",
      "|   userId|businessId|             comment|            filtered|            features|label|avg-user-rating|\n",
      "+---------+----------+--------------------+--------------------+--------------------+-----+---------------+\n",
      "| 16372514|  98125878|We asked them abo...|[asked, adding, g...|(262144,[2437,361...|    1|            1.0|\n",
      "| 90261353| 111957329|First, working wi...|[first,, working,...|(262144,[2437,576...|    1|            5.0|\n",
      "|120510584|   4916707|I would not recom...|[recommend, place...|(262144,[1865,240...|    1|            1.0|\n",
      "|148775291|  20722863|It's a pleasure d...|[pleasure, busine...|(262144,[43756,92...|    1|            5.0|\n",
      "|  1870041|  42372853|I loved this plac...|[loved, place!, f...|(262144,[3228,136...|    1|            5.0|\n",
      "+---------+----------+--------------------+--------------------+--------------------+-----+---------------+\n",
      "only showing top 5 rows\n",
      "\n"
     ]
    }
   ],
   "source": [
    "sample_labeled.show(5)"
   ]
  },
  {
   "cell_type": "code",
   "execution_count": 93,
   "metadata": {},
   "outputs": [],
   "source": [
    "predictions_sample = model.transform(sample_labeled)"
   ]
  },
  {
   "cell_type": "code",
   "execution_count": 94,
   "metadata": {
    "scrolled": true
   },
   "outputs": [
    {
     "name": "stdout",
     "output_type": "stream",
     "text": [
      "+---------+----------+--------------------+--------------------+--------------------+-----+---------------+--------------------+--------------------+----------+\n",
      "|   userId|businessId|             comment|            filtered|            features|label|avg-user-rating|       rawPrediction|         probability|prediction|\n",
      "+---------+----------+--------------------+--------------------+--------------------+-----+---------------+--------------------+--------------------+----------+\n",
      "| 16372514|  98125878|We asked them abo...|[asked, adding, g...|(262144,[2437,361...|    1|            1.0|[-1553.2947899965...|[1.82960707547790...|       1.0|\n",
      "| 90261353| 111957329|First, working wi...|[first,, working,...|(262144,[2437,576...|    1|            5.0|[-3429.3826304091...|[3.28520852870944...|       1.0|\n",
      "|120510584|   4916707|I would not recom...|[recommend, place...|(262144,[1865,240...|    1|            1.0|[-2514.6877449072...|[1.34650103563151...|       1.0|\n",
      "|148775291|  20722863|It's a pleasure d...|[pleasure, busine...|(262144,[43756,92...|    1|            5.0|[-282.34059915095...|[1.00252691511929...|       1.0|\n",
      "|  1870041|  42372853|I loved this plac...|[loved, place!, f...|(262144,[3228,136...|    1|            5.0|[-2494.9633365291...|[1.17574570674484...|       1.0|\n",
      "+---------+----------+--------------------+--------------------+--------------------+-----+---------------+--------------------+--------------------+----------+\n",
      "only showing top 5 rows\n",
      "\n"
     ]
    }
   ],
   "source": [
    "predictions_sample.show(5)"
   ]
  },
  {
   "cell_type": "code",
   "execution_count": 95,
   "metadata": {
    "scrolled": true
   },
   "outputs": [
    {
     "name": "stdout",
     "output_type": "stream",
     "text": [
      "+--------------------+--------------------+-----+----------+\n",
      "|             comment|            filtered|label|prediction|\n",
      "+--------------------+--------------------+-----+----------+\n",
      "|The first time I ...|[first, time, san...|    1|       0.0|\n",
      "+--------------------+--------------------+-----+----------+\n",
      "\n"
     ]
    }
   ],
   "source": [
    "predictions_sample.filter(predictions_sample['prediction'] == 0).select('comment','filtered','label','prediction').show(10)"
   ]
  },
  {
   "cell_type": "code",
   "execution_count": 96,
   "metadata": {},
   "outputs": [
    {
     "data": {
      "text/plain": [
       "0.975609756097561"
      ]
     },
     "execution_count": 96,
     "metadata": {},
     "output_type": "execute_result"
    }
   ],
   "source": [
    "evaluator.evaluate(predictions_sample)"
   ]
  },
  {
   "cell_type": "markdown",
   "metadata": {},
   "source": [
    "### precision, recall, f1score"
   ]
  },
  {
   "cell_type": "code",
   "execution_count": 97,
   "metadata": {},
   "outputs": [],
   "source": [
    "metrics_rdd1 = predictions_sample.select(col('label').cast('float'),col('prediction').cast('float')).rdd"
   ]
  },
  {
   "cell_type": "code",
   "execution_count": 98,
   "metadata": {},
   "outputs": [],
   "source": [
    "metrics1 = MulticlassMetrics(metrics_rdd1)"
   ]
  },
  {
   "cell_type": "markdown",
   "metadata": {},
   "source": [
    "#### precision, recall, f1score для класса 1"
   ]
  },
  {
   "cell_type": "code",
   "execution_count": 99,
   "metadata": {},
   "outputs": [
    {
     "data": {
      "text/plain": [
       "0.9523809523809523"
      ]
     },
     "execution_count": 99,
     "metadata": {},
     "output_type": "execute_result"
    }
   ],
   "source": [
    "metrics1.precision(1.0)"
   ]
  },
  {
   "cell_type": "code",
   "execution_count": 100,
   "metadata": {},
   "outputs": [
    {
     "data": {
      "text/plain": [
       "1.0"
      ]
     },
     "execution_count": 100,
     "metadata": {},
     "output_type": "execute_result"
    }
   ],
   "source": [
    "metrics1.recall(1.0)"
   ]
  },
  {
   "cell_type": "code",
   "execution_count": 101,
   "metadata": {},
   "outputs": [
    {
     "data": {
      "text/plain": [
       "0.975609756097561"
      ]
     },
     "execution_count": 101,
     "metadata": {},
     "output_type": "execute_result"
    }
   ],
   "source": [
    "metrics1.fMeasure(1.0)"
   ]
  },
  {
   "cell_type": "markdown",
   "metadata": {},
   "source": [
    "### Pred рейтингов с порогом 2.5 порог"
   ]
  },
  {
   "cell_type": "code",
   "execution_count": 102,
   "metadata": {},
   "outputs": [],
   "source": [
    "sample_labeled2 = sample_test.withColumn('label', when(col('label') < 2.5 , 0 ).otherwise(1)  )"
   ]
  },
  {
   "cell_type": "code",
   "execution_count": 103,
   "metadata": {},
   "outputs": [],
   "source": [
    "predictions_sample2 = model.transform(sample_labeled2)"
   ]
  },
  {
   "cell_type": "code",
   "execution_count": 104,
   "metadata": {},
   "outputs": [
    {
     "data": {
      "text/plain": [
       "0.7566137566137567"
      ]
     },
     "execution_count": 104,
     "metadata": {},
     "output_type": "execute_result"
    }
   ],
   "source": [
    "evaluator.evaluate(predictions_sample2)"
   ]
  },
  {
   "cell_type": "code",
   "execution_count": 105,
   "metadata": {
    "scrolled": true
   },
   "outputs": [
    {
     "name": "stdout",
     "output_type": "stream",
     "text": [
      "+--------------------+--------------------+-----+----------+\n",
      "|             comment|            filtered|label|prediction|\n",
      "+--------------------+--------------------+-----+----------+\n",
      "|We asked them abo...|[asked, adding, g...|    0|       1.0|\n",
      "|First, working wi...|[first,, working,...|    1|       1.0|\n",
      "|I would not recom...|[recommend, place...|    0|       1.0|\n",
      "|It's a pleasure d...|[pleasure, busine...|    1|       1.0|\n",
      "|I loved this plac...|[loved, place!, f...|    1|       1.0|\n",
      "|Never met a Cactu...|[never, met, cact...|    1|       1.0|\n",
      "|Hate to say this ...|[hate, say, leave...|    0|       1.0|\n",
      "|The food was good...|[food, good., sea...|    0|       1.0|\n",
      "|Since discovering...|[since, discoveri...|    1|       1.0|\n",
      "|Literally not a t...|[literally, thing...|    1|       1.0|\n",
      "|I enjoyed the pho...|[enjoyed, pho,, s...|    1|       1.0|\n",
      "|Love Jimmy John's...|[love, jimmy, joh...|    1|       1.0|\n",
      "|This is my favori...|[favorite, mexica...|    1|       1.0|\n",
      "|Really really goo...|[really, really, ...|    1|       1.0|\n",
      "|My husband and I ...|[husband, shared,...|    1|       1.0|\n",
      "|Delicious ice cre...|[delicious, ice, ...|    1|       1.0|\n",
      "|Really great vega...|[really, great, v...|    1|       1.0|\n",
      "|I haven't made it...|[made, yoga, clas...|    1|       1.0|\n",
      "|There is definite...|[definitely, wow,...|    1|       1.0|\n",
      "|I HAD ZERO CLUE!!...|[zero, clue!!!, o...|    1|       1.0|\n",
      "+--------------------+--------------------+-----+----------+\n",
      "\n"
     ]
    }
   ],
   "source": [
    "predictions_sample2.filter(predictions_sample2['prediction'] == 1).select('comment','filtered','label','prediction').show(50)"
   ]
  },
  {
   "cell_type": "code",
   "execution_count": 106,
   "metadata": {
    "scrolled": true
   },
   "outputs": [
    {
     "name": "stdout",
     "output_type": "stream",
     "text": [
      "+-------+--------+-----+----------+\n",
      "|comment|filtered|label|prediction|\n",
      "+-------+--------+-----+----------+\n",
      "+-------+--------+-----+----------+\n",
      "\n"
     ]
    }
   ],
   "source": [
    "predictions.filter(predictions['prediction'] == 0).select('comment','filtered','label','prediction').show(50)"
   ]
  },
  {
   "cell_type": "markdown",
   "metadata": {},
   "source": [
    "### precision, recall, f1score"
   ]
  },
  {
   "cell_type": "code",
   "execution_count": 107,
   "metadata": {},
   "outputs": [],
   "source": [
    "metrics_rdd2 = predictions_sample2.select(col('label').cast('float'),col('prediction').cast('float')).rdd"
   ]
  },
  {
   "cell_type": "code",
   "execution_count": 108,
   "metadata": {},
   "outputs": [],
   "source": [
    "metrics2 = MulticlassMetrics(metrics_rdd2)"
   ]
  },
  {
   "cell_type": "markdown",
   "metadata": {},
   "source": [
    "#### precision, recall, f1score для класса 1"
   ]
  },
  {
   "cell_type": "code",
   "execution_count": 109,
   "metadata": {},
   "outputs": [
    {
     "data": {
      "text/plain": [
       "1.0"
      ]
     },
     "execution_count": 109,
     "metadata": {},
     "output_type": "execute_result"
    }
   ],
   "source": [
    "metrics2.precision(1.0)"
   ]
  },
  {
   "cell_type": "code",
   "execution_count": 110,
   "metadata": {},
   "outputs": [
    {
     "data": {
      "text/plain": [
       "0.8"
      ]
     },
     "execution_count": 110,
     "metadata": {},
     "output_type": "execute_result"
    }
   ],
   "source": [
    "metrics2.recall(1.0)"
   ]
  },
  {
   "cell_type": "code",
   "execution_count": 111,
   "metadata": {},
   "outputs": [
    {
     "data": {
      "text/plain": [
       "0.888888888888889"
      ]
     },
     "execution_count": 111,
     "metadata": {},
     "output_type": "execute_result"
    }
   ],
   "source": [
    "metrics2.fMeasure(1.0)"
   ]
  }
 ],
 "metadata": {
  "kernelspec": {
   "display_name": "Python 3",
   "language": "python",
   "name": "python3"
  },
  "language_info": {
   "codemirror_mode": {
    "name": "ipython",
    "version": 3
   },
   "file_extension": ".py",
   "mimetype": "text/x-python",
   "name": "python",
   "nbconvert_exporter": "python",
   "pygments_lexer": "ipython3",
   "version": "3.7.3"
  }
 },
 "nbformat": 4,
 "nbformat_minor": 4
}
