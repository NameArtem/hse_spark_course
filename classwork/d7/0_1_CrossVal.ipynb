{
 "cells": [
  {
   "cell_type": "code",
   "execution_count": 1,
   "id": "after-light",
   "metadata": {},
   "outputs": [],
   "source": [
    "from pyspark.sql import SparkSession\n",
    "\n",
    "spark = SparkSession.\\\n",
    "        builder.\\\n",
    "        appName(\"best_one\").\\\n",
    "        master(\"spark://spark-master:7077\").\\\n",
    "        config(\"spark.executor.memory\", \"512m\").\\\n",
    "        getOrCreate()"
   ]
  },
  {
   "cell_type": "code",
   "execution_count": 2,
   "id": "classified-texas",
   "metadata": {},
   "outputs": [],
   "source": [
    "bike_df = (spark.read\n",
    "           .format('com.databricks.spark.csv')\n",
    "           .option(\"header\", \"true\") # первая строка - заголовок\n",
    "           .option(\"inferSchema\", \"true\") # автоопределение типов данных\n",
    "           .load(\"day.csv\"))"
   ]
  },
  {
   "cell_type": "code",
   "execution_count": 3,
   "id": "objective-david",
   "metadata": {},
   "outputs": [
    {
     "data": {
      "text/plain": [
       "['instant',\n",
       " 'dteday',\n",
       " 'season',\n",
       " 'yr',\n",
       " 'mnth',\n",
       " 'holiday',\n",
       " 'weekday',\n",
       " 'workingday',\n",
       " 'weathersit',\n",
       " 'temp',\n",
       " 'atemp',\n",
       " 'hum',\n",
       " 'windspeed',\n",
       " 'casual',\n",
       " 'registered',\n",
       " 'cnt']"
      ]
     },
     "execution_count": 3,
     "metadata": {},
     "output_type": "execute_result"
    }
   ],
   "source": [
    "bike_df.columns"
   ]
  },
  {
   "cell_type": "code",
   "execution_count": 4,
   "id": "naval-beverage",
   "metadata": {},
   "outputs": [
    {
     "name": "stdout",
     "output_type": "stream",
     "text": [
      "+------+----+-------+-------+----------+----------+--------+--------+--------+---------+------+----------+------+\n",
      "|season|mnth|holiday|weekday|workingday|weathersit|    temp|   atemp|     hum|windspeed|casual|registered|   cnt|\n",
      "+------+----+-------+-------+----------+----------+--------+--------+--------+---------+------+----------+------+\n",
      "|     1|   1|      0|      6|         0|         2|0.344167|0.363625|0.805833| 0.160446|   331|       654| 985.0|\n",
      "|     1|   1|      0|      0|         0|         2|0.363478|0.353739|0.696087| 0.248539|   131|       670| 801.0|\n",
      "|     1|   1|      0|      1|         1|         1|0.196364|0.189405|0.437273| 0.248309|   120|      1229|1349.0|\n",
      "|     1|   1|      0|      2|         1|         1|     0.2|0.212122|0.590435| 0.160296|   108|      1454|1562.0|\n",
      "|     1|   1|      0|      3|         1|         1|0.226957| 0.22927|0.436957|   0.1869|    82|      1518|1600.0|\n",
      "|     1|   1|      0|      4|         1|         1|0.204348|0.233209|0.518261|0.0895652|    88|      1518|1606.0|\n",
      "|     1|   1|      0|      5|         1|         2|0.196522|0.208839|0.498696| 0.168726|   148|      1362|1510.0|\n",
      "|     1|   1|      0|      6|         0|         2|   0.165|0.162254|0.535833| 0.266804|    68|       891| 959.0|\n",
      "|     1|   1|      0|      0|         0|         1|0.138333|0.116175|0.434167|  0.36195|    54|       768| 822.0|\n",
      "|     1|   1|      0|      1|         1|         1|0.150833|0.150888|0.482917| 0.223267|    41|      1280|1321.0|\n",
      "|     1|   1|      0|      2|         1|         2|0.169091|0.191464|0.686364| 0.122132|    43|      1220|1263.0|\n",
      "|     1|   1|      0|      3|         1|         1|0.172727|0.160473|0.599545| 0.304627|    25|      1137|1162.0|\n",
      "|     1|   1|      0|      4|         1|         1|   0.165|0.150883|0.470417|    0.301|    38|      1368|1406.0|\n",
      "|     1|   1|      0|      5|         1|         1| 0.16087|0.188413|0.537826| 0.126548|    54|      1367|1421.0|\n",
      "|     1|   1|      0|      6|         0|         2|0.233333|0.248112| 0.49875| 0.157963|   222|      1026|1248.0|\n",
      "|     1|   1|      0|      0|         0|         1|0.231667|0.234217| 0.48375| 0.188433|   251|       953|1204.0|\n",
      "|     1|   1|      1|      1|         0|         2|0.175833|0.176771|  0.5375| 0.194017|   117|       883|1000.0|\n",
      "|     1|   1|      0|      2|         1|         2|0.216667|0.232333|0.861667| 0.146775|     9|       674| 683.0|\n",
      "|     1|   1|      0|      3|         1|         2|0.292174|0.298422|0.741739| 0.208317|    78|      1572|1650.0|\n",
      "|     1|   1|      0|      4|         1|         2|0.261667| 0.25505|0.538333| 0.195904|    83|      1844|1927.0|\n",
      "+------+----+-------+-------+----------+----------+--------+--------+--------+---------+------+----------+------+\n",
      "only showing top 20 rows\n",
      "\n"
     ]
    }
   ],
   "source": [
    "bike_df1 = bike_df.select('season','mnth','holiday','weekday','workingday','weathersit','temp','atemp','hum',\n",
    "                         'windspeed','casual','registered','cnt')\n",
    "\n",
    "# добавим колонку с кол-вом\n",
    "bike_df2 = bike_df1.withColumn(\"cnt\", bike_df1[\"cnt\"].cast(\"double\"))\n",
    "bike_df2.show()"
   ]
  },
  {
   "cell_type": "code",
   "execution_count": 5,
   "id": "solar-surfing",
   "metadata": {},
   "outputs": [],
   "source": [
    "from pyspark.ml import Pipeline\n",
    "from pyspark.ml.feature import VectorAssembler\n",
    "from pyspark.ml.evaluation import RegressionEvaluator\n",
    "from pyspark.ml.regression import RandomForestRegressionModel\n",
    "from pyspark.ml.regression import RandomForestRegressor\n",
    "from pyspark.ml.tuning import ParamGridBuilder,CrossValidator"
   ]
  },
  {
   "cell_type": "code",
   "execution_count": 6,
   "id": "supposed-therapist",
   "metadata": {},
   "outputs": [],
   "source": [
    "feature_columns = ['season'\n",
    "                   ,'mnth'\n",
    "                   ,'holiday'\n",
    "                   ,'weekday'\n",
    "                   ,'workingday'\n",
    "                   ,'weathersit'\n",
    "                   ,'temp'\n",
    "                   ,'atemp'\n",
    "                   ,'hum'\n",
    "                   ,'windspeed'\n",
    "                   ,'casual'\n",
    "                   ,'registered']"
   ]
  },
  {
   "cell_type": "code",
   "execution_count": 8,
   "id": "colored-turkey",
   "metadata": {},
   "outputs": [
    {
     "name": "stdout",
     "output_type": "stream",
     "text": [
      "Training data size is :495\n",
      "Test data size is :236\n"
     ]
    }
   ],
   "source": [
    "(training_data, test_data) = bike_df2.randomSplit([0.7,0.3], seed = 10)\n",
    "print(\"Training data size is :\"+str(training_data.count()))\n",
    "print(\"Test data size is :\"+str(test_data.count()))"
   ]
  },
  {
   "cell_type": "markdown",
   "id": "e8623175",
   "metadata": {},
   "source": [
    "### Сделаем pipeline процесса"
   ]
  },
  {
   "cell_type": "code",
   "execution_count": 9,
   "id": "ranging-palace",
   "metadata": {},
   "outputs": [],
   "source": [
    "# сбор фичей\n",
    "vecAssembler = VectorAssembler(inputCols=feature_columns, outputCol='features_vector')"
   ]
  },
  {
   "cell_type": "code",
   "execution_count": 10,
   "id": "under-uruguay",
   "metadata": {},
   "outputs": [],
   "source": [
    "# тестовый алгоритм\n",
    "rdf = RandomForestRegressor(labelCol='cnt',featuresCol=\"features_vector\",predictionCol='predicted_cnt',seed=15)"
   ]
  },
  {
   "cell_type": "code",
   "execution_count": 11,
   "id": "characteristic-trail",
   "metadata": {},
   "outputs": [],
   "source": [
    "# собров в последовательность\n",
    "pipeline = Pipeline(stages=[vecAssembler,rdf])\n"
   ]
  },
  {
   "cell_type": "code",
   "execution_count": 12,
   "id": "indirect-selection",
   "metadata": {},
   "outputs": [],
   "source": [
    "# перебор параметров\n",
    "paramGrid = (ParamGridBuilder()\n",
    "             .addGrid(rdf.maxDepth,[5,10,15,20])\n",
    "             .addGrid(rdf.numTrees,[1,10,50,100])\n",
    "             .build())"
   ]
  },
  {
   "cell_type": "code",
   "execution_count": 13,
   "id": "random-harvest",
   "metadata": {},
   "outputs": [],
   "source": [
    "# оценка результатов обучения\n",
    "rdfEvaluator = RegressionEvaluator(predictionCol=\"predicted_cnt\", labelCol='cnt', metricName='rmse')"
   ]
  },
  {
   "cell_type": "code",
   "execution_count": 14,
   "id": "nutritional-physiology",
   "metadata": {},
   "outputs": [],
   "source": [
    "# кросс-валидация (её мы применяем не только для обучения, но и для тестирования)\n",
    "cv = CrossValidator(estimator=pipeline, estimatorParamMaps=paramGrid, evaluator=rdfEvaluator)"
   ]
  },
  {
   "cell_type": "code",
   "execution_count": 15,
   "id": "external-valuation",
   "metadata": {},
   "outputs": [],
   "source": [
    "# выполнение\n",
    "cvModel = cv.fit(training_data)"
   ]
  },
  {
   "cell_type": "code",
   "execution_count": 16,
   "id": "liquid-wireless",
   "metadata": {},
   "outputs": [],
   "source": [
    "test_data_with_predictions = cvModel.transform(test_data)"
   ]
  },
  {
   "cell_type": "code",
   "execution_count": 17,
   "id": "subjective-transaction",
   "metadata": {},
   "outputs": [
    {
     "name": "stdout",
     "output_type": "stream",
     "text": [
      "+------+----+-------+-------+----------+----------+---------+--------+--------+---------+------+----------+------+--------------------+------------------+\n",
      "|season|mnth|holiday|weekday|workingday|weathersit|     temp|   atemp|     hum|windspeed|casual|registered|   cnt|     features_vector|     predicted_cnt|\n",
      "+------+----+-------+-------+----------+----------+---------+--------+--------+---------+------+----------+------+--------------------+------------------+\n",
      "|     1|   1|      0|      0|         0|         1| 0.138333|0.116175|0.434167|  0.36195|    54|       768| 822.0|[1.0,1.0,0.0,0.0,...| 962.9716666666666|\n",
      "|     1|   1|      0|      0|         0|         1| 0.216522|0.250322|0.722174|0.0739826|   140|       956|1096.0|[1.0,1.0,0.0,0.0,...|           1231.72|\n",
      "|     1|   1|      0|      0|         0|         1|   0.3375|0.340258|   0.465| 0.191542|   599|      2826|3425.0|[1.0,1.0,0.0,0.0,...|           3615.38|\n",
      "|     1|   1|      0|      0|         0|         1|     0.37|0.375621|  0.6925| 0.192167|   686|      1608|2294.0|[1.0,1.0,0.0,0.0,...|           2301.86|\n",
      "|     1|   1|      0|      0|         0|         2|   0.1625| 0.16225| 0.79625| 0.199638|   196|      1781|1977.0|[1.0,1.0,0.0,0.0,...|           2078.66|\n",
      "|     1|   1|      0|      1|         1|         1|0.0973913| 0.11793|0.491739|  0.15833|    86|      1330|1416.0|[1.0,1.0,0.0,1.0,...|          1557.464|\n",
      "|     1|   1|      0|      1|         1|         1| 0.269167|0.262625|0.400833| 0.215792|   126|      3498|3624.0|[1.0,1.0,0.0,1.0,...|           3427.77|\n",
      "|     1|   1|      0|      1|         1|         2| 0.224167|0.247479|0.701667|   0.0989|   106|      2270|2376.0|[1.0,1.0,0.0,1.0,...|           2279.64|\n",
      "|     1|   1|      0|      2|         1|         2| 0.216667|0.232333|0.861667| 0.146775|     9|       674| 683.0|[1.0,1.0,0.0,2.0,...|            892.58|\n",
      "|     1|   1|      0|      3|         1|         1| 0.303333|0.275254|0.443333| 0.415429|   109|      3267|3376.0|[1.0,1.0,0.0,3.0,...|           3334.29|\n",
      "|     1|   1|      0|      3|         1|         2| 0.292174|0.298422|0.741739| 0.208317|    78|      1572|1650.0|[1.0,1.0,0.0,3.0,...|1826.9066666666668|\n",
      "|     1|   1|      0|      4|         1|         1|     0.19|0.190038|  0.4975| 0.220158|   130|      3162|3292.0|[1.0,1.0,0.0,4.0,...|           2929.27|\n",
      "|     1|   1|      0|      4|         1|         1| 0.265833|0.278412|0.524167| 0.129987|   140|      3132|3272.0|[1.0,1.0,0.0,4.0,...|           3420.78|\n",
      "|     1|   1|      0|      4|         1|         2| 0.261667| 0.25505|0.538333| 0.195904|    83|      1844|1927.0|[1.0,1.0,0.0,4.0,...|           2127.68|\n",
      "|     1|   1|      0|      6|         0|         1| 0.196522|0.212126|0.651739| 0.145365|   123|       975|1098.0|[1.0,1.0,0.0,6.0,...|          1210.555|\n",
      "|     1|   1|      0|      6|         0|         1| 0.315833|0.326379|0.543333| 0.210829|   775|      3248|4023.0|[1.0,1.0,0.0,6.0,...|           3926.52|\n",
      "|     1|   1|      0|      6|         0|         2|    0.165|0.162254|0.535833| 0.266804|    68|       891| 959.0|[1.0,1.0,0.0,6.0,...|           971.025|\n",
      "|     1|   1|      0|      6|         0|         2| 0.173333|0.174875| 0.83125| 0.222642|    67|      1234|1301.0|[1.0,1.0,0.0,6.0,...|          1262.475|\n",
      "|     1|   2|      0|      0|         0|         1| 0.279167|0.268308|    0.41| 0.205229|   515|      2874|3389.0|[1.0,2.0,0.0,0.0,...|           3358.23|\n",
      "|     1|   2|      0|      0|         0|         1| 0.285217| 0.27733|0.407826| 0.223235|   639|      1173|1812.0|[1.0,2.0,0.0,0.0,...|            2182.5|\n",
      "+------+----+-------+-------+----------+----------+---------+--------+--------+---------+------+----------+------+--------------------+------------------+\n",
      "only showing top 20 rows\n",
      "\n"
     ]
    }
   ],
   "source": [
    "test_data_with_predictions.show()"
   ]
  },
  {
   "cell_type": "code",
   "execution_count": 18,
   "id": "passing-fence",
   "metadata": {},
   "outputs": [
    {
     "name": "stdout",
     "output_type": "stream",
     "text": [
      "RMSE on test data is : 298.35828374779925\n"
     ]
    }
   ],
   "source": [
    "test_data_RMSE = rdfEvaluator.evaluate(test_data_with_predictions)\n",
    "print(\"RMSE on test data is : \" + str(test_data_RMSE))"
   ]
  },
  {
   "cell_type": "code",
   "execution_count": 19,
   "id": "sporting-watson",
   "metadata": {},
   "outputs": [
    {
     "data": {
      "text/plain": [
       "RandomForestRegressionModel: uid=RandomForestRegressor_7f456bae9e9f, numTrees=50, numFeatures=12"
      ]
     },
     "execution_count": 19,
     "metadata": {},
     "output_type": "execute_result"
    }
   ],
   "source": [
    "# лучший результат\n",
    "bestRDFModel = cvModel.bestModel.stages[1]\n",
    "bestRDFModel"
   ]
  },
  {
   "cell_type": "code",
   "execution_count": null,
   "id": "protecting-entry",
   "metadata": {},
   "outputs": [],
   "source": []
  }
 ],
 "metadata": {
  "kernelspec": {
   "display_name": "Python 3",
   "language": "python",
   "name": "python3"
  },
  "language_info": {
   "codemirror_mode": {
    "name": "ipython",
    "version": 3
   },
   "file_extension": ".py",
   "mimetype": "text/x-python",
   "name": "python",
   "nbconvert_exporter": "python",
   "pygments_lexer": "ipython3",
   "version": "3.8.8"
  }
 },
 "nbformat": 4,
 "nbformat_minor": 5
}
