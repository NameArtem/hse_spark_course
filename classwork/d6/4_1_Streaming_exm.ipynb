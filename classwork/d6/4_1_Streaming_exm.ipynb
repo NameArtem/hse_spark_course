{
 "cells": [
  {
   "cell_type": "code",
   "execution_count": 1,
   "id": "employed-seafood",
   "metadata": {},
   "outputs": [],
   "source": [
    "from pyspark import SparkContext\n",
    "from pyspark.streaming import StreamingContext\n",
    "\n",
    "# создаем локальный стрим\n",
    "sc = SparkContext(\"local[2]\", \"TheBestOneStream\")\n",
    "\n",
    "# устанавливаем окно в 1 секунду\n",
    "ssc = StreamingContext(sc, 1)"
   ]
  },
  {
   "cell_type": "code",
   "execution_count": 2,
   "id": "accepted-quarter",
   "metadata": {},
   "outputs": [],
   "source": [
    "# куда будем конектится\n",
    "lines = ssc.socketTextStream(\"89.253.237.183\", 9999)"
   ]
  },
  {
   "cell_type": "code",
   "execution_count": 3,
   "id": "upper-singer",
   "metadata": {},
   "outputs": [],
   "source": [
    "# простой вариант обработки - это у нас RDD\n",
    "words = lines.flatMap(lambda line: line.split(\" \"))\n",
    "pairs = words.map(lambda word: (word, 1))\n",
    "wordCounts = pairs.reduceByKey(lambda x, y: x + y)\n",
    "wordCounts.pprint()"
   ]
  },
  {
   "cell_type": "code",
   "execution_count": null,
   "id": "chief-titanium",
   "metadata": {},
   "outputs": [],
   "source": [
    "# nc -lk PORT"
   ]
  },
  {
   "cell_type": "code",
   "execution_count": null,
   "id": "silver-composite",
   "metadata": {},
   "outputs": [],
   "source": [
    "# начать стриминг\n",
    "ssc.start()  \n",
    "ssc.awaitTermination()"
   ]
  },
  {
   "cell_type": "code",
   "execution_count": null,
   "id": "accepted-force",
   "metadata": {},
   "outputs": [],
   "source": [
    "# функцией\n",
    "\n",
    "def f(rdd):\n",
    "    rdd2 = rdd.flatMap(lambda x:x.split(\" \")).map(lambda x:(x,1)).reduceByKey(lambda x,y:x+y)\n",
    "    df = rdd2.toDF([\"word\",\"count\"])\n",
    "    df.show()\n",
    "    #df.write.format(\"csv\").save(\"FILE_PATH\")\n",
    "\n",
    "\n",
    "ds1 = ssc.socketTextStream(\"localhost\",port = #)\n",
    "ds2 = ds1.foreachRDD(f)\n",
    "ds2"
   ]
  },
  {
   "cell_type": "code",
   "execution_count": null,
   "id": "nearby-february",
   "metadata": {},
   "outputs": [],
   "source": [
    "ssc.start()"
   ]
  },
  {
   "cell_type": "code",
   "execution_count": null,
   "id": "passive-stewart",
   "metadata": {},
   "outputs": [],
   "source": [
    "ssc.stop(False)"
   ]
  },
  {
   "cell_type": "code",
   "execution_count": null,
   "id": "spectacular-permit",
   "metadata": {},
   "outputs": [],
   "source": []
  }
 ],
 "metadata": {
  "kernelspec": {
   "display_name": "Python 3",
   "language": "python",
   "name": "python3"
  },
  "language_info": {
   "codemirror_mode": {
    "name": "ipython",
    "version": 3
   },
   "file_extension": ".py",
   "mimetype": "text/x-python",
   "name": "python",
   "nbconvert_exporter": "python",
   "pygments_lexer": "ipython3",
   "version": "3.7.3"
  }
 },
 "nbformat": 4,
 "nbformat_minor": 5
}
