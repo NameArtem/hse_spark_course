{
 "cells": [
  {
   "cell_type": "code",
   "execution_count": 1,
   "id": "satisfied-bermuda",
   "metadata": {},
   "outputs": [],
   "source": [
    "import pyspark\n",
    "spark = pyspark.sql.SparkSession.builder.getOrCreate()"
   ]
  },
  {
   "cell_type": "code",
   "execution_count": null,
   "id": "canadian-klein",
   "metadata": {},
   "outputs": [],
   "source": [
    "# nc -lk 9999                      # для трансляции данных по сети\n",
    "\n",
    "\n",
    "# lines = spark \\                  # \n",
    "#     .readStream \\                # инит для стриминга\n",
    "#     .format(\"socket\") \\\n",
    "#     .option(\"host\", \"localhost\") \\\n",
    "#     .option(\"port\", 9999) \\\n",
    "#     .load()\n",
    "# lines.printSchema()"
   ]
  },
  {
   "cell_type": "code",
   "execution_count": 4,
   "id": "running-slope",
   "metadata": {},
   "outputs": [],
   "source": [
    "# дата статическая из файла\n",
    "static = spark.read.option(\"header\",\"true\").csv(\"tweets.txt\")"
   ]
  },
  {
   "cell_type": "code",
   "execution_count": 6,
   "id": "pressed-portrait",
   "metadata": {},
   "outputs": [
    {
     "name": "stdout",
     "output_type": "stream",
     "text": [
      "root\n",
      " |-- 2011042708200365|{\"text\":\"@amberback lmao these are great!!! He says some great stuff.\": string (nullable = true)\n",
      " |-- \"in_reply_to_user_id\":18350445: string (nullable = true)\n",
      " |-- \"truncated\":false: string (nullable = true)\n",
      " |-- \"favorited\":false: string (nullable = true)\n",
      " |-- \"id_str\":\"63215819580125184\": string (nullable = true)\n",
      " |-- \"entities\":{\"user_mentions\":[{\"indices\":[0: string (nullable = true)\n",
      " |-- 10]: string (nullable = true)\n",
      " |-- \"screen_name\":\"amberback\": string (nullable = true)\n",
      " |-- \"id_str\":\"18350445\": string (nullable = true)\n",
      " |-- \"name\":\"Amber Back\": string (nullable = true)\n",
      " |-- \"id\":18350445}]: string (nullable = true)\n",
      " |-- \"hashtags\":[]: string (nullable = true)\n",
      " |-- \"urls\":[]}: string (nullable = true)\n",
      " |-- \"coordinates\":null: string (nullable = true)\n",
      " |-- \"geo\":null: string (nullable = true)\n",
      " |-- \"retweet_count\":0: string (nullable = true)\n",
      " |-- \"source\":\"\\u003Ca href=\\\"http:\\/\\/tapbots.com\\/tweetbot\\\" rel=\\\"nofollow\\\"\\u003ETweetbot for iPhone\\u003C\\/a\\u003E\": string (nullable = true)\n",
      " |-- \"place\":{\"country\":\"United States\": string (nullable = true)\n",
      " |-- \"country_code\":\"US\": string (nullable = true)\n",
      " |-- \"bounding_box\":{\"type\":\"Polygon\": string (nullable = true)\n",
      " |-- \"coordinates\":[[[-98.763873: string (nullable = true)\n",
      " |-- 29.230903]21: string (nullable = true)\n",
      " |-- [-98.22295822: string (nullable = true)\n",
      " |-- 29.230903]23: string (nullable = true)\n",
      " |-- [-98.22295824: string (nullable = true)\n",
      " |-- 29.731075]: string (nullable = true)\n",
      " |-- [-98.763873: string (nullable = true)\n",
      " |-- 29.731075]]]}: string (nullable = true)\n",
      " |-- \"place_type\":\"city\": string (nullable = true)\n",
      " |-- \"attributes\":{}: string (nullable = true)\n",
      " |-- \"full_name\":\"San Antonio: string (nullable = true)\n",
      " |--  TX\"31: string (nullable = true)\n",
      " |-- \"name\":\"San Antonio\": string (nullable = true)\n",
      " |-- \"id\":\"3df4f427b5a60fea\": string (nullable = true)\n",
      " |-- \"url\":\"http:\\/\\/api.twitter.com\\/1\\/geo\\/id\\/3df4f427b5a60fea.json\"}: string (nullable = true)\n",
      " |-- \"in_reply_to_screen_name\":\"amberback\": string (nullable = true)\n",
      " |-- \"in_reply_to_status_id_str\":\"63214266395787264\": string (nullable = true)\n",
      " |-- \"contributors\":null: string (nullable = true)\n",
      " |-- \"retweeted\":false: string (nullable = true)\n",
      " |-- \"in_reply_to_status_id\":63214266395787264: string (nullable = true)\n",
      " |-- \"in_reply_to_user_id_str\":\"18350445\": string (nullable = true)\n",
      " |-- \"user\":{\"show_all_inline_media\":false: string (nullable = true)\n",
      " |-- \"geo_enabled\":true: string (nullable = true)\n",
      " |-- \"profile_use_background_image\":true: string (nullable = true)\n",
      " |-- \"is_translator\":false: string (nullable = true)\n",
      " |-- \"verified\":false: string (nullable = true)\n",
      " |-- \"profile_background_color\":\"9ae4e8\": string (nullable = true)\n",
      " |-- \"screen_name\":\"coreymol\": string (nullable = true)\n",
      " |-- \"default_profile_image\":false: string (nullable = true)\n",
      " |-- \"profile_background_image_url\":\"http:\\/\\/a1.twimg.com\\/profile_background_images\\/2948453\\/Soman.jpg\": string (nullable = true)\n",
      " |-- \"statuses_count\":3843: string (nullable = true)\n",
      " |-- \"description\":\"Former firefighter\\/paramedic. Special ops chief. DoD Technical Rescue\\/HazMat SME. MINI Cooper owner and Apple fanatic. iPhoneographer and Christ follower. \": string (nullable = true)\n",
      " |-- \"id_str\":\"14728501\": string (nullable = true)\n",
      " |-- \"lang\":\"en\": string (nullable = true)\n",
      " |-- \"profile_text_color\":\"000000\": string (nullable = true)\n",
      " |-- \"follow_request_sent\":null: string (nullable = true)\n",
      " |-- \"notifications\":null: string (nullable = true)\n",
      " |-- \"profile_sidebar_fill_color\":\"e0ff92\": string (nullable = true)\n",
      " |-- \"followers_count\":381: string (nullable = true)\n",
      " |-- \"profile_background_tile\":true: string (nullable = true)\n",
      " |-- \"favourites_count\":286: string (nullable = true)\n",
      " |-- \"location\":\"San Antonio: string (nullable = true)\n",
      " |--  TX\"62: string (nullable = true)\n",
      " |-- \"following\":null: string (nullable = true)\n",
      " |-- \"friends_count\":644: string (nullable = true)\n",
      " |-- \"protected\":false: string (nullable = true)\n",
      " |-- \"time_zone\":\"Quito\": string (nullable = true)\n",
      " |-- \"profile_link_color\":\"0000ff\": string (nullable = true)\n",
      " |-- \"name\":\"\\uf8ff Corey Molinelli\": string (nullable = true)\n",
      " |-- \"listed_count\":11: string (nullable = true)\n",
      " |-- \"created_at\":\"Sat May 10 22:20:43 +0000 2008\": string (nullable = true)\n",
      " |-- \"profile_sidebar_border_color\":\"87bc44\": string (nullable = true)\n",
      " |-- \"id\":14728501: string (nullable = true)\n",
      " |-- \"default_profile\":false: string (nullable = true)\n",
      " |-- \"contributors_enabled\":false: string (nullable = true)\n",
      " |-- \"utc_offset\":-18000: string (nullable = true)\n",
      " |-- \"url\":\"http:\\/\\/www.coreymolinelli.com\": string (nullable = true)\n",
      " |-- \"profile_image_url\":\"http:\\/\\/a3.twimg.com\\/profile_images\\/1316005636\\/E047AEA1-666E-4D31-9FA9-AE8491F99646_normal\"}: string (nullable = true)\n",
      " |-- \"id\":63215819580125184: string (nullable = true)\n",
      " |-- \"created_at\":\"Wed Apr 27 12:20:00 +0000 2011\"}: string (nullable = true)\n",
      "\n"
     ]
    }
   ],
   "source": [
    "static.printSchema()"
   ]
  },
  {
   "cell_type": "code",
   "execution_count": 7,
   "id": "normal-peace",
   "metadata": {},
   "outputs": [
    {
     "data": {
      "text/plain": [
       "[Row(2011042708200365|{\"text\":\"@amberback lmao these are great!!! He says some great stuff.\"='20110427082003510|{\"text\":\"Rehab Nursing Tech - HealthSouth:  ( #Sewickley ', \"in_reply_to_user_id\":18350445=' PA) http:\\\\/\\\\/bit.ly\\\\/gUJbfn #therapyjobs  #Nursing #Jobs #Job #TweetMyJOBS\"', \"truncated\":false='\"in_reply_to_user_id\":null', \"favorited\":false='\"truncated\":false', \"id_str\":\"63215819580125184\"='\"favorited\":false', \"entities\":{\"user_mentions\":[{\"indices\":[0='\"id_str\":\"63215822486765568\"', 10]='\"entities\":{\"user_mentions\":[]', \"screen_name\":\"amberback\"='\"hashtags\":[{\"text\":\"Sewickley\"', \"id_str\":\"18350445\"='\"indices\":[37', \"name\":\"Amber Back\"='47]}', \"id\":18350445}]='{\"text\":\"therapyjobs\"', \"hashtags\":[]='\"indices\":[75', \"urls\":[]}='87]}', \"coordinates\":null='{\"text\":\"Nursing\"', \"geo\":null='\"indices\":[89', \"retweet_count\":0='97]}', \"source\":\"\\u003Ca href=\\\"http:\\/\\/tapbots.com\\/tweetbot\\\" rel=\\\"nofollow\\\"\\u003ETweetbot for iPhone\\u003C\\/a\\u003E\"='{\"text\":\"Jobs\"', \"place\":{\"country\":\"United States\"='\"indices\":[98', \"country_code\":\"US\"='103]}', \"bounding_box\":{\"type\":\"Polygon\"='{\"text\":\"Job\"', \"coordinates\":[[[-98.763873='\"indices\":[104', 29.230903]21='108]}', [-98.22295822='{\"text\":\"TweetMyJOBS\"', 29.230903]23='\"indices\":[109', [-98.22295824='121]}]', 29.731075]='\"urls\":[{\"indices\":[54', [-98.763873='74]', 29.731075]]]}='\"expanded_url\":null', \"place_type\":\"city\"='\"url\":\"http:\\\\/\\\\/bit.ly\\\\/gUJbfn\"}]}', \"attributes\":{}='\"coordinates\":{\"type\":\"Point\"', \"full_name\":\"San Antonio='\"coordinates\":[-80.1845031',  TX\"31='40.5364566]}', \"name\":\"San Antonio\"='\"geo\":{\"type\":\"Point\"', \"id\":\"3df4f427b5a60fea\"='\"coordinates\":[40.5364566', \"url\":\"http:\\/\\/api.twitter.com\\/1\\/geo\\/id\\/3df4f427b5a60fea.json\"}='-80.1845031]}', \"in_reply_to_screen_name\":\"amberback\"='\"retweet_count\":0', \"in_reply_to_status_id_str\":\"63214266395787264\"='\"source\":\"\\\\u003Ca href=\\\\\"http:\\\\/\\\\/tweetmyjobs.com\\\\\" rel=\\\\\"nofollow\\\\\"\\\\u003ESafeTweet by TweetMyJOBS\\\\u003C\\\\/a\\\\u003E\"', \"contributors\":null='\"place\":{\"country\":\"United States\"', \"retweeted\":false='\"country_code\":\"US\"', \"in_reply_to_status_id\":63214266395787264='\"place_type\":\"city\"', \"in_reply_to_user_id_str\":\"18350445\"='\"bounding_box\":{\"type\":\"Polygon\"', \"user\":{\"show_all_inline_media\":false='\"coordinates\":[[[-80.194724', \"geo_enabled\":true='40.530067]', \"profile_use_background_image\":true='[-80.154669', \"is_translator\":false='40.530067]', \"verified\":false='[-80.154669', \"profile_background_color\":\"9ae4e8\"='40.549871]', \"screen_name\":\"coreymol\"='[-80.194724', \"default_profile_image\":false='40.549871]]]}', \"profile_background_image_url\":\"http:\\/\\/a1.twimg.com\\/profile_background_images\\/2948453\\/Soman.jpg\"='\"attributes\":{}', \"statuses_count\":3843='\"full_name\":\"Sewickley', \"description\":\"Former firefighter\\/paramedic. Special ops chief. DoD Technical Rescue\\/HazMat SME. MINI Cooper owner and Apple fanatic. iPhoneographer and Christ follower. \"=' PA\"', \"id_str\":\"14728501\"='\"name\":\"Sewickley\"', \"lang\":\"en\"='\"id\":\"b8cab1c4516bef7b\"', \"profile_text_color\":\"000000\"='\"url\":\"http:\\\\/\\\\/api.twitter.com\\\\/1\\\\/geo\\\\/id\\\\/b8cab1c4516bef7b.json\"}', \"follow_request_sent\":null='\"in_reply_to_screen_name\":null', \"notifications\":null='\"in_reply_to_status_id_str\":null', \"profile_sidebar_fill_color\":\"e0ff92\"='\"contributors\":null', \"followers_count\":381='\"retweeted\":false', \"profile_background_tile\":true='\"in_reply_to_status_id\":null', \"favourites_count\":286='\"in_reply_to_user_id_str\":null', \"location\":\"San Antonio='\"user\":{\"show_all_inline_media\":false',  TX\"62='\"geo_enabled\":true', \"following\":null='\"profile_use_background_image\":true', \"friends_count\":644='\"is_translator\":false', \"protected\":false='\"verified\":false', \"time_zone\":\"Quito\"='\"profile_background_color\":\"ffffff\"', \"profile_link_color\":\"0000ff\"='\"screen_name\":\"tmj_pit_nursing\"', \"name\":\"\\uf8ff Corey Molinelli\"='\"default_profile_image\":false', \"listed_count\":11='\"profile_background_image_url\":\"http:\\\\/\\\\/a3.twimg.com\\\\/profile_background_images\\\\/227928973\\\\/Gary-Zukowski_twitter-background_2_4_2011_english-version.jpg\"', \"created_at\":\"Sat May 10 22:20:43 +0000 2008\"='\"statuses_count\":37', \"profile_sidebar_border_color\":\"87bc44\"='\"description\":\"Follow this account for geo-targeted Healthcare-Nursing job tweets in USA-PA-Pittsburgh Metro from TweetMyJOBS.com\"', \"id\":14728501='\"id_str\":\"22789002\"', \"default_profile\":false='\"lang\":\"en\"', \"contributors_enabled\":false='\"profile_text_color\":\"000000\"', \"utc_offset\":-18000='\"follow_request_sent\":null', \"url\":\"http:\\/\\/www.coreymolinelli.com\"='\"notifications\":null', \"profile_image_url\":\"http:\\/\\/a3.twimg.com\\/profile_images\\/1316005636\\/E047AEA1-666E-4D31-9FA9-AE8491F99646_normal\"}='\"profile_sidebar_fill_color\":\"407db0\"', \"id\":63215819580125184='\"followers_count\":289', \"created_at\":\"Wed Apr 27 12:20:00 +0000 2011\"}='\"profile_background_tile\":false')]"
      ]
     },
     "execution_count": 7,
     "metadata": {},
     "output_type": "execute_result"
    }
   ],
   "source": [
    "static.take(1)"
   ]
  },
  {
   "cell_type": "code",
   "execution_count": 10,
   "id": "sacred-accommodation",
   "metadata": {},
   "outputs": [
    {
     "data": {
      "text/plain": [
       "True"
      ]
     },
     "execution_count": 10,
     "metadata": {},
     "output_type": "execute_result"
    }
   ],
   "source": [
    "# загрузка данных в поток\n",
    "    # `readStream` =  прямое чтение данных\n",
    "    # `maxFilesPerTrigger`: размер потока в кол-вах строк / файлов\n",
    "\n",
    "streaming = spark.readStream\\\n",
    "            .option(\"maxFilesPerTrigger\", 10)\\\n",
    "            .schema(static.schema)\\\n",
    "            .csv(\"tweets.txt\")\n",
    "\n",
    "# проверка, что это не статика, а стриминг\n",
    "streaming.isStreaming"
   ]
  },
  {
   "cell_type": "code",
   "execution_count": 11,
   "id": "executed-franchise",
   "metadata": {},
   "outputs": [
    {
     "name": "stdout",
     "output_type": "stream",
     "text": [
      "root\n",
      " |-- 2011042708200365|{\"text\":\"@amberback lmao these are great!!! He says some great stuff.\": string (nullable = true)\n",
      " |-- \"in_reply_to_user_id\":18350445: string (nullable = true)\n",
      " |-- \"truncated\":false: string (nullable = true)\n",
      " |-- \"favorited\":false: string (nullable = true)\n",
      " |-- \"id_str\":\"63215819580125184\": string (nullable = true)\n",
      " |-- \"entities\":{\"user_mentions\":[{\"indices\":[0: string (nullable = true)\n",
      " |-- 10]: string (nullable = true)\n",
      " |-- \"screen_name\":\"amberback\": string (nullable = true)\n",
      " |-- \"id_str\":\"18350445\": string (nullable = true)\n",
      " |-- \"name\":\"Amber Back\": string (nullable = true)\n",
      " |-- \"id\":18350445}]: string (nullable = true)\n",
      " |-- \"hashtags\":[]: string (nullable = true)\n",
      " |-- \"urls\":[]}: string (nullable = true)\n",
      " |-- \"coordinates\":null: string (nullable = true)\n",
      " |-- \"geo\":null: string (nullable = true)\n",
      " |-- \"retweet_count\":0: string (nullable = true)\n",
      " |-- \"source\":\"\\u003Ca href=\\\"http:\\/\\/tapbots.com\\/tweetbot\\\" rel=\\\"nofollow\\\"\\u003ETweetbot for iPhone\\u003C\\/a\\u003E\": string (nullable = true)\n",
      " |-- \"place\":{\"country\":\"United States\": string (nullable = true)\n",
      " |-- \"country_code\":\"US\": string (nullable = true)\n",
      " |-- \"bounding_box\":{\"type\":\"Polygon\": string (nullable = true)\n",
      " |-- \"coordinates\":[[[-98.763873: string (nullable = true)\n",
      " |-- 29.230903]21: string (nullable = true)\n",
      " |-- [-98.22295822: string (nullable = true)\n",
      " |-- 29.230903]23: string (nullable = true)\n",
      " |-- [-98.22295824: string (nullable = true)\n",
      " |-- 29.731075]: string (nullable = true)\n",
      " |-- [-98.763873: string (nullable = true)\n",
      " |-- 29.731075]]]}: string (nullable = true)\n",
      " |-- \"place_type\":\"city\": string (nullable = true)\n",
      " |-- \"attributes\":{}: string (nullable = true)\n",
      " |-- \"full_name\":\"San Antonio: string (nullable = true)\n",
      " |--  TX\"31: string (nullable = true)\n",
      " |-- \"name\":\"San Antonio\": string (nullable = true)\n",
      " |-- \"id\":\"3df4f427b5a60fea\": string (nullable = true)\n",
      " |-- \"url\":\"http:\\/\\/api.twitter.com\\/1\\/geo\\/id\\/3df4f427b5a60fea.json\"}: string (nullable = true)\n",
      " |-- \"in_reply_to_screen_name\":\"amberback\": string (nullable = true)\n",
      " |-- \"in_reply_to_status_id_str\":\"63214266395787264\": string (nullable = true)\n",
      " |-- \"contributors\":null: string (nullable = true)\n",
      " |-- \"retweeted\":false: string (nullable = true)\n",
      " |-- \"in_reply_to_status_id\":63214266395787264: string (nullable = true)\n",
      " |-- \"in_reply_to_user_id_str\":\"18350445\": string (nullable = true)\n",
      " |-- \"user\":{\"show_all_inline_media\":false: string (nullable = true)\n",
      " |-- \"geo_enabled\":true: string (nullable = true)\n",
      " |-- \"profile_use_background_image\":true: string (nullable = true)\n",
      " |-- \"is_translator\":false: string (nullable = true)\n",
      " |-- \"verified\":false: string (nullable = true)\n",
      " |-- \"profile_background_color\":\"9ae4e8\": string (nullable = true)\n",
      " |-- \"screen_name\":\"coreymol\": string (nullable = true)\n",
      " |-- \"default_profile_image\":false: string (nullable = true)\n",
      " |-- \"profile_background_image_url\":\"http:\\/\\/a1.twimg.com\\/profile_background_images\\/2948453\\/Soman.jpg\": string (nullable = true)\n",
      " |-- \"statuses_count\":3843: string (nullable = true)\n",
      " |-- \"description\":\"Former firefighter\\/paramedic. Special ops chief. DoD Technical Rescue\\/HazMat SME. MINI Cooper owner and Apple fanatic. iPhoneographer and Christ follower. \": string (nullable = true)\n",
      " |-- \"id_str\":\"14728501\": string (nullable = true)\n",
      " |-- \"lang\":\"en\": string (nullable = true)\n",
      " |-- \"profile_text_color\":\"000000\": string (nullable = true)\n",
      " |-- \"follow_request_sent\":null: string (nullable = true)\n",
      " |-- \"notifications\":null: string (nullable = true)\n",
      " |-- \"profile_sidebar_fill_color\":\"e0ff92\": string (nullable = true)\n",
      " |-- \"followers_count\":381: string (nullable = true)\n",
      " |-- \"profile_background_tile\":true: string (nullable = true)\n",
      " |-- \"favourites_count\":286: string (nullable = true)\n",
      " |-- \"location\":\"San Antonio: string (nullable = true)\n",
      " |--  TX\"62: string (nullable = true)\n",
      " |-- \"following\":null: string (nullable = true)\n",
      " |-- \"friends_count\":644: string (nullable = true)\n",
      " |-- \"protected\":false: string (nullable = true)\n",
      " |-- \"time_zone\":\"Quito\": string (nullable = true)\n",
      " |-- \"profile_link_color\":\"0000ff\": string (nullable = true)\n",
      " |-- \"name\":\"\\uf8ff Corey Molinelli\": string (nullable = true)\n",
      " |-- \"listed_count\":11: string (nullable = true)\n",
      " |-- \"created_at\":\"Sat May 10 22:20:43 +0000 2008\": string (nullable = true)\n",
      " |-- \"profile_sidebar_border_color\":\"87bc44\": string (nullable = true)\n",
      " |-- \"id\":14728501: string (nullable = true)\n",
      " |-- \"default_profile\":false: string (nullable = true)\n",
      " |-- \"contributors_enabled\":false: string (nullable = true)\n",
      " |-- \"utc_offset\":-18000: string (nullable = true)\n",
      " |-- \"url\":\"http:\\/\\/www.coreymolinelli.com\": string (nullable = true)\n",
      " |-- \"profile_image_url\":\"http:\\/\\/a3.twimg.com\\/profile_images\\/1316005636\\/E047AEA1-666E-4D31-9FA9-AE8491F99646_normal\"}: string (nullable = true)\n",
      " |-- \"id\":63215819580125184: string (nullable = true)\n",
      " |-- \"created_at\":\"Wed Apr 27 12:20:00 +0000 2011\"}: string (nullable = true)\n",
      "\n"
     ]
    }
   ],
   "source": [
    "streaming.printSchema()"
   ]
  },
  {
   "cell_type": "code",
   "execution_count": 12,
   "id": "sitting-desktop",
   "metadata": {},
   "outputs": [],
   "source": [
    "from pyspark.sql.functions import split\n",
    "from pyspark.sql.functions import col\n",
    "\n",
    "# EXPLODE \n",
    "from pyspark.sql.functions import explode"
   ]
  },
  {
   "cell_type": "code",
   "execution_count": 14,
   "id": "naked-production",
   "metadata": {},
   "outputs": [
    {
     "name": "stdout",
     "output_type": "stream",
     "text": [
      "root\n",
      " |-- 2011042708200365|{\"text\":\"@amberback lmao these are great!!! He says some great stuff.\": string (nullable = true)\n",
      " |-- \"in_reply_to_user_id\":18350445: string (nullable = true)\n",
      " |-- \"truncated\":false: string (nullable = true)\n",
      " |-- \"favorited\":false: string (nullable = true)\n",
      " |-- \"id_str\":\"63215819580125184\": string (nullable = true)\n",
      " |-- \"entities\":{\"user_mentions\":[{\"indices\":[0: string (nullable = true)\n",
      " |-- 10]: string (nullable = true)\n",
      " |-- \"screen_name\":\"amberback\": string (nullable = true)\n",
      " |-- \"id_str\":\"18350445\": string (nullable = true)\n",
      " |-- \"name\":\"Amber Back\": string (nullable = true)\n",
      " |-- \"id\":18350445}]: string (nullable = true)\n",
      " |-- \"hashtags\":[]: string (nullable = true)\n",
      " |-- \"urls\":[]}: string (nullable = true)\n",
      " |-- \"coordinates\":null: string (nullable = true)\n",
      " |-- \"geo\":null: string (nullable = true)\n",
      " |-- \"retweet_count\":0: string (nullable = true)\n",
      " |-- \"source\":\"\\u003Ca href=\\\"http:\\/\\/tapbots.com\\/tweetbot\\\" rel=\\\"nofollow\\\"\\u003ETweetbot for iPhone\\u003C\\/a\\u003E\": string (nullable = true)\n",
      " |-- \"place\":{\"country\":\"United States\": string (nullable = true)\n",
      " |-- \"country_code\":\"US\": string (nullable = true)\n",
      " |-- \"bounding_box\":{\"type\":\"Polygon\": string (nullable = true)\n",
      " |-- \"coordinates\":[[[-98.763873: string (nullable = true)\n",
      " |-- 29.230903]21: string (nullable = true)\n",
      " |-- [-98.22295822: string (nullable = true)\n",
      " |-- 29.230903]23: string (nullable = true)\n",
      " |-- [-98.22295824: string (nullable = true)\n",
      " |-- 29.731075]: string (nullable = true)\n",
      " |-- [-98.763873: string (nullable = true)\n",
      " |-- 29.731075]]]}: string (nullable = true)\n",
      " |-- \"place_type\":\"city\": string (nullable = true)\n",
      " |-- \"attributes\":{}: string (nullable = true)\n",
      " |-- \"full_name\":\"San Antonio: string (nullable = true)\n",
      " |--  TX\"31: string (nullable = true)\n",
      " |-- \"name\":\"San Antonio\": string (nullable = true)\n",
      " |-- \"id\":\"3df4f427b5a60fea\": string (nullable = true)\n",
      " |-- \"url\":\"http:\\/\\/api.twitter.com\\/1\\/geo\\/id\\/3df4f427b5a60fea.json\"}: string (nullable = true)\n",
      " |-- \"in_reply_to_screen_name\":\"amberback\": string (nullable = true)\n",
      " |-- \"in_reply_to_status_id_str\":\"63214266395787264\": string (nullable = true)\n",
      " |-- \"contributors\":null: string (nullable = true)\n",
      " |-- \"retweeted\":false: string (nullable = true)\n",
      " |-- \"in_reply_to_status_id\":63214266395787264: string (nullable = true)\n",
      " |-- \"in_reply_to_user_id_str\":\"18350445\": string (nullable = true)\n",
      " |-- \"user\":{\"show_all_inline_media\":false: string (nullable = true)\n",
      " |-- \"geo_enabled\":true: string (nullable = true)\n",
      " |-- \"profile_use_background_image\":true: string (nullable = true)\n",
      " |-- \"is_translator\":false: string (nullable = true)\n",
      " |-- \"verified\":false: string (nullable = true)\n",
      " |-- \"profile_background_color\":\"9ae4e8\": string (nullable = true)\n",
      " |-- \"screen_name\":\"coreymol\": string (nullable = true)\n",
      " |-- \"default_profile_image\":false: string (nullable = true)\n",
      " |-- \"profile_background_image_url\":\"http:\\/\\/a1.twimg.com\\/profile_background_images\\/2948453\\/Soman.jpg\": string (nullable = true)\n",
      " |-- \"statuses_count\":3843: string (nullable = true)\n",
      " |-- \"description\":\"Former firefighter\\/paramedic. Special ops chief. DoD Technical Rescue\\/HazMat SME. MINI Cooper owner and Apple fanatic. iPhoneographer and Christ follower. \": string (nullable = true)\n",
      " |-- \"id_str\":\"14728501\": string (nullable = true)\n",
      " |-- \"lang\":\"en\": string (nullable = true)\n",
      " |-- \"profile_text_color\":\"000000\": string (nullable = true)\n",
      " |-- \"follow_request_sent\":null: string (nullable = true)\n",
      " |-- \"notifications\":null: string (nullable = true)\n",
      " |-- \"profile_sidebar_fill_color\":\"e0ff92\": string (nullable = true)\n",
      " |-- \"followers_count\":381: string (nullable = true)\n",
      " |-- \"profile_background_tile\":true: string (nullable = true)\n",
      " |-- \"favourites_count\":286: string (nullable = true)\n",
      " |-- \"location\":\"San Antonio: string (nullable = true)\n",
      " |--  TX\"62: string (nullable = true)\n",
      " |-- \"following\":null: string (nullable = true)\n",
      " |-- \"friends_count\":644: string (nullable = true)\n",
      " |-- \"protected\":false: string (nullable = true)\n",
      " |-- \"time_zone\":\"Quito\": string (nullable = true)\n",
      " |-- \"profile_link_color\":\"0000ff\": string (nullable = true)\n",
      " |-- \"name\":\"\\uf8ff Corey Molinelli\": string (nullable = true)\n",
      " |-- \"listed_count\":11: string (nullable = true)\n",
      " |-- \"created_at\":\"Sat May 10 22:20:43 +0000 2008\": string (nullable = true)\n",
      " |-- \"profile_sidebar_border_color\":\"87bc44\": string (nullable = true)\n",
      " |-- \"id\":14728501: string (nullable = true)\n",
      " |-- \"default_profile\":false: string (nullable = true)\n",
      " |-- \"contributors_enabled\":false: string (nullable = true)\n",
      " |-- \"utc_offset\":-18000: string (nullable = true)\n",
      " |-- \"url\":\"http:\\/\\/www.coreymolinelli.com\": string (nullable = true)\n",
      " |-- \"profile_image_url\":\"http:\\/\\/a3.twimg.com\\/profile_images\\/1316005636\\/E047AEA1-666E-4D31-9FA9-AE8491F99646_normal\"}: string (nullable = true)\n",
      " |-- \"id\":63215819580125184: string (nullable = true)\n",
      " |-- \"created_at\":\"Wed Apr 27 12:20:00 +0000 2011\"}: string (nullable = true)\n",
      " |-- split: array (nullable = true)\n",
      " |    |-- element: string (containsNull = true)\n",
      " |-- word: string (nullable = true)\n",
      "\n"
     ]
    }
   ],
   "source": [
    "# новая колонка в данных\n",
    "words = streaming.withColumn(\"split\", split(col('\"id\":63215819580125184'), \":\")).withColumn(\"word\", explode(col(\"split\")))\n",
    "words.printSchema()"
   ]
  },
  {
   "cell_type": "code",
   "execution_count": 15,
   "id": "integrated-quantity",
   "metadata": {},
   "outputs": [
    {
     "name": "stdout",
     "output_type": "stream",
     "text": [
      "root\n",
      " |-- word: string (nullable = true)\n",
      " |-- count: long (nullable = false)\n",
      "\n"
     ]
    }
   ],
   "source": [
    "wordCounts = words.groupBy(\"word\").count()\n",
    "wordCounts.printSchema()"
   ]
  },
  {
   "cell_type": "code",
   "execution_count": 18,
   "id": "metric-heather",
   "metadata": {},
   "outputs": [],
   "source": [
    "# Пример STREAMQUERY: \n",
    "# ex: activityQuery\n",
    "    # indicate OUTPUTMODE: complete\n",
    "    # indicate output FORMAT: memory (как вычислять)\n",
    "    # NAME\n",
    "    # START \n",
    "\n",
    "query = wordCounts\\\n",
    "    .writeStream\\\n",
    "    .outputMode(\"complete\")\\\n",
    "    .queryName(\"trending\")\\\n",
    "    .format(\"memory\")\\\n",
    "    .start()"
   ]
  },
  {
   "cell_type": "code",
   "execution_count": 19,
   "id": "forced-continuity",
   "metadata": {},
   "outputs": [
    {
     "data": {
      "text/plain": [
       "[]"
      ]
     },
     "execution_count": 19,
     "metadata": {},
     "output_type": "execute_result"
    }
   ],
   "source": [
    "# ACTIVE проверка\n",
    "spark.streams.active"
   ]
  },
  {
   "cell_type": "code",
   "execution_count": null,
   "id": "broke-specific",
   "metadata": {},
   "outputs": [],
   "source": []
  }
 ],
 "metadata": {
  "kernelspec": {
   "display_name": "Python 3",
   "language": "python",
   "name": "python3"
  },
  "language_info": {
   "codemirror_mode": {
    "name": "ipython",
    "version": 3
   },
   "file_extension": ".py",
   "mimetype": "text/x-python",
   "name": "python",
   "nbconvert_exporter": "python",
   "pygments_lexer": "ipython3",
   "version": "3.7.3"
  }
 },
 "nbformat": 4,
 "nbformat_minor": 5
}
