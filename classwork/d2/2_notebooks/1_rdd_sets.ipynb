{
 "cells": [
  {
   "cell_type": "code",
   "execution_count": 1,
   "metadata": {},
   "outputs": [],
   "source": [
    "import os\n",
    "import glob\n",
    "import sys\n",
    "\n",
    "\n",
    "import pyspark\n",
    "from pyspark import SparkContext, SparkConf\n",
    "from pyspark.sql import SparkSession\n"
   ]
  },
  {
   "cell_type": "code",
   "execution_count": 2,
   "metadata": {},
   "outputs": [],
   "source": [
    "# проверка на существование переменной и контекста\n",
    "if not 'sc' in globals():\n",
    "    conf = SparkConf().setAppName(\"TestName\")\n",
    "    sc = SparkContext(conf=conf)"
   ]
  },
  {
   "cell_type": "code",
   "execution_count": 4,
   "metadata": {},
   "outputs": [
    {
     "data": {
      "text/plain": [
       "['Lion', 'Dolphin', 'Whale', 'Shark', 'Dolphin', 'Whale']"
      ]
     },
     "execution_count": 4,
     "metadata": {},
     "output_type": "execute_result"
    }
   ],
   "source": [
    "# создание дата сета\n",
    "mammals = sc.parallelize([\"Lion\", \"Dolphin\", \"Whale\"])\n",
    "aquatics = sc.parallelize([\"Shark\", \"Dolphin\", \"Whale\"])\n",
    "zoo = mammals.union(aquatics)\n",
    "zoo.collect()"
   ]
  },
  {
   "cell_type": "code",
   "execution_count": 5,
   "metadata": {},
   "outputs": [
    {
     "data": {
      "text/plain": [
       "['Dolphin', 'Whale']"
      ]
     },
     "execution_count": 5,
     "metadata": {},
     "output_type": "execute_result"
    }
   ],
   "source": [
    "# поиск пересекающихся значений (аналог SET)\n",
    "mammals = sc.parallelize([\"Lion\", \"Dolphin\", \"Whale\"])\n",
    "aquatics = sc.parallelize([\"Shark\", \"Dolphin\", \"Whale\"])\n",
    "aquaticMammals = mammals.intersection(aquatics)\n",
    "aquaticMammals.collect()"
   ]
  },
  {
   "cell_type": "code",
   "execution_count": 6,
   "metadata": {},
   "outputs": [
    {
     "data": {
      "text/plain": [
       "[]"
      ]
     },
     "execution_count": 6,
     "metadata": {},
     "output_type": "execute_result"
    }
   ],
   "source": [
    "# делаем вычитание дата сета из другого дата сета\n",
    "mammals = sc.parallelize([\"Lion\", \"Dolphin\", \"Whale\"])\n",
    "aquatics =sc.parallelize([])\n",
    "fishes = aquatics.subtract(mammals)\n",
    "fishes.collect()"
   ]
  },
  {
   "cell_type": "code",
   "execution_count": 7,
   "metadata": {},
   "outputs": [
    {
     "data": {
      "text/plain": [
       "['Dolphin', 'Shark', 'Lion', 'Whale']"
      ]
     },
     "execution_count": 7,
     "metadata": {},
     "output_type": "execute_result"
    }
   ],
   "source": [
    "# применем метод distinct(оставит только уникальные) и вернем объект из Spark Context в обычный объект Python\n",
    "sc.parallelize([\"Lion\", \"Dolphin\", \"Whale\",\"Shark\", \"Dolphin\", \"Whale\"]).distinct().collect()"
   ]
  },
  {
   "cell_type": "code",
   "execution_count": null,
   "metadata": {},
   "outputs": [],
   "source": []
  }
 ],
 "metadata": {
  "kernelspec": {
   "display_name": "Python 3",
   "language": "python",
   "name": "python3"
  },
  "language_info": {
   "codemirror_mode": {
    "name": "ipython",
    "version": 3
   },
   "file_extension": ".py",
   "mimetype": "text/x-python",
   "name": "python",
   "nbconvert_exporter": "python",
   "pygments_lexer": "ipython3",
   "version": "3.8.6"
  }
 },
 "nbformat": 4,
 "nbformat_minor": 4
}
