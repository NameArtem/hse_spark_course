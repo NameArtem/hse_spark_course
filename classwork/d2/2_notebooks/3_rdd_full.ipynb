{
 "cells": [
  {
   "cell_type": "markdown",
   "metadata": {},
   "source": [
    "# Imports"
   ]
  },
  {
   "cell_type": "code",
   "execution_count": 5,
   "metadata": {},
   "outputs": [],
   "source": [
    "import sys\n",
    "import os\n",
    "import random\n",
    "from operator import add, mul\n",
    "from pyspark import SparkContext, SparkConf\n",
    "from pyspark import SparkFiles"
   ]
  },
  {
   "cell_type": "code",
   "execution_count": 5,
   "metadata": {
    "collapsed": true
   },
   "outputs": [],
   "source": [
    "conf = SparkConf().setAppName()\n",
    "sc = SparkContext.getOrCreate(conf=conf)"
   ]
  },
  {
   "cell_type": "code",
   "execution_count": 6,
   "metadata": {
    "collapsed": true
   },
   "outputs": [],
   "source": [
    "# sc.stop()"
   ]
  },
  {
   "cell_type": "code",
   "execution_count": 7,
   "metadata": {
    "collapsed": true
   },
   "outputs": [],
   "source": [
    "# sc = SparkContext.getOrCreate()"
   ]
  },
  {
   "cell_type": "code",
   "execution_count": null,
   "metadata": {},
   "outputs": [],
   "source": [
    "sc.applicationId"
   ]
  },
  {
   "cell_type": "markdown",
   "metadata": {},
   "source": [
    "# Datasets"
   ]
  },
  {
   "cell_type": "code",
   "execution_count": 10,
   "metadata": {
    "collapsed": true
   },
   "outputs": [],
   "source": [
    "AIRPORTS = ('airports.csv')\n",
    "DATA_STR = \"/user/nameartem/file1\""
   ]
  },
  {
   "cell_type": "markdown",
   "metadata": {},
   "source": [
    "# Creating RDDs"
   ]
  },
  {
   "cell_type": "code",
   "execution_count": null,
   "metadata": {},
   "outputs": [],
   "source": [
    "# Parallelized Collection\n",
    "data = DATA_STR.split(' ')\n",
    "print(data)\n",
    "pcoll = sc.parallelize(data)\n",
    "pcoll.collect()"
   ]
  },
  {
   "cell_type": "code",
   "execution_count": null,
   "metadata": {},
   "outputs": [],
   "source": [
    "# из RDD\n",
    "rdd_from_rdd = pcoll.map(lambda word: word.upper())\n",
    "rdd_from_rdd.collect()"
   ]
  },
  {
   "cell_type": "code",
   "execution_count": null,
   "metadata": {},
   "outputs": [],
   "source": [
    "# из файла\n",
    "text_file = sc.textFile(AIRPORTS)\n",
    "text_file.map(lambda line: line.upper()).collect()"
   ]
  },
  {
   "cell_type": "markdown",
   "metadata": {},
   "source": [
    "# RDD Transformations\n"
   ]
  },
  {
   "cell_type": "markdown",
   "metadata": {},
   "source": [
    "### map, filter, flatMap, distinct, sortBy, groupBy"
   ]
  },
  {
   "cell_type": "code",
   "execution_count": null,
   "metadata": {},
   "outputs": [],
   "source": [
    "# map\n",
    "rdd = sc.textFile(AIRPORTS)\n",
    "lines = rdd.map(lambda line: line.split(','))\n",
    "lines.count()"
   ]
  },
  {
   "cell_type": "code",
   "execution_count": null,
   "metadata": {},
   "outputs": [],
   "source": [
    "lines.take(3)"
   ]
  },
  {
   "cell_type": "code",
   "execution_count": null,
   "metadata": {},
   "outputs": [],
   "source": [
    "# filter : избавимся от заголовков\n",
    "lines = lines.filter(lambda cols: cols[0]!='IATA')\n",
    "lines.count()"
   ]
  },
  {
   "cell_type": "code",
   "execution_count": null,
   "metadata": {},
   "outputs": [],
   "source": [
    "# flatMap\n",
    "textFile = sc.textFile(README)\n",
    "\n",
    "# ВОПРОС: А чем map отличается от flatMap?\n",
    "\n",
    "words = textFile.flatMap(lambda line: line.split())\n",
    "words.take(50)"
   ]
  },
  {
   "cell_type": "code",
   "execution_count": null,
   "metadata": {},
   "outputs": [],
   "source": [
    "lines.take(3)"
   ]
  },
  {
   "cell_type": "code",
   "execution_count": null,
   "metadata": {},
   "outputs": [],
   "source": [
    "# distinct\n",
    "codes = lines.map(lambda cols: cols[0])\n",
    "print(codes.count())\n",
    "print(codes.distinct().count())"
   ]
  },
  {
   "cell_type": "code",
   "execution_count": null,
   "metadata": {},
   "outputs": [],
   "source": [
    "# sortBy : сделаем сортировку по records/rows (первая колонка)\n",
    "lines.sortBy(lambda line: line[1]).take(10)"
   ]
  },
  {
   "cell_type": "code",
   "execution_count": null,
   "metadata": {},
   "outputs": [],
   "source": [
    "# а что тут изменилось?\n",
    "lines.sortBy(lambda line: line[0], ascending=False).map(lambda line: line[0]).take(10)"
   ]
  },
  {
   "cell_type": "code",
   "execution_count": 20,
   "metadata": {},
   "outputs": [
    {
     "data": {
      "text/plain": [
       "[u'#',\n",
       " u'Apache',\n",
       " u'Spark',\n",
       " u'Spark',\n",
       " u'is',\n",
       " u'a',\n",
       " u'fast',\n",
       " u'and',\n",
       " u'general',\n",
       " u'cluster',\n",
       " u'computing',\n",
       " u'system',\n",
       " u'for',\n",
       " u'Big',\n",
       " u'Data.',\n",
       " u'It',\n",
       " u'provides',\n",
       " u'high-level',\n",
       " u'APIs',\n",
       " u'in']"
      ]
     },
     "execution_count": 20,
     "metadata": {},
     "output_type": "execute_result"
    }
   ],
   "source": [
    "words.take(20)"
   ]
  },
  {
   "cell_type": "code",
   "execution_count": 21,
   "metadata": {},
   "outputs": [
    {
     "name": "stdout",
     "output_type": "stream",
     "text": [
      "[(u'#', 10)]\n",
      "[(u'#', 10), (u'-', 2), (u'1', 3), (u'3', 1), (u'A', 6), (u'C', 2), (u'E', 1), (u'G', 2), (u'I', 5), (u'K', 1)]\n"
     ]
    }
   ],
   "source": [
    "# groupBy\n",
    "grp = words.groupBy(lambda w : w[0])\n",
    "\n",
    "print [(k, len(list(v))) for k,v in grp.take(1)]\n",
    "print [(k, len(list(v))) for k,v in grp.take(10)]"
   ]
  },
  {
   "cell_type": "markdown",
   "metadata": {},
   "source": [
    "# Key-Value Pair RDD (PairRDD)"
   ]
  },
  {
   "cell_type": "markdown",
   "metadata": {},
   "source": [
    "#### keyBy, foldByKey, reduceByKey, groupByKey, lookup, mapValues, collectAsMap, countByKey, sortByKey, sampleByKey"
   ]
  },
  {
   "cell_type": "code",
   "execution_count": 22,
   "metadata": {},
   "outputs": [
    {
     "data": {
      "text/plain": [
       "[(u'#', u'#'),\n",
       " (u'a', u'Apache'),\n",
       " (u's', u'Spark'),\n",
       " (u's', u'Spark'),\n",
       " (u'i', u'is'),\n",
       " (u'a', u'a'),\n",
       " (u'f', u'fast'),\n",
       " (u'a', u'and'),\n",
       " (u'g', u'general'),\n",
       " (u'c', u'cluster')]"
      ]
     },
     "execution_count": 22,
     "metadata": {},
     "output_type": "execute_result"
    }
   ],
   "source": [
    "# byKey\n",
    "keywords = words.keyBy(lambda word: word.lower()[0])\n",
    "keywords.take(10)"
   ]
  },
  {
   "cell_type": "code",
   "execution_count": 23,
   "metadata": {},
   "outputs": [
    {
     "name": "stdout",
     "output_type": "stream",
     "text": [
      "[('D1', 30), ('D2', 45), ('D1', 40), ('D2', 40)]\n"
     ]
    },
    {
     "data": {
      "text/plain": [
       "[('D1', 1200), ('D2', 1800)]"
      ]
     },
     "execution_count": 23,
     "metadata": {},
     "output_type": "execute_result"
    }
   ],
   "source": [
    "# foldByKey - значене может быть добавлено к результату.Умножение - 1,0 -сложение\n",
    "from operator import add, mul\n",
    "rdd = sc.parallelize([(\"D1\", 30), (\"D2\", 45), (\"D1\", 40), (\"D2\", 40)])\n",
    "print(rdd.collect())\n",
    "sorted(rdd.foldByKey(1, mul).collect())"
   ]
  },
  {
   "cell_type": "code",
   "execution_count": 24,
   "metadata": {},
   "outputs": [
    {
     "data": {
      "text/plain": [
       "[(u'', 44),\n",
       " (u'SparkContext', 1),\n",
       " (u'(word,', 1),\n",
       " (u'conf', 1),\n",
       " (u\"'__main__':\", 1),\n",
       " (u'into', 1),\n",
       " (u'wordCounts', 1),\n",
       " (u\"wordCounts.saveAsTextFile('hdfs:/user/edureka_121039/output1/')\", 1),\n",
       " (u'#', 3),\n",
       " (u'from', 1)]"
      ]
     },
     "execution_count": 24,
     "metadata": {},
     "output_type": "execute_result"
    }
   ],
   "source": [
    "# reduceByKey\n",
    "rdd = sc.textFile(SAMPLE)\n",
    "wc = rdd.flatMap(lambda line: line.split(' ')).map(lambda w: (w, 1)) # [('Spark', [1,1,1,1]), ('Python', [1,1,1])]\n",
    "wc.reduceByKey(lambda a,b: a+b).take(10)"
   ]
  },
  {
   "cell_type": "code",
   "execution_count": 25,
   "metadata": {},
   "outputs": [
    {
     "name": "stdout",
     "output_type": "stream",
     "text": [
      "[(u'', 44), (u'SparkContext', 1), (u'(word,', 1), (u'conf', 1), (u'-', 1), (u'into', 1), (u'1)).reduceByKey(lambda', 1), (u'file', 1), (u\"wordCounts.saveAsTextFile('hdfs:/user/edureka_121039/output1/')\", 1), (u'#', 3)]\n"
     ]
    }
   ],
   "source": [
    "# groupByKey\n",
    "word_freq = wc.groupByKey()\n",
    "print(list((j[0], sum(list(j[1])) ) for j in word_freq.take(10)))"
   ]
  },
  {
   "cell_type": "markdown",
   "metadata": {},
   "source": [
    "**Note:** groupBy и groupByKey самые дорогие операции для вычисления и могу быть поводом для **memory exceptions**"
   ]
  },
  {
   "cell_type": "code",
   "execution_count": 26,
   "metadata": {},
   "outputs": [
    {
     "data": {
      "text/plain": [
       "[u'Spark',\n",
       " u'Spark',\n",
       " u'system',\n",
       " u'Scala,',\n",
       " u'supports',\n",
       " u'supports',\n",
       " u'set',\n",
       " u'Spark',\n",
       " u'SQL',\n",
       " u'SQL',\n",
       " u'Spark',\n",
       " u'Streaming',\n",
       " u'stream',\n",
       " u'Spark',\n",
       " u'setup',\n",
       " u'Spark',\n",
       " u'Spark',\n",
       " u'Spark',\n",
       " u'Spark',\n",
       " u'see',\n",
       " u'site,',\n",
       " u'Spark\"](http://spark.apache.org/docs/latest/building-spark.html).',\n",
       " u'Spark',\n",
       " u'see',\n",
       " u'Scala',\n",
       " u'Shell',\n",
       " u'start',\n",
       " u'Spark',\n",
       " u'Scala',\n",
       " u'shell:',\n",
       " u'should',\n",
       " u'scala>',\n",
       " u'sc.parallelize(1',\n",
       " u'Shell',\n",
       " u'shell:',\n",
       " u'should',\n",
       " u'sc.parallelize(range(1000)).count()',\n",
       " u'Spark',\n",
       " u'several',\n",
       " u'sample',\n",
       " u'SparkPi',\n",
       " u'set',\n",
       " u'submit',\n",
       " u'spark://',\n",
       " u'SparkPi',\n",
       " u'Spark](#building-spark).',\n",
       " u'Spark',\n",
       " u'see',\n",
       " u'see',\n",
       " u'Spark',\n",
       " u'storage',\n",
       " u'systems.',\n",
       " u'Spark',\n",
       " u'same',\n",
       " u'Spark.',\n",
       " u'Spark',\n",
       " u'started']"
      ]
     },
     "execution_count": 26,
     "metadata": {},
     "output_type": "execute_result"
    }
   ],
   "source": [
    "# lookup\n",
    "keywords.lookup('s')"
   ]
  },
  {
   "cell_type": "code",
   "execution_count": 27,
   "metadata": {},
   "outputs": [
    {
     "data": {
      "text/plain": [
       "[(u'#', u'#'),\n",
       " (u'a', u'APACHE'),\n",
       " (u's', u'SPARK'),\n",
       " (u's', u'SPARK'),\n",
       " (u'i', u'IS'),\n",
       " (u'a', u'A'),\n",
       " (u'f', u'FAST'),\n",
       " (u'a', u'AND'),\n",
       " (u'g', u'GENERAL'),\n",
       " (u'c', u'CLUSTER'),\n",
       " (u'c', u'COMPUTING'),\n",
       " (u's', u'SYSTEM'),\n",
       " (u'f', u'FOR'),\n",
       " (u'b', u'BIG'),\n",
       " (u'd', u'DATA.'),\n",
       " (u'i', u'IT'),\n",
       " (u'p', u'PROVIDES'),\n",
       " (u'h', u'HIGH-LEVEL'),\n",
       " (u'a', u'APIS'),\n",
       " (u'i', u'IN'),\n",
       " (u's', u'SCALA,'),\n",
       " (u'j', u'JAVA,'),\n",
       " (u'p', u'PYTHON,'),\n",
       " (u'a', u'AND'),\n",
       " (u'r', u'R,'),\n",
       " (u'a', u'AND'),\n",
       " (u'a', u'AN'),\n",
       " (u'o', u'OPTIMIZED'),\n",
       " (u'e', u'ENGINE'),\n",
       " (u't', u'THAT'),\n",
       " (u's', u'SUPPORTS'),\n",
       " (u'g', u'GENERAL'),\n",
       " (u'c', u'COMPUTATION'),\n",
       " (u'g', u'GRAPHS'),\n",
       " (u'f', u'FOR'),\n",
       " (u'd', u'DATA'),\n",
       " (u'a', u'ANALYSIS.'),\n",
       " (u'i', u'IT'),\n",
       " (u'a', u'ALSO'),\n",
       " (u's', u'SUPPORTS'),\n",
       " (u'a', u'A'),\n",
       " (u'r', u'RICH'),\n",
       " (u's', u'SET'),\n",
       " (u'o', u'OF'),\n",
       " (u'h', u'HIGHER-LEVEL'),\n",
       " (u't', u'TOOLS'),\n",
       " (u'i', u'INCLUDING'),\n",
       " (u's', u'SPARK'),\n",
       " (u's', u'SQL'),\n",
       " (u'f', u'FOR'),\n",
       " (u's', u'SQL'),\n",
       " (u'a', u'AND'),\n",
       " (u'd', u'DATAFRAMES,'),\n",
       " (u'm', u'MLLIB'),\n",
       " (u'f', u'FOR'),\n",
       " (u'm', u'MACHINE'),\n",
       " (u'l', u'LEARNING,'),\n",
       " (u'g', u'GRAPHX'),\n",
       " (u'f', u'FOR'),\n",
       " (u'g', u'GRAPH'),\n",
       " (u'p', u'PROCESSING,'),\n",
       " (u'a', u'AND'),\n",
       " (u's', u'SPARK'),\n",
       " (u's', u'STREAMING'),\n",
       " (u'f', u'FOR'),\n",
       " (u's', u'STREAM'),\n",
       " (u'p', u'PROCESSING.'),\n",
       " (u'<', u'<HTTP://SPARK.APACHE.ORG/>'),\n",
       " (u'#', u'##'),\n",
       " (u'o', u'ONLINE'),\n",
       " (u'd', u'DOCUMENTATION'),\n",
       " (u'y', u'YOU'),\n",
       " (u'c', u'CAN'),\n",
       " (u'f', u'FIND'),\n",
       " (u't', u'THE'),\n",
       " (u'l', u'LATEST'),\n",
       " (u's', u'SPARK'),\n",
       " (u'd', u'DOCUMENTATION,'),\n",
       " (u'i', u'INCLUDING'),\n",
       " (u'a', u'A'),\n",
       " (u'p', u'PROGRAMMING'),\n",
       " (u'g', u'GUIDE,'),\n",
       " (u'o', u'ON'),\n",
       " (u't', u'THE'),\n",
       " (u'[', u'[PROJECT'),\n",
       " (u'w', u'WEB'),\n",
       " (u'p', u'PAGE](HTTP://SPARK.APACHE.ORG/DOCUMENTATION.HTML).'),\n",
       " (u't', u'THIS'),\n",
       " (u'r', u'README'),\n",
       " (u'f', u'FILE'),\n",
       " (u'o', u'ONLY'),\n",
       " (u'c', u'CONTAINS'),\n",
       " (u'b', u'BASIC'),\n",
       " (u's', u'SETUP'),\n",
       " (u'i', u'INSTRUCTIONS.'),\n",
       " (u'#', u'##'),\n",
       " (u'b', u'BUILDING'),\n",
       " (u's', u'SPARK'),\n",
       " (u's', u'SPARK'),\n",
       " (u'i', u'IS'),\n",
       " (u'b', u'BUILT'),\n",
       " (u'u', u'USING'),\n",
       " (u'[', u'[APACHE'),\n",
       " (u'm', u'MAVEN](HTTP://MAVEN.APACHE.ORG/).'),\n",
       " (u't', u'TO'),\n",
       " (u'b', u'BUILD'),\n",
       " (u's', u'SPARK'),\n",
       " (u'a', u'AND'),\n",
       " (u'i', u'ITS'),\n",
       " (u'e', u'EXAMPLE'),\n",
       " (u'p', u'PROGRAMS,'),\n",
       " (u'r', u'RUN:'),\n",
       " (u'b', u'BUILD/MVN'),\n",
       " (u'-', u'-DSKIPTESTS'),\n",
       " (u'c', u'CLEAN'),\n",
       " (u'p', u'PACKAGE'),\n",
       " (u'(', u'(YOU'),\n",
       " (u'd', u'DO'),\n",
       " (u'n', u'NOT'),\n",
       " (u'n', u'NEED'),\n",
       " (u't', u'TO'),\n",
       " (u'd', u'DO'),\n",
       " (u't', u'THIS'),\n",
       " (u'i', u'IF'),\n",
       " (u'y', u'YOU'),\n",
       " (u'd', u'DOWNLOADED'),\n",
       " (u'a', u'A'),\n",
       " (u'p', u'PRE-BUILT'),\n",
       " (u'p', u'PACKAGE.)'),\n",
       " (u'y', u'YOU'),\n",
       " (u'c', u'CAN'),\n",
       " (u'b', u'BUILD'),\n",
       " (u's', u'SPARK'),\n",
       " (u'u', u'USING'),\n",
       " (u'm', u'MORE'),\n",
       " (u't', u'THAN'),\n",
       " (u'o', u'ONE'),\n",
       " (u't', u'THREAD'),\n",
       " (u'b', u'BY'),\n",
       " (u'u', u'USING'),\n",
       " (u't', u'THE'),\n",
       " (u'-', u'-T'),\n",
       " (u'o', u'OPTION'),\n",
       " (u'w', u'WITH'),\n",
       " (u'm', u'MAVEN,'),\n",
       " (u's', u'SEE'),\n",
       " (u'[', u'[\"PARALLEL'),\n",
       " (u'b', u'BUILDS'),\n",
       " (u'i', u'IN'),\n",
       " (u'm', u'MAVEN'),\n",
       " (u'3',\n",
       "  u'3\"](HTTPS://CWIKI.APACHE.ORG/CONFLUENCE/DISPLAY/MAVEN/PARALLEL+BUILDS+IN+MAVEN+3).'),\n",
       " (u'm', u'MORE'),\n",
       " (u'd', u'DETAILED'),\n",
       " (u'd', u'DOCUMENTATION'),\n",
       " (u'i', u'IS'),\n",
       " (u'a', u'AVAILABLE'),\n",
       " (u'f', u'FROM'),\n",
       " (u't', u'THE'),\n",
       " (u'p', u'PROJECT'),\n",
       " (u's', u'SITE,'),\n",
       " (u'a', u'AT'),\n",
       " (u'[', u'[\"BUILDING'),\n",
       " (u's', u'SPARK\"](HTTP://SPARK.APACHE.ORG/DOCS/LATEST/BUILDING-SPARK.HTML).'),\n",
       " (u'f', u'FOR'),\n",
       " (u'g', u'GENERAL'),\n",
       " (u'd', u'DEVELOPMENT'),\n",
       " (u't', u'TIPS,'),\n",
       " (u'i', u'INCLUDING'),\n",
       " (u'i', u'INFO'),\n",
       " (u'o', u'ON'),\n",
       " (u'd', u'DEVELOPING'),\n",
       " (u's', u'SPARK'),\n",
       " (u'u', u'USING'),\n",
       " (u'a', u'AN'),\n",
       " (u'i', u'IDE,'),\n",
       " (u's', u'SEE'),\n",
       " (u'[', u'[\"USEFUL'),\n",
       " (u'd', u'DEVELOPER'),\n",
       " (u't', u'TOOLS\"](HTTP://SPARK.APACHE.ORG/DEVELOPER-TOOLS.HTML).'),\n",
       " (u'#', u'##'),\n",
       " (u'i', u'INTERACTIVE'),\n",
       " (u's', u'SCALA'),\n",
       " (u's', u'SHELL'),\n",
       " (u't', u'THE'),\n",
       " (u'e', u'EASIEST'),\n",
       " (u'w', u'WAY'),\n",
       " (u't', u'TO'),\n",
       " (u's', u'START'),\n",
       " (u'u', u'USING'),\n",
       " (u's', u'SPARK'),\n",
       " (u'i', u'IS'),\n",
       " (u't', u'THROUGH'),\n",
       " (u't', u'THE'),\n",
       " (u's', u'SCALA'),\n",
       " (u's', u'SHELL:'),\n",
       " (u'.', u'./BIN/SPARK-SHELL'),\n",
       " (u't', u'TRY'),\n",
       " (u't', u'THE'),\n",
       " (u'f', u'FOLLOWING'),\n",
       " (u'c', u'COMMAND,'),\n",
       " (u'w', u'WHICH'),\n",
       " (u's', u'SHOULD'),\n",
       " (u'r', u'RETURN'),\n",
       " (u'1', u'1000:'),\n",
       " (u's', u'SCALA>'),\n",
       " (u's', u'SC.PARALLELIZE(1'),\n",
       " (u't', u'TO'),\n",
       " (u'1', u'1000).COUNT()'),\n",
       " (u'#', u'##'),\n",
       " (u'i', u'INTERACTIVE'),\n",
       " (u'p', u'PYTHON'),\n",
       " (u's', u'SHELL'),\n",
       " (u'a', u'ALTERNATIVELY,'),\n",
       " (u'i', u'IF'),\n",
       " (u'y', u'YOU'),\n",
       " (u'p', u'PREFER'),\n",
       " (u'p', u'PYTHON,'),\n",
       " (u'y', u'YOU'),\n",
       " (u'c', u'CAN'),\n",
       " (u'u', u'USE'),\n",
       " (u't', u'THE'),\n",
       " (u'p', u'PYTHON'),\n",
       " (u's', u'SHELL:'),\n",
       " (u'.', u'./BIN/PYSPARK'),\n",
       " (u'a', u'AND'),\n",
       " (u'r', u'RUN'),\n",
       " (u't', u'THE'),\n",
       " (u'f', u'FOLLOWING'),\n",
       " (u'c', u'COMMAND,'),\n",
       " (u'w', u'WHICH'),\n",
       " (u's', u'SHOULD'),\n",
       " (u'a', u'ALSO'),\n",
       " (u'r', u'RETURN'),\n",
       " (u'1', u'1000:'),\n",
       " (u'>', u'>>>'),\n",
       " (u's', u'SC.PARALLELIZE(RANGE(1000)).COUNT()'),\n",
       " (u'#', u'##'),\n",
       " (u'e', u'EXAMPLE'),\n",
       " (u'p', u'PROGRAMS'),\n",
       " (u's', u'SPARK'),\n",
       " (u'a', u'ALSO'),\n",
       " (u'c', u'COMES'),\n",
       " (u'w', u'WITH'),\n",
       " (u's', u'SEVERAL'),\n",
       " (u's', u'SAMPLE'),\n",
       " (u'p', u'PROGRAMS'),\n",
       " (u'i', u'IN'),\n",
       " (u't', u'THE'),\n",
       " (u'`', u'`EXAMPLES`'),\n",
       " (u'd', u'DIRECTORY.'),\n",
       " (u't', u'TO'),\n",
       " (u'r', u'RUN'),\n",
       " (u'o', u'ONE'),\n",
       " (u'o', u'OF'),\n",
       " (u't', u'THEM,'),\n",
       " (u'u', u'USE'),\n",
       " (u'`', u'`./BIN/RUN-EXAMPLE'),\n",
       " (u'<', u'<CLASS>'),\n",
       " (u'[', u'[PARAMS]`.'),\n",
       " (u'f', u'FOR'),\n",
       " (u'e', u'EXAMPLE:'),\n",
       " (u'.', u'./BIN/RUN-EXAMPLE'),\n",
       " (u's', u'SPARKPI'),\n",
       " (u'w', u'WILL'),\n",
       " (u'r', u'RUN'),\n",
       " (u't', u'THE'),\n",
       " (u'p', u'PI'),\n",
       " (u'e', u'EXAMPLE'),\n",
       " (u'l', u'LOCALLY.'),\n",
       " (u'y', u'YOU'),\n",
       " (u'c', u'CAN'),\n",
       " (u's', u'SET'),\n",
       " (u't', u'THE'),\n",
       " (u'm', u'MASTER'),\n",
       " (u'e', u'ENVIRONMENT'),\n",
       " (u'v', u'VARIABLE'),\n",
       " (u'w', u'WHEN'),\n",
       " (u'r', u'RUNNING'),\n",
       " (u'e', u'EXAMPLES'),\n",
       " (u't', u'TO'),\n",
       " (u's', u'SUBMIT'),\n",
       " (u'e', u'EXAMPLES'),\n",
       " (u't', u'TO'),\n",
       " (u'a', u'A'),\n",
       " (u'c', u'CLUSTER.'),\n",
       " (u't', u'THIS'),\n",
       " (u'c', u'CAN'),\n",
       " (u'b', u'BE'),\n",
       " (u'a', u'A'),\n",
       " (u'm', u'MESOS://'),\n",
       " (u'o', u'OR'),\n",
       " (u's', u'SPARK://'),\n",
       " (u'u', u'URL,'),\n",
       " (u'\"', u'\"YARN\"'),\n",
       " (u't', u'TO'),\n",
       " (u'r', u'RUN'),\n",
       " (u'o', u'ON'),\n",
       " (u'y', u'YARN,'),\n",
       " (u'a', u'AND'),\n",
       " (u'\"', u'\"LOCAL\"'),\n",
       " (u't', u'TO'),\n",
       " (u'r', u'RUN'),\n",
       " (u'l', u'LOCALLY'),\n",
       " (u'w', u'WITH'),\n",
       " (u'o', u'ONE'),\n",
       " (u't', u'THREAD,'),\n",
       " (u'o', u'OR'),\n",
       " (u'\"', u'\"LOCAL[N]\"'),\n",
       " (u't', u'TO'),\n",
       " (u'r', u'RUN'),\n",
       " (u'l', u'LOCALLY'),\n",
       " (u'w', u'WITH'),\n",
       " (u'n', u'N'),\n",
       " (u't', u'THREADS.'),\n",
       " (u'y', u'YOU'),\n",
       " (u'c', u'CAN'),\n",
       " (u'a', u'ALSO'),\n",
       " (u'u', u'USE'),\n",
       " (u'a', u'AN'),\n",
       " (u'a', u'ABBREVIATED'),\n",
       " (u'c', u'CLASS'),\n",
       " (u'n', u'NAME'),\n",
       " (u'i', u'IF'),\n",
       " (u't', u'THE'),\n",
       " (u'c', u'CLASS'),\n",
       " (u'i', u'IS'),\n",
       " (u'i', u'IN'),\n",
       " (u't', u'THE'),\n",
       " (u'`', u'`EXAMPLES`'),\n",
       " (u'p', u'PACKAGE.'),\n",
       " (u'f', u'FOR'),\n",
       " (u'i', u'INSTANCE:'),\n",
       " (u'm', u'MASTER=SPARK://HOST:7077'),\n",
       " (u'.', u'./BIN/RUN-EXAMPLE'),\n",
       " (u's', u'SPARKPI'),\n",
       " (u'm', u'MANY'),\n",
       " (u'o', u'OF'),\n",
       " (u't', u'THE'),\n",
       " (u'e', u'EXAMPLE'),\n",
       " (u'p', u'PROGRAMS'),\n",
       " (u'p', u'PRINT'),\n",
       " (u'u', u'USAGE'),\n",
       " (u'h', u'HELP'),\n",
       " (u'i', u'IF'),\n",
       " (u'n', u'NO'),\n",
       " (u'p', u'PARAMS'),\n",
       " (u'a', u'ARE'),\n",
       " (u'g', u'GIVEN.'),\n",
       " (u'#', u'##'),\n",
       " (u'r', u'RUNNING'),\n",
       " (u't', u'TESTS'),\n",
       " (u't', u'TESTING'),\n",
       " (u'f', u'FIRST'),\n",
       " (u'r', u'REQUIRES'),\n",
       " (u'[', u'[BUILDING'),\n",
       " (u's', u'SPARK](#BUILDING-SPARK).'),\n",
       " (u'o', u'ONCE'),\n",
       " (u's', u'SPARK'),\n",
       " (u'i', u'IS'),\n",
       " (u'b', u'BUILT,'),\n",
       " (u't', u'TESTS'),\n",
       " (u'c', u'CAN'),\n",
       " (u'b', u'BE'),\n",
       " (u'r', u'RUN'),\n",
       " (u'u', u'USING:'),\n",
       " (u'.', u'./DEV/RUN-TESTS'),\n",
       " (u'p', u'PLEASE'),\n",
       " (u's', u'SEE'),\n",
       " (u't', u'THE'),\n",
       " (u'g', u'GUIDANCE'),\n",
       " (u'o', u'ON'),\n",
       " (u'h', u'HOW'),\n",
       " (u't', u'TO'),\n",
       " (u'[', u'[RUN'),\n",
       " (u't', u'TESTS'),\n",
       " (u'f', u'FOR'),\n",
       " (u'a', u'A'),\n",
       " (u'm', u'MODULE,'),\n",
       " (u'o', u'OR'),\n",
       " (u'i', u'INDIVIDUAL'),\n",
       " (u't',\n",
       "  u'TESTS](HTTP://SPARK.APACHE.ORG/DEVELOPER-TOOLS.HTML#INDIVIDUAL-TESTS).'),\n",
       " (u't', u'THERE'),\n",
       " (u'i', u'IS'),\n",
       " (u'a', u'ALSO'),\n",
       " (u'a', u'A'),\n",
       " (u'k', u'KUBERNETES'),\n",
       " (u'i', u'INTEGRATION'),\n",
       " (u't', u'TEST,'),\n",
       " (u's', u'SEE'),\n",
       " (u'r', u'RESOURCE-MANAGERS/KUBERNETES/INTEGRATION-TESTS/README.MD'),\n",
       " (u'#', u'##'),\n",
       " (u'a', u'A'),\n",
       " (u'n', u'NOTE'),\n",
       " (u'a', u'ABOUT'),\n",
       " (u'h', u'HADOOP'),\n",
       " (u'v', u'VERSIONS'),\n",
       " (u's', u'SPARK'),\n",
       " (u'u', u'USES'),\n",
       " (u't', u'THE'),\n",
       " (u'h', u'HADOOP'),\n",
       " (u'c', u'CORE'),\n",
       " (u'l', u'LIBRARY'),\n",
       " (u't', u'TO'),\n",
       " (u't', u'TALK'),\n",
       " (u't', u'TO'),\n",
       " (u'h', u'HDFS'),\n",
       " (u'a', u'AND'),\n",
       " (u'o', u'OTHER'),\n",
       " (u'h', u'HADOOP-SUPPORTED'),\n",
       " (u's', u'STORAGE'),\n",
       " (u's', u'SYSTEMS.'),\n",
       " (u'b', u'BECAUSE'),\n",
       " (u't', u'THE'),\n",
       " (u'p', u'PROTOCOLS'),\n",
       " (u'h', u'HAVE'),\n",
       " (u'c', u'CHANGED'),\n",
       " (u'i', u'IN'),\n",
       " (u'd', u'DIFFERENT'),\n",
       " (u'v', u'VERSIONS'),\n",
       " (u'o', u'OF'),\n",
       " (u'h', u'HADOOP,'),\n",
       " (u'y', u'YOU'),\n",
       " (u'm', u'MUST'),\n",
       " (u'b', u'BUILD'),\n",
       " (u's', u'SPARK'),\n",
       " (u'a', u'AGAINST'),\n",
       " (u't', u'THE'),\n",
       " (u's', u'SAME'),\n",
       " (u'v', u'VERSION'),\n",
       " (u't', u'THAT'),\n",
       " (u'y', u'YOUR'),\n",
       " (u'c', u'CLUSTER'),\n",
       " (u'r', u'RUNS.'),\n",
       " (u'p', u'PLEASE'),\n",
       " (u'r', u'REFER'),\n",
       " (u't', u'TO'),\n",
       " (u't', u'THE'),\n",
       " (u'b', u'BUILD'),\n",
       " (u'd', u'DOCUMENTATION'),\n",
       " (u'a', u'AT'),\n",
       " (u'[', u'[\"SPECIFYING'),\n",
       " (u't', u'THE'),\n",
       " (u'h', u'HADOOP'),\n",
       " (u'v',\n",
       "  u'VERSION\"](HTTP://SPARK.APACHE.ORG/DOCS/LATEST/BUILDING-SPARK.HTML#SPECIFYING-THE-HADOOP-VERSION)'),\n",
       " (u'f', u'FOR'),\n",
       " (u'd', u'DETAILED'),\n",
       " (u'g', u'GUIDANCE'),\n",
       " (u'o', u'ON'),\n",
       " (u'b', u'BUILDING'),\n",
       " (u'f', u'FOR'),\n",
       " (u'a', u'A'),\n",
       " (u'p', u'PARTICULAR'),\n",
       " (u'd', u'DISTRIBUTION'),\n",
       " (u'o', u'OF'),\n",
       " (u'h', u'HADOOP,'),\n",
       " (u'i', u'INCLUDING'),\n",
       " (u'b', u'BUILDING'),\n",
       " (u'f', u'FOR'),\n",
       " (u'p', u'PARTICULAR'),\n",
       " (u'h', u'HIVE'),\n",
       " (u'a', u'AND'),\n",
       " (u'h', u'HIVE'),\n",
       " (u't', u'THRIFTSERVER'),\n",
       " (u'd', u'DISTRIBUTIONS.'),\n",
       " (u'#', u'##'),\n",
       " (u'c', u'CONFIGURATION'),\n",
       " (u'p', u'PLEASE'),\n",
       " (u'r', u'REFER'),\n",
       " (u't', u'TO'),\n",
       " (u't', u'THE'),\n",
       " (u'[', u'[CONFIGURATION'),\n",
       " (u'g', u'GUIDE](HTTP://SPARK.APACHE.ORG/DOCS/LATEST/CONFIGURATION.HTML)'),\n",
       " (u'i', u'IN'),\n",
       " (u't', u'THE'),\n",
       " (u'o', u'ONLINE'),\n",
       " (u'd', u'DOCUMENTATION'),\n",
       " (u'f', u'FOR'),\n",
       " (u'a', u'AN'),\n",
       " (u'o', u'OVERVIEW'),\n",
       " (u'o', u'ON'),\n",
       " (u'h', u'HOW'),\n",
       " (u't', u'TO'),\n",
       " (u'c', u'CONFIGURE'),\n",
       " (u's', u'SPARK.'),\n",
       " (u'#', u'##'),\n",
       " (u'c', u'CONTRIBUTING'),\n",
       " (u'p', u'PLEASE'),\n",
       " (u'r', u'REVIEW'),\n",
       " (u't', u'THE'),\n",
       " (u'[', u'[CONTRIBUTION'),\n",
       " (u't', u'TO'),\n",
       " (u's', u'SPARK'),\n",
       " (u'g', u'GUIDE](HTTP://SPARK.APACHE.ORG/CONTRIBUTING.HTML)'),\n",
       " (u'f', u'FOR'),\n",
       " (u'i', u'INFORMATION'),\n",
       " (u'o', u'ON'),\n",
       " (u'h', u'HOW'),\n",
       " (u't', u'TO'),\n",
       " (u'g', u'GET'),\n",
       " (u's', u'STARTED'),\n",
       " (u'c', u'CONTRIBUTING'),\n",
       " (u't', u'TO'),\n",
       " (u't', u'THE'),\n",
       " (u'p', u'PROJ')]"
      ]
     },
     "execution_count": 27,
     "metadata": {},
     "output_type": "execute_result"
    }
   ],
   "source": [
    "# mapValues\n",
    "keywords.mapValues(lambda word: word.upper()).collect()"
   ]
  },
  {
   "cell_type": "code",
   "execution_count": 28,
   "metadata": {},
   "outputs": [
    {
     "data": {
      "text/plain": [
       "{u'\"': u'\"local[N]\"',\n",
       " u'#': u'##',\n",
       " u'(': u'(You',\n",
       " u'-': u'-T',\n",
       " u'.': u'./dev/run-tests',\n",
       " u'1': u'1000:',\n",
       " u'3': u'3\"](https://cwiki.apache.org/confluence/display/MAVEN/Parallel+builds+in+Maven+3).',\n",
       " u'<': u'<class>',\n",
       " u'>': u'>>>',\n",
       " u'[': u'[Contribution',\n",
       " u'`': u'`examples`',\n",
       " u'a': u'an',\n",
       " u'b': u'building',\n",
       " u'c': u'contributing',\n",
       " u'd': u'documentation',\n",
       " u'e': u'example',\n",
       " u'f': u'for',\n",
       " u'g': u'get',\n",
       " u'h': u'how',\n",
       " u'i': u'information',\n",
       " u'j': u'Java,',\n",
       " u'k': u'Kubernetes',\n",
       " u'l': u'library',\n",
       " u'm': u'must',\n",
       " u'n': u'Note',\n",
       " u'o': u'on',\n",
       " u'p': u'proj',\n",
       " u'r': u'review',\n",
       " u's': u'started',\n",
       " u't': u'the',\n",
       " u'u': u'uses',\n",
       " u'v': u'Version\"](http://spark.apache.org/docs/latest/building-spark.html#specifying-the-hadoop-version)',\n",
       " u'w': u'with',\n",
       " u'y': u'your'}"
      ]
     },
     "execution_count": 28,
     "metadata": {},
     "output_type": "execute_result"
    }
   ],
   "source": [
    "# collectAsMap\n",
    "keywords.collectAsMap()"
   ]
  },
  {
   "cell_type": "code",
   "execution_count": 29,
   "metadata": {},
   "outputs": [
    {
     "data": {
      "text/plain": [
       "[(u'ABE',\n",
       "  [u'ABE',\n",
       "   u'Lehigh Valley International',\n",
       "   u'Allentown',\n",
       "   u'PA',\n",
       "   u'USA',\n",
       "   u'40.65236278',\n",
       "   u'-75.44040167']),\n",
       " (u'ABI',\n",
       "  [u'ABI',\n",
       "   u'Abilene Regional',\n",
       "   u'Abilene',\n",
       "   u'TX',\n",
       "   u'USA',\n",
       "   u'32.41132',\n",
       "   u'-99.68189722']),\n",
       " (u'ABQ',\n",
       "  [u'ABQ',\n",
       "   u'Albuquerque International',\n",
       "   u'Albuquerque',\n",
       "   u'NM',\n",
       "   u'USA',\n",
       "   u'35.0402222',\n",
       "   u'-106.60919']),\n",
       " (u'ABQ',\n",
       "  [u'ABQ',\n",
       "   u'Albuquerque International',\n",
       "   u'Albuquerque',\n",
       "   u'NM',\n",
       "   u'USA',\n",
       "   u'35.0402222',\n",
       "   u'-106.60919']),\n",
       " (u'ABQ',\n",
       "  [u'ABQ',\n",
       "   u'Albuquerque International',\n",
       "   u'Albuquerque',\n",
       "   u'NM',\n",
       "   u'USA',\n",
       "   u'35.04022222',\n",
       "   u'-106.6091944']),\n",
       " (u'ABR',\n",
       "  [u'ABR',\n",
       "   u'Aberdeen Regional',\n",
       "   u'Aberdeen',\n",
       "   u'SD',\n",
       "   u'USA',\n",
       "   u'45.44905556',\n",
       "   u'-98.42183333']),\n",
       " (u'ABY',\n",
       "  [u'ABY',\n",
       "   u'Southwest Georgia Regional',\n",
       "   u'Albany',\n",
       "   u'GA',\n",
       "   u'USA',\n",
       "   u'31.535515',\n",
       "   u'-84.19447333']),\n",
       " (u'ACK',\n",
       "  [u'ACK',\n",
       "   u'Nantucket Memorial',\n",
       "   u'Nantucket',\n",
       "   u'MA',\n",
       "   u'USA',\n",
       "   u'41.25305194',\n",
       "   u'-70.06018139']),\n",
       " (u'ACT',\n",
       "  [u'ACT',\n",
       "   u'Waco Regional',\n",
       "   u'Waco',\n",
       "   u'TX',\n",
       "   u'USA',\n",
       "   u'31.61128833',\n",
       "   u'-97.23051917']),\n",
       " (u'ACV',\n",
       "  [u'ACV',\n",
       "   u'Arcata',\n",
       "   u'Arcata Eureka',\n",
       "   u'CA',\n",
       "   u'USA',\n",
       "   u'40.97811528',\n",
       "   u'-124.1086189'])]"
      ]
     },
     "execution_count": 29,
     "metadata": {},
     "output_type": "execute_result"
    }
   ],
   "source": [
    "# sortByKey\n",
    "air_ports = sc.textFile(AIRPORTS)\n",
    "airlines = rdd.map(lambda line: line.split(','))\n",
    "airlines = lines.filter(lambda cols: cols[0]!='IATA')\n",
    "pair = airlines.map(lambda line: (line[0], line))\n",
    "pair.sortByKey().take(10)"
   ]
  },
  {
   "cell_type": "code",
   "execution_count": 30,
   "metadata": {},
   "outputs": [
    {
     "data": {
      "text/plain": [
       "defaultdict(int,\n",
       "            {u'ABE': 1,\n",
       "             u'ABI': 1,\n",
       "             u'ABQ': 3,\n",
       "             u'ABR': 1,\n",
       "             u'ABY': 1,\n",
       "             u'ACK': 1,\n",
       "             u'ACT': 1,\n",
       "             u'ACV': 1,\n",
       "             u'ACY': 1,\n",
       "             u'ADK': 1,\n",
       "             u'ADQ': 1,\n",
       "             u'AEX': 1,\n",
       "             u'AGS': 1,\n",
       "             u'AKN': 1,\n",
       "             u'ALB': 1,\n",
       "             u'ALO': 1,\n",
       "             u'AMA': 1,\n",
       "             u'ANC': 3,\n",
       "             u'APN': 1,\n",
       "             u'ART': 1,\n",
       "             u'ASE': 1,\n",
       "             u'ATL': 2,\n",
       "             u'ATW': 1,\n",
       "             u'AUS': 2,\n",
       "             u'AVL': 1,\n",
       "             u'AVP': 1,\n",
       "             u'AZO': 1,\n",
       "             u'BDL': 2,\n",
       "             u'BET': 1,\n",
       "             u'BFL': 1,\n",
       "             u'BGM': 1,\n",
       "             u'BGR': 1,\n",
       "             u'BHM': 2,\n",
       "             u'BIL': 1,\n",
       "             u'BIS': 1,\n",
       "             u'BJI': 1,\n",
       "             u'BLI': 1,\n",
       "             u'BMI': 1,\n",
       "             u'BNA': 1,\n",
       "             u'BOI': 1,\n",
       "             u'BOS': 1,\n",
       "             u'BPT': 1,\n",
       "             u'BQK': 1,\n",
       "             u'BQN': 1,\n",
       "             u'BRD': 1,\n",
       "             u'BRO': 1,\n",
       "             u'BRW': 1,\n",
       "             u'BTM': 1,\n",
       "             u'BTR': 1,\n",
       "             u'BTV': 1,\n",
       "             u'BUF': 1,\n",
       "             u'BUR': 1,\n",
       "             u'BWI': 1,\n",
       "             u'BZN': 1,\n",
       "             u'CAE': 1,\n",
       "             u'CAK': 1,\n",
       "             u'CDC': 1,\n",
       "             u'CDV': 1,\n",
       "             u'CEC': 1,\n",
       "             u'CHA': 1,\n",
       "             u'CHO': 1,\n",
       "             u'CHS': 1,\n",
       "             u'CIC': 1,\n",
       "             u'CID': 1,\n",
       "             u'CIU': 1,\n",
       "             u'CLD': 1,\n",
       "             u'CLE': 1,\n",
       "             u'CLL': 1,\n",
       "             u'CLT': 1,\n",
       "             u'CMH': 1,\n",
       "             u'CMI': 1,\n",
       "             u'CMX': 1,\n",
       "             u'CNY': 1,\n",
       "             u'COD': 1,\n",
       "             u'COS': 1,\n",
       "             u'COU': 1,\n",
       "             u'CPR': 1,\n",
       "             u'CRP': 1,\n",
       "             u'CRW': 1,\n",
       "             u'CSG': 1,\n",
       "             u'CVG': 1,\n",
       "             u'CWA': 1,\n",
       "             u'CYS': 1,\n",
       "             u'DAB': 1,\n",
       "             u'DAL': 1,\n",
       "             u'DAY': 1,\n",
       "             u'DBQ': 1,\n",
       "             u'DCA': 1,\n",
       "             u'DEN': 1,\n",
       "             u'DFW': 1,\n",
       "             u'DHN': 1,\n",
       "             u'DIK': 1,\n",
       "             u'DLG': 1,\n",
       "             u'DLH': 1,\n",
       "             u'DRO': 1,\n",
       "             u'DRT': 1,\n",
       "             u'DSM': 1,\n",
       "             u'DTW': 1,\n",
       "             u'DVL': 1,\n",
       "             u'EAU': 1,\n",
       "             u'EGE': 1,\n",
       "             u'EKO': 1,\n",
       "             u'ELM': 1,\n",
       "             u'ELP': 1,\n",
       "             u'ERI': 1,\n",
       "             u'ESC': 1,\n",
       "             u'EUG': 1,\n",
       "             u'EVV': 1,\n",
       "             u'EWN': 1,\n",
       "             u'EWR': 1,\n",
       "             u'EYW': 1,\n",
       "             u'FAI': 1,\n",
       "             u'FAR': 1,\n",
       "             u'FAT': 1,\n",
       "             u'FAY': 1,\n",
       "             u'FCA': 1,\n",
       "             u'FLG': 1,\n",
       "             u'FLL': 1,\n",
       "             u'FLO': 1,\n",
       "             u'FNT': 1,\n",
       "             u'FOE': 1,\n",
       "             u'FSD': 1,\n",
       "             u'FSM': 1,\n",
       "             u'FWA': 1,\n",
       "             u'GCC': 1,\n",
       "             u'GCK': 1,\n",
       "             u'GEG': 1,\n",
       "             u'GFK': 1,\n",
       "             u'GGG': 1,\n",
       "             u'GJT': 1,\n",
       "             u'GNV': 1,\n",
       "             u'GPT': 1,\n",
       "             u'GRB': 1,\n",
       "             u'GRI': 1,\n",
       "             u'GRK': 1,\n",
       "             u'GRR': 1,\n",
       "             u'GSO': 1,\n",
       "             u'GSP': 1,\n",
       "             u'GST': 1,\n",
       "             u'GTF': 1,\n",
       "             u'GTR': 1,\n",
       "             u'GUC': 1,\n",
       "             u'GUM': 1,\n",
       "             u'HDN': 1,\n",
       "             u'HIB': 1,\n",
       "             u'HLN': 1,\n",
       "             u'HNL': 1,\n",
       "             u'HOB': 1,\n",
       "             u'HOU': 1,\n",
       "             u'HPN': 1,\n",
       "             u'HRL': 1,\n",
       "             u'HSV': 1,\n",
       "             u'HTS': 1,\n",
       "             u'HYA': 1,\n",
       "             u'HYS': 1,\n",
       "             u'IAD': 1,\n",
       "             u'IAH': 1,\n",
       "             u'ICT': 1,\n",
       "             u'IDA': 1,\n",
       "             u'ILG': 1,\n",
       "             u'ILM': 1,\n",
       "             u'IMT': 1,\n",
       "             u'IND': 1,\n",
       "             u'INL': 1,\n",
       "             u'IPL': 1,\n",
       "             u'ISN': 1,\n",
       "             u'ISP': 1,\n",
       "             u'ITH': 1,\n",
       "             u'ITO': 1,\n",
       "             u'IYK': 1,\n",
       "             u'JAC': 1,\n",
       "             u'JAN': 1,\n",
       "             u'JAX': 1,\n",
       "             u'JFK': 1,\n",
       "             u'JLN': 1,\n",
       "             u'JMS': 1,\n",
       "             u'JNU': 1,\n",
       "             u'KOA': 1,\n",
       "             u'KTN': 1,\n",
       "             u'LAN': 1,\n",
       "             u'LAR': 1,\n",
       "             u'LAS': 1,\n",
       "             u'LAW': 1,\n",
       "             u'LAX': 1,\n",
       "             u'LBB': 1,\n",
       "             u'LCH': 1,\n",
       "             u'LEX': 1,\n",
       "             u'LFT': 1,\n",
       "             u'LGA': 1,\n",
       "             u'LGB': 1,\n",
       "             u'LIH': 1,\n",
       "             u'LIT': 1,\n",
       "             u'LMT': 1,\n",
       "             u'LNK': 1,\n",
       "             u'LRD': 1,\n",
       "             u'LSE': 1,\n",
       "             u'LWB': 1,\n",
       "             u'LWS': 1,\n",
       "             u'LYH': 1,\n",
       "             u'MAF': 1,\n",
       "             u'MBS': 1,\n",
       "             u'MCI': 1,\n",
       "             u'MCN': 1,\n",
       "             u'MCO': 1,\n",
       "             u'MDT': 1,\n",
       "             u'MDW': 1,\n",
       "             u'MEI': 1,\n",
       "             u'MEM': 1,\n",
       "             u'MFE': 1,\n",
       "             u'MFR': 1,\n",
       "             u'MGM': 1,\n",
       "             u'MHK': 1,\n",
       "             u'MHT': 1,\n",
       "             u'MIA': 1,\n",
       "             u'MKE': 1,\n",
       "             u'MKG': 1,\n",
       "             u'MLB': 1,\n",
       "             u'MLI': 1,\n",
       "             u'MLU': 1,\n",
       "             u'MMH': 1,\n",
       "             u'MOB': 1,\n",
       "             u'MOD': 1,\n",
       "             u'MOT': 1,\n",
       "             u'MQT': 1,\n",
       "             u'MRY': 1,\n",
       "             u'MSN': 1,\n",
       "             u'MSO': 1,\n",
       "             u'MSP': 1,\n",
       "             u'MSY': 1,\n",
       "             u'MTJ': 1,\n",
       "             u'MVY': 1,\n",
       "             u'MWH': 1,\n",
       "             u'MYR': 1,\n",
       "             u'OAJ': 1,\n",
       "             u'OAK': 1,\n",
       "             u'OGG': 1,\n",
       "             u'OKC': 1,\n",
       "             u'OMA': 1,\n",
       "             u'OME': 1,\n",
       "             u'ONT': 1,\n",
       "             u'ORD': 1,\n",
       "             u'ORF': 1,\n",
       "             u'ORH': 1,\n",
       "             u'OTH': 1,\n",
       "             u'OTZ': 1,\n",
       "             u'OXR': 1,\n",
       "             u'PAH': 1,\n",
       "             u'PBI': 1,\n",
       "             u'PDX': 1,\n",
       "             u'PFN': 1,\n",
       "             u'PHF': 1,\n",
       "             u'PHL': 1,\n",
       "             u'PHX': 1,\n",
       "             u'PIA': 1,\n",
       "             u'PIB': 1,\n",
       "             u'PIE': 1,\n",
       "             u'PIH': 1,\n",
       "             u'PIR': 1,\n",
       "             u'PIT': 1,\n",
       "             u'PLN': 1,\n",
       "             u'PNS': 1,\n",
       "             u'PPG': 1,\n",
       "             u'PSC': 1,\n",
       "             u'PSE': 1,\n",
       "             u'PSG': 1,\n",
       "             u'PSP': 1,\n",
       "             u'PUB': 1,\n",
       "             u'PVD': 1,\n",
       "             u'PWM': 1,\n",
       "             u'RAP': 1,\n",
       "             u'RDD': 1,\n",
       "             u'RDM': 1,\n",
       "             u'RDU': 1,\n",
       "             u'RFD': 1,\n",
       "             u'RHI': 1,\n",
       "             u'RIC': 1,\n",
       "             u'RKS': 1,\n",
       "             u'RNO': 1,\n",
       "             u'ROA': 1,\n",
       "             u'ROC': 1,\n",
       "             u'ROW': 1,\n",
       "             u'RST': 1,\n",
       "             u'RSW': 1,\n",
       "             u'SAF': 1,\n",
       "             u'SAN': 1,\n",
       "             u'SAT': 1,\n",
       "             u'SAV': 1,\n",
       "             u'SBA': 1,\n",
       "             u'SBN': 1,\n",
       "             u'SBP': 1,\n",
       "             u'SCC': 1,\n",
       "             u'SCE': 1,\n",
       "             u'SDF': 1,\n",
       "             u'SEA': 1,\n",
       "             u'SFO': 1,\n",
       "             u'SGF': 1,\n",
       "             u'SGU': 1,\n",
       "             u'SHD': 1,\n",
       "             u'SHV': 1,\n",
       "             u'SIT': 1,\n",
       "             u'SJC': 1,\n",
       "             u'SJT': 1,\n",
       "             u'SJU': 1,\n",
       "             u'SLC': 1,\n",
       "             u'SMF': 1,\n",
       "             u'SMX': 1,\n",
       "             u'SNA': 1,\n",
       "             u'SPI': 1,\n",
       "             u'SPN': 1,\n",
       "             u'SPS': 1,\n",
       "             u'SRQ': 1,\n",
       "             u'STC': 1,\n",
       "             u'STL': 1,\n",
       "             u'STT': 1,\n",
       "             u'STX': 1,\n",
       "             u'SUN': 1,\n",
       "             u'SUX': 1,\n",
       "             u'SWF': 1,\n",
       "             u'SYR': 1,\n",
       "             u'TEX': 1,\n",
       "             u'TLH': 1,\n",
       "             u'TOL': 1,\n",
       "             u'TPA': 1,\n",
       "             u'TRI': 1,\n",
       "             u'TTN': 1,\n",
       "             u'TUL': 1,\n",
       "             u'TUP': 1,\n",
       "             u'TUS': 1,\n",
       "             u'TVC': 1,\n",
       "             u'TWF': 1,\n",
       "             u'TXK': 1,\n",
       "             u'TYR': 1,\n",
       "             u'TYS': 1,\n",
       "             u'VEL': 1,\n",
       "             u'VLD': 1,\n",
       "             u'VPS': 1,\n",
       "             u'WRG': 1,\n",
       "             u'WYS': 1,\n",
       "             u'XNA': 1,\n",
       "             u'YAK': 1,\n",
       "             u'YUM': 1})"
      ]
     },
     "execution_count": 30,
     "metadata": {},
     "output_type": "execute_result"
    }
   ],
   "source": [
    "# countByKey\n",
    "pair.countByKey()"
   ]
  },
  {
   "cell_type": "code",
   "execution_count": 31,
   "metadata": {},
   "outputs": [
    {
     "data": {
      "text/plain": [
       "[(u'a', u'Apache'),\n",
       " (u'i', u'is'),\n",
       " (u'g', u'general'),\n",
       " (u'c', u'cluster'),\n",
       " (u'p', u'provides'),\n",
       " (u'h', u'high-level'),\n",
       " (u'h', u'high-level'),\n",
       " (u'a', u'APIs'),\n",
       " (u'i', u'in'),\n",
       " (u'i', u'in'),\n",
       " (u'p', u'Python,'),\n",
       " (u'p', u'Python,'),\n",
       " (u'r', u'R,'),\n",
       " (u'o', u'optimized'),\n",
       " (u'o', u'optimized'),\n",
       " (u'd', u'data'),\n",
       " (u'a', u'analysis.'),\n",
       " (u'a', u'also'),\n",
       " (u'o', u'of'),\n",
       " (u'h', u'higher-level'),\n",
       " (u'i', u'including'),\n",
       " (u's', u'Spark'),\n",
       " (u's', u'Spark'),\n",
       " (u's', u'SQL'),\n",
       " (u'm', u'MLlib'),\n",
       " (u'm', u'machine'),\n",
       " (u'l', u'learning,'),\n",
       " (u'l', u'learning,'),\n",
       " (u's', u'Streaming'),\n",
       " (u's', u'stream'),\n",
       " (u'<', u'<http://spark.apache.org/>'),\n",
       " (u'y', u'You'),\n",
       " (u'c', u'can'),\n",
       " (u'c', u'can'),\n",
       " (u'c', u'can'),\n",
       " (u'l', u'latest'),\n",
       " (u'd', u'documentation,'),\n",
       " (u'o', u'on'),\n",
       " (u't', u'the'),\n",
       " (u'[', u'[project'),\n",
       " (u'[', u'[project'),\n",
       " (u'p', u'page](http://spark.apache.org/documentation.html).'),\n",
       " (u'r', u'README'),\n",
       " (u'r', u'README'),\n",
       " (u'i', u'instructions.'),\n",
       " (u'#', u'##'),\n",
       " (u'i', u'is'),\n",
       " (u'[', u'[Apache'),\n",
       " (u'm', u'Maven](http://maven.apache.org/).'),\n",
       " (u'm', u'Maven](http://maven.apache.org/).'),\n",
       " (u'm', u'Maven](http://maven.apache.org/).'),\n",
       " (u'm', u'Maven](http://maven.apache.org/).'),\n",
       " (u'a', u'and'),\n",
       " (u'a', u'and'),\n",
       " (u'i', u'its'),\n",
       " (u'p', u'programs,'),\n",
       " (u'r', u'run:'),\n",
       " (u'r', u'run:'),\n",
       " (u'c', u'clean'),\n",
       " (u'p', u'package'),\n",
       " (u'(', u'(You'),\n",
       " (u'n', u'not'),\n",
       " (u'y', u'you'),\n",
       " (u'y', u'you'),\n",
       " (u'y', u'you'),\n",
       " (u'p', u'pre-built'),\n",
       " (u'c', u'can'),\n",
       " (u'm', u'more'),\n",
       " (u'o', u'option'),\n",
       " (u'i', u'is'),\n",
       " (u'a', u'available'),\n",
       " (u't', u'the'),\n",
       " (u'p', u'project'),\n",
       " (u'p', u'project'),\n",
       " (u'd', u'development'),\n",
       " (u'o', u'on'),\n",
       " (u's', u'Spark'),\n",
       " (u'a', u'an'),\n",
       " (u'a', u'an'),\n",
       " (u'i', u'IDE,'),\n",
       " (u'[', u'[\"Useful'),\n",
       " (u'd', u'Developer'),\n",
       " (u'd', u'Developer'),\n",
       " (u't', u'Tools\"](http://spark.apache.org/developer-tools.html).'),\n",
       " (u't', u'The'),\n",
       " (u'w', u'way'),\n",
       " (u't', u'to'),\n",
       " (u's', u'start'),\n",
       " (u'u', u'using'),\n",
       " (u'i', u'is'),\n",
       " (u's', u'Scala'),\n",
       " (u's', u'shell:'),\n",
       " (u's', u'shell:'),\n",
       " (u'#', u'##'),\n",
       " (u'i', u'Interactive'),\n",
       " (u'y', u'you'),\n",
       " (u'p', u'Python,'),\n",
       " (u'y', u'you'),\n",
       " (u'y', u'you'),\n",
       " (u'u', u'use'),\n",
       " (u't', u'the'),\n",
       " (u'p', u'Python'),\n",
       " (u'a', u'And'),\n",
       " (u'r', u'run'),\n",
       " (u'r', u'run'),\n",
       " (u'r', u'run'),\n",
       " (u'w', u'which'),\n",
       " (u's', u'sc.parallelize(range(1000)).count()'),\n",
       " (u'p', u'Programs'),\n",
       " (u'p', u'Programs'),\n",
       " (u's', u'Spark'),\n",
       " (u'a', u'also'),\n",
       " (u'w', u'with'),\n",
       " (u'w', u'with'),\n",
       " (u's', u'several'),\n",
       " (u'd', u'directory.'),\n",
       " (u'o', u'one'),\n",
       " (u'u', u'use'),\n",
       " (u'u', u'use'),\n",
       " (u'<', u'<class>'),\n",
       " (u'[', u'[params]`.'),\n",
       " (u'r', u'run'),\n",
       " (u'c', u'can'),\n",
       " (u'm', u'MASTER'),\n",
       " (u'v', u'variable'),\n",
       " (u'r', u'running'),\n",
       " (u'r', u'running'),\n",
       " (u't', u'to'),\n",
       " (u'c', u'can'),\n",
       " (u'c', u'can'),\n",
       " (u'a', u'a'),\n",
       " (u'm', u'mesos://'),\n",
       " (u'o', u'or'),\n",
       " (u'o', u'or'),\n",
       " (u'\"', u'\"yarn\"'),\n",
       " (u't', u'to'),\n",
       " (u't', u'to'),\n",
       " (u'o', u'on'),\n",
       " (u'r', u'run'),\n",
       " (u'o', u'one'),\n",
       " (u'o', u'or'),\n",
       " (u'o', u'or'),\n",
       " (u'\"', u'\"local[N]\"'),\n",
       " (u'l', u'locally'),\n",
       " (u'l', u'locally'),\n",
       " (u'c', u'can'),\n",
       " (u'c', u'class'),\n",
       " (u'c', u'class'),\n",
       " (u'i', u'if'),\n",
       " (u't', u'the'),\n",
       " (u't', u'the'),\n",
       " (u'c', u'class'),\n",
       " (u'p', u'programs'),\n",
       " (u'p', u'params'),\n",
       " (u'p', u'params'),\n",
       " (u't', u'Testing'),\n",
       " (u'r', u'requires'),\n",
       " (u'r', u'requires'),\n",
       " (u'o', u'Once'),\n",
       " (u'o', u'Once'),\n",
       " (u'o', u'Once'),\n",
       " (u't', u'tests'),\n",
       " (u'c', u'can'),\n",
       " (u'r', u'run'),\n",
       " (u'r', u'run'),\n",
       " (u'r', u'run'),\n",
       " (u'r', u'run'),\n",
       " (u'r', u'run'),\n",
       " (u'h', u'how'),\n",
       " (u'h', u'how'),\n",
       " (u't', u'to'),\n",
       " (u't', u'to'),\n",
       " (u't', u'to'),\n",
       " (u'm', u'module,'),\n",
       " (u'm', u'module,'),\n",
       " (u'm', u'module,'),\n",
       " (u'o', u'or'),\n",
       " (u'o', u'or'),\n",
       " (u'i', u'individual'),\n",
       " (u'i', u'individual'),\n",
       " (u't',\n",
       "  u'tests](http://spark.apache.org/developer-tools.html#individual-tests).'),\n",
       " (u'i', u'is'),\n",
       " (u'a', u'also'),\n",
       " (u'a', u'also'),\n",
       " (u'k', u'Kubernetes'),\n",
       " (u'k', u'Kubernetes'),\n",
       " (u's', u'see'),\n",
       " (u'#', u'##'),\n",
       " (u'#', u'##'),\n",
       " (u'v', u'Versions'),\n",
       " (u'v', u'Versions'),\n",
       " (u's', u'Spark'),\n",
       " (u'u', u'uses'),\n",
       " (u'u', u'uses'),\n",
       " (u'l', u'library'),\n",
       " (u't', u'to'),\n",
       " (u'h', u'HDFS'),\n",
       " (u'a', u'and'),\n",
       " (u'o', u'other'),\n",
       " (u'o', u'other'),\n",
       " (u'h', u'Hadoop-supported'),\n",
       " (u't', u'the'),\n",
       " (u'h', u'have'),\n",
       " (u'h', u'have'),\n",
       " (u'c', u'changed'),\n",
       " (u'i', u'in'),\n",
       " (u'h', u'Hadoop,'),\n",
       " (u'h', u'Hadoop,'),\n",
       " (u'y', u'you'),\n",
       " (u'y', u'you'),\n",
       " (u'm', u'must'),\n",
       " (u'v', u'version'),\n",
       " (u'v', u'version'),\n",
       " (u'v', u'version'),\n",
       " (u'v', u'version'),\n",
       " (u'y', u'your'),\n",
       " (u'y', u'your'),\n",
       " (u'r', u'runs.'),\n",
       " (u't', u'the'),\n",
       " (u't', u'the'),\n",
       " (u'd', u'documentation'),\n",
       " (u'a', u'at'),\n",
       " (u'a', u'at'),\n",
       " (u'[', u'[\"Specifying'),\n",
       " (u'h', u'Hadoop'),\n",
       " (u'h', u'Hadoop'),\n",
       " (u'h', u'Hadoop,'),\n",
       " (u'b', u'building'),\n",
       " (u'f', u'for'),\n",
       " (u'a', u'and'),\n",
       " (u'd', u'distributions.'),\n",
       " (u'd', u'distributions.'),\n",
       " (u'c', u'Configuration'),\n",
       " (u'c', u'Configuration'),\n",
       " (u'g', u'Guide](http://spark.apache.org/docs/latest/configuration.html)'),\n",
       " (u'i', u'in'),\n",
       " (u't', u'the'),\n",
       " (u'o', u'online'),\n",
       " (u'a', u'an'),\n",
       " (u'o', u'on'),\n",
       " (u'p', u'Please'),\n",
       " (u'r', u'review'),\n",
       " (u'o', u'on'),\n",
       " (u'o', u'on'),\n",
       " (u'h', u'how'),\n",
       " (u'g', u'get'),\n",
       " (u'c', u'contributing'),\n",
       " (u'c', u'contributing'),\n",
       " (u't', u'to')]"
      ]
     },
     "execution_count": 31,
     "metadata": {},
     "output_type": "execute_result"
    }
   ],
   "source": [
    "# sampleByKey (deterministic(T/F), fraction, seed)\n",
    "distinctChars = words.flatMap(lambda word: list(word.lower())).distinct().collect()\n",
    "sampleMap = dict(map(lambda c: (c, random.random()), distinctChars))\n",
    "words.map(lambda word: (word.lower()[0], word)).sampleByKey(True, sampleMap, 6).collect()"
   ]
  },
  {
   "cell_type": "markdown",
   "metadata": {},
   "source": [
    "# RDD Functions - Math / Statistical"
   ]
  },
  {
   "cell_type": "markdown",
   "metadata": {},
   "source": [
    "    min, max, mean, sum, variance, stats"
   ]
  },
  {
   "cell_type": "code",
   "execution_count": 32,
   "metadata": {},
   "outputs": [
    {
     "data": {
      "text/plain": [
       "(-12, 84, 13.6, 136, 688.6400000000001, 26.241951146970763)"
      ]
     },
     "execution_count": 32,
     "metadata": {},
     "output_type": "execute_result"
    }
   ],
   "source": [
    "rdd_num = sc.parallelize([9,1,8,7,6,-12,0,84,36,-3])\n",
    "rdd_num.min(), rdd_num.max(), rdd_num.mean(), rdd_num.sum(), rdd_num.variance(), rdd_num.stdev()"
   ]
  },
  {
   "cell_type": "code",
   "execution_count": 33,
   "metadata": {},
   "outputs": [
    {
     "data": {
      "text/plain": [
       "(count: 10, mean: 13.6, stdev: 26.241951146970763, max: 84.0, min: -12.0)"
      ]
     },
     "execution_count": 33,
     "metadata": {},
     "output_type": "execute_result"
    }
   ],
   "source": [
    "rdd_num.stats() # returns : count, mean, stdev, max, min"
   ]
  },
  {
   "cell_type": "markdown",
   "metadata": {},
   "source": [
    "**Note**, функции mean, sum, variance, stdev работают только для числовых данных. Min/Max могу быть выполнены на всех типах: str, int, float и mixed types."
   ]
  },
  {
   "cell_type": "code",
   "execution_count": 34,
   "metadata": {},
   "outputs": [
    {
     "data": {
      "text/plain": [
       "('b', 1)"
      ]
     },
     "execution_count": 34,
     "metadata": {},
     "output_type": "execute_result"
    }
   ],
   "source": [
    "d = sc.parallelize(['a','b',1,2,6,9.0])\n",
    "d.max(), d.min()"
   ]
  },
  {
   "cell_type": "code",
   "execution_count": 35,
   "metadata": {
    "collapsed": true
   },
   "outputs": [],
   "source": [
    "#d.sum(), d.mean()"
   ]
  },
  {
   "cell_type": "code",
   "execution_count": 36,
   "metadata": {
    "collapsed": true
   },
   "outputs": [],
   "source": [
    "d = sc.parallelize([1,2,6,9.0])"
   ]
  },
  {
   "cell_type": "markdown",
   "metadata": {},
   "source": [
    "# RDD Functions"
   ]
  },
  {
   "cell_type": "markdown",
   "metadata": {},
   "source": [
    "    intersection, union, join, cartesian, subtract, subtractByKey, leftOuterJoin, rightOuterJoin, fullOuterJoin, cogroup"
   ]
  },
  {
   "cell_type": "code",
   "execution_count": 37,
   "metadata": {},
   "outputs": [
    {
     "data": {
      "text/plain": [
       "[1, 2, 3]"
      ]
     },
     "execution_count": 37,
     "metadata": {},
     "output_type": "execute_result"
    }
   ],
   "source": [
    "# intersection\n",
    "rdd1 = sc.parallelize([1, 10, 2, 3, 4, 5])\n",
    "rdd2 = sc.parallelize([1, 6, 2, 3, 7, 8])\n",
    "rdd1.intersection(rdd2).collect()"
   ]
  },
  {
   "cell_type": "code",
   "execution_count": 38,
   "metadata": {},
   "outputs": [
    {
     "data": {
      "text/plain": [
       "[8, 4, 1, 5, 10, 2, 6, 3, 7]"
      ]
     },
     "execution_count": 38,
     "metadata": {},
     "output_type": "execute_result"
    }
   ],
   "source": [
    "# union\n",
    "rdd1.union(rdd2).distinct().collect()"
   ]
  },
  {
   "cell_type": "code",
   "execution_count": 39,
   "metadata": {},
   "outputs": [
    {
     "data": {
      "text/plain": [
       "12"
      ]
     },
     "execution_count": 39,
     "metadata": {},
     "output_type": "execute_result"
    }
   ],
   "source": [
    "# cartesian\n",
    "cart1 = sc.parallelize([('a',72),('b',42),('a',24)]) # N records\n",
    "cart2 = sc.parallelize([('b',12),('a',24),('d',12),('e', 30)]) # M records\n",
    "cart1.cartesian(cart2).count() # N * M records"
   ]
  },
  {
   "cell_type": "code",
   "execution_count": 40,
   "metadata": {},
   "outputs": [
    {
     "name": "stdout",
     "output_type": "stream",
     "text": [
      "[('a', 72), ('b', 42)]\n",
      "[('e', 30), ('b', 12), ('d', 12)]\n"
     ]
    }
   ],
   "source": [
    "# subtract\n",
    "print(cart1.subtract(cart2).collect())\n",
    "print(cart2.subtract(cart1).collect())"
   ]
  },
  {
   "cell_type": "code",
   "execution_count": 41,
   "metadata": {},
   "outputs": [
    {
     "name": "stdout",
     "output_type": "stream",
     "text": [
      "[]\n",
      "[('e', 30), ('d', 12)]\n"
     ]
    }
   ],
   "source": [
    "# subtractByKey\n",
    "print(cart1.subtractByKey(cart2).collect())\n",
    "print(cart2.subtractByKey(cart1).collect())"
   ]
  },
  {
   "cell_type": "code",
   "execution_count": 42,
   "metadata": {
    "collapsed": true
   },
   "outputs": [],
   "source": [
    "# Dataset 1 : k-v pairs\n",
    "d1 = sc.parallelize([(\"a\", 1), (\"b\", 4), (\"b\", 3)])\n",
    "\n",
    "# Dataset 2 : k-v pairs\n",
    "d2 = sc.parallelize([(\"a\", 2), (\"c\", 8), (\"a\", 3)], 3)"
   ]
  },
  {
   "cell_type": "code",
   "execution_count": 43,
   "metadata": {},
   "outputs": [
    {
     "data": {
      "text/plain": [
       "2"
      ]
     },
     "execution_count": 43,
     "metadata": {},
     "output_type": "execute_result"
    }
   ],
   "source": [
    "d1.getNumPartitions()"
   ]
  },
  {
   "cell_type": "code",
   "execution_count": 44,
   "metadata": {},
   "outputs": [
    {
     "data": {
      "text/plain": [
       "3"
      ]
     },
     "execution_count": 44,
     "metadata": {},
     "output_type": "execute_result"
    }
   ],
   "source": [
    "d2.getNumPartitions()"
   ]
  },
  {
   "cell_type": "code",
   "execution_count": 45,
   "metadata": {},
   "outputs": [
    {
     "data": {
      "text/plain": [
       "[('a', (1, 2)), ('a', (1, 3))]"
      ]
     },
     "execution_count": 45,
     "metadata": {},
     "output_type": "execute_result"
    }
   ],
   "source": [
    "# join : просто join == inner join \n",
    "sorted(d1.join(d2).collect())"
   ]
  },
  {
   "cell_type": "code",
   "execution_count": 46,
   "metadata": {},
   "outputs": [
    {
     "data": {
      "text/plain": [
       "[('a', (1, 2)), ('a', (1, 3)), ('b', (3, None)), ('b', (4, None))]"
      ]
     },
     "execution_count": 46,
     "metadata": {},
     "output_type": "execute_result"
    }
   ],
   "source": [
    "# leftOuterJoin \n",
    "sorted(d1.leftOuterJoin(d2).collect())"
   ]
  },
  {
   "cell_type": "code",
   "execution_count": 47,
   "metadata": {},
   "outputs": [
    {
     "data": {
      "text/plain": [
       "[('a', (1, 2)), ('a', (1, 3)), ('c', (None, 8))]"
      ]
     },
     "execution_count": 47,
     "metadata": {},
     "output_type": "execute_result"
    }
   ],
   "source": [
    "# rightOuterJoin\n",
    "sorted(d1.rightOuterJoin(d2).collect())"
   ]
  },
  {
   "cell_type": "code",
   "execution_count": 48,
   "metadata": {},
   "outputs": [
    {
     "data": {
      "text/plain": [
       "[('a', (1, 2)),\n",
       " ('a', (1, 3)),\n",
       " ('b', (3, None)),\n",
       " ('b', (4, None)),\n",
       " ('c', (None, 8))]"
      ]
     },
     "execution_count": 48,
     "metadata": {},
     "output_type": "execute_result"
    }
   ],
   "source": [
    "# fullOuterJoin\n",
    "sorted(d1.fullOuterJoin(d2).collect())"
   ]
  },
  {
   "cell_type": "code",
   "execution_count": 49,
   "metadata": {},
   "outputs": [
    {
     "data": {
      "text/plain": [
       "[('a', ([1], [2, 3])), ('b', ([4, 3], [])), ('c', ([], [8]))]"
      ]
     },
     "execution_count": 49,
     "metadata": {},
     "output_type": "execute_result"
    }
   ],
   "source": [
    "# cogroup: равнозначно FULL OUTER JOIN \n",
    "[(a, tuple(map(list, b))) for a, b in sorted(list(d1.cogroup(d2).collect()))]"
   ]
  },
  {
   "cell_type": "markdown",
   "metadata": {},
   "source": [
    "# RDD Actions"
   ]
  },
  {
   "cell_type": "markdown",
   "metadata": {},
   "source": [
    "### first, count, collect, take, top, reduce, takeOrdered, countByValue, countByKey"
   ]
  },
  {
   "cell_type": "code",
   "execution_count": 50,
   "metadata": {},
   "outputs": [
    {
     "name": "stdout",
     "output_type": "stream",
     "text": [
      "[20, 15, 4]\n",
      "['python', 'python', 'hi']\n",
      "hello\n"
     ]
    }
   ],
   "source": [
    "# top : (если результат ожидаемо мал)\n",
    "rdd_num = sc.parallelize([1, 20, -3, 4, 15])\n",
    "print(rdd_num.top(3))\n",
    "words = sc.parallelize(['hello', 'python', 'anaconda', 'hi', 'python', 'anaconda'])\n",
    "print(words.top(3))\n",
    "print(words.first())"
   ]
  },
  {
   "cell_type": "code",
   "execution_count": 51,
   "metadata": {},
   "outputs": [
    {
     "name": "stdout",
     "output_type": "stream",
     "text": [
      "19\n",
      "360\n"
     ]
    }
   ],
   "source": [
    "# reduce\n",
    "rdd_num = sc.parallelize([1, 6, 3, 4, 5])\n",
    "print(rdd_num.sum())\n",
    "print(rdd_num.reduce(mul))"
   ]
  },
  {
   "cell_type": "code",
   "execution_count": 52,
   "metadata": {},
   "outputs": [
    {
     "data": {
      "text/plain": [
       "[-3, 1, 4, 15]"
      ]
     },
     "execution_count": 52,
     "metadata": {},
     "output_type": "execute_result"
    }
   ],
   "source": [
    "# takeOrdered\n",
    "rdd_num = sc.parallelize([1, 20, -3, 4, 15])\n",
    "rdd_num.takeOrdered(4)"
   ]
  },
  {
   "cell_type": "code",
   "execution_count": 53,
   "metadata": {},
   "outputs": [
    {
     "name": "stdout",
     "output_type": "stream",
     "text": [
      "defaultdict(<type 'int'>, {'python': 2, 'hi': 1, 'hello': 1, 'anaconda': 2})\n"
     ]
    },
    {
     "data": {
      "text/plain": [
       "[('anaconda', 2), ('hello', 1), ('hi', 1), ('python', 2)]"
      ]
     },
     "execution_count": 53,
     "metadata": {},
     "output_type": "execute_result"
    }
   ],
   "source": [
    "# countByValue : returns (value, count)\n",
    "words = sc.parallelize(['hello', 'python', 'anaconda', 'hi', 'python', 'anaconda'])\n",
    "print(words.countByValue())\n",
    "sorted(words.countByValue().items())"
   ]
  },
  {
   "cell_type": "code",
   "execution_count": 54,
   "metadata": {},
   "outputs": [
    {
     "data": {
      "text/plain": [
       "[('a', 1), ('b', 2)]"
      ]
     },
     "execution_count": 54,
     "metadata": {},
     "output_type": "execute_result"
    }
   ],
   "source": [
    "# countByKey\n",
    "d1 = sc.parallelize([(\"a\", 1), (\"b\", 4), (\"b\", 3)], 3)\n",
    "sorted(d1.countByKey().items())"
   ]
  },
  {
   "cell_type": "markdown",
   "metadata": {},
   "source": [
    "# RDD Functions - Дополнение"
   ]
  },
  {
   "cell_type": "markdown",
   "metadata": {},
   "source": [
    "### countApprox, coalesce, zip, persist, sample, toDebugString, unpersist"
   ]
  },
  {
   "cell_type": "code",
   "execution_count": null,
   "metadata": {
    "collapsed": true
   },
   "outputs": [],
   "source": [
    "# countApprox(timeout, confidence=0.95)\n",
    "# примерные count(), возвращает приблизительное кол-во объектов, что быстрее чем считать всё\n",
    "rdd = sc.parallelize(range(10,1000,10), 10)\n",
    "print(rdd.count())\n",
    "print(rdd.countApprox(6, 0.8))\n",
    "rdd.getNumPartitions()"
   ]
  },
  {
   "cell_type": "code",
   "execution_count": null,
   "metadata": {
    "collapsed": true
   },
   "outputs": [],
   "source": [
    "# coalesce :возвращает новый RDD с меньшим кол-вом партиции\n",
    "# coalesce(numPartitions, shuffle=False)\n",
    "\n",
    "orig = sc.parallelize([1, 2, 3, 4, 5], 3)\n",
    "new = orig.coalesce(2)\n",
    "\n",
    "print(orig.glom().collect())\n",
    "print(new.glom().collect())\n",
    "new.getNumPartitions()"
   ]
  },
  {
   "cell_type": "code",
   "execution_count": 56,
   "metadata": {},
   "outputs": [
    {
     "name": "stdout",
     "output_type": "stream",
     "text": [
      "[0, 1, 2, 3, 4, 5, 6, 7, 8, 9, 10]\n"
     ]
    },
    {
     "data": {
      "text/plain": [
       "[('Python', 0),\n",
       " ('is', 1),\n",
       " ('one', 2),\n",
       " ('of', 3),\n",
       " ('the', 4),\n",
       " ('programming', 5),\n",
       " ('languages', 6),\n",
       " ('supported', 7),\n",
       " ('by', 8),\n",
       " ('Apache', 9),\n",
       " ('Spark.', 10)]"
      ]
     },
     "execution_count": 56,
     "metadata": {},
     "output_type": "execute_result"
    }
   ],
   "source": [
    "# zip - объединяет 2 RDDs (одной длины)\n",
    "words = sc.parallelize(DATA_STR.split(' '))\n",
    "nums = sc.parallelize(range(words.count()))\n",
    "print(nums.collect())\n",
    "words.zip(nums).collect() "
   ]
  },
  {
   "cell_type": "code",
   "execution_count": 57,
   "metadata": {},
   "outputs": [
    {
     "name": "stdout",
     "output_type": "stream",
     "text": [
      "True\n"
     ]
    },
    {
     "data": {
      "text/plain": [
       "False"
      ]
     },
     "execution_count": 57,
     "metadata": {},
     "output_type": "execute_result"
    }
   ],
   "source": [
    "# persist (указывает, как кэшировать данные)\n",
    "readme = sc.textFile(README)\n",
    "readme.cache()\n",
    "print(readme.is_cached)\n",
    "readme.unpersist() # MEMORY_ONLY\n",
    "readme.is_cached"
   ]
  },
  {
   "cell_type": "code",
   "execution_count": 58,
   "metadata": {},
   "outputs": [
    {
     "data": {
      "text/plain": [
       "87"
      ]
     },
     "execution_count": 58,
     "metadata": {},
     "output_type": "execute_result"
    }
   ],
   "source": [
    "# sample(withReplacement, fraction, seed=None)\n",
    "rdd = sc.parallelize(range(1000), 10)\n",
    "rdd.sample(False, 0.1).count() "
   ]
  },
  {
   "cell_type": "code",
   "execution_count": 59,
   "metadata": {},
   "outputs": [
    {
     "data": {
      "text/plain": [
       "'(2) ParallelCollectionRDD[204] at parallelize at PythonRDD.scala:475 []'"
      ]
     },
     "execution_count": 59,
     "metadata": {},
     "output_type": "execute_result"
    }
   ],
   "source": [
    "# toDebugString : возвращает читаемую строчку конфигурации\n",
    "words.toDebugString()"
   ]
  },
  {
   "cell_type": "code",
   "execution_count": 60,
   "metadata": {},
   "outputs": [
    {
     "data": {
      "text/plain": [
       "False"
      ]
     },
     "execution_count": 60,
     "metadata": {},
     "output_type": "execute_result"
    }
   ],
   "source": [
    "# unpersist : удаление объектов из памяти\n",
    "readme.unpersist()\n",
    "readme.is_cached"
   ]
  },
  {
   "cell_type": "markdown",
   "metadata": {},
   "source": [
    "# Вечный пример - Word Count"
   ]
  },
  {
   "cell_type": "code",
   "execution_count": 61,
   "metadata": {
    "collapsed": true
   },
   "outputs": [],
   "source": [
    "rdd = sc.textFile(README)\n",
    "wc = rdd.flatMap(lambda line: line.split(' ')) \\\n",
    "        .map(lambda w: (w, 1)) \\\n",
    "        .reduceByKey(lambda a,b: a+b) \\\n",
    "        .map(lambda (a,b): (b,a)) \\\n",
    "        .sortByKey(ascending=False)\n",
    "\n",
    "# [ ('Spark', 10), ('Apache', 3), ('is', 20) ]\n",
    "# [ (10, 'Spark'), (3, 'Apache'), (20, 'is') ]\n",
    "\n",
    "output = wc.collect()"
   ]
  },
  {
   "cell_type": "code",
   "execution_count": 62,
   "metadata": {},
   "outputs": [
    {
     "name": "stdout",
     "output_type": "stream",
     "text": [
      ": 72\n",
      "the: 24\n",
      "to: 17\n",
      "Spark: 16\n",
      "for: 12\n",
      "##: 9\n",
      "and: 9\n",
      "a: 9\n",
      "run: 7\n",
      "is: 7\n",
      "on: 7\n",
      "can: 7\n",
      "in: 6\n",
      "also: 5\n",
      "using: 5\n",
      "of: 5\n",
      "including: 4\n",
      "Please: 4\n",
      "see: 4\n",
      "with: 4\n",
      "You: 4\n",
      "you: 4\n",
      "an: 4\n",
      "if: 4\n",
      "build: 4\n",
      "For: 3\n",
      "use: 3\n",
      "Hadoop: 3\n",
      "or: 3\n",
      "one: 3\n",
      "general: 3\n",
      "example: 3\n",
      "how: 3\n",
      "documentation: 3\n",
      "guidance: 2\n",
      "return: 2\n",
      "supports: 2\n",
      "./bin/run-example: 2\n",
      "This: 2\n",
      "Hadoop,: 2\n",
      "building: 2\n",
      "shell:: 2\n",
      "following: 2\n",
      "detailed: 2\n",
      "tests: 2\n",
      "1000:: 2\n",
      "which: 2\n",
      "Hive: 2\n",
      "Python: 2\n",
      "Shell: 2\n",
      "should: 2\n",
      "Interactive: 2\n",
      "do: 2\n",
      "SQL: 2\n",
      "refer: 2\n",
      "set: 2\n",
      "examples: 2\n",
      "command,: 2\n",
      "be: 2\n",
      "Scala: 2\n",
      "`examples`: 2\n",
      "SparkPi: 2\n",
      "locally: 2\n",
      "It: 2\n",
      "that: 2\n",
      "particular: 2\n",
      "To: 2\n",
      "cluster: 2\n",
      "at: 2\n",
      "Python,: 2\n",
      "class: 2\n",
      "programs: 2\n",
      "help: 1\n",
      "-T: 1\n",
      "Testing: 1\n",
      "graph: 1\n",
      "high-level: 1\n",
      "find: 1\n",
      "web: 1\n",
      "Big: 1\n",
      "run:: 1\n",
      "module,: 1\n",
      "given.: 1\n",
      "directory.: 1\n",
      "than: 1\n",
      "get: 1\n",
      "Many: 1\n",
      "YARN,: 1\n",
      "Example: 1\n",
      "Once: 1\n",
      "HDFS: 1\n",
      "Because: 1\n",
      "name: 1\n",
      "versions: 1\n",
      "Streaming: 1\n",
      "(You: 1\n",
      "core: 1\n",
      "thread,: 1\n",
      "individual: 1\n",
      "runs.: 1\n",
      "Pi: 1\n",
      "More: 1\n",
      "[Configuration: 1\n",
      "Versions: 1\n",
      "integration: 1\n",
      "test,: 1\n",
      "Developer: 1\n",
      "version: 1\n",
      "proj: 1\n",
      "Configuration: 1\n",
      "`./bin/run-example: 1\n",
      "Guide](http://spark.apache.org/docs/latest/configuration.html): 1\n",
      "MASTER=spark://host:7077: 1\n",
      "Documentation: 1\n",
      "downloaded: 1\n",
      "distributions.: 1\n",
      "Spark.: 1\n",
      "Spark\"](http://spark.apache.org/docs/latest/building-spark.html).: 1\n",
      "[\"Building: 1\n",
      "them,: 1\n",
      "package: 1\n",
      "changed: 1\n",
      "3\"](https://cwiki.apache.org/confluence/display/MAVEN/Parallel+builds+in+Maven+3).: 1\n",
      "first: 1\n",
      "contains: 1\n",
      "overview: 1\n",
      "There: 1\n",
      "Maven,: 1\n",
      "Data.: 1\n",
      "resource-managers/kubernetes/integration-tests/README.md: 1\n",
      "Online: 1\n",
      "your: 1\n",
      "threads.: 1\n",
      "APIs: 1\n",
      "spark://: 1\n",
      "system: 1\n",
      "by: 1\n",
      "start: 1\n",
      "build/mvn: 1\n",
      "basic: 1\n",
      "more: 1\n",
      "configure: 1\n",
      "N: 1\n",
      "./dev/run-tests: 1\n",
      "DataFrames,: 1\n",
      "easiest: 1\n",
      "must: 1\n",
      "builds: 1\n",
      "<class>: 1\n",
      "are: 1\n",
      "developing: 1\n",
      "mesos://: 1\n",
      "computing: 1\n",
      "URL,: 1\n",
      "1000).count(): 1\n",
      "tips,: 1\n",
      "information: 1\n",
      "built: 1\n",
      "no: 1\n",
      "Java,: 1\n",
      "Programs: 1\n",
      "MLlib: 1\n",
      "other: 1\n",
      "analysis.: 1\n",
      "option: 1\n",
      "online: 1\n",
      "several: 1\n",
      "[\"Useful: 1\n",
      ">>>: 1\n",
      "pre-built: 1\n",
      "graphs: 1\n",
      "\"local[N]\": 1\n",
      "learning,: 1\n",
      "its: 1\n",
      "latest: 1\n",
      "when: 1\n",
      "R,: 1\n",
      "computation: 1\n",
      "contributing: 1\n",
      "Kubernetes: 1\n",
      "using:: 1\n",
      "Scala,: 1\n",
      "environment: 1\n",
      "only: 1\n",
      "rich: 1\n",
      "Apache: 1\n",
      "sc.parallelize(range(1000)).count(): 1\n",
      "Building: 1\n",
      "IDE,: 1\n",
      "guide,: 1\n",
      "Try: 1\n",
      "not: 1\n",
      "scala>: 1\n",
      "Contributing: 1\n",
      "cluster.: 1\n",
      "./bin/pyspark: 1\n",
      "params: 1\n",
      "through: 1\n",
      "GraphX: 1\n",
      "guide](http://spark.apache.org/contributing.html): 1\n",
      "[run: 1\n",
      "A: 1\n",
      "abbreviated: 1\n",
      "library: 1\n",
      "\"local\": 1\n",
      "[Apache: 1\n",
      "will: 1\n",
      "#: 1\n",
      "processing,: 1\n",
      "review: 1\n",
      "[building: 1\n",
      "Maven: 1\n",
      "[\"Parallel: 1\n",
      "provides: 1\n",
      "print: 1\n",
      "built,: 1\n",
      "[params]`.: 1\n",
      "available: 1\n",
      "Tests: 1\n",
      "example:: 1\n",
      "-DskipTests: 1\n",
      "Maven](http://maven.apache.org/).: 1\n",
      "thread: 1\n",
      "programming: 1\n",
      "running: 1\n",
      "against: 1\n",
      "site,: 1\n",
      "comes: 1\n",
      "package.: 1\n",
      "package.): 1\n",
      "prefer: 1\n",
      "documentation,: 1\n",
      "submit: 1\n",
      "tools: 1\n",
      "page](http://spark.apache.org/documentation.html).: 1\n",
      "from: 1\n",
      "[project: 1\n",
      "fast: 1\n",
      "systems.: 1\n",
      "<http://spark.apache.org/>: 1\n",
      "Hadoop-supported: 1\n",
      "way: 1\n",
      "README: 1\n",
      "MASTER: 1\n",
      "engine: 1\n",
      "started: 1\n",
      "Note: 1\n",
      "usage: 1\n",
      "instance:: 1\n",
      "protocols: 1\n",
      "And: 1\n",
      "this: 1\n",
      "setup: 1\n",
      "project: 1\n",
      "info: 1\n",
      "distribution: 1\n",
      "have: 1\n",
      "stream: 1\n",
      "[Contribution: 1\n",
      "higher-level: 1\n",
      "sample: 1\n",
      "[\"Specifying: 1\n",
      "tests](http://spark.apache.org/developer-tools.html#individual-tests).: 1\n",
      "./bin/spark-shell: 1\n",
      "file: 1\n",
      "need: 1\n",
      "instructions.: 1\n",
      "different: 1\n",
      "Tools\"](http://spark.apache.org/developer-tools.html).: 1\n",
      "programs,: 1\n",
      "storage: 1\n",
      "same: 1\n",
      "machine: 1\n",
      "Running: 1\n",
      "development: 1\n",
      "About: 1\n",
      "sc.parallelize(1: 1\n",
      "locally.: 1\n",
      "optimized: 1\n",
      "uses: 1\n",
      "Version\"](http://spark.apache.org/docs/latest/building-spark.html#specifying-the-hadoop-version): 1\n",
      "variable: 1\n",
      "The: 1\n",
      "data: 1\n",
      "\"yarn\": 1\n",
      "Thriftserver: 1\n",
      "processing.: 1\n",
      "Alternatively,: 1\n",
      "Spark](#building-spark).: 1\n",
      "clean: 1\n",
      "requires: 1\n",
      "talk: 1\n"
     ]
    }
   ],
   "source": [
    "for (count, word) in output:\n",
    "    print('%s: %i' % (word, count))"
   ]
  },
  {
   "cell_type": "markdown",
   "metadata": {},
   "source": [
    "# RDD DAG процесса Word Count в Spark Web"
   ]
  },
  {
   "attachments": {
    "image.png": {
     "image/png": "[encoded data removed]"
    }
   },
   "cell_type": "markdown",
   "metadata": {},
   "source": [
    "![image.png](attachment:image.png)"
   ]
  }
 ],
 "metadata": {
  "kernelspec": {
   "display_name": "Python 3",
   "language": "python",
   "name": "python3"
  },
  "language_info": {
   "codemirror_mode": {
    "name": "ipython",
    "version": 3
   },
   "file_extension": ".py",
   "mimetype": "text/x-python",
   "name": "python",
   "nbconvert_exporter": "python",
   "pygments_lexer": "ipython3",
   "version": "3.8.6"
  }
 },
 "nbformat": 4,
 "nbformat_minor": 2
}
