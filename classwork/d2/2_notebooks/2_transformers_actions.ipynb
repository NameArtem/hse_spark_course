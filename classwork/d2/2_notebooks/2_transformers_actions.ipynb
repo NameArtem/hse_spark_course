{
 "cells": [
  {
   "cell_type": "code",
   "execution_count": null,
   "metadata": {},
   "outputs": [],
   "source": [
    "# загрузим файл\n",
    "input_rdd = sc.textFile(\"\")\n",
    "input_rdd.first()"
   ]
  },
  {
   "cell_type": "code",
   "execution_count": null,
   "metadata": {},
   "outputs": [],
   "source": [
    "# применим функцию\n",
    "input_list = input_rdd.map(lambda line: line.split(','))\n",
    "input_list.first()"
   ]
  },
  {
   "cell_type": "code",
   "execution_count": null,
   "metadata": {},
   "outputs": [],
   "source": [
    "input_rdd.take(4)"
   ]
  },
  {
   "cell_type": "code",
   "execution_count": null,
   "metadata": {},
   "outputs": [],
   "source": [
    "# применим функции\n",
    "movie_info_rdd = input_rdd.filter(lambda line: 'movieId' not in line)\n",
    "movie_info_rdd.first()"
   ]
  },
  {
   "cell_type": "code",
   "execution_count": null,
   "metadata": {},
   "outputs": [],
   "source": [
    "movie_info_list_rdd = movie_info_rdd.map(lambda x: x.split(','))\n",
    "movie_info_list_rdd.first()[-1]"
   ]
  },
  {
   "cell_type": "code",
   "execution_count": null,
   "metadata": {},
   "outputs": [],
   "source": [
    "movie_cat_rdd = movie_info_list_rdd.flatMap(lambda x: x[-1].split('|'))\n",
    "movie_cat_rdd.take(10)"
   ]
  },
  {
   "cell_type": "code",
   "execution_count": null,
   "metadata": {},
   "outputs": [],
   "source": [
    "cat_count = movie_cat_rdd.countByValue()\n",
    "sorted(cat_count.items(), key=lambda k_v: k_v[1], reverse=True)"
   ]
  },
  {
   "cell_type": "code",
   "execution_count": null,
   "metadata": {},
   "outputs": [],
   "source": [
    "# напишем более сложную функцию, чем lambda\n",
    "# применем её\n",
    "import re\n",
    "def get_year(name):\n",
    "    year = None\n",
    "    try:\n",
    "        pattern = re.compile(r\"\\((\\d{4})\\)\")\n",
    "        year = int(pattern.findall(name)[0])\n",
    "    except ValueError:\n",
    "        pass\n",
    "    except IndexError:\n",
    "        pass\n",
    "    \n",
    "    return year"
   ]
  },
  {
   "cell_type": "code",
   "execution_count": null,
   "metadata": {},
   "outputs": [],
   "source": [
    "movie_year_rdd = movie_info_list_rdd.map(lambda x: get_year(x[1]))"
   ]
  },
  {
   "cell_type": "code",
   "execution_count": null,
   "metadata": {},
   "outputs": [],
   "source": [
    "movie_year_rdd.filter(lambda x: x is not None).min()"
   ]
  },
  {
   "cell_type": "code",
   "execution_count": null,
   "metadata": {},
   "outputs": [],
   "source": [
    "movie_year_rdd.filter(lambda x: x is not None).filter(lambda x: x  > 1000).min()"
   ]
  },
  {
   "cell_type": "code",
   "execution_count": null,
   "metadata": {},
   "outputs": [],
   "source": [
    "movie_year_rdd.filter(lambda x: x is not None).max()"
   ]
  },
  {
   "cell_type": "code",
   "execution_count": null,
   "metadata": {},
   "outputs": [],
   "source": []
  }
 ],
 "metadata": {
  "kernelspec": {
   "display_name": "Python 3",
   "language": "python",
   "name": "python3"
  },
  "language_info": {
   "codemirror_mode": {
    "name": "ipython",
    "version": 3
   },
   "file_extension": ".py",
   "mimetype": "text/x-python",
   "name": "python",
   "nbconvert_exporter": "python",
   "pygments_lexer": "ipython3",
   "version": "3.8.6"
  }
 },
 "nbformat": 4,
 "nbformat_minor": 4
}
