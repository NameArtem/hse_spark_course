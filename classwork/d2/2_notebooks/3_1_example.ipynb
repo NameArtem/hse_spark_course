{
 "cells": [
  {
   "cell_type": "code",
   "execution_count": 1,
   "metadata": {
    "collapsed": true
   },
   "outputs": [],
   "source": [
    "import sys\n",
    "import os\n",
    "import random\n",
    "from operator import add, mul\n",
    "from pyspark import SparkContext, SparkConf\n",
    "from pyspark import SparkFiles\n",
    "from pyspark.sql import SparkSession, SQLContext"
   ]
  },
  {
   "cell_type": "code",
   "execution_count": 2,
   "metadata": {
    "collapsed": true
   },
   "outputs": [],
   "source": [
    "spark = SparkSession.builder.appName(\"\").getOrCreate() #"
   ]
  },
  {
   "cell_type": "code",
   "execution_count": 3,
   "metadata": {},
   "outputs": [
    {
     "data": {
      "text/plain": [
       "u'application_1528714825862_139422'"
      ]
     },
     "execution_count": 3,
     "metadata": {},
     "output_type": "execute_result"
    }
   ],
   "source": [
    "sc = spark.sparkContext\n",
    "spark.sparkContext.applicationId"
   ]
  },
  {
   "cell_type": "markdown",
   "metadata": {},
   "source": [
    "### 1. Load csv into spark as a text file"
   ]
  },
  {
   "cell_type": "code",
   "execution_count": 4,
   "metadata": {
    "collapsed": true
   },
   "outputs": [],
   "source": [
    "location = \"/AppleStore.csv\"\n",
    "apple = sc.textFile(location)"
   ]
  },
  {
   "cell_type": "markdown",
   "metadata": {},
   "source": [
    "### 2. Parse the data"
   ]
  },
  {
   "cell_type": "code",
   "execution_count": 5,
   "metadata": {},
   "outputs": [
    {
     "data": {
      "text/plain": [
       "7197"
      ]
     },
     "execution_count": 5,
     "metadata": {},
     "output_type": "execute_result"
    }
   ],
   "source": [
    "import re\n",
    "pattern = \",(?=(?:[^\\\"]*\\\"[^\\\"]*\\\")*[^\\\"]*$)\"\n",
    "apple_lines = apple.map(lambda line: re.split(pattern, line)).filter((lambda cols: cols[0]!='\"\"'))\n",
    "apple_lines.count()"
   ]
  },
  {
   "cell_type": "markdown",
   "metadata": {},
   "source": [
    "### 3. MB и GB в новую колонку"
   ]
  },
  {
   "cell_type": "code",
   "execution_count": 6,
   "metadata": {
    "collapsed": true
   },
   "outputs": [],
   "source": [
    "MB = apple_lines.map(lambda x: float(x[3]) / 1000.)\n",
    "GB = MB.map(lambda x: x / 1000.)"
   ]
  },
  {
   "cell_type": "markdown",
   "metadata": {},
   "source": [
    "### 4. Список из 10 самых топовых приложений"
   ]
  },
  {
   "cell_type": "code",
   "execution_count": 8,
   "metadata": {},
   "outputs": [
    {
     "data": {
      "text/plain": [
       "[(u'\"Infinity Blade\"', u'177050'),\n",
       " (u'\"Geometry Dash Meltdown\"', u'117470'),\n",
       " (u'\"My Verizon\"', u'107245'),\n",
       " (u'\"Real Basketball\"', u'94315'),\n",
       " (u'\"Zillow Real Estate - Homes for Sale & for Rent\"', u'88478'),\n",
       " (u'\"WhatsApp Messenger\"', u'73088'),\n",
       " (u'\"Clear Vision (17+)\"', u'69225'),\n",
       " (u'\"Guess My Age \\ue020 Math Magic\"', u'68841'),\n",
       " (u'\"Trigger Fist\"', u'58269'),\n",
       " (u'\"Zappos: shop shoes & clothes, fast free shipping\"', u'39452')]"
      ]
     },
     "execution_count": 8,
     "metadata": {},
     "output_type": "execute_result"
    }
   ],
   "source": [
    "# id, track_name, rating_count_ver\n",
    "apple_lines.sortBy(lambda line: float(line[7]), ascending=False).map(lambda line: (line[2], line[7])).take(10)"
   ]
  },
  {
   "cell_type": "markdown",
   "metadata": {},
   "source": [
    "### 5. Разница в кол-ве скриншотов между самыми рейтинговыми и не популярными (по рейтингу) приложениями"
   ]
  },
  {
   "cell_type": "code",
   "execution_count": 9,
   "metadata": {},
   "outputs": [
    {
     "name": "stdout",
     "output_type": "stream",
     "text": [
      "1.3675834041\n"
     ]
    }
   ],
   "source": [
    "# \"ipadSc_urls.num\"\n",
    "\n",
    "# рейтинг больше 3х\n",
    "highest = apple_lines.filter(lambda line: float(line[8]) > 3.0)\n",
    "higest_sc = highest.map(lambda line: float(line[14])).mean()\n",
    "lowest = apple_lines.filter(lambda line: float(line[8]) < 3.0)\n",
    "lowest_sc = lowest.map(lambda line: float(line[14])).mean()\n",
    "\n",
    "print(higest_sc - lowest_sc)"
   ]
  },
  {
   "cell_type": "markdown",
   "metadata": {},
   "source": [
    "### 6. Сколько топовых приложений поддерживает мультиязычность"
   ]
  },
  {
   "cell_type": "code",
   "execution_count": 10,
   "metadata": {},
   "outputs": [
    {
     "name": "stdout",
     "output_type": "stream",
     "text": [
      "5483\n",
      "50 %\n"
     ]
    }
   ],
   "source": [
    "# lang.num\n",
    "total_higest = highest.count()\n",
    "print(total_higest)\n",
    "highest_multiple = highest.map(lambda line: float(line[15])).filter(lambda value: value > 1).count()\n",
    "print(str(highest_multiple * 100 / total_higest) + \" %\")"
   ]
  },
  {
   "cell_type": "markdown",
   "metadata": {
    "collapsed": true
   },
   "source": [
    "### 8. Сравните статистики по разным группам приложений (на пример по жанрам)\n"
   ]
  },
  {
   "cell_type": "code",
   "execution_count": 54,
   "metadata": {},
   "outputs": [
    {
     "name": "stdout",
     "output_type": "stream",
     "text": [
      "[(u'\"Travel\"', 1.1203703703703702), (u'\"Food & Drink\"', 1.552380952380952), (u'\"Photo & Video\"', 1.4732951289398313), (u'\"Music\"', 4.835434782608699), (u'\"Reference\"', 4.836875000000004), (u'\"Business\"', 5.116315789473686), (u'\"Navigation\"', 4.1247826086956545), (u'\"Lifestyle\"', 0.8854166666666657), (u'\"Social Networking\"', 0.3398802395209582), (u'\"Productivity\"', 4.330561797752813)]\n"
     ]
    }
   ],
   "source": [
    "genre_prices = apple_lines.map(lambda line: (line[12], float(line[5])))\n",
    "grp = genre_prices.groupByKey()\n",
    "print(list((j[0], sum(list(j[1]))/len(list(j[1])) ) for j in grp.take(10)))"
   ]
  },
  {
   "cell_type": "code",
   "execution_count": null,
   "metadata": {},
   "outputs": [],
   "source": [
    "# посмотрите ещё статистики"
   ]
  }
 ],
 "metadata": {
  "kernelspec": {
   "display_name": "Python 3",
   "language": "python",
   "name": "python3"
  },
  "language_info": {
   "codemirror_mode": {
    "name": "ipython",
    "version": 3
   },
   "file_extension": ".py",
   "mimetype": "text/x-python",
   "name": "python",
   "nbconvert_exporter": "python",
   "pygments_lexer": "ipython3",
   "version": "3.8.6"
  }
 },
 "nbformat": 4,
 "nbformat_minor": 2
}
