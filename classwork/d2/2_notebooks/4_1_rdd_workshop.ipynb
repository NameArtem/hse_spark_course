{
 "cells": [
  {
   "cell_type": "markdown",
   "metadata": {
    "colab_type": "text",
    "id": "4_X_wT49lcXg"
   },
   "source": [
    "## Создайте RDD из файла\n",
    "\n",
    "Файл movies.csv"
   ]
  },
  {
   "cell_type": "code",
   "execution_count": 0,
   "metadata": {
    "colab": {},
    "colab_type": "code",
    "id": "qGQSZDTGlcXh"
   },
   "outputs": [],
   "source": [
    "rdd = sc.textFile(\"\")"
   ]
  },
  {
   "cell_type": "markdown",
   "metadata": {
    "colab_type": "text",
    "id": "W3JmVcYrlcYX"
   },
   "source": [
    "## Получите список колонок"
   ]
  },
  {
   "cell_type": "code",
   "execution_count": null,
   "metadata": {
    "colab": {},
    "colab_type": "code",
    "id": "pkx_yqgIlcYY",
    "outputId": "facfdc8f-43ac-4539-fb10-d3336267efaf"
   },
   "outputs": [],
   "source": [
    "#\n",
    "#\n",
    "#\n",
    "#\n",
    "\n",
    "keys = distinct().collect()\n",
    "print(keys)"
   ]
  },
  {
   "cell_type": "markdown",
   "metadata": {
    "colab_type": "text",
    "id": "rJC2Dl_ilcYj"
   },
   "source": [
    "## Создайте RDD с годом выхода 1995\n",
    "Дубликатом считаются записи с одинаковыми значениями полей name и country"
   ]
  },
  {
   "cell_type": "code",
   "execution_count": null,
   "metadata": {
    "colab": {},
    "colab_type": "code",
    "id": "KI2wCSFjlcYj",
    "outputId": "e58dddd2-e465-423e-92f3-63ee459fe30e"
   },
   "outputs": [],
   "source": [
    "unique = rdd\\\n",
    "    .map\n",
    "    #\n",
    "    #\n",
    "    .reduceByKey(lambda x,y: x)\\\n",
    "    .map(lambda x: x[1])\n",
    "\n",
    "unique.collect()"
   ]
  },
  {
   "cell_type": "markdown",
   "metadata": {
    "colab_type": "text",
    "id": "Bvqf7HXolcYq"
   },
   "source": [
    "## Найдите категорию с самым большим количеством фильмов"
   ]
  },
  {
   "cell_type": "code",
   "execution_count": null,
   "metadata": {
    "colab": {},
    "colab_type": "code",
    "id": "rj46mpRGlcYr",
    "outputId": "f9a8e776-50c0-410c-901b-95316d281912"
   },
   "outputs": [],
   "source": [
    "max_population = valuable.\n",
    "\n",
    "print(max_population['genres'])"
   ]
  },
  {
   "cell_type": "markdown",
   "metadata": {
    "colab_type": "text",
    "id": "HSTl0m4klcY4"
   },
   "source": [
    "## Посчитайте топ-5 жанров"
   ]
  },
  {
   "cell_type": "markdown",
   "metadata": {
    "colab": {},
    "colab_type": "code",
    "id": "9KuZ7a7elcY5",
    "outputId": "5f7f004d-a3a8-45fa-d62e-9173d76671c9"
   },
   "source": [
    "max_continent_pop = \\\n",
    "    valuable\\\n",
    "        #\n",
    "        #\n",
    "        .sortByKey(ascending=False, keyfunc=lambda x: x[1]).take(2)\n",
    "    \n",
    "print(max_continent_pop)"
   ]
  },
  {
   "cell_type": "markdown",
   "metadata": {
    "colab_type": "text",
    "id": "FOdoX-fclcY7"
   },
   "source": [
    "## Добавьте к каждой записи новое поле\n",
    "Имя поля - topping. Значение - true, если жанр в топе и false - в остальных случаях"
   ]
  },
  {
   "cell_type": "code",
   "execution_count": null,
   "metadata": {
    "colab": {},
    "colab_type": "code",
    "id": "QqHnDCrvlcY8",
    "outputId": "3b9c76e0-b7f3-4724-b15c-79bba2ea9ec4"
   },
   "outputs": [],
   "source": [
    "populous_bc = sc.broadcast(max_continent_pop[0][0])\n",
    "\n",
    "def add_key(d, k, v):\n",
    "    #\n",
    "    #\n",
    "    #\n",
    "    return d\n",
    "\n",
    "valuable.map(#######).collect()"
   ]
  },
  {
   "cell_type": "code",
   "execution_count": 0,
   "metadata": {
    "colab": {},
    "colab_type": "code",
    "id": "HTgqxAqYlcZf"
   },
   "outputs": [],
   "source": []
  }
 ],
 "metadata": {
  "colab": {
   "name": "rdd_workshop_p2.ipynb",
   "provenance": [],
   "version": "0.3.2"
  },
  "kernelspec": {
   "display_name": "Python 3",
   "language": "python",
   "name": "python3"
  },
  "language_info": {
   "codemirror_mode": {
    "name": "ipython",
    "version": 3
   },
   "file_extension": ".py",
   "mimetype": "text/x-python",
   "name": "python",
   "nbconvert_exporter": "python",
   "pygments_lexer": "ipython3",
   "version": "3.8.6"
  }
 },
 "nbformat": 4,
 "nbformat_minor": 1
}
