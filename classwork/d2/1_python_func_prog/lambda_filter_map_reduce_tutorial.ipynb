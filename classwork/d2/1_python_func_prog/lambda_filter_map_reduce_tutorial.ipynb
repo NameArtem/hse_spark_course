{
 "cells": [
  {
   "cell_type": "markdown",
   "metadata": {},
   "source": [
    "## Lambda, Filter, Map, Reduce"
   ]
  },
  {
   "cell_type": "markdown",
   "metadata": {},
   "source": [
    "---\n",
    "\n",
    "## Lambda Functions"
   ]
  },
  {
   "cell_type": "markdown",
   "metadata": {},
   "source": [
    "Давайте совместно переконвертируем функцию из Python в lambda выражение.\n",
    "\n",
    "Для понимания синтаксиса lambda, мы будем использовать следущий пример:\n",
    "\n",
    "![lambda_diagram.png](lamda_diagram.png)"
   ]
  },
  {
   "cell_type": "markdown",
   "metadata": {},
   "source": [
    "### Q 1: Простая функция\n",
    "\n",
    "Переделаем обычную функцию в lambda"
   ]
  },
  {
   "cell_type": "code",
   "execution_count": 4,
   "metadata": {},
   "outputs": [],
   "source": [
    "def add_nums(x, y):\n",
    "    return x + y"
   ]
  },
  {
   "cell_type": "code",
   "execution_count": null,
   "metadata": {},
   "outputs": [],
   "source": [
    "# напишите lambda выражение, которая будет работать одинаково с add_nums\n",
    "\n",
    "add_nums_lmda = "
   ]
  },
  {
   "cell_type": "code",
   "execution_count": 6,
   "metadata": {},
   "outputs": [],
   "source": [
    "# Тест на равность результатов\n",
    "assert add_nums_lmda(5,10) == add_nums(5,10), \"Your function is incorrect\"\n",
    "assert add_nums_lmda(-5,10) == add_nums(-5,10), \"Your function is incorrect\"\n",
    "assert add_nums_lmda(100,-10) == add_nums(-10,100), \"Your function is incorrect\""
   ]
  },
  {
   "cell_type": "markdown",
   "metadata": {},
   "source": [
    "### Q 2: Max Function\n",
    "\n",
    "Переделаем фунцию, которая сравнивает два числа и выводит наибольшее. Пример if условия в lambda:\n",
    "\n",
    "![if_else_expression.png](if_else_expression.png)"
   ]
  },
  {
   "cell_type": "code",
   "execution_count": null,
   "metadata": {},
   "outputs": [],
   "source": [
    "def max_num(x,y):\n",
    "    if x > y:\n",
    "        return x\n",
    "    else:\n",
    "        return y"
   ]
  },
  {
   "cell_type": "code",
   "execution_count": null,
   "metadata": {},
   "outputs": [],
   "source": [
    "# напишите lambda выражение, которая будет работать одинаково с max_num\n",
    "\n",
    "max_num_lmda = "
   ]
  },
  {
   "cell_type": "code",
   "execution_count": null,
   "metadata": {},
   "outputs": [],
   "source": [
    "# Тест\n",
    "assert max_num_lmda(50,10) == max_num(50,10), \"Your function is incorrect\"\n",
    "assert max_num_lmda(10,50) == max_num(10,50), \"Your function is incorrect\"\n",
    "assert max_num_lmda(50,50) == max_num(50,50), \"Your function is incorrect\""
   ]
  },
  {
   "cell_type": "markdown",
   "metadata": {},
   "source": [
    "---\n",
    "## List Comprehension"
   ]
  },
  {
   "cell_type": "markdown",
   "metadata": {},
   "source": [
    "Напомним list comprehensions (рассмотрим на примере)"
   ]
  },
  {
   "cell_type": "markdown",
   "metadata": {},
   "source": [
    "### Q 3: Even Numbers"
   ]
  },
  {
   "cell_type": "code",
   "execution_count": 9,
   "metadata": {},
   "outputs": [
    {
     "name": "stdout",
     "output_type": "stream",
     "text": [
      "[2, 4, 6, 8, 10, 12, 14, 16, 18, 20, 22, 24, 26, 28, 30, 32, 34, 36, 38, 40, 42, 44, 46, 48, 50, 52, 54, 56, 58, 60, 62, 64, 66, 68, 70, 72, 74, 76, 78, 80, 82, 84, 86, 88, 90, 92, 94, 96, 98, 100, 102, 104, 106, 108, 110, 112, 114, 116, 118, 120, 122, 124, 126, 128, 130, 132, 134, 136, 138, 140, 142, 144, 146, 148, 150, 152, 154, 156, 158, 160, 162, 164, 166, 168, 170, 172, 174, 176, 178, 180, 182, 184, 186, 188, 190, 192, 194, 196, 198, 200]\n"
     ]
    }
   ],
   "source": [
    "# создайте список из чисел от 2 до 200, которые делятся на 2 без остатка\n",
    "\n",
    "even_numbers = \n",
    "\n",
    "print(even_numbers)"
   ]
  },
  {
   "cell_type": "code",
   "execution_count": 10,
   "metadata": {},
   "outputs": [
    {
     "data": {
      "text/plain": [
       "True"
      ]
     },
     "execution_count": 10,
     "metadata": {},
     "output_type": "execute_result"
    }
   ],
   "source": [
    "# Testing your list\n",
    "def test_even_list(lst):\n",
    "    return list(range(2,201,2)) == lst\n",
    "\n",
    "test_even_list(even_numbers)"
   ]
  },
  {
   "cell_type": "markdown",
   "metadata": {},
   "source": [
    "### Q 4: Powers of 2"
   ]
  },
  {
   "cell_type": "code",
   "execution_count": null,
   "metadata": {},
   "outputs": [],
   "source": [
    "# создайте список из чисел от 2**0 до 2**50\n",
    "\n",
    "powers_of_two = \n",
    "\n",
    "print(powers_of_two)"
   ]
  },
  {
   "cell_type": "code",
   "execution_count": null,
   "metadata": {},
   "outputs": [],
   "source": [
    "# Testing your list\n",
    "def test_powers_of_two_list(lst):\n",
    "    return [1, 2, 4, 8, 16, 32, 64, 128, 256, 512, 1024, \n",
    "            2048, 4096, 8192, 16384, 32768, 65536, 131072, \n",
    "            262144, 524288, 1048576, 2097152, 4194304, 8388608, \n",
    "            16777216, 33554432, 67108864, 134217728, 268435456, \n",
    "            536870912, 1073741824, 2147483648, 4294967296, 8589934592, \n",
    "            17179869184, 34359738368, 68719476736, 137438953472, 274877906944, \n",
    "            549755813888, 1099511627776, 2199023255552, 4398046511104, \n",
    "            8796093022208, 17592186044416, 35184372088832, 70368744177664, \n",
    "            140737488355328, 281474976710656, 562949953421312, 1125899906842624] == lst\n",
    "\n",
    "test_powers_of_two_list(powers_of_two)"
   ]
  },
  {
   "cell_type": "markdown",
   "metadata": {},
   "source": [
    "---\n",
    "## Filter function\n",
    "\n",
    "Научимся создавать фильтры"
   ]
  },
  {
   "cell_type": "markdown",
   "metadata": {},
   "source": [
    "### Q 5: Only Vowels\n",
    "\n",
    "Сделайте функцию, которая сделает фильтр и вернет только гласные буквы в нижнем регистре.\n",
    "\n",
    "Пример input `['t', 'P', 'R', 'Y', 'L', 'U', 'B', 'l', 'N', 'J', 's', 'C', 'p', 'o', 'M', \n",
    "            'x', 'u', 'n', 'q', 'B', 'h', 'W', 'C', 'S', 'L', 'X', 'f', 'T', 'x', 'R', \n",
    "            'a', 'j', 'F', 'J', 'h', 'L', 'I', 'J', 'L', 'W', 'Q', 'S', 'G', 'B', 'P', \n",
    "            'q', 'S', 'Q', 'Q', 'o', 'V', 'L', 'V', 'O', 'G', 'K', 'm', 'Y', 'c', 'k', \n",
    "            'v', 'b', 't', 'h', 'C', 'B', 'k', 'p', 'J', 'N', 'o', 'l', 'R', 'a', 'e', \n",
    "            'S', 'J', 'Q', 'n', 'b', 'g', 'x', 'g', 'K', 'Y', 't', 'e', 'F', 'i', 'T', \n",
    "            'h', 'X', 'o', 'S', 'N', 'l', 'Z', 'U', 'G', 'y']`\n",
    "\n",
    "Пример output `['o', 'u', 'a', 'o', 'o', 'a', 'e', 'e', 'i', 'o']`"
   ]
  },
  {
   "cell_type": "code",
   "execution_count": null,
   "metadata": {},
   "outputs": [],
   "source": [
    "sequence = ['t', 'P', 'R', 'Y', 'L', 'U', 'B', 'l', 'N', 'J', 's', 'C', 'p', 'o', 'M', \n",
    "            'x', 'u', 'n', 'q', 'B', 'h', 'W', 'C', 'S', 'L', 'X', 'f', 'T', 'x', 'R', \n",
    "            'a', 'j', 'F', 'J', 'h', 'L', 'I', 'J', 'L', 'W', 'Q', 'S', 'G', 'B', 'P', \n",
    "            'q', 'S', 'Q', 'Q', 'o', 'V', 'L', 'V', 'O', 'G', 'K', 'm', 'Y', 'c', 'k', \n",
    "            'v', 'b', 't', 'h', 'C', 'B', 'k', 'p', 'J', 'N', 'o', 'l', 'R', 'a', 'e', \n",
    "            'S', 'J', 'Q', 'n', 'b', 'g', 'x', 'g', 'K', 'Y', 't', 'e', 'F', 'i', 'T', \n",
    "            'h', 'X', 'o', 'S', 'N', 'l', 'Z', 'U', 'G', 'y']\n",
    "\n",
    "\n",
    "\n",
    "def only_vowels(letter):\n",
    "    # используя in сделайте сильтр\n",
    "    # исключите \"y\"\n",
    "    pass\n",
    "\n",
    "# примените функцию в lambda выражении\n",
    "filter_example = \n",
    "\n",
    "print(filter_example)"
   ]
  },
  {
   "cell_type": "markdown",
   "metadata": {},
   "source": [
    "---\n",
    "## Map function\n",
    "\n",
    "Теперь обратимся к функции Map\n",
    "\n",
    "\n",
    "![map_diagram.png](map_diagram.png)"
   ]
  },
  {
   "cell_type": "markdown",
   "metadata": {},
   "source": [
    "### Q 6: Squares\n",
    "\n",
    "Используем map для возведения в квадрат последовательности `sequence_lst = [1,2,7,4,0,6,14,8,9,10]`, результат должен быть `[1, 4, 49, 16, 0, 36, 196, 64, 81, 100]`."
   ]
  },
  {
   "cell_type": "code",
   "execution_count": null,
   "metadata": {},
   "outputs": [],
   "source": [
    "sequence_lst = [1,2,7,4,0,6,14,8,9,10]\n",
    "\n",
    "# Add your map function here (hint: you may want to use a lambda!)\n",
    "map_example = \n",
    "\n",
    "print(map_example)"
   ]
  },
  {
   "cell_type": "markdown",
   "metadata": {},
   "source": [
    "#### Bonus: А можно сделать `map_example`, но с помощью списка?"
   ]
  },
  {
   "cell_type": "code",
   "execution_count": null,
   "metadata": {},
   "outputs": [],
   "source": [
    "# решение\n",
    "map_example_bonus = \n",
    "\n",
    "print(map_example_bonus)"
   ]
  },
  {
   "cell_type": "markdown",
   "metadata": {},
   "source": [
    "### Q 7: Compute the Average\n",
    "\n",
    "Реализуем map функцию, которая будет применима для каждого элемента из списка списков `to_average_seq` \n",
    "\n",
    "Нам небходимо написать функцию, которая посчитает средние значения по всем вложенным спискам в `to_average_seq`. \n",
    "\n",
    "Результат должен быть `[13.0, 47.2, 1.0, 35.8, 37.75]`. \n"
   ]
  },
  {
   "cell_type": "code",
   "execution_count": null,
   "metadata": {},
   "outputs": [],
   "source": [
    "to_average_seq = [[0,3,11,45,6],[90,31,44,68,3],[1,1,1,1],[2,5,8,111,53],[99,22,11,19]]\n",
    "\n",
    "# решение\n",
    "average_map_example = \n",
    "\n",
    "print(average_map_example)"
   ]
  },
  {
   "cell_type": "markdown",
   "metadata": {},
   "source": [
    "---\n",
    "## Reduce Function\n",
    "\n",
    "\n",
    "![reduce_diagram.png](reduce_diagram.png)"
   ]
  },
  {
   "cell_type": "markdown",
   "metadata": {},
   "source": [
    "### Q 8: Multiply all Elements\n",
    "\n",
    "Используя функцию reduce сделайте перемножение элементов из последовательность `test_sequence`.\n",
    "\n",
    "Ваш результат должен быть `360` и функция должна работать, как последовательность `(((3*4)*5)*6) = 360`\n",
    "\n",
    "Hint: Используем lambda функцию"
   ]
  },
  {
   "cell_type": "code",
   "execution_count": null,
   "metadata": {},
   "outputs": [],
   "source": [
    "test_sequence = [3,4,5,6]\n",
    "\n",
    "# результат\n",
    "multiply_all_elements_example = \n",
    "\n",
    "print(multiply_all_elements_example)"
   ]
  },
  {
   "cell_type": "markdown",
   "metadata": {},
   "source": [
    "### Q 9: List of Digits to Number\n",
    "\n",
    "Преобразуйте список `[1,2,3,4]` в `int`, который будет создержать значение `1234`. \n",
    "\n",
    "`[1,2,3,4] -> 1234` где `->` reduce функция\n",
    "\n",
    "Hint: Подумайте, как использовать `str()` и `int()`. "
   ]
  },
  {
   "cell_type": "code",
   "execution_count": null,
   "metadata": {},
   "outputs": [],
   "source": [
    "# список\n",
    "digits_lst = [1,2,3,4]\n",
    "\n",
    "# результат\n",
    "digit_lst_to_number = \n",
    "\n",
    "print(digit_lst_to_number)\n"
   ]
  },
  {
   "cell_type": "code",
   "execution_count": null,
   "metadata": {},
   "outputs": [],
   "source": []
  }
 ],
 "metadata": {
  "kernelspec": {
   "display_name": "Python 3",
   "language": "python",
   "name": "python3"
  },
  "language_info": {
   "codemirror_mode": {
    "name": "ipython",
    "version": 3
   },
   "file_extension": ".py",
   "mimetype": "text/x-python",
   "name": "python",
   "nbconvert_exporter": "python",
   "pygments_lexer": "ipython3",
   "version": "3.8.6"
  }
 },
 "nbformat": 4,
 "nbformat_minor": 2
}
